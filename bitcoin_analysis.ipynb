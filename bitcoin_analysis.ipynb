{
 "cells": [
  {
   "cell_type": "code",
   "execution_count": 2,
   "id": "2843df53",
   "metadata": {},
   "outputs": [],
   "source": [
    "import pandas as pd\n",
    "import numpy as np\n",
    "import matplotlib.pyplot as plt\n",
    "import seaborn as sns"
   ]
  },
  {
   "cell_type": "markdown",
   "id": "fe3e29f2",
   "metadata": {},
   "source": [
    "### --- **ETL** ---"
   ]
  },
  {
   "cell_type": "code",
   "execution_count": 3,
   "id": "e368b25d",
   "metadata": {},
   "outputs": [],
   "source": [
    "df = pd.read_csv(\"bitcoin_price.csv\")  # Load the Bitcoin price data from a CSV file"
   ]
  },
  {
   "cell_type": "code",
   "execution_count": 4,
   "id": "ad65f834",
   "metadata": {},
   "outputs": [
    {
     "data": {
      "text/html": [
       "<div>\n",
       "<style scoped>\n",
       "    .dataframe tbody tr th:only-of-type {\n",
       "        vertical-align: middle;\n",
       "    }\n",
       "\n",
       "    .dataframe tbody tr th {\n",
       "        vertical-align: top;\n",
       "    }\n",
       "\n",
       "    .dataframe thead th {\n",
       "        text-align: right;\n",
       "    }\n",
       "</style>\n",
       "<table border=\"1\" class=\"dataframe\">\n",
       "  <thead>\n",
       "    <tr style=\"text-align: right;\">\n",
       "      <th></th>\n",
       "      <th>Date</th>\n",
       "      <th>Open</th>\n",
       "      <th>High</th>\n",
       "      <th>Low</th>\n",
       "      <th>Close</th>\n",
       "      <th>Volume</th>\n",
       "      <th>Market Cap</th>\n",
       "    </tr>\n",
       "  </thead>\n",
       "  <tbody>\n",
       "    <tr>\n",
       "      <th>0</th>\n",
       "      <td>Jul 31, 2017</td>\n",
       "      <td>2763.24</td>\n",
       "      <td>2889.62</td>\n",
       "      <td>2720.61</td>\n",
       "      <td>2875.34</td>\n",
       "      <td>860,575,000</td>\n",
       "      <td>45,535,800,000</td>\n",
       "    </tr>\n",
       "    <tr>\n",
       "      <th>1</th>\n",
       "      <td>Jul 30, 2017</td>\n",
       "      <td>2724.39</td>\n",
       "      <td>2758.53</td>\n",
       "      <td>2644.85</td>\n",
       "      <td>2757.18</td>\n",
       "      <td>705,943,000</td>\n",
       "      <td>44,890,700,000</td>\n",
       "    </tr>\n",
       "    <tr>\n",
       "      <th>2</th>\n",
       "      <td>Jul 29, 2017</td>\n",
       "      <td>2807.02</td>\n",
       "      <td>2808.76</td>\n",
       "      <td>2692.80</td>\n",
       "      <td>2726.45</td>\n",
       "      <td>803,746,000</td>\n",
       "      <td>46,246,700,000</td>\n",
       "    </tr>\n",
       "    <tr>\n",
       "      <th>3</th>\n",
       "      <td>Jul 28, 2017</td>\n",
       "      <td>2679.73</td>\n",
       "      <td>2897.45</td>\n",
       "      <td>2679.73</td>\n",
       "      <td>2809.01</td>\n",
       "      <td>1,380,100,000</td>\n",
       "      <td>44,144,400,000</td>\n",
       "    </tr>\n",
       "    <tr>\n",
       "      <th>4</th>\n",
       "      <td>Jul 27, 2017</td>\n",
       "      <td>2538.71</td>\n",
       "      <td>2693.32</td>\n",
       "      <td>2529.34</td>\n",
       "      <td>2671.78</td>\n",
       "      <td>789,104,000</td>\n",
       "      <td>41,816,500,000</td>\n",
       "    </tr>\n",
       "  </tbody>\n",
       "</table>\n",
       "</div>"
      ],
      "text/plain": [
       "           Date     Open     High      Low    Close         Volume  \\\n",
       "0  Jul 31, 2017  2763.24  2889.62  2720.61  2875.34    860,575,000   \n",
       "1  Jul 30, 2017  2724.39  2758.53  2644.85  2757.18    705,943,000   \n",
       "2  Jul 29, 2017  2807.02  2808.76  2692.80  2726.45    803,746,000   \n",
       "3  Jul 28, 2017  2679.73  2897.45  2679.73  2809.01  1,380,100,000   \n",
       "4  Jul 27, 2017  2538.71  2693.32  2529.34  2671.78    789,104,000   \n",
       "\n",
       "       Market Cap  \n",
       "0  45,535,800,000  \n",
       "1  44,890,700,000  \n",
       "2  46,246,700,000  \n",
       "3  44,144,400,000  \n",
       "4  41,816,500,000  "
      ]
     },
     "execution_count": 4,
     "metadata": {},
     "output_type": "execute_result"
    }
   ],
   "source": [
    "df.head()"
   ]
  },
  {
   "cell_type": "code",
   "execution_count": 5,
   "id": "735d7c00",
   "metadata": {},
   "outputs": [
    {
     "name": "stdout",
     "output_type": "stream",
     "text": [
      "<class 'pandas.core.frame.DataFrame'>\n",
      "RangeIndex: 1556 entries, 0 to 1555\n",
      "Data columns (total 7 columns):\n",
      " #   Column      Non-Null Count  Dtype  \n",
      "---  ------      --------------  -----  \n",
      " 0   Date        1556 non-null   object \n",
      " 1   Open        1556 non-null   float64\n",
      " 2   High        1556 non-null   float64\n",
      " 3   Low         1556 non-null   float64\n",
      " 4   Close       1556 non-null   float64\n",
      " 5   Volume      1556 non-null   object \n",
      " 6   Market Cap  1556 non-null   object \n",
      "dtypes: float64(4), object(3)\n",
      "memory usage: 85.2+ KB\n"
     ]
    }
   ],
   "source": [
    "df.info()"
   ]
  },
  {
   "cell_type": "code",
   "execution_count": 6,
   "id": "b7a58b62",
   "metadata": {},
   "outputs": [
    {
     "data": {
      "text/html": [
       "<div>\n",
       "<style scoped>\n",
       "    .dataframe tbody tr th:only-of-type {\n",
       "        vertical-align: middle;\n",
       "    }\n",
       "\n",
       "    .dataframe tbody tr th {\n",
       "        vertical-align: top;\n",
       "    }\n",
       "\n",
       "    .dataframe thead th {\n",
       "        text-align: right;\n",
       "    }\n",
       "</style>\n",
       "<table border=\"1\" class=\"dataframe\">\n",
       "  <thead>\n",
       "    <tr style=\"text-align: right;\">\n",
       "      <th></th>\n",
       "      <th>Open</th>\n",
       "      <th>High</th>\n",
       "      <th>Low</th>\n",
       "      <th>Close</th>\n",
       "    </tr>\n",
       "  </thead>\n",
       "  <tbody>\n",
       "    <tr>\n",
       "      <th>count</th>\n",
       "      <td>1556.000000</td>\n",
       "      <td>1556.000000</td>\n",
       "      <td>1556.000000</td>\n",
       "      <td>1556.000000</td>\n",
       "    </tr>\n",
       "    <tr>\n",
       "      <th>mean</th>\n",
       "      <td>582.625328</td>\n",
       "      <td>597.992847</td>\n",
       "      <td>567.851446</td>\n",
       "      <td>584.239396</td>\n",
       "    </tr>\n",
       "    <tr>\n",
       "      <th>std</th>\n",
       "      <td>523.137312</td>\n",
       "      <td>542.992855</td>\n",
       "      <td>505.877401</td>\n",
       "      <td>525.904442</td>\n",
       "    </tr>\n",
       "    <tr>\n",
       "      <th>min</th>\n",
       "      <td>68.500000</td>\n",
       "      <td>74.560000</td>\n",
       "      <td>65.530000</td>\n",
       "      <td>68.430000</td>\n",
       "    </tr>\n",
       "    <tr>\n",
       "      <th>25%</th>\n",
       "      <td>254.287500</td>\n",
       "      <td>260.327500</td>\n",
       "      <td>248.835000</td>\n",
       "      <td>254.320000</td>\n",
       "    </tr>\n",
       "    <tr>\n",
       "      <th>50%</th>\n",
       "      <td>438.600000</td>\n",
       "      <td>447.560000</td>\n",
       "      <td>430.570000</td>\n",
       "      <td>438.855000</td>\n",
       "    </tr>\n",
       "    <tr>\n",
       "      <th>75%</th>\n",
       "      <td>662.437500</td>\n",
       "      <td>674.525000</td>\n",
       "      <td>646.735000</td>\n",
       "      <td>663.402500</td>\n",
       "    </tr>\n",
       "    <tr>\n",
       "      <th>max</th>\n",
       "      <td>2953.220000</td>\n",
       "      <td>2999.910000</td>\n",
       "      <td>2840.530000</td>\n",
       "      <td>2958.110000</td>\n",
       "    </tr>\n",
       "  </tbody>\n",
       "</table>\n",
       "</div>"
      ],
      "text/plain": [
       "              Open         High          Low        Close\n",
       "count  1556.000000  1556.000000  1556.000000  1556.000000\n",
       "mean    582.625328   597.992847   567.851446   584.239396\n",
       "std     523.137312   542.992855   505.877401   525.904442\n",
       "min      68.500000    74.560000    65.530000    68.430000\n",
       "25%     254.287500   260.327500   248.835000   254.320000\n",
       "50%     438.600000   447.560000   430.570000   438.855000\n",
       "75%     662.437500   674.525000   646.735000   663.402500\n",
       "max    2953.220000  2999.910000  2840.530000  2958.110000"
      ]
     },
     "execution_count": 6,
     "metadata": {},
     "output_type": "execute_result"
    }
   ],
   "source": [
    "df.describe()"
   ]
  },
  {
   "cell_type": "code",
   "execution_count": 7,
   "id": "4fb61c95",
   "metadata": {},
   "outputs": [
    {
     "data": {
      "text/plain": [
       "(1556, 7)"
      ]
     },
     "execution_count": 7,
     "metadata": {},
     "output_type": "execute_result"
    }
   ],
   "source": [
    "df.shape"
   ]
  },
  {
   "cell_type": "code",
   "execution_count": 8,
   "id": "8862cbcf",
   "metadata": {},
   "outputs": [
    {
     "data": {
      "text/html": [
       "<div>\n",
       "<style scoped>\n",
       "    .dataframe tbody tr th:only-of-type {\n",
       "        vertical-align: middle;\n",
       "    }\n",
       "\n",
       "    .dataframe tbody tr th {\n",
       "        vertical-align: top;\n",
       "    }\n",
       "\n",
       "    .dataframe thead th {\n",
       "        text-align: right;\n",
       "    }\n",
       "</style>\n",
       "<table border=\"1\" class=\"dataframe\">\n",
       "  <thead>\n",
       "    <tr style=\"text-align: right;\">\n",
       "      <th></th>\n",
       "      <th>count</th>\n",
       "      <th>mean</th>\n",
       "      <th>std</th>\n",
       "      <th>min</th>\n",
       "      <th>25%</th>\n",
       "      <th>50%</th>\n",
       "      <th>75%</th>\n",
       "      <th>max</th>\n",
       "    </tr>\n",
       "  </thead>\n",
       "  <tbody>\n",
       "    <tr>\n",
       "      <th>Open</th>\n",
       "      <td>1556.0</td>\n",
       "      <td>582.625328</td>\n",
       "      <td>523.137312</td>\n",
       "      <td>68.50</td>\n",
       "      <td>254.2875</td>\n",
       "      <td>438.600</td>\n",
       "      <td>662.4375</td>\n",
       "      <td>2953.22</td>\n",
       "    </tr>\n",
       "    <tr>\n",
       "      <th>High</th>\n",
       "      <td>1556.0</td>\n",
       "      <td>597.992847</td>\n",
       "      <td>542.992855</td>\n",
       "      <td>74.56</td>\n",
       "      <td>260.3275</td>\n",
       "      <td>447.560</td>\n",
       "      <td>674.5250</td>\n",
       "      <td>2999.91</td>\n",
       "    </tr>\n",
       "    <tr>\n",
       "      <th>Low</th>\n",
       "      <td>1556.0</td>\n",
       "      <td>567.851446</td>\n",
       "      <td>505.877401</td>\n",
       "      <td>65.53</td>\n",
       "      <td>248.8350</td>\n",
       "      <td>430.570</td>\n",
       "      <td>646.7350</td>\n",
       "      <td>2840.53</td>\n",
       "    </tr>\n",
       "    <tr>\n",
       "      <th>Close</th>\n",
       "      <td>1556.0</td>\n",
       "      <td>584.239396</td>\n",
       "      <td>525.904442</td>\n",
       "      <td>68.43</td>\n",
       "      <td>254.3200</td>\n",
       "      <td>438.855</td>\n",
       "      <td>663.4025</td>\n",
       "      <td>2958.11</td>\n",
       "    </tr>\n",
       "  </tbody>\n",
       "</table>\n",
       "</div>"
      ],
      "text/plain": [
       "        count        mean         std    min       25%      50%       75%  \\\n",
       "Open   1556.0  582.625328  523.137312  68.50  254.2875  438.600  662.4375   \n",
       "High   1556.0  597.992847  542.992855  74.56  260.3275  447.560  674.5250   \n",
       "Low    1556.0  567.851446  505.877401  65.53  248.8350  430.570  646.7350   \n",
       "Close  1556.0  584.239396  525.904442  68.43  254.3200  438.855  663.4025   \n",
       "\n",
       "           max  \n",
       "Open   2953.22  \n",
       "High   2999.91  \n",
       "Low    2840.53  \n",
       "Close  2958.11  "
      ]
     },
     "execution_count": 8,
     "metadata": {},
     "output_type": "execute_result"
    }
   ],
   "source": [
    "df.describe().T # Transpose the description for better readability"
   ]
  },
  {
   "cell_type": "code",
   "execution_count": 9,
   "id": "be969bf3",
   "metadata": {},
   "outputs": [
    {
     "data": {
      "text/plain": [
       "Date           object\n",
       "Open          float64\n",
       "High          float64\n",
       "Low           float64\n",
       "Close         float64\n",
       "Volume         object\n",
       "Market Cap     object\n",
       "dtype: object"
      ]
     },
     "execution_count": 9,
     "metadata": {},
     "output_type": "execute_result"
    }
   ],
   "source": [
    "df.dtypes"
   ]
  },
  {
   "cell_type": "code",
   "execution_count": 10,
   "id": "eb1dc72e",
   "metadata": {},
   "outputs": [
    {
     "data": {
      "text/plain": [
       "dtype('<M8[ns]')"
      ]
     },
     "execution_count": 10,
     "metadata": {},
     "output_type": "execute_result"
    }
   ],
   "source": [
    "df['Date'] = pd.to_datetime(df['Date'])\n",
    "df[\"Date\"].dtype"
   ]
  },
  {
   "cell_type": "code",
   "execution_count": 11,
   "id": "4672e9ff",
   "metadata": {},
   "outputs": [
    {
     "data": {
      "text/html": [
       "<div>\n",
       "<style scoped>\n",
       "    .dataframe tbody tr th:only-of-type {\n",
       "        vertical-align: middle;\n",
       "    }\n",
       "\n",
       "    .dataframe tbody tr th {\n",
       "        vertical-align: top;\n",
       "    }\n",
       "\n",
       "    .dataframe thead th {\n",
       "        text-align: right;\n",
       "    }\n",
       "</style>\n",
       "<table border=\"1\" class=\"dataframe\">\n",
       "  <thead>\n",
       "    <tr style=\"text-align: right;\">\n",
       "      <th></th>\n",
       "      <th>Date</th>\n",
       "      <th>Open</th>\n",
       "      <th>High</th>\n",
       "      <th>Low</th>\n",
       "      <th>Close</th>\n",
       "      <th>Volume</th>\n",
       "      <th>Market Cap</th>\n",
       "    </tr>\n",
       "  </thead>\n",
       "  <tbody>\n",
       "    <tr>\n",
       "      <th>0</th>\n",
       "      <td>2017-07-31</td>\n",
       "      <td>2763.24</td>\n",
       "      <td>2889.62</td>\n",
       "      <td>2720.61</td>\n",
       "      <td>2875.34</td>\n",
       "      <td>860,575,000</td>\n",
       "      <td>45,535,800,000</td>\n",
       "    </tr>\n",
       "    <tr>\n",
       "      <th>1</th>\n",
       "      <td>2017-07-30</td>\n",
       "      <td>2724.39</td>\n",
       "      <td>2758.53</td>\n",
       "      <td>2644.85</td>\n",
       "      <td>2757.18</td>\n",
       "      <td>705,943,000</td>\n",
       "      <td>44,890,700,000</td>\n",
       "    </tr>\n",
       "    <tr>\n",
       "      <th>2</th>\n",
       "      <td>2017-07-29</td>\n",
       "      <td>2807.02</td>\n",
       "      <td>2808.76</td>\n",
       "      <td>2692.80</td>\n",
       "      <td>2726.45</td>\n",
       "      <td>803,746,000</td>\n",
       "      <td>46,246,700,000</td>\n",
       "    </tr>\n",
       "    <tr>\n",
       "      <th>3</th>\n",
       "      <td>2017-07-28</td>\n",
       "      <td>2679.73</td>\n",
       "      <td>2897.45</td>\n",
       "      <td>2679.73</td>\n",
       "      <td>2809.01</td>\n",
       "      <td>1,380,100,000</td>\n",
       "      <td>44,144,400,000</td>\n",
       "    </tr>\n",
       "    <tr>\n",
       "      <th>4</th>\n",
       "      <td>2017-07-27</td>\n",
       "      <td>2538.71</td>\n",
       "      <td>2693.32</td>\n",
       "      <td>2529.34</td>\n",
       "      <td>2671.78</td>\n",
       "      <td>789,104,000</td>\n",
       "      <td>41,816,500,000</td>\n",
       "    </tr>\n",
       "  </tbody>\n",
       "</table>\n",
       "</div>"
      ],
      "text/plain": [
       "        Date     Open     High      Low    Close         Volume  \\\n",
       "0 2017-07-31  2763.24  2889.62  2720.61  2875.34    860,575,000   \n",
       "1 2017-07-30  2724.39  2758.53  2644.85  2757.18    705,943,000   \n",
       "2 2017-07-29  2807.02  2808.76  2692.80  2726.45    803,746,000   \n",
       "3 2017-07-28  2679.73  2897.45  2679.73  2809.01  1,380,100,000   \n",
       "4 2017-07-27  2538.71  2693.32  2529.34  2671.78    789,104,000   \n",
       "\n",
       "       Market Cap  \n",
       "0  45,535,800,000  \n",
       "1  44,890,700,000  \n",
       "2  46,246,700,000  \n",
       "3  44,144,400,000  \n",
       "4  41,816,500,000  "
      ]
     },
     "execution_count": 11,
     "metadata": {},
     "output_type": "execute_result"
    }
   ],
   "source": [
    "df.head()"
   ]
  },
  {
   "cell_type": "code",
   "execution_count": 12,
   "id": "9c8906c0",
   "metadata": {},
   "outputs": [
    {
     "name": "stdout",
     "output_type": "stream",
     "text": [
      " Start Date : 2013-04-28 00:00:00 \n",
      " End Date : 2017-07-31 00:00:00\n"
     ]
    }
   ],
   "source": [
    "print(f\" Start Date : {df['Date'].min()} \\n End Date : {df['Date'].max()}\")"
   ]
  },
  {
   "cell_type": "code",
   "execution_count": 13,
   "id": "ce4f9037",
   "metadata": {},
   "outputs": [
    {
     "data": {
      "text/plain": [
       "Date          0\n",
       "Open          0\n",
       "High          0\n",
       "Low           0\n",
       "Close         0\n",
       "Volume        0\n",
       "Market Cap    0\n",
       "dtype: int64"
      ]
     },
     "execution_count": 13,
     "metadata": {},
     "output_type": "execute_result"
    }
   ],
   "source": [
    "# To check missing values\n",
    "df.isnull().sum()"
   ]
  },
  {
   "cell_type": "code",
   "execution_count": 14,
   "id": "8bfa72ed",
   "metadata": {},
   "outputs": [
    {
     "data": {
      "text/plain": [
       "np.int64(0)"
      ]
     },
     "execution_count": 14,
     "metadata": {},
     "output_type": "execute_result"
    }
   ],
   "source": [
    "# To check duplicate rows\n",
    "df.duplicated().sum()"
   ]
  },
  {
   "cell_type": "code",
   "execution_count": 15,
   "id": "9f260897",
   "metadata": {},
   "outputs": [
    {
     "data": {
      "text/html": [
       "<div>\n",
       "<style scoped>\n",
       "    .dataframe tbody tr th:only-of-type {\n",
       "        vertical-align: middle;\n",
       "    }\n",
       "\n",
       "    .dataframe tbody tr th {\n",
       "        vertical-align: top;\n",
       "    }\n",
       "\n",
       "    .dataframe thead th {\n",
       "        text-align: right;\n",
       "    }\n",
       "</style>\n",
       "<table border=\"1\" class=\"dataframe\">\n",
       "  <thead>\n",
       "    <tr style=\"text-align: right;\">\n",
       "      <th></th>\n",
       "      <th>Date</th>\n",
       "      <th>Open</th>\n",
       "      <th>High</th>\n",
       "      <th>Low</th>\n",
       "      <th>Close</th>\n",
       "      <th>Volume</th>\n",
       "      <th>Market Cap</th>\n",
       "    </tr>\n",
       "  </thead>\n",
       "  <tbody>\n",
       "    <tr>\n",
       "      <th>0</th>\n",
       "      <td>2017-07-31</td>\n",
       "      <td>2763.24</td>\n",
       "      <td>2889.62</td>\n",
       "      <td>2720.61</td>\n",
       "      <td>2875.34</td>\n",
       "      <td>860,575,000</td>\n",
       "      <td>45,535,800,000</td>\n",
       "    </tr>\n",
       "    <tr>\n",
       "      <th>1</th>\n",
       "      <td>2017-07-30</td>\n",
       "      <td>2724.39</td>\n",
       "      <td>2758.53</td>\n",
       "      <td>2644.85</td>\n",
       "      <td>2757.18</td>\n",
       "      <td>705,943,000</td>\n",
       "      <td>44,890,700,000</td>\n",
       "    </tr>\n",
       "    <tr>\n",
       "      <th>2</th>\n",
       "      <td>2017-07-29</td>\n",
       "      <td>2807.02</td>\n",
       "      <td>2808.76</td>\n",
       "      <td>2692.80</td>\n",
       "      <td>2726.45</td>\n",
       "      <td>803,746,000</td>\n",
       "      <td>46,246,700,000</td>\n",
       "    </tr>\n",
       "  </tbody>\n",
       "</table>\n",
       "</div>"
      ],
      "text/plain": [
       "        Date     Open     High      Low    Close       Volume      Market Cap\n",
       "0 2017-07-31  2763.24  2889.62  2720.61  2875.34  860,575,000  45,535,800,000\n",
       "1 2017-07-30  2724.39  2758.53  2644.85  2757.18  705,943,000  44,890,700,000\n",
       "2 2017-07-29  2807.02  2808.76  2692.80  2726.45  803,746,000  46,246,700,000"
      ]
     },
     "execution_count": 15,
     "metadata": {},
     "output_type": "execute_result"
    }
   ],
   "source": [
    "df.head(3)"
   ]
  },
  {
   "cell_type": "code",
   "execution_count": 16,
   "id": "17c4261b",
   "metadata": {},
   "outputs": [
    {
     "data": {
      "text/html": [
       "<div>\n",
       "<style scoped>\n",
       "    .dataframe tbody tr th:only-of-type {\n",
       "        vertical-align: middle;\n",
       "    }\n",
       "\n",
       "    .dataframe tbody tr th {\n",
       "        vertical-align: top;\n",
       "    }\n",
       "\n",
       "    .dataframe thead th {\n",
       "        text-align: right;\n",
       "    }\n",
       "</style>\n",
       "<table border=\"1\" class=\"dataframe\">\n",
       "  <thead>\n",
       "    <tr style=\"text-align: right;\">\n",
       "      <th></th>\n",
       "      <th>Date</th>\n",
       "      <th>Open</th>\n",
       "      <th>High</th>\n",
       "      <th>Low</th>\n",
       "      <th>Close</th>\n",
       "      <th>Volume</th>\n",
       "      <th>Market Cap</th>\n",
       "    </tr>\n",
       "  </thead>\n",
       "  <tbody>\n",
       "    <tr>\n",
       "      <th>1553</th>\n",
       "      <td>2013-04-30</td>\n",
       "      <td>144.00</td>\n",
       "      <td>146.93</td>\n",
       "      <td>134.05</td>\n",
       "      <td>139.00</td>\n",
       "      <td>-</td>\n",
       "      <td>1,597,780,000</td>\n",
       "    </tr>\n",
       "    <tr>\n",
       "      <th>1554</th>\n",
       "      <td>2013-04-29</td>\n",
       "      <td>134.44</td>\n",
       "      <td>147.49</td>\n",
       "      <td>134.00</td>\n",
       "      <td>144.54</td>\n",
       "      <td>-</td>\n",
       "      <td>1,491,160,000</td>\n",
       "    </tr>\n",
       "    <tr>\n",
       "      <th>1555</th>\n",
       "      <td>2013-04-28</td>\n",
       "      <td>135.30</td>\n",
       "      <td>135.98</td>\n",
       "      <td>132.10</td>\n",
       "      <td>134.21</td>\n",
       "      <td>-</td>\n",
       "      <td>1,500,520,000</td>\n",
       "    </tr>\n",
       "  </tbody>\n",
       "</table>\n",
       "</div>"
      ],
      "text/plain": [
       "           Date    Open    High     Low   Close Volume     Market Cap\n",
       "1553 2013-04-30  144.00  146.93  134.05  139.00      -  1,597,780,000\n",
       "1554 2013-04-29  134.44  147.49  134.00  144.54      -  1,491,160,000\n",
       "1555 2013-04-28  135.30  135.98  132.10  134.21      -  1,500,520,000"
      ]
     },
     "execution_count": 16,
     "metadata": {},
     "output_type": "execute_result"
    }
   ],
   "source": [
    "df.tail(3)"
   ]
  },
  {
   "cell_type": "code",
   "execution_count": 17,
   "id": "52990dcc",
   "metadata": {},
   "outputs": [],
   "source": [
    "df.sort_values(by=\"Date\", ascending=True, inplace=True)  # Sort the DataFrame by date in ascending order"
   ]
  },
  {
   "cell_type": "code",
   "execution_count": 18,
   "id": "cf55184c",
   "metadata": {},
   "outputs": [
    {
     "data": {
      "text/html": [
       "<div>\n",
       "<style scoped>\n",
       "    .dataframe tbody tr th:only-of-type {\n",
       "        vertical-align: middle;\n",
       "    }\n",
       "\n",
       "    .dataframe tbody tr th {\n",
       "        vertical-align: top;\n",
       "    }\n",
       "\n",
       "    .dataframe thead th {\n",
       "        text-align: right;\n",
       "    }\n",
       "</style>\n",
       "<table border=\"1\" class=\"dataframe\">\n",
       "  <thead>\n",
       "    <tr style=\"text-align: right;\">\n",
       "      <th></th>\n",
       "      <th>Date</th>\n",
       "      <th>Open</th>\n",
       "      <th>High</th>\n",
       "      <th>Low</th>\n",
       "      <th>Close</th>\n",
       "      <th>Volume</th>\n",
       "      <th>Market Cap</th>\n",
       "    </tr>\n",
       "  </thead>\n",
       "  <tbody>\n",
       "    <tr>\n",
       "      <th>1555</th>\n",
       "      <td>2013-04-28</td>\n",
       "      <td>135.30</td>\n",
       "      <td>135.98</td>\n",
       "      <td>132.10</td>\n",
       "      <td>134.21</td>\n",
       "      <td>-</td>\n",
       "      <td>1,500,520,000</td>\n",
       "    </tr>\n",
       "    <tr>\n",
       "      <th>1554</th>\n",
       "      <td>2013-04-29</td>\n",
       "      <td>134.44</td>\n",
       "      <td>147.49</td>\n",
       "      <td>134.00</td>\n",
       "      <td>144.54</td>\n",
       "      <td>-</td>\n",
       "      <td>1,491,160,000</td>\n",
       "    </tr>\n",
       "    <tr>\n",
       "      <th>1553</th>\n",
       "      <td>2013-04-30</td>\n",
       "      <td>144.00</td>\n",
       "      <td>146.93</td>\n",
       "      <td>134.05</td>\n",
       "      <td>139.00</td>\n",
       "      <td>-</td>\n",
       "      <td>1,597,780,000</td>\n",
       "    </tr>\n",
       "    <tr>\n",
       "      <th>1552</th>\n",
       "      <td>2013-05-01</td>\n",
       "      <td>139.00</td>\n",
       "      <td>139.89</td>\n",
       "      <td>107.72</td>\n",
       "      <td>116.99</td>\n",
       "      <td>-</td>\n",
       "      <td>1,542,820,000</td>\n",
       "    </tr>\n",
       "    <tr>\n",
       "      <th>1551</th>\n",
       "      <td>2013-05-02</td>\n",
       "      <td>116.38</td>\n",
       "      <td>125.60</td>\n",
       "      <td>92.28</td>\n",
       "      <td>105.21</td>\n",
       "      <td>-</td>\n",
       "      <td>1,292,190,000</td>\n",
       "    </tr>\n",
       "  </tbody>\n",
       "</table>\n",
       "</div>"
      ],
      "text/plain": [
       "           Date    Open    High     Low   Close Volume     Market Cap\n",
       "1555 2013-04-28  135.30  135.98  132.10  134.21      -  1,500,520,000\n",
       "1554 2013-04-29  134.44  147.49  134.00  144.54      -  1,491,160,000\n",
       "1553 2013-04-30  144.00  146.93  134.05  139.00      -  1,597,780,000\n",
       "1552 2013-05-01  139.00  139.89  107.72  116.99      -  1,542,820,000\n",
       "1551 2013-05-02  116.38  125.60   92.28  105.21      -  1,292,190,000"
      ]
     },
     "execution_count": 18,
     "metadata": {},
     "output_type": "execute_result"
    }
   ],
   "source": [
    "df.head()"
   ]
  },
  {
   "cell_type": "markdown",
   "id": "a2184a9a",
   "metadata": {},
   "source": [
    "### --- **EDA** ---\n",
    "#####  Problem Statement\n",
    "- What was the change in price of the over time?\n",
    "- Analysing Open, High, Low, Close value of Bitcoin.\n",
    "- Analyzing the closing price.\n",
    "- Analyzing closing price on yearly, quaterly, monthly basis\n",
    "- Analyzing daily change in closing price of stocks"
   ]
  },
  {
   "cell_type": "code",
   "execution_count": 19,
   "id": "26d77000",
   "metadata": {},
   "outputs": [
    {
     "data": {
      "text/html": [
       "<div>\n",
       "<style scoped>\n",
       "    .dataframe tbody tr th:only-of-type {\n",
       "        vertical-align: middle;\n",
       "    }\n",
       "\n",
       "    .dataframe tbody tr th {\n",
       "        vertical-align: top;\n",
       "    }\n",
       "\n",
       "    .dataframe thead th {\n",
       "        text-align: right;\n",
       "    }\n",
       "</style>\n",
       "<table border=\"1\" class=\"dataframe\">\n",
       "  <thead>\n",
       "    <tr style=\"text-align: right;\">\n",
       "      <th></th>\n",
       "      <th>Date</th>\n",
       "      <th>Open</th>\n",
       "      <th>High</th>\n",
       "      <th>Low</th>\n",
       "      <th>Close</th>\n",
       "      <th>Volume</th>\n",
       "      <th>Market Cap</th>\n",
       "    </tr>\n",
       "  </thead>\n",
       "  <tbody>\n",
       "    <tr>\n",
       "      <th>0</th>\n",
       "      <td>2013-04-28</td>\n",
       "      <td>135.30</td>\n",
       "      <td>135.98</td>\n",
       "      <td>132.10</td>\n",
       "      <td>134.21</td>\n",
       "      <td>-</td>\n",
       "      <td>1,500,520,000</td>\n",
       "    </tr>\n",
       "    <tr>\n",
       "      <th>1</th>\n",
       "      <td>2013-04-29</td>\n",
       "      <td>134.44</td>\n",
       "      <td>147.49</td>\n",
       "      <td>134.00</td>\n",
       "      <td>144.54</td>\n",
       "      <td>-</td>\n",
       "      <td>1,491,160,000</td>\n",
       "    </tr>\n",
       "    <tr>\n",
       "      <th>2</th>\n",
       "      <td>2013-04-30</td>\n",
       "      <td>144.00</td>\n",
       "      <td>146.93</td>\n",
       "      <td>134.05</td>\n",
       "      <td>139.00</td>\n",
       "      <td>-</td>\n",
       "      <td>1,597,780,000</td>\n",
       "    </tr>\n",
       "    <tr>\n",
       "      <th>3</th>\n",
       "      <td>2013-05-01</td>\n",
       "      <td>139.00</td>\n",
       "      <td>139.89</td>\n",
       "      <td>107.72</td>\n",
       "      <td>116.99</td>\n",
       "      <td>-</td>\n",
       "      <td>1,542,820,000</td>\n",
       "    </tr>\n",
       "    <tr>\n",
       "      <th>4</th>\n",
       "      <td>2013-05-02</td>\n",
       "      <td>116.38</td>\n",
       "      <td>125.60</td>\n",
       "      <td>92.28</td>\n",
       "      <td>105.21</td>\n",
       "      <td>-</td>\n",
       "      <td>1,292,190,000</td>\n",
       "    </tr>\n",
       "  </tbody>\n",
       "</table>\n",
       "</div>"
      ],
      "text/plain": [
       "        Date    Open    High     Low   Close Volume     Market Cap\n",
       "0 2013-04-28  135.30  135.98  132.10  134.21      -  1,500,520,000\n",
       "1 2013-04-29  134.44  147.49  134.00  144.54      -  1,491,160,000\n",
       "2 2013-04-30  144.00  146.93  134.05  139.00      -  1,597,780,000\n",
       "3 2013-05-01  139.00  139.89  107.72  116.99      -  1,542,820,000\n",
       "4 2013-05-02  116.38  125.60   92.28  105.21      -  1,292,190,000"
      ]
     },
     "execution_count": 19,
     "metadata": {},
     "output_type": "execute_result"
    }
   ],
   "source": [
    "data = df.reset_index()\n",
    "data.drop(\"index\", axis=1, inplace=True)\n",
    "data.head()"
   ]
  },
  {
   "cell_type": "code",
   "execution_count": 20,
   "id": "3f4896fa",
   "metadata": {},
   "outputs": [
    {
     "data": {
      "text/plain": [
       "Index(['Date', 'Open', 'High', 'Low', 'Close', 'Volume', 'Market Cap'], dtype='object')"
      ]
     },
     "execution_count": 20,
     "metadata": {},
     "output_type": "execute_result"
    }
   ],
   "source": [
    "data.columns"
   ]
  },
  {
   "cell_type": "code",
   "execution_count": 21,
   "id": "11dbe48e",
   "metadata": {},
   "outputs": [
    {
     "data": {
      "image/png": "[encoded data removed]",
      "text/plain": [
       "<Figure size 2000x1200 with 4 Axes>"
      ]
     },
     "metadata": {},
     "output_type": "display_data"
    }
   ],
   "source": [
    "# Here we will plot the price changes over time for Open, High, Low, and Close prices\n",
    "\n",
    "plt.figure(figsize=(20, 12))\n",
    "\n",
    "for index, col in enumerate(['Open', 'High', 'Low', 'Close'], start=1):\n",
    "    plt.subplot(2,2, index)\n",
    "    plt.plot(data['Date'], data[col])\n",
    "    plt.title(f\"{col} Price - Over Time\")"
   ]
  },
  {
   "cell_type": "code",
   "execution_count": 22,
   "id": "05ddc5d7",
   "metadata": {},
   "outputs": [
    {
     "data": {
      "text/html": [
       "        <script type=\"text/javascript\">\n",
       "        window.PlotlyConfig = {MathJaxConfig: 'local'};\n",
       "        if (window.MathJax && window.MathJax.Hub && window.MathJax.Hub.Config) {window.MathJax.Hub.Config({SVG: {font: \"STIX-Web\"}});}\n",
       "        </script>\n",
       "        <script type=\"module\">import \"https://cdn.plot.ly/plotly-3.1.0.min\"</script>\n",
       "        "
      ]
     },
     "metadata": {},
     "output_type": "display_data"
    }
   ],
   "source": [
    "# TO analyze open, close, high, low price of Bitcoin we'll use candlestick chart\n",
    "\n",
    "import plotly.graph_objs as go\n",
    "import chart_studio.plotly as py\n",
    "import plotly.express as px\n",
    "\n",
    "from plotly.offline import download_plotlyjs, init_notebook_mode, plot, iplot \n",
    "init_notebook_mode(connected=True) # For offline use in Jupyter Notebooks"
   ]
  },
  {
   "cell_type": "code",
   "execution_count": 23,
   "id": "a114b792",
   "metadata": {},
   "outputs": [],
   "source": [
    "data = data[0:100]  # Limiting to first 100 rows for better visualization"
   ]
  },
  {
   "cell_type": "code",
   "execution_count": 24,
   "id": "096b8584",
   "metadata": {},
   "outputs": [],
   "source": [
    "trace = go.Candlestick(x=data['Date'],\n",
    "               open=data['Open'],\n",
    "                high=data['High'],\n",
    "                low=data['Low'],\n",
    "                close=data['Close'])\n",
    "\n",
    "candle_data = [trace]"
   ]
  },
  {
   "cell_type": "code",
   "execution_count": 25,
   "id": "f33f24a5",
   "metadata": {},
   "outputs": [
    {
     "data": {
      "application/vnd.plotly.v1+json": {
       "config": {
        "linkText": "Export to plot.ly",
        "plotlyServerURL": "https://plot.ly",
        "showLink": false
       },
       "data": [
        {
         "close": {
          "bdata": "H4XrUbjGYEDhehSuRxFiQAAAAAAAYGFAj8L1KFw/XUA9CtejcE1aQAAAAAAAcFhAAAAAAAAgXEAK16NwPfpcQDMzMzMzE1xAAAAAAADgW0AUrkfhemRcQHsUrkfhKlxAzczMzMxMXUCPwvUoXM9cQAAAAAAAwFxAH4XrUbh+XUAAAAAAAOBbQK5H4XoUjlxAcT0K16OwXUDhehSuR8FeQAAAAAAA4F5Aj8L1KFx/XkAAAAAAAIBeQLgehetRuF5AKVyPwvX4XkDNzMzMzKxfQGZmZmZmpmBAj8L1KFx/YECPwvUoXK9gQAAAAAAAOGBAAAAAAAAgYECamZmZmYlgQJqZmZmZGWBAAAAAAAAgYECamZmZmSlgQMP1KFyPkl5ArkfhehSOXkB7FK5H4VpeQJqZmZmZaV5AAAAAAACAXUAAAAAAAOBbQDMzMzMzE1tAAAAAAAAAWUBmZmZmZpZaQJqZmZmZOVtAmpmZmZkJW0AAAAAAAABaQB+F61G4/lhAj8L1KFz/WEBxPQrXo+BYQM3MzMzMbFlAmpmZmZnZWkAAAAAAABBbQJqZmZmZiVtAAAAAAABgW0AzMzMzMxNbQGZmZmZm5lpAj8L1KFyvWUDNzMzMzPxZQAAAAAAAAFpAXI/C9ShcWUCamZmZmalXQI/C9Shcv1dA16NwPQonWEAzMzMzMwNWQLgehetRiFZAUrgehethU0BSuB6F6yFUQOxRuB6FG1FAUrgeheuRUUCkcD0K16NSQOF6FK5HIVNAXI/C9SgsU0BxPQrXo7BVQB+F61G4PlZA9ihcj8JlV0C4HoXrUYhYQFyPwvUorFdAmpmZmZmZWEDNzMzMzFxYQAAAAAAAoFhAhetRuB6lVkB7FK5H4QpXQClcj8L1WFZAcT0K16OwVkDXo3A9CudWQKRwPQrX41dAcT0K16OgV0CamZmZmTlYQOF6FK5HAVhASOF6FK6HV0BxPQrXo/BYQM3MzMzMTFlAj8L1KFz/WkD2KFyPwoVaQAAAAAAAAFpAAAAAAAAgWkAAAAAAAABaQClcj8L1SFpArkfhehSOWkA=",
          "dtype": "f8"
         },
         "high": {
          "bdata": "j8L1KFz/YEBI4XoUrm9iQPYoXI/CXWJAFK5H4Xp8YUBmZmZmZmZfQLgehetRCFtAAAAAAADAXEAzMzMzM7NdQArXo3A9Kl9AXI/C9ShcXEBSuB6F6/FcQD0K16NwXVxAAAAAAACAXkDsUbgehatdQM3MzMzMXF1AzczMzMysXUAzMzMzM/NdQKRwPQrX81xAcT0K16OwXUAzMzMzM1NfQAAAAAAAUF9AAAAAAAAgX0BI4XoUrudeQAAAAAAAwF5AAAAAAAAAX0DsUbgehbtfQDMzMzMzu2BA16NwPQqnYEAAAAAAAABhQNejcD0K72BAw/UoXI9SYEB7FK5H4ZJgQAAAAAAAiGBAzczMzMw8YEApXI/C9ThgQM3MzMzMLGBAAAAAAACgXkD2KFyPwvVeQK5H4XoU3l5AZmZmZmbGXkAAAAAAAMBdQHsUrkfh2ltAj8L1KFw/W0BmZmZmZoZbQGZmZmZmZltAw/UoXI/yW0AzMzMzM5NbQM3MzMzMLFpAzczMzMzsWUBmZmZmZmZZQD0K16NwjVlA16NwPQrHW0CuR+F6FI5bQDMzMzMzk1xAj8L1KFy/XEA9CtejcH1bQDMzMzMzM1tAhetRuB4VW0CuR+F6FJ5aQI/C9ShcX1pAAAAAAAAAWkCPwvUoXG9ZQI/C9Shc/1hASOF6FK6HWEAK16NwPWpYQDMzMzMzE1dAH4XrUbi+VkDXo3A9CsdUQAAAAAAAAFRAAAAAAADAUkCkcD0K16NSQAAAAAAAAFRAMzMzMzOTU0AAAAAAAMBVQFK4HoXrkVZAAAAAAAAAWkAAAAAAAJBYQM3MzMzMrFhAmpmZmZl5WUDXo3A9CvdYQK5H4XoU/lhAMzMzMzOzWEDNzMzMzMxXQGZmZmZmRldAzczMzMz8VkAAAAAAAABXQBSuR+F6NFhAj8L1KFz/V0CF61G4HlVYQK5H4XoUXlhAAAAAAABAWECF61G4HiVZQAAAAAAAoFlAj8L1KFz/WkD2KFyPwtVbQAAAAAAAAFtAAAAAAAAAW0BSuB6F63FaQM3MzMzMfFpA4XoUrkfxWkA=",
          "dtype": "f8"
         },
         "low": {
          "bdata": "MzMzMzODYEAAAAAAAMBgQJqZmZmZwWBArkfhehTuWkBSuB6F6xFXQGZmZmZmxlNAAAAAAAAgV0ApXI/C9chaQClcj8L1qFpAzczMzMxsWEBmZmZmZmZbQHE9CtejUFtAMzMzMzPjW0BxPQrXo0BcQFyPwvUoXFxAAAAAAACgXEAAAAAAAJBbQAAAAAAA4FlAzczMzMwMXEAUrkfheiRdQDMzMzMzk15AFK5H4XrkXUBI4XoUrgdeQD0K16NwTV5AAAAAAACAXkBmZmZmZsZeQK5H4XoUbl9AzczMzMwcYECkcD0K11NgQM3MzMzMLF9AZmZmZmZmX0AK16NwPepfQAAAAAAAwF9AmpmZmZmZX0DNzMzMzMxfQDMzMzMzw1xAAAAAAAAAXUBmZmZmZsZdQJqZmZmZ+V1AAAAAAABQXUB7FK5H4ZpaQDMzMzMz01pAAAAAAAAgVkAAAAAAAMBXQAAAAAAAAFpAH4XrUbiuWkBSuB6F6yFZQAAAAAAAgFhAAAAAAACAWEDNzMzMzLxYQAAAAAAAwFhAUrgehetBWUAAAAAAAHBaQAAAAAAA4FpAXI/C9SjsWkBxPQrXo+BaQB+F61G4jlpAH4XrUbg+WUBxPQrXo0BZQMP1KFyPsllAZmZmZmZGWUCF61G4HhVXQAAAAAAAQFdArkfhehSOV0AzMzMzM5NVQHE9Ctej4FVAH4XrUbg+U0AAAAAAAABSQFK4HoXrYVBAFK5H4Xq0UEBI4XoUrqdQQGZmZmZmJlJA4XoUrkchUkDNzMzMzAxTQIXrUbgeRVVAexSuR+EKVkCkcD0K1wNWQNejcD0KN1dA16NwPQpHV0ApXI/C9QhYQOxRuB6FC1hAzczMzMyMVUAzMzMzM/NVQOF6FK5HUVZAAAAAAAAAVkCF61G4HoVWQGZmZmZm5lZAAAAAAABAV0BI4XoUrndXQAAAAAAAAFhAAAAAAABAV0AAAAAAAIBXQM3MzMzMnFhArkfhehQeWUC4HoXrUfhZQHE9CtejwFlAPQrXo3BNWUAAAAAAAIBZQOF6FK5H4VlAAAAAAABAWkA=",
          "dtype": "f8"
         },
         "open": {
          "bdata": "mpmZmZnpYECuR+F6FM5gQAAAAAAAAGJAAAAAAABgYUC4HoXrURhdQAAAAAAAkFpAZmZmZmaGWECamZmZmTlcQB+F61G4/lxAAAAAAAAQXEBmZmZmZmZbQM3MzMzMTFxAMzMzMzMzXEDNzMzMzGxdQClcj8L16FxAFK5H4Xq0XEAfhetRuH5dQJqZmZmZ2VtArkfhehSOXEA9CtejcI1dQAAAAAAA4F5APQrXo3DNXkAAAAAAAKBeQOF6FK5HgV5AKVyPwvW4XkAzMzMzM/NeQDMzMzMzk19AMzMzMzOjYEBI4XoUrn9gQAAAAAAAsGBAcT0K16M4YEAAAAAAACBgQAAAAAAAiGBAmpmZmZkZYEBSuB6F6xlgQJqZmZmZKWBAAAAAAACgXkCPwvUoXC9eQJqZmZmZWV5AmpmZmZl5XkCuR+F6FL5dQAAAAAAAwFtAKVyPwvX4WkBcj8L1KBxZQGZmZmZmllpAAAAAAABAW0BSuB6F6zFbQM3MzMzM/FlAAAAAAAAAWUAzMzMzM/NYQJqZmZmZ+VhAzczMzMx8WUAzMzMzM8NaQAAAAAAAEFtAw/UoXI/SW0AAAAAAAGBbQM3MzMzMDFtAmpmZmZn5WkD2KFyPwoVZQIXrUbge1VlAAAAAAAAAWkCPwvUoXG9ZQArXo3A9qldAAAAAAADAV0BxPQrXo2BYQDMzMzMzA1ZACtejcD2aVkApXI/C9bhTQI/C9Shc/1NAAAAAAAAgUUAAAAAAADBRQAAAAAAAIFNAAAAAAAAAU0CuR+F6FC5TQAAAAAAAAFZAH4XrUbg+VkCPwvUoXH9XQM3MzMzMrFhA16NwPQpnV0ApXI/C9bhYQD0K16NwLVhAAAAAAACgWEAUrkfheoRWQAAAAAAAAFdAFK5H4Xp0VkAAAAAAAABXQGZmZmZm5lZApHA9CtfjV0AAAAAAAKBXQM3MzMzMPFhA4XoUrkcBWECamZmZmZlXQGZmZmZmplhAj8L1KFxfWUDNzMzMzPxaQD0K16NwjVpA16NwPQo3WkAAAAAAACBaQM3MzMzMPFpASOF6FK5HWkA=",
          "dtype": "f8"
         },
         "type": "candlestick",
         "x": [
          "2013-04-28T00:00:00.000000000",
          "2013-04-29T00:00:00.000000000",
          "2013-04-30T00:00:00.000000000",
          "2013-05-01T00:00:00.000000000",
          "2013-05-02T00:00:00.000000000",
          "2013-05-03T00:00:00.000000000",
          "2013-05-04T00:00:00.000000000",
          "2013-05-05T00:00:00.000000000",
          "2013-05-06T00:00:00.000000000",
          "2013-05-07T00:00:00.000000000",
          "2013-05-08T00:00:00.000000000",
          "2013-05-09T00:00:00.000000000",
          "2013-05-10T00:00:00.000000000",
          "2013-05-11T00:00:00.000000000",
          "2013-05-12T00:00:00.000000000",
          "2013-05-13T00:00:00.000000000",
          "2013-05-14T00:00:00.000000000",
          "2013-05-15T00:00:00.000000000",
          "2013-05-16T00:00:00.000000000",
          "2013-05-17T00:00:00.000000000",
          "2013-05-18T00:00:00.000000000",
          "2013-05-19T00:00:00.000000000",
          "2013-05-20T00:00:00.000000000",
          "2013-05-21T00:00:00.000000000",
          "2013-05-22T00:00:00.000000000",
          "2013-05-23T00:00:00.000000000",
          "2013-05-24T00:00:00.000000000",
          "2013-05-25T00:00:00.000000000",
          "2013-05-26T00:00:00.000000000",
          "2013-05-27T00:00:00.000000000",
          "2013-05-28T00:00:00.000000000",
          "2013-05-29T00:00:00.000000000",
          "2013-05-30T00:00:00.000000000",
          "2013-05-31T00:00:00.000000000",
          "2013-06-01T00:00:00.000000000",
          "2013-06-02T00:00:00.000000000",
          "2013-06-03T00:00:00.000000000",
          "2013-06-04T00:00:00.000000000",
          "2013-06-05T00:00:00.000000000",
          "2013-06-06T00:00:00.000000000",
          "2013-06-07T00:00:00.000000000",
          "2013-06-08T00:00:00.000000000",
          "2013-06-09T00:00:00.000000000",
          "2013-06-10T00:00:00.000000000",
          "2013-06-11T00:00:00.000000000",
          "2013-06-12T00:00:00.000000000",
          "2013-06-13T00:00:00.000000000",
          "2013-06-14T00:00:00.000000000",
          "2013-06-15T00:00:00.000000000",
          "2013-06-16T00:00:00.000000000",
          "2013-06-17T00:00:00.000000000",
          "2013-06-18T00:00:00.000000000",
          "2013-06-19T00:00:00.000000000",
          "2013-06-20T00:00:00.000000000",
          "2013-06-21T00:00:00.000000000",
          "2013-06-22T00:00:00.000000000",
          "2013-06-23T00:00:00.000000000",
          "2013-06-24T00:00:00.000000000",
          "2013-06-25T00:00:00.000000000",
          "2013-06-26T00:00:00.000000000",
          "2013-06-27T00:00:00.000000000",
          "2013-06-28T00:00:00.000000000",
          "2013-06-29T00:00:00.000000000",
          "2013-06-30T00:00:00.000000000",
          "2013-07-01T00:00:00.000000000",
          "2013-07-02T00:00:00.000000000",
          "2013-07-03T00:00:00.000000000",
          "2013-07-04T00:00:00.000000000",
          "2013-07-05T00:00:00.000000000",
          "2013-07-06T00:00:00.000000000",
          "2013-07-07T00:00:00.000000000",
          "2013-07-08T00:00:00.000000000",
          "2013-07-09T00:00:00.000000000",
          "2013-07-10T00:00:00.000000000",
          "2013-07-11T00:00:00.000000000",
          "2013-07-12T00:00:00.000000000",
          "2013-07-13T00:00:00.000000000",
          "2013-07-14T00:00:00.000000000",
          "2013-07-15T00:00:00.000000000",
          "2013-07-16T00:00:00.000000000",
          "2013-07-17T00:00:00.000000000",
          "2013-07-18T00:00:00.000000000",
          "2013-07-19T00:00:00.000000000",
          "2013-07-20T00:00:00.000000000",
          "2013-07-21T00:00:00.000000000",
          "2013-07-22T00:00:00.000000000",
          "2013-07-23T00:00:00.000000000",
          "2013-07-24T00:00:00.000000000",
          "2013-07-25T00:00:00.000000000",
          "2013-07-26T00:00:00.000000000",
          "2013-07-27T00:00:00.000000000",
          "2013-07-28T00:00:00.000000000",
          "2013-07-29T00:00:00.000000000",
          "2013-07-30T00:00:00.000000000",
          "2013-07-31T00:00:00.000000000",
          "2013-08-01T00:00:00.000000000",
          "2013-08-02T00:00:00.000000000",
          "2013-08-03T00:00:00.000000000",
          "2013-08-04T00:00:00.000000000",
          "2013-08-05T00:00:00.000000000"
         ]
        }
       ],
       "layout": {
        "template": {
         "data": {
          "bar": [
           {
            "error_x": {
             "color": "#2a3f5f"
            },
            "error_y": {
             "color": "#2a3f5f"
            },
            "marker": {
             "line": {
              "color": "#E5ECF6",
              "width": 0.5
             },
             "pattern": {
              "fillmode": "overlay",
              "size": 10,
              "solidity": 0.2
             }
            },
            "type": "bar"
           }
          ],
          "barpolar": [
           {
            "marker": {
             "line": {
              "color": "#E5ECF6",
              "width": 0.5
             },
             "pattern": {
              "fillmode": "overlay",
              "size": 10,
              "solidity": 0.2
             }
            },
            "type": "barpolar"
           }
          ],
          "carpet": [
           {
            "aaxis": {
             "endlinecolor": "#2a3f5f",
             "gridcolor": "white",
             "linecolor": "white",
             "minorgridcolor": "white",
             "startlinecolor": "#2a3f5f"
            },
            "baxis": {
             "endlinecolor": "#2a3f5f",
             "gridcolor": "white",
             "linecolor": "white",
             "minorgridcolor": "white",
             "startlinecolor": "#2a3f5f"
            },
            "type": "carpet"
           }
          ],
          "choropleth": [
           {
            "colorbar": {
             "outlinewidth": 0,
             "ticks": ""
            },
            "type": "choropleth"
           }
          ],
          "contour": [
           {
            "colorbar": {
             "outlinewidth": 0,
             "ticks": ""
            },
            "colorscale": [
             [
              0,
              "#0d0887"
             ],
             [
              0.1111111111111111,
              "#46039f"
             ],
             [
              0.2222222222222222,
              "#7201a8"
             ],
             [
              0.3333333333333333,
              "#9c179e"
             ],
             [
              0.4444444444444444,
              "#bd3786"
             ],
             [
              0.5555555555555556,
              "#d8576b"
             ],
             [
              0.6666666666666666,
              "#ed7953"
             ],
             [
              0.7777777777777778,
              "#fb9f3a"
             ],
             [
              0.8888888888888888,
              "#fdca26"
             ],
             [
              1,
              "#f0f921"
             ]
            ],
            "type": "contour"
           }
          ],
          "contourcarpet": [
           {
            "colorbar": {
             "outlinewidth": 0,
             "ticks": ""
            },
            "type": "contourcarpet"
           }
          ],
          "heatmap": [
           {
            "colorbar": {
             "outlinewidth": 0,
             "ticks": ""
            },
            "colorscale": [
             [
              0,
              "#0d0887"
             ],
             [
              0.1111111111111111,
              "#46039f"
             ],
             [
              0.2222222222222222,
              "#7201a8"
             ],
             [
              0.3333333333333333,
              "#9c179e"
             ],
             [
              0.4444444444444444,
              "#bd3786"
             ],
             [
              0.5555555555555556,
              "#d8576b"
             ],
             [
              0.6666666666666666,
              "#ed7953"
             ],
             [
              0.7777777777777778,
              "#fb9f3a"
             ],
             [
              0.8888888888888888,
              "#fdca26"
             ],
             [
              1,
              "#f0f921"
             ]
            ],
            "type": "heatmap"
           }
          ],
          "histogram": [
           {
            "marker": {
             "pattern": {
              "fillmode": "overlay",
              "size": 10,
              "solidity": 0.2
             }
            },
            "type": "histogram"
           }
          ],
          "histogram2d": [
           {
            "colorbar": {
             "outlinewidth": 0,
             "ticks": ""
            },
            "colorscale": [
             [
              0,
              "#0d0887"
             ],
             [
              0.1111111111111111,
              "#46039f"
             ],
             [
              0.2222222222222222,
              "#7201a8"
             ],
             [
              0.3333333333333333,
              "#9c179e"
             ],
             [
              0.4444444444444444,
              "#bd3786"
             ],
             [
              0.5555555555555556,
              "#d8576b"
             ],
             [
              0.6666666666666666,
              "#ed7953"
             ],
             [
              0.7777777777777778,
              "#fb9f3a"
             ],
             [
              0.8888888888888888,
              "#fdca26"
             ],
             [
              1,
              "#f0f921"
             ]
            ],
            "type": "histogram2d"
           }
          ],
          "histogram2dcontour": [
           {
            "colorbar": {
             "outlinewidth": 0,
             "ticks": ""
            },
            "colorscale": [
             [
              0,
              "#0d0887"
             ],
             [
              0.1111111111111111,
              "#46039f"
             ],
             [
              0.2222222222222222,
              "#7201a8"
             ],
             [
              0.3333333333333333,
              "#9c179e"
             ],
             [
              0.4444444444444444,
              "#bd3786"
             ],
             [
              0.5555555555555556,
              "#d8576b"
             ],
             [
              0.6666666666666666,
              "#ed7953"
             ],
             [
              0.7777777777777778,
              "#fb9f3a"
             ],
             [
              0.8888888888888888,
              "#fdca26"
             ],
             [
              1,
              "#f0f921"
             ]
            ],
            "type": "histogram2dcontour"
           }
          ],
          "mesh3d": [
           {
            "colorbar": {
             "outlinewidth": 0,
             "ticks": ""
            },
            "type": "mesh3d"
           }
          ],
          "parcoords": [
           {
            "line": {
             "colorbar": {
              "outlinewidth": 0,
              "ticks": ""
             }
            },
            "type": "parcoords"
           }
          ],
          "pie": [
           {
            "automargin": true,
            "type": "pie"
           }
          ],
          "scatter": [
           {
            "fillpattern": {
             "fillmode": "overlay",
             "size": 10,
             "solidity": 0.2
            },
            "type": "scatter"
           }
          ],
          "scatter3d": [
           {
            "line": {
             "colorbar": {
              "outlinewidth": 0,
              "ticks": ""
             }
            },
            "marker": {
             "colorbar": {
              "outlinewidth": 0,
              "ticks": ""
             }
            },
            "type": "scatter3d"
           }
          ],
          "scattercarpet": [
           {
            "marker": {
             "colorbar": {
              "outlinewidth": 0,
              "ticks": ""
             }
            },
            "type": "scattercarpet"
           }
          ],
          "scattergeo": [
           {
            "marker": {
             "colorbar": {
              "outlinewidth": 0,
              "ticks": ""
             }
            },
            "type": "scattergeo"
           }
          ],
          "scattergl": [
           {
            "marker": {
             "colorbar": {
              "outlinewidth": 0,
              "ticks": ""
             }
            },
            "type": "scattergl"
           }
          ],
          "scattermap": [
           {
            "marker": {
             "colorbar": {
              "outlinewidth": 0,
              "ticks": ""
             }
            },
            "type": "scattermap"
           }
          ],
          "scattermapbox": [
           {
            "marker": {
             "colorbar": {
              "outlinewidth": 0,
              "ticks": ""
             }
            },
            "type": "scattermapbox"
           }
          ],
          "scatterpolar": [
           {
            "marker": {
             "colorbar": {
              "outlinewidth": 0,
              "ticks": ""
             }
            },
            "type": "scatterpolar"
           }
          ],
          "scatterpolargl": [
           {
            "marker": {
             "colorbar": {
              "outlinewidth": 0,
              "ticks": ""
             }
            },
            "type": "scatterpolargl"
           }
          ],
          "scatterternary": [
           {
            "marker": {
             "colorbar": {
              "outlinewidth": 0,
              "ticks": ""
             }
            },
            "type": "scatterternary"
           }
          ],
          "surface": [
           {
            "colorbar": {
             "outlinewidth": 0,
             "ticks": ""
            },
            "colorscale": [
             [
              0,
              "#0d0887"
             ],
             [
              0.1111111111111111,
              "#46039f"
             ],
             [
              0.2222222222222222,
              "#7201a8"
             ],
             [
              0.3333333333333333,
              "#9c179e"
             ],
             [
              0.4444444444444444,
              "#bd3786"
             ],
             [
              0.5555555555555556,
              "#d8576b"
             ],
             [
              0.6666666666666666,
              "#ed7953"
             ],
             [
              0.7777777777777778,
              "#fb9f3a"
             ],
             [
              0.8888888888888888,
              "#fdca26"
             ],
             [
              1,
              "#f0f921"
             ]
            ],
            "type": "surface"
           }
          ],
          "table": [
           {
            "cells": {
             "fill": {
              "color": "#EBF0F8"
             },
             "line": {
              "color": "white"
             }
            },
            "header": {
             "fill": {
              "color": "#C8D4E3"
             },
             "line": {
              "color": "white"
             }
            },
            "type": "table"
           }
          ]
         },
         "layout": {
          "annotationdefaults": {
           "arrowcolor": "#2a3f5f",
           "arrowhead": 0,
           "arrowwidth": 1
          },
          "autotypenumbers": "strict",
          "coloraxis": {
           "colorbar": {
            "outlinewidth": 0,
            "ticks": ""
           }
          },
          "colorscale": {
           "diverging": [
            [
             0,
             "#8e0152"
            ],
            [
             0.1,
             "#c51b7d"
            ],
            [
             0.2,
             "#de77ae"
            ],
            [
             0.3,
             "#f1b6da"
            ],
            [
             0.4,
             "#fde0ef"
            ],
            [
             0.5,
             "#f7f7f7"
            ],
            [
             0.6,
             "#e6f5d0"
            ],
            [
             0.7,
             "#b8e186"
            ],
            [
             0.8,
             "#7fbc41"
            ],
            [
             0.9,
             "#4d9221"
            ],
            [
             1,
             "#276419"
            ]
           ],
           "sequential": [
            [
             0,
             "#0d0887"
            ],
            [
             0.1111111111111111,
             "#46039f"
            ],
            [
             0.2222222222222222,
             "#7201a8"
            ],
            [
             0.3333333333333333,
             "#9c179e"
            ],
            [
             0.4444444444444444,
             "#bd3786"
            ],
            [
             0.5555555555555556,
             "#d8576b"
            ],
            [
             0.6666666666666666,
             "#ed7953"
            ],
            [
             0.7777777777777778,
             "#fb9f3a"
            ],
            [
             0.8888888888888888,
             "#fdca26"
            ],
            [
             1,
             "#f0f921"
            ]
           ],
           "sequentialminus": [
            [
             0,
             "#0d0887"
            ],
            [
             0.1111111111111111,
             "#46039f"
            ],
            [
             0.2222222222222222,
             "#7201a8"
            ],
            [
             0.3333333333333333,
             "#9c179e"
            ],
            [
             0.4444444444444444,
             "#bd3786"
            ],
            [
             0.5555555555555556,
             "#d8576b"
            ],
            [
             0.6666666666666666,
             "#ed7953"
            ],
            [
             0.7777777777777778,
             "#fb9f3a"
            ],
            [
             0.8888888888888888,
             "#fdca26"
            ],
            [
             1,
             "#f0f921"
            ]
           ]
          },
          "colorway": [
           "#636efa",
           "#EF553B",
           "#00cc96",
           "#ab63fa",
           "#FFA15A",
           "#19d3f3",
           "#FF6692",
           "#B6E880",
           "#FF97FF",
           "#FECB52"
          ],
          "font": {
           "color": "#2a3f5f"
          },
          "geo": {
           "bgcolor": "white",
           "lakecolor": "white",
           "landcolor": "#E5ECF6",
           "showlakes": true,
           "showland": true,
           "subunitcolor": "white"
          },
          "hoverlabel": {
           "align": "left"
          },
          "hovermode": "closest",
          "mapbox": {
           "style": "light"
          },
          "paper_bgcolor": "white",
          "plot_bgcolor": "#E5ECF6",
          "polar": {
           "angularaxis": {
            "gridcolor": "white",
            "linecolor": "white",
            "ticks": ""
           },
           "bgcolor": "#E5ECF6",
           "radialaxis": {
            "gridcolor": "white",
            "linecolor": "white",
            "ticks": ""
           }
          },
          "scene": {
           "xaxis": {
            "backgroundcolor": "#E5ECF6",
            "gridcolor": "white",
            "gridwidth": 2,
            "linecolor": "white",
            "showbackground": true,
            "ticks": "",
            "zerolinecolor": "white"
           },
           "yaxis": {
            "backgroundcolor": "#E5ECF6",
            "gridcolor": "white",
            "gridwidth": 2,
            "linecolor": "white",
            "showbackground": true,
            "ticks": "",
            "zerolinecolor": "white"
           },
           "zaxis": {
            "backgroundcolor": "#E5ECF6",
            "gridcolor": "white",
            "gridwidth": 2,
            "linecolor": "white",
            "showbackground": true,
            "ticks": "",
            "zerolinecolor": "white"
           }
          },
          "shapedefaults": {
           "line": {
            "color": "#2a3f5f"
           }
          },
          "ternary": {
           "aaxis": {
            "gridcolor": "white",
            "linecolor": "white",
            "ticks": ""
           },
           "baxis": {
            "gridcolor": "white",
            "linecolor": "white",
            "ticks": ""
           },
           "bgcolor": "#E5ECF6",
           "caxis": {
            "gridcolor": "white",
            "linecolor": "white",
            "ticks": ""
           }
          },
          "title": {
           "x": 0.05
          },
          "xaxis": {
           "automargin": true,
           "gridcolor": "white",
           "linecolor": "white",
           "ticks": "",
           "title": {
            "standoff": 15
           },
           "zerolinecolor": "white",
           "zerolinewidth": 2
          },
          "yaxis": {
           "automargin": true,
           "gridcolor": "white",
           "linecolor": "white",
           "ticks": "",
           "title": {
            "standoff": 15
           },
           "zerolinecolor": "white",
           "zerolinewidth": 2
          }
         }
        }
       }
      },
      "text/html": [
       "<div>            <script src=\"https://cdnjs.cloudflare.com/ajax/libs/mathjax/2.7.5/MathJax.js?config=TeX-AMS-MML_SVG\"></script><script type=\"text/javascript\">if (window.MathJax && window.MathJax.Hub && window.MathJax.Hub.Config) {window.MathJax.Hub.Config({SVG: {font: \"STIX-Web\"}});}</script>                <script type=\"text/javascript\">window.PlotlyConfig = {MathJaxConfig: 'local'};</script>\n",
       "        <script charset=\"utf-8\" src=\"https://cdn.plot.ly/plotly-3.1.0.min.js\" integrity=\"sha256-Ei4740bWZhaUTQuD6q9yQlgVCMPBz6CZWhevDYPv93A=\" crossorigin=\"anonymous\"></script>                <div id=\"9154d1e7-6a89-447f-bdfa-a098dd832d37\" class=\"plotly-graph-div\" style=\"height:525px; width:100%;\"></div>            <script type=\"text/javascript\">                window.PLOTLYENV=window.PLOTLYENV || {};                                if (document.getElementById(\"9154d1e7-6a89-447f-bdfa-a098dd832d37\")) {                    Plotly.newPlot(                        \"9154d1e7-6a89-447f-bdfa-a098dd832d37\",                        [{\"close\":{\"dtype\":\"f8\",\"bdata\":\"H4XrUbjGYEDhehSuRxFiQAAAAAAAYGFAj8L1KFw\\u002fXUA9CtejcE1aQAAAAAAAcFhAAAAAAAAgXEAK16NwPfpcQDMzMzMzE1xAAAAAAADgW0AUrkfhemRcQHsUrkfhKlxAzczMzMxMXUCPwvUoXM9cQAAAAAAAwFxAH4XrUbh+XUAAAAAAAOBbQK5H4XoUjlxAcT0K16OwXUDhehSuR8FeQAAAAAAA4F5Aj8L1KFx\\u002fXkAAAAAAAIBeQLgehetRuF5AKVyPwvX4XkDNzMzMzKxfQGZmZmZmpmBAj8L1KFx\\u002fYECPwvUoXK9gQAAAAAAAOGBAAAAAAAAgYECamZmZmYlgQJqZmZmZGWBAAAAAAAAgYECamZmZmSlgQMP1KFyPkl5ArkfhehSOXkB7FK5H4VpeQJqZmZmZaV5AAAAAAACAXUAAAAAAAOBbQDMzMzMzE1tAAAAAAAAAWUBmZmZmZpZaQJqZmZmZOVtAmpmZmZkJW0AAAAAAAABaQB+F61G4\\u002flhAj8L1KFz\\u002fWEBxPQrXo+BYQM3MzMzMbFlAmpmZmZnZWkAAAAAAABBbQJqZmZmZiVtAAAAAAABgW0AzMzMzMxNbQGZmZmZm5lpAj8L1KFyvWUDNzMzMzPxZQAAAAAAAAFpAXI\\u002fC9ShcWUCamZmZmalXQI\\u002fC9Shcv1dA16NwPQonWEAzMzMzMwNWQLgehetRiFZAUrgehethU0BSuB6F6yFUQOxRuB6FG1FAUrgeheuRUUCkcD0K16NSQOF6FK5HIVNAXI\\u002fC9SgsU0BxPQrXo7BVQB+F61G4PlZA9ihcj8JlV0C4HoXrUYhYQFyPwvUorFdAmpmZmZmZWEDNzMzMzFxYQAAAAAAAoFhAhetRuB6lVkB7FK5H4QpXQClcj8L1WFZAcT0K16OwVkDXo3A9CudWQKRwPQrX41dAcT0K16OgV0CamZmZmTlYQOF6FK5HAVhASOF6FK6HV0BxPQrXo\\u002fBYQM3MzMzMTFlAj8L1KFz\\u002fWkD2KFyPwoVaQAAAAAAAAFpAAAAAAAAgWkAAAAAAAABaQClcj8L1SFpArkfhehSOWkA=\"},\"high\":{\"dtype\":\"f8\",\"bdata\":\"j8L1KFz\\u002fYEBI4XoUrm9iQPYoXI\\u002fCXWJAFK5H4Xp8YUBmZmZmZmZfQLgehetRCFtAAAAAAADAXEAzMzMzM7NdQArXo3A9Kl9AXI\\u002fC9ShcXEBSuB6F6\\u002fFcQD0K16NwXVxAAAAAAACAXkDsUbgehatdQM3MzMzMXF1AzczMzMysXUAzMzMzM\\u002fNdQKRwPQrX81xAcT0K16OwXUAzMzMzM1NfQAAAAAAAUF9AAAAAAAAgX0BI4XoUrudeQAAAAAAAwF5AAAAAAAAAX0DsUbgehbtfQDMzMzMzu2BA16NwPQqnYEAAAAAAAABhQNejcD0K72BAw\\u002fUoXI9SYEB7FK5H4ZJgQAAAAAAAiGBAzczMzMw8YEApXI\\u002fC9ThgQM3MzMzMLGBAAAAAAACgXkD2KFyPwvVeQK5H4XoU3l5AZmZmZmbGXkAAAAAAAMBdQHsUrkfh2ltAj8L1KFw\\u002fW0BmZmZmZoZbQGZmZmZmZltAw\\u002fUoXI\\u002fyW0AzMzMzM5NbQM3MzMzMLFpAzczMzMzsWUBmZmZmZmZZQD0K16NwjVlA16NwPQrHW0CuR+F6FI5bQDMzMzMzk1xAj8L1KFy\\u002fXEA9CtejcH1bQDMzMzMzM1tAhetRuB4VW0CuR+F6FJ5aQI\\u002fC9ShcX1pAAAAAAAAAWkCPwvUoXG9ZQI\\u002fC9Shc\\u002f1hASOF6FK6HWEAK16NwPWpYQDMzMzMzE1dAH4XrUbi+VkDXo3A9CsdUQAAAAAAAAFRAAAAAAADAUkCkcD0K16NSQAAAAAAAAFRAMzMzMzOTU0AAAAAAAMBVQFK4HoXrkVZAAAAAAAAAWkAAAAAAAJBYQM3MzMzMrFhAmpmZmZl5WUDXo3A9CvdYQK5H4XoU\\u002flhAMzMzMzOzWEDNzMzMzMxXQGZmZmZmRldAzczMzMz8VkAAAAAAAABXQBSuR+F6NFhAj8L1KFz\\u002fV0CF61G4HlVYQK5H4XoUXlhAAAAAAABAWECF61G4HiVZQAAAAAAAoFlAj8L1KFz\\u002fWkD2KFyPwtVbQAAAAAAAAFtAAAAAAAAAW0BSuB6F63FaQM3MzMzMfFpA4XoUrkfxWkA=\"},\"low\":{\"dtype\":\"f8\",\"bdata\":\"MzMzMzODYEAAAAAAAMBgQJqZmZmZwWBArkfhehTuWkBSuB6F6xFXQGZmZmZmxlNAAAAAAAAgV0ApXI\\u002fC9chaQClcj8L1qFpAzczMzMxsWEBmZmZmZmZbQHE9CtejUFtAMzMzMzPjW0BxPQrXo0BcQFyPwvUoXFxAAAAAAACgXEAAAAAAAJBbQAAAAAAA4FlAzczMzMwMXEAUrkfheiRdQDMzMzMzk15AFK5H4XrkXUBI4XoUrgdeQD0K16NwTV5AAAAAAACAXkBmZmZmZsZeQK5H4XoUbl9AzczMzMwcYECkcD0K11NgQM3MzMzMLF9AZmZmZmZmX0AK16NwPepfQAAAAAAAwF9AmpmZmZmZX0DNzMzMzMxfQDMzMzMzw1xAAAAAAAAAXUBmZmZmZsZdQJqZmZmZ+V1AAAAAAABQXUB7FK5H4ZpaQDMzMzMz01pAAAAAAAAgVkAAAAAAAMBXQAAAAAAAAFpAH4XrUbiuWkBSuB6F6yFZQAAAAAAAgFhAAAAAAACAWEDNzMzMzLxYQAAAAAAAwFhAUrgehetBWUAAAAAAAHBaQAAAAAAA4FpAXI\\u002fC9SjsWkBxPQrXo+BaQB+F61G4jlpAH4XrUbg+WUBxPQrXo0BZQMP1KFyPsllAZmZmZmZGWUCF61G4HhVXQAAAAAAAQFdArkfhehSOV0AzMzMzM5NVQHE9Ctej4FVAH4XrUbg+U0AAAAAAAABSQFK4HoXrYVBAFK5H4Xq0UEBI4XoUrqdQQGZmZmZmJlJA4XoUrkchUkDNzMzMzAxTQIXrUbgeRVVAexSuR+EKVkCkcD0K1wNWQNejcD0KN1dA16NwPQpHV0ApXI\\u002fC9QhYQOxRuB6FC1hAzczMzMyMVUAzMzMzM\\u002fNVQOF6FK5HUVZAAAAAAAAAVkCF61G4HoVWQGZmZmZm5lZAAAAAAABAV0BI4XoUrndXQAAAAAAAAFhAAAAAAABAV0AAAAAAAIBXQM3MzMzMnFhArkfhehQeWUC4HoXrUfhZQHE9CtejwFlAPQrXo3BNWUAAAAAAAIBZQOF6FK5H4VlAAAAAAABAWkA=\"},\"open\":{\"dtype\":\"f8\",\"bdata\":\"mpmZmZnpYECuR+F6FM5gQAAAAAAAAGJAAAAAAABgYUC4HoXrURhdQAAAAAAAkFpAZmZmZmaGWECamZmZmTlcQB+F61G4\\u002flxAAAAAAAAQXEBmZmZmZmZbQM3MzMzMTFxAMzMzMzMzXEDNzMzMzGxdQClcj8L16FxAFK5H4Xq0XEAfhetRuH5dQJqZmZmZ2VtArkfhehSOXEA9CtejcI1dQAAAAAAA4F5APQrXo3DNXkAAAAAAAKBeQOF6FK5HgV5AKVyPwvW4XkAzMzMzM\\u002fNeQDMzMzMzk19AMzMzMzOjYEBI4XoUrn9gQAAAAAAAsGBAcT0K16M4YEAAAAAAACBgQAAAAAAAiGBAmpmZmZkZYEBSuB6F6xlgQJqZmZmZKWBAAAAAAACgXkCPwvUoXC9eQJqZmZmZWV5AmpmZmZl5XkCuR+F6FL5dQAAAAAAAwFtAKVyPwvX4WkBcj8L1KBxZQGZmZmZmllpAAAAAAABAW0BSuB6F6zFbQM3MzMzM\\u002fFlAAAAAAAAAWUAzMzMzM\\u002fNYQJqZmZmZ+VhAzczMzMx8WUAzMzMzM8NaQAAAAAAAEFtAw\\u002fUoXI\\u002fSW0AAAAAAAGBbQM3MzMzMDFtAmpmZmZn5WkD2KFyPwoVZQIXrUbge1VlAAAAAAAAAWkCPwvUoXG9ZQArXo3A9qldAAAAAAADAV0BxPQrXo2BYQDMzMzMzA1ZACtejcD2aVkApXI\\u002fC9bhTQI\\u002fC9Shc\\u002f1NAAAAAAAAgUUAAAAAAADBRQAAAAAAAIFNAAAAAAAAAU0CuR+F6FC5TQAAAAAAAAFZAH4XrUbg+VkCPwvUoXH9XQM3MzMzMrFhA16NwPQpnV0ApXI\\u002fC9bhYQD0K16NwLVhAAAAAAACgWEAUrkfheoRWQAAAAAAAAFdAFK5H4Xp0VkAAAAAAAABXQGZmZmZm5lZApHA9CtfjV0AAAAAAAKBXQM3MzMzMPFhA4XoUrkcBWECamZmZmZlXQGZmZmZmplhAj8L1KFxfWUDNzMzMzPxaQD0K16NwjVpA16NwPQo3WkAAAAAAACBaQM3MzMzMPFpASOF6FK5HWkA=\"},\"x\":[\"2013-04-28T00:00:00.000000000\",\"2013-04-29T00:00:00.000000000\",\"2013-04-30T00:00:00.000000000\",\"2013-05-01T00:00:00.000000000\",\"2013-05-02T00:00:00.000000000\",\"2013-05-03T00:00:00.000000000\",\"2013-05-04T00:00:00.000000000\",\"2013-05-05T00:00:00.000000000\",\"2013-05-06T00:00:00.000000000\",\"2013-05-07T00:00:00.000000000\",\"2013-05-08T00:00:00.000000000\",\"2013-05-09T00:00:00.000000000\",\"2013-05-10T00:00:00.000000000\",\"2013-05-11T00:00:00.000000000\",\"2013-05-12T00:00:00.000000000\",\"2013-05-13T00:00:00.000000000\",\"2013-05-14T00:00:00.000000000\",\"2013-05-15T00:00:00.000000000\",\"2013-05-16T00:00:00.000000000\",\"2013-05-17T00:00:00.000000000\",\"2013-05-18T00:00:00.000000000\",\"2013-05-19T00:00:00.000000000\",\"2013-05-20T00:00:00.000000000\",\"2013-05-21T00:00:00.000000000\",\"2013-05-22T00:00:00.000000000\",\"2013-05-23T00:00:00.000000000\",\"2013-05-24T00:00:00.000000000\",\"2013-05-25T00:00:00.000000000\",\"2013-05-26T00:00:00.000000000\",\"2013-05-27T00:00:00.000000000\",\"2013-05-28T00:00:00.000000000\",\"2013-05-29T00:00:00.000000000\",\"2013-05-30T00:00:00.000000000\",\"2013-05-31T00:00:00.000000000\",\"2013-06-01T00:00:00.000000000\",\"2013-06-02T00:00:00.000000000\",\"2013-06-03T00:00:00.000000000\",\"2013-06-04T00:00:00.000000000\",\"2013-06-05T00:00:00.000000000\",\"2013-06-06T00:00:00.000000000\",\"2013-06-07T00:00:00.000000000\",\"2013-06-08T00:00:00.000000000\",\"2013-06-09T00:00:00.000000000\",\"2013-06-10T00:00:00.000000000\",\"2013-06-11T00:00:00.000000000\",\"2013-06-12T00:00:00.000000000\",\"2013-06-13T00:00:00.000000000\",\"2013-06-14T00:00:00.000000000\",\"2013-06-15T00:00:00.000000000\",\"2013-06-16T00:00:00.000000000\",\"2013-06-17T00:00:00.000000000\",\"2013-06-18T00:00:00.000000000\",\"2013-06-19T00:00:00.000000000\",\"2013-06-20T00:00:00.000000000\",\"2013-06-21T00:00:00.000000000\",\"2013-06-22T00:00:00.000000000\",\"2013-06-23T00:00:00.000000000\",\"2013-06-24T00:00:00.000000000\",\"2013-06-25T00:00:00.000000000\",\"2013-06-26T00:00:00.000000000\",\"2013-06-27T00:00:00.000000000\",\"2013-06-28T00:00:00.000000000\",\"2013-06-29T00:00:00.000000000\",\"2013-06-30T00:00:00.000000000\",\"2013-07-01T00:00:00.000000000\",\"2013-07-02T00:00:00.000000000\",\"2013-07-03T00:00:00.000000000\",\"2013-07-04T00:00:00.000000000\",\"2013-07-05T00:00:00.000000000\",\"2013-07-06T00:00:00.000000000\",\"2013-07-07T00:00:00.000000000\",\"2013-07-08T00:00:00.000000000\",\"2013-07-09T00:00:00.000000000\",\"2013-07-10T00:00:00.000000000\",\"2013-07-11T00:00:00.000000000\",\"2013-07-12T00:00:00.000000000\",\"2013-07-13T00:00:00.000000000\",\"2013-07-14T00:00:00.000000000\",\"2013-07-15T00:00:00.000000000\",\"2013-07-16T00:00:00.000000000\",\"2013-07-17T00:00:00.000000000\",\"2013-07-18T00:00:00.000000000\",\"2013-07-19T00:00:00.000000000\",\"2013-07-20T00:00:00.000000000\",\"2013-07-21T00:00:00.000000000\",\"2013-07-22T00:00:00.000000000\",\"2013-07-23T00:00:00.000000000\",\"2013-07-24T00:00:00.000000000\",\"2013-07-25T00:00:00.000000000\",\"2013-07-26T00:00:00.000000000\",\"2013-07-27T00:00:00.000000000\",\"2013-07-28T00:00:00.000000000\",\"2013-07-29T00:00:00.000000000\",\"2013-07-30T00:00:00.000000000\",\"2013-07-31T00:00:00.000000000\",\"2013-08-01T00:00:00.000000000\",\"2013-08-02T00:00:00.000000000\",\"2013-08-03T00:00:00.000000000\",\"2013-08-04T00:00:00.000000000\",\"2013-08-05T00:00:00.000000000\"],\"type\":\"candlestick\"}],                        {\"template\":{\"data\":{\"barpolar\":[{\"marker\":{\"line\":{\"color\":\"#E5ECF6\",\"width\":0.5},\"pattern\":{\"fillmode\":\"overlay\",\"size\":10,\"solidity\":0.2}},\"type\":\"barpolar\"}],\"bar\":[{\"error_x\":{\"color\":\"#2a3f5f\"},\"error_y\":{\"color\":\"#2a3f5f\"},\"marker\":{\"line\":{\"color\":\"#E5ECF6\",\"width\":0.5},\"pattern\":{\"fillmode\":\"overlay\",\"size\":10,\"solidity\":0.2}},\"type\":\"bar\"}],\"carpet\":[{\"aaxis\":{\"endlinecolor\":\"#2a3f5f\",\"gridcolor\":\"white\",\"linecolor\":\"white\",\"minorgridcolor\":\"white\",\"startlinecolor\":\"#2a3f5f\"},\"baxis\":{\"endlinecolor\":\"#2a3f5f\",\"gridcolor\":\"white\",\"linecolor\":\"white\",\"minorgridcolor\":\"white\",\"startlinecolor\":\"#2a3f5f\"},\"type\":\"carpet\"}],\"choropleth\":[{\"colorbar\":{\"outlinewidth\":0,\"ticks\":\"\"},\"type\":\"choropleth\"}],\"contourcarpet\":[{\"colorbar\":{\"outlinewidth\":0,\"ticks\":\"\"},\"type\":\"contourcarpet\"}],\"contour\":[{\"colorbar\":{\"outlinewidth\":0,\"ticks\":\"\"},\"colorscale\":[[0.0,\"#0d0887\"],[0.1111111111111111,\"#46039f\"],[0.2222222222222222,\"#7201a8\"],[0.3333333333333333,\"#9c179e\"],[0.4444444444444444,\"#bd3786\"],[0.5555555555555556,\"#d8576b\"],[0.6666666666666666,\"#ed7953\"],[0.7777777777777778,\"#fb9f3a\"],[0.8888888888888888,\"#fdca26\"],[1.0,\"#f0f921\"]],\"type\":\"contour\"}],\"heatmap\":[{\"colorbar\":{\"outlinewidth\":0,\"ticks\":\"\"},\"colorscale\":[[0.0,\"#0d0887\"],[0.1111111111111111,\"#46039f\"],[0.2222222222222222,\"#7201a8\"],[0.3333333333333333,\"#9c179e\"],[0.4444444444444444,\"#bd3786\"],[0.5555555555555556,\"#d8576b\"],[0.6666666666666666,\"#ed7953\"],[0.7777777777777778,\"#fb9f3a\"],[0.8888888888888888,\"#fdca26\"],[1.0,\"#f0f921\"]],\"type\":\"heatmap\"}],\"histogram2dcontour\":[{\"colorbar\":{\"outlinewidth\":0,\"ticks\":\"\"},\"colorscale\":[[0.0,\"#0d0887\"],[0.1111111111111111,\"#46039f\"],[0.2222222222222222,\"#7201a8\"],[0.3333333333333333,\"#9c179e\"],[0.4444444444444444,\"#bd3786\"],[0.5555555555555556,\"#d8576b\"],[0.6666666666666666,\"#ed7953\"],[0.7777777777777778,\"#fb9f3a\"],[0.8888888888888888,\"#fdca26\"],[1.0,\"#f0f921\"]],\"type\":\"histogram2dcontour\"}],\"histogram2d\":[{\"colorbar\":{\"outlinewidth\":0,\"ticks\":\"\"},\"colorscale\":[[0.0,\"#0d0887\"],[0.1111111111111111,\"#46039f\"],[0.2222222222222222,\"#7201a8\"],[0.3333333333333333,\"#9c179e\"],[0.4444444444444444,\"#bd3786\"],[0.5555555555555556,\"#d8576b\"],[0.6666666666666666,\"#ed7953\"],[0.7777777777777778,\"#fb9f3a\"],[0.8888888888888888,\"#fdca26\"],[1.0,\"#f0f921\"]],\"type\":\"histogram2d\"}],\"histogram\":[{\"marker\":{\"pattern\":{\"fillmode\":\"overlay\",\"size\":10,\"solidity\":0.2}},\"type\":\"histogram\"}],\"mesh3d\":[{\"colorbar\":{\"outlinewidth\":0,\"ticks\":\"\"},\"type\":\"mesh3d\"}],\"parcoords\":[{\"line\":{\"colorbar\":{\"outlinewidth\":0,\"ticks\":\"\"}},\"type\":\"parcoords\"}],\"pie\":[{\"automargin\":true,\"type\":\"pie\"}],\"scatter3d\":[{\"line\":{\"colorbar\":{\"outlinewidth\":0,\"ticks\":\"\"}},\"marker\":{\"colorbar\":{\"outlinewidth\":0,\"ticks\":\"\"}},\"type\":\"scatter3d\"}],\"scattercarpet\":[{\"marker\":{\"colorbar\":{\"outlinewidth\":0,\"ticks\":\"\"}},\"type\":\"scattercarpet\"}],\"scattergeo\":[{\"marker\":{\"colorbar\":{\"outlinewidth\":0,\"ticks\":\"\"}},\"type\":\"scattergeo\"}],\"scattergl\":[{\"marker\":{\"colorbar\":{\"outlinewidth\":0,\"ticks\":\"\"}},\"type\":\"scattergl\"}],\"scattermapbox\":[{\"marker\":{\"colorbar\":{\"outlinewidth\":0,\"ticks\":\"\"}},\"type\":\"scattermapbox\"}],\"scattermap\":[{\"marker\":{\"colorbar\":{\"outlinewidth\":0,\"ticks\":\"\"}},\"type\":\"scattermap\"}],\"scatterpolargl\":[{\"marker\":{\"colorbar\":{\"outlinewidth\":0,\"ticks\":\"\"}},\"type\":\"scatterpolargl\"}],\"scatterpolar\":[{\"marker\":{\"colorbar\":{\"outlinewidth\":0,\"ticks\":\"\"}},\"type\":\"scatterpolar\"}],\"scatter\":[{\"fillpattern\":{\"fillmode\":\"overlay\",\"size\":10,\"solidity\":0.2},\"type\":\"scatter\"}],\"scatterternary\":[{\"marker\":{\"colorbar\":{\"outlinewidth\":0,\"ticks\":\"\"}},\"type\":\"scatterternary\"}],\"surface\":[{\"colorbar\":{\"outlinewidth\":0,\"ticks\":\"\"},\"colorscale\":[[0.0,\"#0d0887\"],[0.1111111111111111,\"#46039f\"],[0.2222222222222222,\"#7201a8\"],[0.3333333333333333,\"#9c179e\"],[0.4444444444444444,\"#bd3786\"],[0.5555555555555556,\"#d8576b\"],[0.6666666666666666,\"#ed7953\"],[0.7777777777777778,\"#fb9f3a\"],[0.8888888888888888,\"#fdca26\"],[1.0,\"#f0f921\"]],\"type\":\"surface\"}],\"table\":[{\"cells\":{\"fill\":{\"color\":\"#EBF0F8\"},\"line\":{\"color\":\"white\"}},\"header\":{\"fill\":{\"color\":\"#C8D4E3\"},\"line\":{\"color\":\"white\"}},\"type\":\"table\"}]},\"layout\":{\"annotationdefaults\":{\"arrowcolor\":\"#2a3f5f\",\"arrowhead\":0,\"arrowwidth\":1},\"autotypenumbers\":\"strict\",\"coloraxis\":{\"colorbar\":{\"outlinewidth\":0,\"ticks\":\"\"}},\"colorscale\":{\"diverging\":[[0,\"#8e0152\"],[0.1,\"#c51b7d\"],[0.2,\"#de77ae\"],[0.3,\"#f1b6da\"],[0.4,\"#fde0ef\"],[0.5,\"#f7f7f7\"],[0.6,\"#e6f5d0\"],[0.7,\"#b8e186\"],[0.8,\"#7fbc41\"],[0.9,\"#4d9221\"],[1,\"#276419\"]],\"sequential\":[[0.0,\"#0d0887\"],[0.1111111111111111,\"#46039f\"],[0.2222222222222222,\"#7201a8\"],[0.3333333333333333,\"#9c179e\"],[0.4444444444444444,\"#bd3786\"],[0.5555555555555556,\"#d8576b\"],[0.6666666666666666,\"#ed7953\"],[0.7777777777777778,\"#fb9f3a\"],[0.8888888888888888,\"#fdca26\"],[1.0,\"#f0f921\"]],\"sequentialminus\":[[0.0,\"#0d0887\"],[0.1111111111111111,\"#46039f\"],[0.2222222222222222,\"#7201a8\"],[0.3333333333333333,\"#9c179e\"],[0.4444444444444444,\"#bd3786\"],[0.5555555555555556,\"#d8576b\"],[0.6666666666666666,\"#ed7953\"],[0.7777777777777778,\"#fb9f3a\"],[0.8888888888888888,\"#fdca26\"],[1.0,\"#f0f921\"]]},\"colorway\":[\"#636efa\",\"#EF553B\",\"#00cc96\",\"#ab63fa\",\"#FFA15A\",\"#19d3f3\",\"#FF6692\",\"#B6E880\",\"#FF97FF\",\"#FECB52\"],\"font\":{\"color\":\"#2a3f5f\"},\"geo\":{\"bgcolor\":\"white\",\"lakecolor\":\"white\",\"landcolor\":\"#E5ECF6\",\"showlakes\":true,\"showland\":true,\"subunitcolor\":\"white\"},\"hoverlabel\":{\"align\":\"left\"},\"hovermode\":\"closest\",\"mapbox\":{\"style\":\"light\"},\"paper_bgcolor\":\"white\",\"plot_bgcolor\":\"#E5ECF6\",\"polar\":{\"angularaxis\":{\"gridcolor\":\"white\",\"linecolor\":\"white\",\"ticks\":\"\"},\"bgcolor\":\"#E5ECF6\",\"radialaxis\":{\"gridcolor\":\"white\",\"linecolor\":\"white\",\"ticks\":\"\"}},\"scene\":{\"xaxis\":{\"backgroundcolor\":\"#E5ECF6\",\"gridcolor\":\"white\",\"gridwidth\":2,\"linecolor\":\"white\",\"showbackground\":true,\"ticks\":\"\",\"zerolinecolor\":\"white\"},\"yaxis\":{\"backgroundcolor\":\"#E5ECF6\",\"gridcolor\":\"white\",\"gridwidth\":2,\"linecolor\":\"white\",\"showbackground\":true,\"ticks\":\"\",\"zerolinecolor\":\"white\"},\"zaxis\":{\"backgroundcolor\":\"#E5ECF6\",\"gridcolor\":\"white\",\"gridwidth\":2,\"linecolor\":\"white\",\"showbackground\":true,\"ticks\":\"\",\"zerolinecolor\":\"white\"}},\"shapedefaults\":{\"line\":{\"color\":\"#2a3f5f\"}},\"ternary\":{\"aaxis\":{\"gridcolor\":\"white\",\"linecolor\":\"white\",\"ticks\":\"\"},\"baxis\":{\"gridcolor\":\"white\",\"linecolor\":\"white\",\"ticks\":\"\"},\"bgcolor\":\"#E5ECF6\",\"caxis\":{\"gridcolor\":\"white\",\"linecolor\":\"white\",\"ticks\":\"\"}},\"title\":{\"x\":0.05},\"xaxis\":{\"automargin\":true,\"gridcolor\":\"white\",\"linecolor\":\"white\",\"ticks\":\"\",\"title\":{\"standoff\":15},\"zerolinecolor\":\"white\",\"zerolinewidth\":2},\"yaxis\":{\"automargin\":true,\"gridcolor\":\"white\",\"linecolor\":\"white\",\"ticks\":\"\",\"title\":{\"standoff\":15},\"zerolinecolor\":\"white\",\"zerolinewidth\":2}}}},                        {\"responsive\": true}                    ).then(function(){\n",
       "                            \n",
       "var gd = document.getElementById('9154d1e7-6a89-447f-bdfa-a098dd832d37');\n",
       "var x = new MutationObserver(function (mutations, observer) {{\n",
       "        var display = window.getComputedStyle(gd).display;\n",
       "        if (!display || display === 'none') {{\n",
       "            console.log([gd, 'removed!']);\n",
       "            Plotly.purge(gd);\n",
       "            observer.disconnect();\n",
       "        }}\n",
       "}});\n",
       "\n",
       "// Listen for the removal of the full notebook cells\n",
       "var notebookContainer = gd.closest('#notebook-container');\n",
       "if (notebookContainer) {{\n",
       "    x.observe(notebookContainer, {childList: true});\n",
       "}}\n",
       "\n",
       "// Listen for the clearing of the current output cell\n",
       "var outputEl = gd.closest('.output');\n",
       "if (outputEl) {{\n",
       "    x.observe(outputEl, {childList: true});\n",
       "}}\n",
       "\n",
       "                        })                };            </script>        </div>"
      ]
     },
     "metadata": {},
     "output_type": "display_data"
    },
    {
     "data": {
      "application/vnd.plotly.v1+json": {
       "config": {
        "plotlyServerURL": "https://plot.ly"
       },
       "data": [
        {
         "close": {
          "bdata": "H4XrUbjGYEDhehSuRxFiQAAAAAAAYGFAj8L1KFw/XUA9CtejcE1aQAAAAAAAcFhAAAAAAAAgXEAK16NwPfpcQDMzMzMzE1xAAAAAAADgW0AUrkfhemRcQHsUrkfhKlxAzczMzMxMXUCPwvUoXM9cQAAAAAAAwFxAH4XrUbh+XUAAAAAAAOBbQK5H4XoUjlxAcT0K16OwXUDhehSuR8FeQAAAAAAA4F5Aj8L1KFx/XkAAAAAAAIBeQLgehetRuF5AKVyPwvX4XkDNzMzMzKxfQGZmZmZmpmBAj8L1KFx/YECPwvUoXK9gQAAAAAAAOGBAAAAAAAAgYECamZmZmYlgQJqZmZmZGWBAAAAAAAAgYECamZmZmSlgQMP1KFyPkl5ArkfhehSOXkB7FK5H4VpeQJqZmZmZaV5AAAAAAACAXUAAAAAAAOBbQDMzMzMzE1tAAAAAAAAAWUBmZmZmZpZaQJqZmZmZOVtAmpmZmZkJW0AAAAAAAABaQB+F61G4/lhAj8L1KFz/WEBxPQrXo+BYQM3MzMzMbFlAmpmZmZnZWkAAAAAAABBbQJqZmZmZiVtAAAAAAABgW0AzMzMzMxNbQGZmZmZm5lpAj8L1KFyvWUDNzMzMzPxZQAAAAAAAAFpAXI/C9ShcWUCamZmZmalXQI/C9Shcv1dA16NwPQonWEAzMzMzMwNWQLgehetRiFZAUrgehethU0BSuB6F6yFUQOxRuB6FG1FAUrgeheuRUUCkcD0K16NSQOF6FK5HIVNAXI/C9SgsU0BxPQrXo7BVQB+F61G4PlZA9ihcj8JlV0C4HoXrUYhYQFyPwvUorFdAmpmZmZmZWEDNzMzMzFxYQAAAAAAAoFhAhetRuB6lVkB7FK5H4QpXQClcj8L1WFZAcT0K16OwVkDXo3A9CudWQKRwPQrX41dAcT0K16OgV0CamZmZmTlYQOF6FK5HAVhASOF6FK6HV0BxPQrXo/BYQM3MzMzMTFlAj8L1KFz/WkD2KFyPwoVaQAAAAAAAAFpAAAAAAAAgWkAAAAAAAABaQClcj8L1SFpArkfhehSOWkA=",
          "dtype": "f8"
         },
         "high": {
          "bdata": "j8L1KFz/YEBI4XoUrm9iQPYoXI/CXWJAFK5H4Xp8YUBmZmZmZmZfQLgehetRCFtAAAAAAADAXEAzMzMzM7NdQArXo3A9Kl9AXI/C9ShcXEBSuB6F6/FcQD0K16NwXVxAAAAAAACAXkDsUbgehatdQM3MzMzMXF1AzczMzMysXUAzMzMzM/NdQKRwPQrX81xAcT0K16OwXUAzMzMzM1NfQAAAAAAAUF9AAAAAAAAgX0BI4XoUrudeQAAAAAAAwF5AAAAAAAAAX0DsUbgehbtfQDMzMzMzu2BA16NwPQqnYEAAAAAAAABhQNejcD0K72BAw/UoXI9SYEB7FK5H4ZJgQAAAAAAAiGBAzczMzMw8YEApXI/C9ThgQM3MzMzMLGBAAAAAAACgXkD2KFyPwvVeQK5H4XoU3l5AZmZmZmbGXkAAAAAAAMBdQHsUrkfh2ltAj8L1KFw/W0BmZmZmZoZbQGZmZmZmZltAw/UoXI/yW0AzMzMzM5NbQM3MzMzMLFpAzczMzMzsWUBmZmZmZmZZQD0K16NwjVlA16NwPQrHW0CuR+F6FI5bQDMzMzMzk1xAj8L1KFy/XEA9CtejcH1bQDMzMzMzM1tAhetRuB4VW0CuR+F6FJ5aQI/C9ShcX1pAAAAAAAAAWkCPwvUoXG9ZQI/C9Shc/1hASOF6FK6HWEAK16NwPWpYQDMzMzMzE1dAH4XrUbi+VkDXo3A9CsdUQAAAAAAAAFRAAAAAAADAUkCkcD0K16NSQAAAAAAAAFRAMzMzMzOTU0AAAAAAAMBVQFK4HoXrkVZAAAAAAAAAWkAAAAAAAJBYQM3MzMzMrFhAmpmZmZl5WUDXo3A9CvdYQK5H4XoU/lhAMzMzMzOzWEDNzMzMzMxXQGZmZmZmRldAzczMzMz8VkAAAAAAAABXQBSuR+F6NFhAj8L1KFz/V0CF61G4HlVYQK5H4XoUXlhAAAAAAABAWECF61G4HiVZQAAAAAAAoFlAj8L1KFz/WkD2KFyPwtVbQAAAAAAAAFtAAAAAAAAAW0BSuB6F63FaQM3MzMzMfFpA4XoUrkfxWkA=",
          "dtype": "f8"
         },
         "low": {
          "bdata": "MzMzMzODYEAAAAAAAMBgQJqZmZmZwWBArkfhehTuWkBSuB6F6xFXQGZmZmZmxlNAAAAAAAAgV0ApXI/C9chaQClcj8L1qFpAzczMzMxsWEBmZmZmZmZbQHE9CtejUFtAMzMzMzPjW0BxPQrXo0BcQFyPwvUoXFxAAAAAAACgXEAAAAAAAJBbQAAAAAAA4FlAzczMzMwMXEAUrkfheiRdQDMzMzMzk15AFK5H4XrkXUBI4XoUrgdeQD0K16NwTV5AAAAAAACAXkBmZmZmZsZeQK5H4XoUbl9AzczMzMwcYECkcD0K11NgQM3MzMzMLF9AZmZmZmZmX0AK16NwPepfQAAAAAAAwF9AmpmZmZmZX0DNzMzMzMxfQDMzMzMzw1xAAAAAAAAAXUBmZmZmZsZdQJqZmZmZ+V1AAAAAAABQXUB7FK5H4ZpaQDMzMzMz01pAAAAAAAAgVkAAAAAAAMBXQAAAAAAAAFpAH4XrUbiuWkBSuB6F6yFZQAAAAAAAgFhAAAAAAACAWEDNzMzMzLxYQAAAAAAAwFhAUrgehetBWUAAAAAAAHBaQAAAAAAA4FpAXI/C9SjsWkBxPQrXo+BaQB+F61G4jlpAH4XrUbg+WUBxPQrXo0BZQMP1KFyPsllAZmZmZmZGWUCF61G4HhVXQAAAAAAAQFdArkfhehSOV0AzMzMzM5NVQHE9Ctej4FVAH4XrUbg+U0AAAAAAAABSQFK4HoXrYVBAFK5H4Xq0UEBI4XoUrqdQQGZmZmZmJlJA4XoUrkchUkDNzMzMzAxTQIXrUbgeRVVAexSuR+EKVkCkcD0K1wNWQNejcD0KN1dA16NwPQpHV0ApXI/C9QhYQOxRuB6FC1hAzczMzMyMVUAzMzMzM/NVQOF6FK5HUVZAAAAAAAAAVkCF61G4HoVWQGZmZmZm5lZAAAAAAABAV0BI4XoUrndXQAAAAAAAAFhAAAAAAABAV0AAAAAAAIBXQM3MzMzMnFhArkfhehQeWUC4HoXrUfhZQHE9CtejwFlAPQrXo3BNWUAAAAAAAIBZQOF6FK5H4VlAAAAAAABAWkA=",
          "dtype": "f8"
         },
         "open": {
          "bdata": "mpmZmZnpYECuR+F6FM5gQAAAAAAAAGJAAAAAAABgYUC4HoXrURhdQAAAAAAAkFpAZmZmZmaGWECamZmZmTlcQB+F61G4/lxAAAAAAAAQXEBmZmZmZmZbQM3MzMzMTFxAMzMzMzMzXEDNzMzMzGxdQClcj8L16FxAFK5H4Xq0XEAfhetRuH5dQJqZmZmZ2VtArkfhehSOXEA9CtejcI1dQAAAAAAA4F5APQrXo3DNXkAAAAAAAKBeQOF6FK5HgV5AKVyPwvW4XkAzMzMzM/NeQDMzMzMzk19AMzMzMzOjYEBI4XoUrn9gQAAAAAAAsGBAcT0K16M4YEAAAAAAACBgQAAAAAAAiGBAmpmZmZkZYEBSuB6F6xlgQJqZmZmZKWBAAAAAAACgXkCPwvUoXC9eQJqZmZmZWV5AmpmZmZl5XkCuR+F6FL5dQAAAAAAAwFtAKVyPwvX4WkBcj8L1KBxZQGZmZmZmllpAAAAAAABAW0BSuB6F6zFbQM3MzMzM/FlAAAAAAAAAWUAzMzMzM/NYQJqZmZmZ+VhAzczMzMx8WUAzMzMzM8NaQAAAAAAAEFtAw/UoXI/SW0AAAAAAAGBbQM3MzMzMDFtAmpmZmZn5WkD2KFyPwoVZQIXrUbge1VlAAAAAAAAAWkCPwvUoXG9ZQArXo3A9qldAAAAAAADAV0BxPQrXo2BYQDMzMzMzA1ZACtejcD2aVkApXI/C9bhTQI/C9Shc/1NAAAAAAAAgUUAAAAAAADBRQAAAAAAAIFNAAAAAAAAAU0CuR+F6FC5TQAAAAAAAAFZAH4XrUbg+VkCPwvUoXH9XQM3MzMzMrFhA16NwPQpnV0ApXI/C9bhYQD0K16NwLVhAAAAAAACgWEAUrkfheoRWQAAAAAAAAFdAFK5H4Xp0VkAAAAAAAABXQGZmZmZm5lZApHA9CtfjV0AAAAAAAKBXQM3MzMzMPFhA4XoUrkcBWECamZmZmZlXQGZmZmZmplhAj8L1KFxfWUDNzMzMzPxaQD0K16NwjVpA16NwPQo3WkAAAAAAACBaQM3MzMzMPFpASOF6FK5HWkA=",
          "dtype": "f8"
         },
         "type": "candlestick",
         "x": [
          "2013-04-28T00:00:00.000000000",
          "2013-04-29T00:00:00.000000000",
          "2013-04-30T00:00:00.000000000",
          "2013-05-01T00:00:00.000000000",
          "2013-05-02T00:00:00.000000000",
          "2013-05-03T00:00:00.000000000",
          "2013-05-04T00:00:00.000000000",
          "2013-05-05T00:00:00.000000000",
          "2013-05-06T00:00:00.000000000",
          "2013-05-07T00:00:00.000000000",
          "2013-05-08T00:00:00.000000000",
          "2013-05-09T00:00:00.000000000",
          "2013-05-10T00:00:00.000000000",
          "2013-05-11T00:00:00.000000000",
          "2013-05-12T00:00:00.000000000",
          "2013-05-13T00:00:00.000000000",
          "2013-05-14T00:00:00.000000000",
          "2013-05-15T00:00:00.000000000",
          "2013-05-16T00:00:00.000000000",
          "2013-05-17T00:00:00.000000000",
          "2013-05-18T00:00:00.000000000",
          "2013-05-19T00:00:00.000000000",
          "2013-05-20T00:00:00.000000000",
          "2013-05-21T00:00:00.000000000",
          "2013-05-22T00:00:00.000000000",
          "2013-05-23T00:00:00.000000000",
          "2013-05-24T00:00:00.000000000",
          "2013-05-25T00:00:00.000000000",
          "2013-05-26T00:00:00.000000000",
          "2013-05-27T00:00:00.000000000",
          "2013-05-28T00:00:00.000000000",
          "2013-05-29T00:00:00.000000000",
          "2013-05-30T00:00:00.000000000",
          "2013-05-31T00:00:00.000000000",
          "2013-06-01T00:00:00.000000000",
          "2013-06-02T00:00:00.000000000",
          "2013-06-03T00:00:00.000000000",
          "2013-06-04T00:00:00.000000000",
          "2013-06-05T00:00:00.000000000",
          "2013-06-06T00:00:00.000000000",
          "2013-06-07T00:00:00.000000000",
          "2013-06-08T00:00:00.000000000",
          "2013-06-09T00:00:00.000000000",
          "2013-06-10T00:00:00.000000000",
          "2013-06-11T00:00:00.000000000",
          "2013-06-12T00:00:00.000000000",
          "2013-06-13T00:00:00.000000000",
          "2013-06-14T00:00:00.000000000",
          "2013-06-15T00:00:00.000000000",
          "2013-06-16T00:00:00.000000000",
          "2013-06-17T00:00:00.000000000",
          "2013-06-18T00:00:00.000000000",
          "2013-06-19T00:00:00.000000000",
          "2013-06-20T00:00:00.000000000",
          "2013-06-21T00:00:00.000000000",
          "2013-06-22T00:00:00.000000000",
          "2013-06-23T00:00:00.000000000",
          "2013-06-24T00:00:00.000000000",
          "2013-06-25T00:00:00.000000000",
          "2013-06-26T00:00:00.000000000",
          "2013-06-27T00:00:00.000000000",
          "2013-06-28T00:00:00.000000000",
          "2013-06-29T00:00:00.000000000",
          "2013-06-30T00:00:00.000000000",
          "2013-07-01T00:00:00.000000000",
          "2013-07-02T00:00:00.000000000",
          "2013-07-03T00:00:00.000000000",
          "2013-07-04T00:00:00.000000000",
          "2013-07-05T00:00:00.000000000",
          "2013-07-06T00:00:00.000000000",
          "2013-07-07T00:00:00.000000000",
          "2013-07-08T00:00:00.000000000",
          "2013-07-09T00:00:00.000000000",
          "2013-07-10T00:00:00.000000000",
          "2013-07-11T00:00:00.000000000",
          "2013-07-12T00:00:00.000000000",
          "2013-07-13T00:00:00.000000000",
          "2013-07-14T00:00:00.000000000",
          "2013-07-15T00:00:00.000000000",
          "2013-07-16T00:00:00.000000000",
          "2013-07-17T00:00:00.000000000",
          "2013-07-18T00:00:00.000000000",
          "2013-07-19T00:00:00.000000000",
          "2013-07-20T00:00:00.000000000",
          "2013-07-21T00:00:00.000000000",
          "2013-07-22T00:00:00.000000000",
          "2013-07-23T00:00:00.000000000",
          "2013-07-24T00:00:00.000000000",
          "2013-07-25T00:00:00.000000000",
          "2013-07-26T00:00:00.000000000",
          "2013-07-27T00:00:00.000000000",
          "2013-07-28T00:00:00.000000000",
          "2013-07-29T00:00:00.000000000",
          "2013-07-30T00:00:00.000000000",
          "2013-07-31T00:00:00.000000000",
          "2013-08-01T00:00:00.000000000",
          "2013-08-02T00:00:00.000000000",
          "2013-08-03T00:00:00.000000000",
          "2013-08-04T00:00:00.000000000",
          "2013-08-05T00:00:00.000000000"
         ]
        }
       ],
       "layout": {
        "template": {
         "data": {
          "bar": [
           {
            "error_x": {
             "color": "#2a3f5f"
            },
            "error_y": {
             "color": "#2a3f5f"
            },
            "marker": {
             "line": {
              "color": "#E5ECF6",
              "width": 0.5
             },
             "pattern": {
              "fillmode": "overlay",
              "size": 10,
              "solidity": 0.2
             }
            },
            "type": "bar"
           }
          ],
          "barpolar": [
           {
            "marker": {
             "line": {
              "color": "#E5ECF6",
              "width": 0.5
             },
             "pattern": {
              "fillmode": "overlay",
              "size": 10,
              "solidity": 0.2
             }
            },
            "type": "barpolar"
           }
          ],
          "carpet": [
           {
            "aaxis": {
             "endlinecolor": "#2a3f5f",
             "gridcolor": "white",
             "linecolor": "white",
             "minorgridcolor": "white",
             "startlinecolor": "#2a3f5f"
            },
            "baxis": {
             "endlinecolor": "#2a3f5f",
             "gridcolor": "white",
             "linecolor": "white",
             "minorgridcolor": "white",
             "startlinecolor": "#2a3f5f"
            },
            "type": "carpet"
           }
          ],
          "choropleth": [
           {
            "colorbar": {
             "outlinewidth": 0,
             "ticks": ""
            },
            "type": "choropleth"
           }
          ],
          "contour": [
           {
            "colorbar": {
             "outlinewidth": 0,
             "ticks": ""
            },
            "colorscale": [
             [
              0,
              "#0d0887"
             ],
             [
              0.1111111111111111,
              "#46039f"
             ],
             [
              0.2222222222222222,
              "#7201a8"
             ],
             [
              0.3333333333333333,
              "#9c179e"
             ],
             [
              0.4444444444444444,
              "#bd3786"
             ],
             [
              0.5555555555555556,
              "#d8576b"
             ],
             [
              0.6666666666666666,
              "#ed7953"
             ],
             [
              0.7777777777777778,
              "#fb9f3a"
             ],
             [
              0.8888888888888888,
              "#fdca26"
             ],
             [
              1,
              "#f0f921"
             ]
            ],
            "type": "contour"
           }
          ],
          "contourcarpet": [
           {
            "colorbar": {
             "outlinewidth": 0,
             "ticks": ""
            },
            "type": "contourcarpet"
           }
          ],
          "heatmap": [
           {
            "colorbar": {
             "outlinewidth": 0,
             "ticks": ""
            },
            "colorscale": [
             [
              0,
              "#0d0887"
             ],
             [
              0.1111111111111111,
              "#46039f"
             ],
             [
              0.2222222222222222,
              "#7201a8"
             ],
             [
              0.3333333333333333,
              "#9c179e"
             ],
             [
              0.4444444444444444,
              "#bd3786"
             ],
             [
              0.5555555555555556,
              "#d8576b"
             ],
             [
              0.6666666666666666,
              "#ed7953"
             ],
             [
              0.7777777777777778,
              "#fb9f3a"
             ],
             [
              0.8888888888888888,
              "#fdca26"
             ],
             [
              1,
              "#f0f921"
             ]
            ],
            "type": "heatmap"
           }
          ],
          "histogram": [
           {
            "marker": {
             "pattern": {
              "fillmode": "overlay",
              "size": 10,
              "solidity": 0.2
             }
            },
            "type": "histogram"
           }
          ],
          "histogram2d": [
           {
            "colorbar": {
             "outlinewidth": 0,
             "ticks": ""
            },
            "colorscale": [
             [
              0,
              "#0d0887"
             ],
             [
              0.1111111111111111,
              "#46039f"
             ],
             [
              0.2222222222222222,
              "#7201a8"
             ],
             [
              0.3333333333333333,
              "#9c179e"
             ],
             [
              0.4444444444444444,
              "#bd3786"
             ],
             [
              0.5555555555555556,
              "#d8576b"
             ],
             [
              0.6666666666666666,
              "#ed7953"
             ],
             [
              0.7777777777777778,
              "#fb9f3a"
             ],
             [
              0.8888888888888888,
              "#fdca26"
             ],
             [
              1,
              "#f0f921"
             ]
            ],
            "type": "histogram2d"
           }
          ],
          "histogram2dcontour": [
           {
            "colorbar": {
             "outlinewidth": 0,
             "ticks": ""
            },
            "colorscale": [
             [
              0,
              "#0d0887"
             ],
             [
              0.1111111111111111,
              "#46039f"
             ],
             [
              0.2222222222222222,
              "#7201a8"
             ],
             [
              0.3333333333333333,
              "#9c179e"
             ],
             [
              0.4444444444444444,
              "#bd3786"
             ],
             [
              0.5555555555555556,
              "#d8576b"
             ],
             [
              0.6666666666666666,
              "#ed7953"
             ],
             [
              0.7777777777777778,
              "#fb9f3a"
             ],
             [
              0.8888888888888888,
              "#fdca26"
             ],
             [
              1,
              "#f0f921"
             ]
            ],
            "type": "histogram2dcontour"
           }
          ],
          "mesh3d": [
           {
            "colorbar": {
             "outlinewidth": 0,
             "ticks": ""
            },
            "type": "mesh3d"
           }
          ],
          "parcoords": [
           {
            "line": {
             "colorbar": {
              "outlinewidth": 0,
              "ticks": ""
             }
            },
            "type": "parcoords"
           }
          ],
          "pie": [
           {
            "automargin": true,
            "type": "pie"
           }
          ],
          "scatter": [
           {
            "fillpattern": {
             "fillmode": "overlay",
             "size": 10,
             "solidity": 0.2
            },
            "type": "scatter"
           }
          ],
          "scatter3d": [
           {
            "line": {
             "colorbar": {
              "outlinewidth": 0,
              "ticks": ""
             }
            },
            "marker": {
             "colorbar": {
              "outlinewidth": 0,
              "ticks": ""
             }
            },
            "type": "scatter3d"
           }
          ],
          "scattercarpet": [
           {
            "marker": {
             "colorbar": {
              "outlinewidth": 0,
              "ticks": ""
             }
            },
            "type": "scattercarpet"
           }
          ],
          "scattergeo": [
           {
            "marker": {
             "colorbar": {
              "outlinewidth": 0,
              "ticks": ""
             }
            },
            "type": "scattergeo"
           }
          ],
          "scattergl": [
           {
            "marker": {
             "colorbar": {
              "outlinewidth": 0,
              "ticks": ""
             }
            },
            "type": "scattergl"
           }
          ],
          "scattermap": [
           {
            "marker": {
             "colorbar": {
              "outlinewidth": 0,
              "ticks": ""
             }
            },
            "type": "scattermap"
           }
          ],
          "scattermapbox": [
           {
            "marker": {
             "colorbar": {
              "outlinewidth": 0,
              "ticks": ""
             }
            },
            "type": "scattermapbox"
           }
          ],
          "scatterpolar": [
           {
            "marker": {
             "colorbar": {
              "outlinewidth": 0,
              "ticks": ""
             }
            },
            "type": "scatterpolar"
           }
          ],
          "scatterpolargl": [
           {
            "marker": {
             "colorbar": {
              "outlinewidth": 0,
              "ticks": ""
             }
            },
            "type": "scatterpolargl"
           }
          ],
          "scatterternary": [
           {
            "marker": {
             "colorbar": {
              "outlinewidth": 0,
              "ticks": ""
             }
            },
            "type": "scatterternary"
           }
          ],
          "surface": [
           {
            "colorbar": {
             "outlinewidth": 0,
             "ticks": ""
            },
            "colorscale": [
             [
              0,
              "#0d0887"
             ],
             [
              0.1111111111111111,
              "#46039f"
             ],
             [
              0.2222222222222222,
              "#7201a8"
             ],
             [
              0.3333333333333333,
              "#9c179e"
             ],
             [
              0.4444444444444444,
              "#bd3786"
             ],
             [
              0.5555555555555556,
              "#d8576b"
             ],
             [
              0.6666666666666666,
              "#ed7953"
             ],
             [
              0.7777777777777778,
              "#fb9f3a"
             ],
             [
              0.8888888888888888,
              "#fdca26"
             ],
             [
              1,
              "#f0f921"
             ]
            ],
            "type": "surface"
           }
          ],
          "table": [
           {
            "cells": {
             "fill": {
              "color": "#EBF0F8"
             },
             "line": {
              "color": "white"
             }
            },
            "header": {
             "fill": {
              "color": "#C8D4E3"
             },
             "line": {
              "color": "white"
             }
            },
            "type": "table"
           }
          ]
         },
         "layout": {
          "annotationdefaults": {
           "arrowcolor": "#2a3f5f",
           "arrowhead": 0,
           "arrowwidth": 1
          },
          "autotypenumbers": "strict",
          "coloraxis": {
           "colorbar": {
            "outlinewidth": 0,
            "ticks": ""
           }
          },
          "colorscale": {
           "diverging": [
            [
             0,
             "#8e0152"
            ],
            [
             0.1,
             "#c51b7d"
            ],
            [
             0.2,
             "#de77ae"
            ],
            [
             0.3,
             "#f1b6da"
            ],
            [
             0.4,
             "#fde0ef"
            ],
            [
             0.5,
             "#f7f7f7"
            ],
            [
             0.6,
             "#e6f5d0"
            ],
            [
             0.7,
             "#b8e186"
            ],
            [
             0.8,
             "#7fbc41"
            ],
            [
             0.9,
             "#4d9221"
            ],
            [
             1,
             "#276419"
            ]
           ],
           "sequential": [
            [
             0,
             "#0d0887"
            ],
            [
             0.1111111111111111,
             "#46039f"
            ],
            [
             0.2222222222222222,
             "#7201a8"
            ],
            [
             0.3333333333333333,
             "#9c179e"
            ],
            [
             0.4444444444444444,
             "#bd3786"
            ],
            [
             0.5555555555555556,
             "#d8576b"
            ],
            [
             0.6666666666666666,
             "#ed7953"
            ],
            [
             0.7777777777777778,
             "#fb9f3a"
            ],
            [
             0.8888888888888888,
             "#fdca26"
            ],
            [
             1,
             "#f0f921"
            ]
           ],
           "sequentialminus": [
            [
             0,
             "#0d0887"
            ],
            [
             0.1111111111111111,
             "#46039f"
            ],
            [
             0.2222222222222222,
             "#7201a8"
            ],
            [
             0.3333333333333333,
             "#9c179e"
            ],
            [
             0.4444444444444444,
             "#bd3786"
            ],
            [
             0.5555555555555556,
             "#d8576b"
            ],
            [
             0.6666666666666666,
             "#ed7953"
            ],
            [
             0.7777777777777778,
             "#fb9f3a"
            ],
            [
             0.8888888888888888,
             "#fdca26"
            ],
            [
             1,
             "#f0f921"
            ]
           ]
          },
          "colorway": [
           "#636efa",
           "#EF553B",
           "#00cc96",
           "#ab63fa",
           "#FFA15A",
           "#19d3f3",
           "#FF6692",
           "#B6E880",
           "#FF97FF",
           "#FECB52"
          ],
          "font": {
           "color": "#2a3f5f"
          },
          "geo": {
           "bgcolor": "white",
           "lakecolor": "white",
           "landcolor": "#E5ECF6",
           "showlakes": true,
           "showland": true,
           "subunitcolor": "white"
          },
          "hoverlabel": {
           "align": "left"
          },
          "hovermode": "closest",
          "mapbox": {
           "style": "light"
          },
          "paper_bgcolor": "white",
          "plot_bgcolor": "#E5ECF6",
          "polar": {
           "angularaxis": {
            "gridcolor": "white",
            "linecolor": "white",
            "ticks": ""
           },
           "bgcolor": "#E5ECF6",
           "radialaxis": {
            "gridcolor": "white",
            "linecolor": "white",
            "ticks": ""
           }
          },
          "scene": {
           "xaxis": {
            "backgroundcolor": "#E5ECF6",
            "gridcolor": "white",
            "gridwidth": 2,
            "linecolor": "white",
            "showbackground": true,
            "ticks": "",
            "zerolinecolor": "white"
           },
           "yaxis": {
            "backgroundcolor": "#E5ECF6",
            "gridcolor": "white",
            "gridwidth": 2,
            "linecolor": "white",
            "showbackground": true,
            "ticks": "",
            "zerolinecolor": "white"
           },
           "zaxis": {
            "backgroundcolor": "#E5ECF6",
            "gridcolor": "white",
            "gridwidth": 2,
            "linecolor": "white",
            "showbackground": true,
            "ticks": "",
            "zerolinecolor": "white"
           }
          },
          "shapedefaults": {
           "line": {
            "color": "#2a3f5f"
           }
          },
          "ternary": {
           "aaxis": {
            "gridcolor": "white",
            "linecolor": "white",
            "ticks": ""
           },
           "baxis": {
            "gridcolor": "white",
            "linecolor": "white",
            "ticks": ""
           },
           "bgcolor": "#E5ECF6",
           "caxis": {
            "gridcolor": "white",
            "linecolor": "white",
            "ticks": ""
           }
          },
          "title": {
           "x": 0.05
          },
          "xaxis": {
           "automargin": true,
           "gridcolor": "white",
           "linecolor": "white",
           "ticks": "",
           "title": {
            "standoff": 15
           },
           "zerolinecolor": "white",
           "zerolinewidth": 2
          },
          "yaxis": {
           "automargin": true,
           "gridcolor": "white",
           "linecolor": "white",
           "ticks": "",
           "title": {
            "standoff": 15
           },
           "zerolinecolor": "white",
           "zerolinewidth": 2
          }
         }
        },
        "title": {
         "text": "Bitcoin Price Analysis"
        },
        "xaxis": {
         "rangeslider": {
          "visible": false
         },
         "title": {
          "text": "Date"
         }
        },
        "yaxis": {
         "title": {
          "text": "Price (in USD)"
         }
        }
       }
      },
      "text/html": [
       "<div>            <script src=\"https://cdnjs.cloudflare.com/ajax/libs/mathjax/2.7.5/MathJax.js?config=TeX-AMS-MML_SVG\"></script><script type=\"text/javascript\">if (window.MathJax && window.MathJax.Hub && window.MathJax.Hub.Config) {window.MathJax.Hub.Config({SVG: {font: \"STIX-Web\"}});}</script>                <script type=\"text/javascript\">window.PlotlyConfig = {MathJaxConfig: 'local'};</script>\n",
       "        <script charset=\"utf-8\" src=\"https://cdn.plot.ly/plotly-3.1.0.min.js\" integrity=\"sha256-Ei4740bWZhaUTQuD6q9yQlgVCMPBz6CZWhevDYPv93A=\" crossorigin=\"anonymous\"></script>                <div id=\"736b7dc2-1e3f-4d0d-8450-dc4d2912a7c5\" class=\"plotly-graph-div\" style=\"height:525px; width:100%;\"></div>            <script type=\"text/javascript\">                window.PLOTLYENV=window.PLOTLYENV || {};                                if (document.getElementById(\"736b7dc2-1e3f-4d0d-8450-dc4d2912a7c5\")) {                    Plotly.newPlot(                        \"736b7dc2-1e3f-4d0d-8450-dc4d2912a7c5\",                        [{\"close\":{\"dtype\":\"f8\",\"bdata\":\"H4XrUbjGYEDhehSuRxFiQAAAAAAAYGFAj8L1KFw\\u002fXUA9CtejcE1aQAAAAAAAcFhAAAAAAAAgXEAK16NwPfpcQDMzMzMzE1xAAAAAAADgW0AUrkfhemRcQHsUrkfhKlxAzczMzMxMXUCPwvUoXM9cQAAAAAAAwFxAH4XrUbh+XUAAAAAAAOBbQK5H4XoUjlxAcT0K16OwXUDhehSuR8FeQAAAAAAA4F5Aj8L1KFx\\u002fXkAAAAAAAIBeQLgehetRuF5AKVyPwvX4XkDNzMzMzKxfQGZmZmZmpmBAj8L1KFx\\u002fYECPwvUoXK9gQAAAAAAAOGBAAAAAAAAgYECamZmZmYlgQJqZmZmZGWBAAAAAAAAgYECamZmZmSlgQMP1KFyPkl5ArkfhehSOXkB7FK5H4VpeQJqZmZmZaV5AAAAAAACAXUAAAAAAAOBbQDMzMzMzE1tAAAAAAAAAWUBmZmZmZpZaQJqZmZmZOVtAmpmZmZkJW0AAAAAAAABaQB+F61G4\\u002flhAj8L1KFz\\u002fWEBxPQrXo+BYQM3MzMzMbFlAmpmZmZnZWkAAAAAAABBbQJqZmZmZiVtAAAAAAABgW0AzMzMzMxNbQGZmZmZm5lpAj8L1KFyvWUDNzMzMzPxZQAAAAAAAAFpAXI\\u002fC9ShcWUCamZmZmalXQI\\u002fC9Shcv1dA16NwPQonWEAzMzMzMwNWQLgehetRiFZAUrgehethU0BSuB6F6yFUQOxRuB6FG1FAUrgeheuRUUCkcD0K16NSQOF6FK5HIVNAXI\\u002fC9SgsU0BxPQrXo7BVQB+F61G4PlZA9ihcj8JlV0C4HoXrUYhYQFyPwvUorFdAmpmZmZmZWEDNzMzMzFxYQAAAAAAAoFhAhetRuB6lVkB7FK5H4QpXQClcj8L1WFZAcT0K16OwVkDXo3A9CudWQKRwPQrX41dAcT0K16OgV0CamZmZmTlYQOF6FK5HAVhASOF6FK6HV0BxPQrXo\\u002fBYQM3MzMzMTFlAj8L1KFz\\u002fWkD2KFyPwoVaQAAAAAAAAFpAAAAAAAAgWkAAAAAAAABaQClcj8L1SFpArkfhehSOWkA=\"},\"high\":{\"dtype\":\"f8\",\"bdata\":\"j8L1KFz\\u002fYEBI4XoUrm9iQPYoXI\\u002fCXWJAFK5H4Xp8YUBmZmZmZmZfQLgehetRCFtAAAAAAADAXEAzMzMzM7NdQArXo3A9Kl9AXI\\u002fC9ShcXEBSuB6F6\\u002fFcQD0K16NwXVxAAAAAAACAXkDsUbgehatdQM3MzMzMXF1AzczMzMysXUAzMzMzM\\u002fNdQKRwPQrX81xAcT0K16OwXUAzMzMzM1NfQAAAAAAAUF9AAAAAAAAgX0BI4XoUrudeQAAAAAAAwF5AAAAAAAAAX0DsUbgehbtfQDMzMzMzu2BA16NwPQqnYEAAAAAAAABhQNejcD0K72BAw\\u002fUoXI9SYEB7FK5H4ZJgQAAAAAAAiGBAzczMzMw8YEApXI\\u002fC9ThgQM3MzMzMLGBAAAAAAACgXkD2KFyPwvVeQK5H4XoU3l5AZmZmZmbGXkAAAAAAAMBdQHsUrkfh2ltAj8L1KFw\\u002fW0BmZmZmZoZbQGZmZmZmZltAw\\u002fUoXI\\u002fyW0AzMzMzM5NbQM3MzMzMLFpAzczMzMzsWUBmZmZmZmZZQD0K16NwjVlA16NwPQrHW0CuR+F6FI5bQDMzMzMzk1xAj8L1KFy\\u002fXEA9CtejcH1bQDMzMzMzM1tAhetRuB4VW0CuR+F6FJ5aQI\\u002fC9ShcX1pAAAAAAAAAWkCPwvUoXG9ZQI\\u002fC9Shc\\u002f1hASOF6FK6HWEAK16NwPWpYQDMzMzMzE1dAH4XrUbi+VkDXo3A9CsdUQAAAAAAAAFRAAAAAAADAUkCkcD0K16NSQAAAAAAAAFRAMzMzMzOTU0AAAAAAAMBVQFK4HoXrkVZAAAAAAAAAWkAAAAAAAJBYQM3MzMzMrFhAmpmZmZl5WUDXo3A9CvdYQK5H4XoU\\u002flhAMzMzMzOzWEDNzMzMzMxXQGZmZmZmRldAzczMzMz8VkAAAAAAAABXQBSuR+F6NFhAj8L1KFz\\u002fV0CF61G4HlVYQK5H4XoUXlhAAAAAAABAWECF61G4HiVZQAAAAAAAoFlAj8L1KFz\\u002fWkD2KFyPwtVbQAAAAAAAAFtAAAAAAAAAW0BSuB6F63FaQM3MzMzMfFpA4XoUrkfxWkA=\"},\"low\":{\"dtype\":\"f8\",\"bdata\":\"MzMzMzODYEAAAAAAAMBgQJqZmZmZwWBArkfhehTuWkBSuB6F6xFXQGZmZmZmxlNAAAAAAAAgV0ApXI\\u002fC9chaQClcj8L1qFpAzczMzMxsWEBmZmZmZmZbQHE9CtejUFtAMzMzMzPjW0BxPQrXo0BcQFyPwvUoXFxAAAAAAACgXEAAAAAAAJBbQAAAAAAA4FlAzczMzMwMXEAUrkfheiRdQDMzMzMzk15AFK5H4XrkXUBI4XoUrgdeQD0K16NwTV5AAAAAAACAXkBmZmZmZsZeQK5H4XoUbl9AzczMzMwcYECkcD0K11NgQM3MzMzMLF9AZmZmZmZmX0AK16NwPepfQAAAAAAAwF9AmpmZmZmZX0DNzMzMzMxfQDMzMzMzw1xAAAAAAAAAXUBmZmZmZsZdQJqZmZmZ+V1AAAAAAABQXUB7FK5H4ZpaQDMzMzMz01pAAAAAAAAgVkAAAAAAAMBXQAAAAAAAAFpAH4XrUbiuWkBSuB6F6yFZQAAAAAAAgFhAAAAAAACAWEDNzMzMzLxYQAAAAAAAwFhAUrgehetBWUAAAAAAAHBaQAAAAAAA4FpAXI\\u002fC9SjsWkBxPQrXo+BaQB+F61G4jlpAH4XrUbg+WUBxPQrXo0BZQMP1KFyPsllAZmZmZmZGWUCF61G4HhVXQAAAAAAAQFdArkfhehSOV0AzMzMzM5NVQHE9Ctej4FVAH4XrUbg+U0AAAAAAAABSQFK4HoXrYVBAFK5H4Xq0UEBI4XoUrqdQQGZmZmZmJlJA4XoUrkchUkDNzMzMzAxTQIXrUbgeRVVAexSuR+EKVkCkcD0K1wNWQNejcD0KN1dA16NwPQpHV0ApXI\\u002fC9QhYQOxRuB6FC1hAzczMzMyMVUAzMzMzM\\u002fNVQOF6FK5HUVZAAAAAAAAAVkCF61G4HoVWQGZmZmZm5lZAAAAAAABAV0BI4XoUrndXQAAAAAAAAFhAAAAAAABAV0AAAAAAAIBXQM3MzMzMnFhArkfhehQeWUC4HoXrUfhZQHE9CtejwFlAPQrXo3BNWUAAAAAAAIBZQOF6FK5H4VlAAAAAAABAWkA=\"},\"open\":{\"dtype\":\"f8\",\"bdata\":\"mpmZmZnpYECuR+F6FM5gQAAAAAAAAGJAAAAAAABgYUC4HoXrURhdQAAAAAAAkFpAZmZmZmaGWECamZmZmTlcQB+F61G4\\u002flxAAAAAAAAQXEBmZmZmZmZbQM3MzMzMTFxAMzMzMzMzXEDNzMzMzGxdQClcj8L16FxAFK5H4Xq0XEAfhetRuH5dQJqZmZmZ2VtArkfhehSOXEA9CtejcI1dQAAAAAAA4F5APQrXo3DNXkAAAAAAAKBeQOF6FK5HgV5AKVyPwvW4XkAzMzMzM\\u002fNeQDMzMzMzk19AMzMzMzOjYEBI4XoUrn9gQAAAAAAAsGBAcT0K16M4YEAAAAAAACBgQAAAAAAAiGBAmpmZmZkZYEBSuB6F6xlgQJqZmZmZKWBAAAAAAACgXkCPwvUoXC9eQJqZmZmZWV5AmpmZmZl5XkCuR+F6FL5dQAAAAAAAwFtAKVyPwvX4WkBcj8L1KBxZQGZmZmZmllpAAAAAAABAW0BSuB6F6zFbQM3MzMzM\\u002fFlAAAAAAAAAWUAzMzMzM\\u002fNYQJqZmZmZ+VhAzczMzMx8WUAzMzMzM8NaQAAAAAAAEFtAw\\u002fUoXI\\u002fSW0AAAAAAAGBbQM3MzMzMDFtAmpmZmZn5WkD2KFyPwoVZQIXrUbge1VlAAAAAAAAAWkCPwvUoXG9ZQArXo3A9qldAAAAAAADAV0BxPQrXo2BYQDMzMzMzA1ZACtejcD2aVkApXI\\u002fC9bhTQI\\u002fC9Shc\\u002f1NAAAAAAAAgUUAAAAAAADBRQAAAAAAAIFNAAAAAAAAAU0CuR+F6FC5TQAAAAAAAAFZAH4XrUbg+VkCPwvUoXH9XQM3MzMzMrFhA16NwPQpnV0ApXI\\u002fC9bhYQD0K16NwLVhAAAAAAACgWEAUrkfheoRWQAAAAAAAAFdAFK5H4Xp0VkAAAAAAAABXQGZmZmZm5lZApHA9CtfjV0AAAAAAAKBXQM3MzMzMPFhA4XoUrkcBWECamZmZmZlXQGZmZmZmplhAj8L1KFxfWUDNzMzMzPxaQD0K16NwjVpA16NwPQo3WkAAAAAAACBaQM3MzMzMPFpASOF6FK5HWkA=\"},\"x\":[\"2013-04-28T00:00:00.000000000\",\"2013-04-29T00:00:00.000000000\",\"2013-04-30T00:00:00.000000000\",\"2013-05-01T00:00:00.000000000\",\"2013-05-02T00:00:00.000000000\",\"2013-05-03T00:00:00.000000000\",\"2013-05-04T00:00:00.000000000\",\"2013-05-05T00:00:00.000000000\",\"2013-05-06T00:00:00.000000000\",\"2013-05-07T00:00:00.000000000\",\"2013-05-08T00:00:00.000000000\",\"2013-05-09T00:00:00.000000000\",\"2013-05-10T00:00:00.000000000\",\"2013-05-11T00:00:00.000000000\",\"2013-05-12T00:00:00.000000000\",\"2013-05-13T00:00:00.000000000\",\"2013-05-14T00:00:00.000000000\",\"2013-05-15T00:00:00.000000000\",\"2013-05-16T00:00:00.000000000\",\"2013-05-17T00:00:00.000000000\",\"2013-05-18T00:00:00.000000000\",\"2013-05-19T00:00:00.000000000\",\"2013-05-20T00:00:00.000000000\",\"2013-05-21T00:00:00.000000000\",\"2013-05-22T00:00:00.000000000\",\"2013-05-23T00:00:00.000000000\",\"2013-05-24T00:00:00.000000000\",\"2013-05-25T00:00:00.000000000\",\"2013-05-26T00:00:00.000000000\",\"2013-05-27T00:00:00.000000000\",\"2013-05-28T00:00:00.000000000\",\"2013-05-29T00:00:00.000000000\",\"2013-05-30T00:00:00.000000000\",\"2013-05-31T00:00:00.000000000\",\"2013-06-01T00:00:00.000000000\",\"2013-06-02T00:00:00.000000000\",\"2013-06-03T00:00:00.000000000\",\"2013-06-04T00:00:00.000000000\",\"2013-06-05T00:00:00.000000000\",\"2013-06-06T00:00:00.000000000\",\"2013-06-07T00:00:00.000000000\",\"2013-06-08T00:00:00.000000000\",\"2013-06-09T00:00:00.000000000\",\"2013-06-10T00:00:00.000000000\",\"2013-06-11T00:00:00.000000000\",\"2013-06-12T00:00:00.000000000\",\"2013-06-13T00:00:00.000000000\",\"2013-06-14T00:00:00.000000000\",\"2013-06-15T00:00:00.000000000\",\"2013-06-16T00:00:00.000000000\",\"2013-06-17T00:00:00.000000000\",\"2013-06-18T00:00:00.000000000\",\"2013-06-19T00:00:00.000000000\",\"2013-06-20T00:00:00.000000000\",\"2013-06-21T00:00:00.000000000\",\"2013-06-22T00:00:00.000000000\",\"2013-06-23T00:00:00.000000000\",\"2013-06-24T00:00:00.000000000\",\"2013-06-25T00:00:00.000000000\",\"2013-06-26T00:00:00.000000000\",\"2013-06-27T00:00:00.000000000\",\"2013-06-28T00:00:00.000000000\",\"2013-06-29T00:00:00.000000000\",\"2013-06-30T00:00:00.000000000\",\"2013-07-01T00:00:00.000000000\",\"2013-07-02T00:00:00.000000000\",\"2013-07-03T00:00:00.000000000\",\"2013-07-04T00:00:00.000000000\",\"2013-07-05T00:00:00.000000000\",\"2013-07-06T00:00:00.000000000\",\"2013-07-07T00:00:00.000000000\",\"2013-07-08T00:00:00.000000000\",\"2013-07-09T00:00:00.000000000\",\"2013-07-10T00:00:00.000000000\",\"2013-07-11T00:00:00.000000000\",\"2013-07-12T00:00:00.000000000\",\"2013-07-13T00:00:00.000000000\",\"2013-07-14T00:00:00.000000000\",\"2013-07-15T00:00:00.000000000\",\"2013-07-16T00:00:00.000000000\",\"2013-07-17T00:00:00.000000000\",\"2013-07-18T00:00:00.000000000\",\"2013-07-19T00:00:00.000000000\",\"2013-07-20T00:00:00.000000000\",\"2013-07-21T00:00:00.000000000\",\"2013-07-22T00:00:00.000000000\",\"2013-07-23T00:00:00.000000000\",\"2013-07-24T00:00:00.000000000\",\"2013-07-25T00:00:00.000000000\",\"2013-07-26T00:00:00.000000000\",\"2013-07-27T00:00:00.000000000\",\"2013-07-28T00:00:00.000000000\",\"2013-07-29T00:00:00.000000000\",\"2013-07-30T00:00:00.000000000\",\"2013-07-31T00:00:00.000000000\",\"2013-08-01T00:00:00.000000000\",\"2013-08-02T00:00:00.000000000\",\"2013-08-03T00:00:00.000000000\",\"2013-08-04T00:00:00.000000000\",\"2013-08-05T00:00:00.000000000\"],\"type\":\"candlestick\"}],                        {\"template\":{\"data\":{\"histogram2dcontour\":[{\"type\":\"histogram2dcontour\",\"colorbar\":{\"outlinewidth\":0,\"ticks\":\"\"},\"colorscale\":[[0.0,\"#0d0887\"],[0.1111111111111111,\"#46039f\"],[0.2222222222222222,\"#7201a8\"],[0.3333333333333333,\"#9c179e\"],[0.4444444444444444,\"#bd3786\"],[0.5555555555555556,\"#d8576b\"],[0.6666666666666666,\"#ed7953\"],[0.7777777777777778,\"#fb9f3a\"],[0.8888888888888888,\"#fdca26\"],[1.0,\"#f0f921\"]]}],\"choropleth\":[{\"type\":\"choropleth\",\"colorbar\":{\"outlinewidth\":0,\"ticks\":\"\"}}],\"histogram2d\":[{\"type\":\"histogram2d\",\"colorbar\":{\"outlinewidth\":0,\"ticks\":\"\"},\"colorscale\":[[0.0,\"#0d0887\"],[0.1111111111111111,\"#46039f\"],[0.2222222222222222,\"#7201a8\"],[0.3333333333333333,\"#9c179e\"],[0.4444444444444444,\"#bd3786\"],[0.5555555555555556,\"#d8576b\"],[0.6666666666666666,\"#ed7953\"],[0.7777777777777778,\"#fb9f3a\"],[0.8888888888888888,\"#fdca26\"],[1.0,\"#f0f921\"]]}],\"heatmap\":[{\"type\":\"heatmap\",\"colorbar\":{\"outlinewidth\":0,\"ticks\":\"\"},\"colorscale\":[[0.0,\"#0d0887\"],[0.1111111111111111,\"#46039f\"],[0.2222222222222222,\"#7201a8\"],[0.3333333333333333,\"#9c179e\"],[0.4444444444444444,\"#bd3786\"],[0.5555555555555556,\"#d8576b\"],[0.6666666666666666,\"#ed7953\"],[0.7777777777777778,\"#fb9f3a\"],[0.8888888888888888,\"#fdca26\"],[1.0,\"#f0f921\"]]}],\"contourcarpet\":[{\"type\":\"contourcarpet\",\"colorbar\":{\"outlinewidth\":0,\"ticks\":\"\"}}],\"contour\":[{\"type\":\"contour\",\"colorbar\":{\"outlinewidth\":0,\"ticks\":\"\"},\"colorscale\":[[0.0,\"#0d0887\"],[0.1111111111111111,\"#46039f\"],[0.2222222222222222,\"#7201a8\"],[0.3333333333333333,\"#9c179e\"],[0.4444444444444444,\"#bd3786\"],[0.5555555555555556,\"#d8576b\"],[0.6666666666666666,\"#ed7953\"],[0.7777777777777778,\"#fb9f3a\"],[0.8888888888888888,\"#fdca26\"],[1.0,\"#f0f921\"]]}],\"surface\":[{\"type\":\"surface\",\"colorbar\":{\"outlinewidth\":0,\"ticks\":\"\"},\"colorscale\":[[0.0,\"#0d0887\"],[0.1111111111111111,\"#46039f\"],[0.2222222222222222,\"#7201a8\"],[0.3333333333333333,\"#9c179e\"],[0.4444444444444444,\"#bd3786\"],[0.5555555555555556,\"#d8576b\"],[0.6666666666666666,\"#ed7953\"],[0.7777777777777778,\"#fb9f3a\"],[0.8888888888888888,\"#fdca26\"],[1.0,\"#f0f921\"]]}],\"mesh3d\":[{\"type\":\"mesh3d\",\"colorbar\":{\"outlinewidth\":0,\"ticks\":\"\"}}],\"scatter\":[{\"fillpattern\":{\"fillmode\":\"overlay\",\"size\":10,\"solidity\":0.2},\"type\":\"scatter\"}],\"parcoords\":[{\"type\":\"parcoords\",\"line\":{\"colorbar\":{\"outlinewidth\":0,\"ticks\":\"\"}}}],\"scatterpolargl\":[{\"type\":\"scatterpolargl\",\"marker\":{\"colorbar\":{\"outlinewidth\":0,\"ticks\":\"\"}}}],\"bar\":[{\"error_x\":{\"color\":\"#2a3f5f\"},\"error_y\":{\"color\":\"#2a3f5f\"},\"marker\":{\"line\":{\"color\":\"#E5ECF6\",\"width\":0.5},\"pattern\":{\"fillmode\":\"overlay\",\"size\":10,\"solidity\":0.2}},\"type\":\"bar\"}],\"scattergeo\":[{\"type\":\"scattergeo\",\"marker\":{\"colorbar\":{\"outlinewidth\":0,\"ticks\":\"\"}}}],\"scatterpolar\":[{\"type\":\"scatterpolar\",\"marker\":{\"colorbar\":{\"outlinewidth\":0,\"ticks\":\"\"}}}],\"histogram\":[{\"marker\":{\"pattern\":{\"fillmode\":\"overlay\",\"size\":10,\"solidity\":0.2}},\"type\":\"histogram\"}],\"scattergl\":[{\"type\":\"scattergl\",\"marker\":{\"colorbar\":{\"outlinewidth\":0,\"ticks\":\"\"}}}],\"scatter3d\":[{\"type\":\"scatter3d\",\"line\":{\"colorbar\":{\"outlinewidth\":0,\"ticks\":\"\"}},\"marker\":{\"colorbar\":{\"outlinewidth\":0,\"ticks\":\"\"}}}],\"scattermap\":[{\"type\":\"scattermap\",\"marker\":{\"colorbar\":{\"outlinewidth\":0,\"ticks\":\"\"}}}],\"scattermapbox\":[{\"type\":\"scattermapbox\",\"marker\":{\"colorbar\":{\"outlinewidth\":0,\"ticks\":\"\"}}}],\"scatterternary\":[{\"type\":\"scatterternary\",\"marker\":{\"colorbar\":{\"outlinewidth\":0,\"ticks\":\"\"}}}],\"scattercarpet\":[{\"type\":\"scattercarpet\",\"marker\":{\"colorbar\":{\"outlinewidth\":0,\"ticks\":\"\"}}}],\"carpet\":[{\"aaxis\":{\"endlinecolor\":\"#2a3f5f\",\"gridcolor\":\"white\",\"linecolor\":\"white\",\"minorgridcolor\":\"white\",\"startlinecolor\":\"#2a3f5f\"},\"baxis\":{\"endlinecolor\":\"#2a3f5f\",\"gridcolor\":\"white\",\"linecolor\":\"white\",\"minorgridcolor\":\"white\",\"startlinecolor\":\"#2a3f5f\"},\"type\":\"carpet\"}],\"table\":[{\"cells\":{\"fill\":{\"color\":\"#EBF0F8\"},\"line\":{\"color\":\"white\"}},\"header\":{\"fill\":{\"color\":\"#C8D4E3\"},\"line\":{\"color\":\"white\"}},\"type\":\"table\"}],\"barpolar\":[{\"marker\":{\"line\":{\"color\":\"#E5ECF6\",\"width\":0.5},\"pattern\":{\"fillmode\":\"overlay\",\"size\":10,\"solidity\":0.2}},\"type\":\"barpolar\"}],\"pie\":[{\"automargin\":true,\"type\":\"pie\"}]},\"layout\":{\"autotypenumbers\":\"strict\",\"colorway\":[\"#636efa\",\"#EF553B\",\"#00cc96\",\"#ab63fa\",\"#FFA15A\",\"#19d3f3\",\"#FF6692\",\"#B6E880\",\"#FF97FF\",\"#FECB52\"],\"font\":{\"color\":\"#2a3f5f\"},\"hovermode\":\"closest\",\"hoverlabel\":{\"align\":\"left\"},\"paper_bgcolor\":\"white\",\"plot_bgcolor\":\"#E5ECF6\",\"polar\":{\"bgcolor\":\"#E5ECF6\",\"angularaxis\":{\"gridcolor\":\"white\",\"linecolor\":\"white\",\"ticks\":\"\"},\"radialaxis\":{\"gridcolor\":\"white\",\"linecolor\":\"white\",\"ticks\":\"\"}},\"ternary\":{\"bgcolor\":\"#E5ECF6\",\"aaxis\":{\"gridcolor\":\"white\",\"linecolor\":\"white\",\"ticks\":\"\"},\"baxis\":{\"gridcolor\":\"white\",\"linecolor\":\"white\",\"ticks\":\"\"},\"caxis\":{\"gridcolor\":\"white\",\"linecolor\":\"white\",\"ticks\":\"\"}},\"coloraxis\":{\"colorbar\":{\"outlinewidth\":0,\"ticks\":\"\"}},\"colorscale\":{\"sequential\":[[0.0,\"#0d0887\"],[0.1111111111111111,\"#46039f\"],[0.2222222222222222,\"#7201a8\"],[0.3333333333333333,\"#9c179e\"],[0.4444444444444444,\"#bd3786\"],[0.5555555555555556,\"#d8576b\"],[0.6666666666666666,\"#ed7953\"],[0.7777777777777778,\"#fb9f3a\"],[0.8888888888888888,\"#fdca26\"],[1.0,\"#f0f921\"]],\"sequentialminus\":[[0.0,\"#0d0887\"],[0.1111111111111111,\"#46039f\"],[0.2222222222222222,\"#7201a8\"],[0.3333333333333333,\"#9c179e\"],[0.4444444444444444,\"#bd3786\"],[0.5555555555555556,\"#d8576b\"],[0.6666666666666666,\"#ed7953\"],[0.7777777777777778,\"#fb9f3a\"],[0.8888888888888888,\"#fdca26\"],[1.0,\"#f0f921\"]],\"diverging\":[[0,\"#8e0152\"],[0.1,\"#c51b7d\"],[0.2,\"#de77ae\"],[0.3,\"#f1b6da\"],[0.4,\"#fde0ef\"],[0.5,\"#f7f7f7\"],[0.6,\"#e6f5d0\"],[0.7,\"#b8e186\"],[0.8,\"#7fbc41\"],[0.9,\"#4d9221\"],[1,\"#276419\"]]},\"xaxis\":{\"gridcolor\":\"white\",\"linecolor\":\"white\",\"ticks\":\"\",\"title\":{\"standoff\":15},\"zerolinecolor\":\"white\",\"automargin\":true,\"zerolinewidth\":2},\"yaxis\":{\"gridcolor\":\"white\",\"linecolor\":\"white\",\"ticks\":\"\",\"title\":{\"standoff\":15},\"zerolinecolor\":\"white\",\"automargin\":true,\"zerolinewidth\":2},\"scene\":{\"xaxis\":{\"backgroundcolor\":\"#E5ECF6\",\"gridcolor\":\"white\",\"linecolor\":\"white\",\"showbackground\":true,\"ticks\":\"\",\"zerolinecolor\":\"white\",\"gridwidth\":2},\"yaxis\":{\"backgroundcolor\":\"#E5ECF6\",\"gridcolor\":\"white\",\"linecolor\":\"white\",\"showbackground\":true,\"ticks\":\"\",\"zerolinecolor\":\"white\",\"gridwidth\":2},\"zaxis\":{\"backgroundcolor\":\"#E5ECF6\",\"gridcolor\":\"white\",\"linecolor\":\"white\",\"showbackground\":true,\"ticks\":\"\",\"zerolinecolor\":\"white\",\"gridwidth\":2}},\"shapedefaults\":{\"line\":{\"color\":\"#2a3f5f\"}},\"annotationdefaults\":{\"arrowcolor\":\"#2a3f5f\",\"arrowhead\":0,\"arrowwidth\":1},\"geo\":{\"bgcolor\":\"white\",\"landcolor\":\"#E5ECF6\",\"subunitcolor\":\"white\",\"showland\":true,\"showlakes\":true,\"lakecolor\":\"white\"},\"title\":{\"x\":0.05},\"mapbox\":{\"style\":\"light\"}}},\"xaxis\":{\"rangeslider\":{\"visible\":false},\"title\":{\"text\":\"Date\"}},\"title\":{\"text\":\"Bitcoin Price Analysis\"},\"yaxis\":{\"title\":{\"text\":\"Price (in USD)\"}}},                        {\"responsive\": true}                    ).then(function(){\n",
       "                            \n",
       "var gd = document.getElementById('736b7dc2-1e3f-4d0d-8450-dc4d2912a7c5');\n",
       "var x = new MutationObserver(function (mutations, observer) {{\n",
       "        var display = window.getComputedStyle(gd).display;\n",
       "        if (!display || display === 'none') {{\n",
       "            console.log([gd, 'removed!']);\n",
       "            Plotly.purge(gd);\n",
       "            observer.disconnect();\n",
       "        }}\n",
       "}});\n",
       "\n",
       "// Listen for the removal of the full notebook cells\n",
       "var notebookContainer = gd.closest('#notebook-container');\n",
       "if (notebookContainer) {{\n",
       "    x.observe(notebookContainer, {childList: true});\n",
       "}}\n",
       "\n",
       "// Listen for the clearing of the current output cell\n",
       "var outputEl = gd.closest('.output');\n",
       "if (outputEl) {{\n",
       "    x.observe(outputEl, {childList: true});\n",
       "}}\n",
       "\n",
       "                        })                };            </script>        </div>"
      ]
     },
     "metadata": {},
     "output_type": "display_data"
    }
   ],
   "source": [
    "fig = go.Figure(data = candle_data) # Create a figure with the candlestick data\n",
    "iplot(fig)  # Display the figure\n",
    "fig.update_layout(\n",
    "    title = \"Bitcoin Price Analysis\",\n",
    "    yaxis_title = \"Price (in USD)\",\n",
    "    xaxis_title = \"Date\",\n",
    "    xaxis_rangeslider_visible= False   # Hiding the range slider\n",
    ")  "
   ]
  },
  {
   "cell_type": "code",
   "execution_count": 26,
   "id": "e3f4a37c",
   "metadata": {},
   "outputs": [],
   "source": [
    "# Analysis of Closing Price in depth\n",
    "\n",
    "data = df.set_index('Date')  # Set 'Date' as the index for time series analysis"
   ]
  },
  {
   "cell_type": "code",
   "execution_count": 27,
   "id": "dd2861fc",
   "metadata": {},
   "outputs": [
    {
     "data": {
      "text/plain": [
       "<Axes: xlabel='Date'>"
      ]
     },
     "execution_count": 27,
     "metadata": {},
     "output_type": "execute_result"
    },
    {
     "data": {
      "image/png": "[encoded data removed]",
      "text/plain": [
       "<Figure size 640x480 with 1 Axes>"
      ]
     },
     "metadata": {},
     "output_type": "display_data"
    }
   ],
   "source": [
    "data['Close'].plot()"
   ]
  },
  {
   "cell_type": "code",
   "execution_count": 28,
   "id": "6ad4c6b0",
   "metadata": {},
   "outputs": [
    {
     "data": {
      "application/vnd.plotly.v1+json": {
       "config": {
        "plotlyServerURL": "https://plot.ly"
       },
       "data": [
        {
         "hovertemplate": "Date=%{x}<br>Close=%{y}<extra></extra>",
         "legendgroup": "",
         "line": {
          "color": "#636efa",
          "dash": "solid"
         },
         "marker": {
          "symbol": "circle"
         },
         "mode": "lines",
         "name": "",
         "showlegend": false,
         "type": "scattergl",
         "x": [
          "2013-04-28T00:00:00.000000000",
          "2013-04-29T00:00:00.000000000",
          "2013-04-30T00:00:00.000000000",
          "2013-05-01T00:00:00.000000000",
          "2013-05-02T00:00:00.000000000",
          "2013-05-03T00:00:00.000000000",
          "2013-05-04T00:00:00.000000000",
          "2013-05-05T00:00:00.000000000",
          "2013-05-06T00:00:00.000000000",
          "2013-05-07T00:00:00.000000000",
          "2013-05-08T00:00:00.000000000",
          "2013-05-09T00:00:00.000000000",
          "2013-05-10T00:00:00.000000000",
          "2013-05-11T00:00:00.000000000",
          "2013-05-12T00:00:00.000000000",
          "2013-05-13T00:00:00.000000000",
          "2013-05-14T00:00:00.000000000",
          "2013-05-15T00:00:00.000000000",
          "2013-05-16T00:00:00.000000000",
          "2013-05-17T00:00:00.000000000",
          "2013-05-18T00:00:00.000000000",
          "2013-05-19T00:00:00.000000000",
          "2013-05-20T00:00:00.000000000",
          "2013-05-21T00:00:00.000000000",
          "2013-05-22T00:00:00.000000000",
          "2013-05-23T00:00:00.000000000",
          "2013-05-24T00:00:00.000000000",
          "2013-05-25T00:00:00.000000000",
          "2013-05-26T00:00:00.000000000",
          "2013-05-27T00:00:00.000000000",
          "2013-05-28T00:00:00.000000000",
          "2013-05-29T00:00:00.000000000",
          "2013-05-30T00:00:00.000000000",
          "2013-05-31T00:00:00.000000000",
          "2013-06-01T00:00:00.000000000",
          "2013-06-02T00:00:00.000000000",
          "2013-06-03T00:00:00.000000000",
          "2013-06-04T00:00:00.000000000",
          "2013-06-05T00:00:00.000000000",
          "2013-06-06T00:00:00.000000000",
          "2013-06-07T00:00:00.000000000",
          "2013-06-08T00:00:00.000000000",
          "2013-06-09T00:00:00.000000000",
          "2013-06-10T00:00:00.000000000",
          "2013-06-11T00:00:00.000000000",
          "2013-06-12T00:00:00.000000000",
          "2013-06-13T00:00:00.000000000",
          "2013-06-14T00:00:00.000000000",
          "2013-06-15T00:00:00.000000000",
          "2013-06-16T00:00:00.000000000",
          "2013-06-17T00:00:00.000000000",
          "2013-06-18T00:00:00.000000000",
          "2013-06-19T00:00:00.000000000",
          "2013-06-20T00:00:00.000000000",
          "2013-06-21T00:00:00.000000000",
          "2013-06-22T00:00:00.000000000",
          "2013-06-23T00:00:00.000000000",
          "2013-06-24T00:00:00.000000000",
          "2013-06-25T00:00:00.000000000",
          "2013-06-26T00:00:00.000000000",
          "2013-06-27T00:00:00.000000000",
          "2013-06-28T00:00:00.000000000",
          "2013-06-29T00:00:00.000000000",
          "2013-06-30T00:00:00.000000000",
          "2013-07-01T00:00:00.000000000",
          "2013-07-02T00:00:00.000000000",
          "2013-07-03T00:00:00.000000000",
          "2013-07-04T00:00:00.000000000",
          "2013-07-05T00:00:00.000000000",
          "2013-07-06T00:00:00.000000000",
          "2013-07-07T00:00:00.000000000",
          "2013-07-08T00:00:00.000000000",
          "2013-07-09T00:00:00.000000000",
          "2013-07-10T00:00:00.000000000",
          "2013-07-11T00:00:00.000000000",
          "2013-07-12T00:00:00.000000000",
          "2013-07-13T00:00:00.000000000",
          "2013-07-14T00:00:00.000000000",
          "2013-07-15T00:00:00.000000000",
          "2013-07-16T00:00:00.000000000",
          "2013-07-17T00:00:00.000000000",
          "2013-07-18T00:00:00.000000000",
          "2013-07-19T00:00:00.000000000",
          "2013-07-20T00:00:00.000000000",
          "2013-07-21T00:00:00.000000000",
          "2013-07-22T00:00:00.000000000",
          "2013-07-23T00:00:00.000000000",
          "2013-07-24T00:00:00.000000000",
          "2013-07-25T00:00:00.000000000",
          "2013-07-26T00:00:00.000000000",
          "2013-07-27T00:00:00.000000000",
          "2013-07-28T00:00:00.000000000",
          "2013-07-29T00:00:00.000000000",
          "2013-07-30T00:00:00.000000000",
          "2013-07-31T00:00:00.000000000",
          "2013-08-01T00:00:00.000000000",
          "2013-08-02T00:00:00.000000000",
          "2013-08-03T00:00:00.000000000",
          "2013-08-04T00:00:00.000000000",
          "2013-08-05T00:00:00.000000000",
          "2013-08-06T00:00:00.000000000",
          "2013-08-07T00:00:00.000000000",
          "2013-08-08T00:00:00.000000000",
          "2013-08-09T00:00:00.000000000",
          "2013-08-10T00:00:00.000000000",
          "2013-08-11T00:00:00.000000000",
          "2013-08-12T00:00:00.000000000",
          "2013-08-13T00:00:00.000000000",
          "2013-08-14T00:00:00.000000000",
          "2013-08-15T00:00:00.000000000",
          "2013-08-16T00:00:00.000000000",
          "2013-08-17T00:00:00.000000000",
          "2013-08-18T00:00:00.000000000",
          "2013-08-19T00:00:00.000000000",
          "2013-08-20T00:00:00.000000000",
          "2013-08-21T00:00:00.000000000",
          "2013-08-22T00:00:00.000000000",
          "2013-08-23T00:00:00.000000000",
          "2013-08-24T00:00:00.000000000",
          "2013-08-25T00:00:00.000000000",
          "2013-08-26T00:00:00.000000000",
          "2013-08-27T00:00:00.000000000",
          "2013-08-28T00:00:00.000000000",
          "2013-08-29T00:00:00.000000000",
          "2013-08-30T00:00:00.000000000",
          "2013-08-31T00:00:00.000000000",
          "2013-09-01T00:00:00.000000000",
          "2013-09-02T00:00:00.000000000",
          "2013-09-03T00:00:00.000000000",
          "2013-09-04T00:00:00.000000000",
          "2013-09-05T00:00:00.000000000",
          "2013-09-06T00:00:00.000000000",
          "2013-09-07T00:00:00.000000000",
          "2013-09-08T00:00:00.000000000",
          "2013-09-09T00:00:00.000000000",
          "2013-09-10T00:00:00.000000000",
          "2013-09-11T00:00:00.000000000",
          "2013-09-12T00:00:00.000000000",
          "2013-09-13T00:00:00.000000000",
          "2013-09-14T00:00:00.000000000",
          "2013-09-15T00:00:00.000000000",
          "2013-09-16T00:00:00.000000000",
          "2013-09-17T00:00:00.000000000",
          "2013-09-18T00:00:00.000000000",
          "2013-09-19T00:00:00.000000000",
          "2013-09-20T00:00:00.000000000",
          "2013-09-21T00:00:00.000000000",
          "2013-09-22T00:00:00.000000000",
          "2013-09-23T00:00:00.000000000",
          "2013-09-24T00:00:00.000000000",
          "2013-09-25T00:00:00.000000000",
          "2013-09-26T00:00:00.000000000",
          "2013-09-27T00:00:00.000000000",
          "2013-09-28T00:00:00.000000000",
          "2013-09-29T00:00:00.000000000",
          "2013-09-30T00:00:00.000000000",
          "2013-10-01T00:00:00.000000000",
          "2013-10-02T00:00:00.000000000",
          "2013-10-03T00:00:00.000000000",
          "2013-10-04T00:00:00.000000000",
          "2013-10-05T00:00:00.000000000",
          "2013-10-06T00:00:00.000000000",
          "2013-10-07T00:00:00.000000000",
          "2013-10-08T00:00:00.000000000",
          "2013-10-09T00:00:00.000000000",
          "2013-10-10T00:00:00.000000000",
          "2013-10-11T00:00:00.000000000",
          "2013-10-12T00:00:00.000000000",
          "2013-10-13T00:00:00.000000000",
          "2013-10-14T00:00:00.000000000",
          "2013-10-15T00:00:00.000000000",
          "2013-10-16T00:00:00.000000000",
          "2013-10-17T00:00:00.000000000",
          "2013-10-18T00:00:00.000000000",
          "2013-10-19T00:00:00.000000000",
          "2013-10-20T00:00:00.000000000",
          "2013-10-21T00:00:00.000000000",
          "2013-10-22T00:00:00.000000000",
          "2013-10-23T00:00:00.000000000",
          "2013-10-24T00:00:00.000000000",
          "2013-10-25T00:00:00.000000000",
          "2013-10-26T00:00:00.000000000",
          "2013-10-27T00:00:00.000000000",
          "2013-10-28T00:00:00.000000000",
          "2013-10-29T00:00:00.000000000",
          "2013-10-30T00:00:00.000000000",
          "2013-10-31T00:00:00.000000000",
          "2013-11-01T00:00:00.000000000",
          "2013-11-02T00:00:00.000000000",
          "2013-11-03T00:00:00.000000000",
          "2013-11-04T00:00:00.000000000",
          "2013-11-05T00:00:00.000000000",
          "2013-11-06T00:00:00.000000000",
          "2013-11-07T00:00:00.000000000",
          "2013-11-08T00:00:00.000000000",
          "2013-11-09T00:00:00.000000000",
          "2013-11-10T00:00:00.000000000",
          "2013-11-11T00:00:00.000000000",
          "2013-11-12T00:00:00.000000000",
          "2013-11-13T00:00:00.000000000",
          "2013-11-14T00:00:00.000000000",
          "2013-11-15T00:00:00.000000000",
          "2013-11-16T00:00:00.000000000",
          "2013-11-17T00:00:00.000000000",
          "2013-11-18T00:00:00.000000000",
          "2013-11-19T00:00:00.000000000",
          "2013-11-20T00:00:00.000000000",
          "2013-11-21T00:00:00.000000000",
          "2013-11-22T00:00:00.000000000",
          "2013-11-23T00:00:00.000000000",
          "2013-11-24T00:00:00.000000000",
          "2013-11-25T00:00:00.000000000",
          "2013-11-26T00:00:00.000000000",
          "2013-11-27T00:00:00.000000000",
          "2013-11-28T00:00:00.000000000",
          "2013-11-29T00:00:00.000000000",
          "2013-11-30T00:00:00.000000000",
          "2013-12-01T00:00:00.000000000",
          "2013-12-02T00:00:00.000000000",
          "2013-12-03T00:00:00.000000000",
          "2013-12-04T00:00:00.000000000",
          "2013-12-05T00:00:00.000000000",
          "2013-12-06T00:00:00.000000000",
          "2013-12-07T00:00:00.000000000",
          "2013-12-08T00:00:00.000000000",
          "2013-12-09T00:00:00.000000000",
          "2013-12-10T00:00:00.000000000",
          "2013-12-11T00:00:00.000000000",
          "2013-12-12T00:00:00.000000000",
          "2013-12-13T00:00:00.000000000",
          "2013-12-14T00:00:00.000000000",
          "2013-12-15T00:00:00.000000000",
          "2013-12-16T00:00:00.000000000",
          "2013-12-17T00:00:00.000000000",
          "2013-12-18T00:00:00.000000000",
          "2013-12-19T00:00:00.000000000",
          "2013-12-20T00:00:00.000000000",
          "2013-12-21T00:00:00.000000000",
          "2013-12-22T00:00:00.000000000",
          "2013-12-23T00:00:00.000000000",
          "2013-12-24T00:00:00.000000000",
          "2013-12-25T00:00:00.000000000",
          "2013-12-26T00:00:00.000000000",
          "2013-12-27T00:00:00.000000000",
          "2013-12-28T00:00:00.000000000",
          "2013-12-29T00:00:00.000000000",
          "2013-12-30T00:00:00.000000000",
          "2013-12-31T00:00:00.000000000",
          "2014-01-01T00:00:00.000000000",
          "2014-01-02T00:00:00.000000000",
          "2014-01-03T00:00:00.000000000",
          "2014-01-04T00:00:00.000000000",
          "2014-01-05T00:00:00.000000000",
          "2014-01-06T00:00:00.000000000",
          "2014-01-07T00:00:00.000000000",
          "2014-01-08T00:00:00.000000000",
          "2014-01-09T00:00:00.000000000",
          "2014-01-10T00:00:00.000000000",
          "2014-01-11T00:00:00.000000000",
          "2014-01-12T00:00:00.000000000",
          "2014-01-13T00:00:00.000000000",
          "2014-01-14T00:00:00.000000000",
          "2014-01-15T00:00:00.000000000",
          "2014-01-16T00:00:00.000000000",
          "2014-01-17T00:00:00.000000000",
          "2014-01-18T00:00:00.000000000",
          "2014-01-19T00:00:00.000000000",
          "2014-01-20T00:00:00.000000000",
          "2014-01-21T00:00:00.000000000",
          "2014-01-22T00:00:00.000000000",
          "2014-01-23T00:00:00.000000000",
          "2014-01-24T00:00:00.000000000",
          "2014-01-25T00:00:00.000000000",
          "2014-01-26T00:00:00.000000000",
          "2014-01-27T00:00:00.000000000",
          "2014-01-28T00:00:00.000000000",
          "2014-01-29T00:00:00.000000000",
          "2014-01-30T00:00:00.000000000",
          "2014-01-31T00:00:00.000000000",
          "2014-02-01T00:00:00.000000000",
          "2014-02-02T00:00:00.000000000",
          "2014-02-03T00:00:00.000000000",
          "2014-02-04T00:00:00.000000000",
          "2014-02-05T00:00:00.000000000",
          "2014-02-06T00:00:00.000000000",
          "2014-02-07T00:00:00.000000000",
          "2014-02-08T00:00:00.000000000",
          "2014-02-09T00:00:00.000000000",
          "2014-02-10T00:00:00.000000000",
          "2014-02-11T00:00:00.000000000",
          "2014-02-12T00:00:00.000000000",
          "2014-02-13T00:00:00.000000000",
          "2014-02-14T00:00:00.000000000",
          "2014-02-15T00:00:00.000000000",
          "2014-02-16T00:00:00.000000000",
          "2014-02-17T00:00:00.000000000",
          "2014-02-18T00:00:00.000000000",
          "2014-02-19T00:00:00.000000000",
          "2014-02-20T00:00:00.000000000",
          "2014-02-21T00:00:00.000000000",
          "2014-02-22T00:00:00.000000000",
          "2014-02-23T00:00:00.000000000",
          "2014-02-24T00:00:00.000000000",
          "2014-02-25T00:00:00.000000000",
          "2014-02-26T00:00:00.000000000",
          "2014-02-27T00:00:00.000000000",
          "2014-02-28T00:00:00.000000000",
          "2014-03-01T00:00:00.000000000",
          "2014-03-02T00:00:00.000000000",
          "2014-03-03T00:00:00.000000000",
          "2014-03-04T00:00:00.000000000",
          "2014-03-05T00:00:00.000000000",
          "2014-03-06T00:00:00.000000000",
          "2014-03-07T00:00:00.000000000",
          "2014-03-08T00:00:00.000000000",
          "2014-03-09T00:00:00.000000000",
          "2014-03-10T00:00:00.000000000",
          "2014-03-11T00:00:00.000000000",
          "2014-03-12T00:00:00.000000000",
          "2014-03-13T00:00:00.000000000",
          "2014-03-14T00:00:00.000000000",
          "2014-03-15T00:00:00.000000000",
          "2014-03-16T00:00:00.000000000",
          "2014-03-17T00:00:00.000000000",
          "2014-03-18T00:00:00.000000000",
          "2014-03-19T00:00:00.000000000",
          "2014-03-20T00:00:00.000000000",
          "2014-03-21T00:00:00.000000000",
          "2014-03-22T00:00:00.000000000",
          "2014-03-23T00:00:00.000000000",
          "2014-03-24T00:00:00.000000000",
          "2014-03-25T00:00:00.000000000",
          "2014-03-26T00:00:00.000000000",
          "2014-03-27T00:00:00.000000000",
          "2014-03-28T00:00:00.000000000",
          "2014-03-29T00:00:00.000000000",
          "2014-03-30T00:00:00.000000000",
          "2014-03-31T00:00:00.000000000",
          "2014-04-01T00:00:00.000000000",
          "2014-04-02T00:00:00.000000000",
          "2014-04-03T00:00:00.000000000",
          "2014-04-04T00:00:00.000000000",
          "2014-04-05T00:00:00.000000000",
          "2014-04-06T00:00:00.000000000",
          "2014-04-07T00:00:00.000000000",
          "2014-04-08T00:00:00.000000000",
          "2014-04-09T00:00:00.000000000",
          "2014-04-10T00:00:00.000000000",
          "2014-04-11T00:00:00.000000000",
          "2014-04-12T00:00:00.000000000",
          "2014-04-13T00:00:00.000000000",
          "2014-04-14T00:00:00.000000000",
          "2014-04-15T00:00:00.000000000",
          "2014-04-16T00:00:00.000000000",
          "2014-04-17T00:00:00.000000000",
          "2014-04-18T00:00:00.000000000",
          "2014-04-19T00:00:00.000000000",
          "2014-04-20T00:00:00.000000000",
          "2014-04-21T00:00:00.000000000",
          "2014-04-22T00:00:00.000000000",
          "2014-04-23T00:00:00.000000000",
          "2014-04-24T00:00:00.000000000",
          "2014-04-25T00:00:00.000000000",
          "2014-04-26T00:00:00.000000000",
          "2014-04-27T00:00:00.000000000",
          "2014-04-28T00:00:00.000000000",
          "2014-04-29T00:00:00.000000000",
          "2014-04-30T00:00:00.000000000",
          "2014-05-01T00:00:00.000000000",
          "2014-05-02T00:00:00.000000000",
          "2014-05-03T00:00:00.000000000",
          "2014-05-04T00:00:00.000000000",
          "2014-05-05T00:00:00.000000000",
          "2014-05-06T00:00:00.000000000",
          "2014-05-07T00:00:00.000000000",
          "2014-05-08T00:00:00.000000000",
          "2014-05-09T00:00:00.000000000",
          "2014-05-10T00:00:00.000000000",
          "2014-05-11T00:00:00.000000000",
          "2014-05-12T00:00:00.000000000",
          "2014-05-13T00:00:00.000000000",
          "2014-05-14T00:00:00.000000000",
          "2014-05-15T00:00:00.000000000",
          "2014-05-16T00:00:00.000000000",
          "2014-05-17T00:00:00.000000000",
          "2014-05-18T00:00:00.000000000",
          "2014-05-19T00:00:00.000000000",
          "2014-05-20T00:00:00.000000000",
          "2014-05-21T00:00:00.000000000",
          "2014-05-22T00:00:00.000000000",
          "2014-05-23T00:00:00.000000000",
          "2014-05-24T00:00:00.000000000",
          "2014-05-25T00:00:00.000000000",
          "2014-05-26T00:00:00.000000000",
          "2014-05-27T00:00:00.000000000",
          "2014-05-28T00:00:00.000000000",
          "2014-05-29T00:00:00.000000000",
          "2014-05-30T00:00:00.000000000",
          "2014-05-31T00:00:00.000000000",
          "2014-06-01T00:00:00.000000000",
          "2014-06-02T00:00:00.000000000",
          "2014-06-03T00:00:00.000000000",
          "2014-06-04T00:00:00.000000000",
          "2014-06-05T00:00:00.000000000",
          "2014-06-06T00:00:00.000000000",
          "2014-06-07T00:00:00.000000000",
          "2014-06-08T00:00:00.000000000",
          "2014-06-09T00:00:00.000000000",
          "2014-06-10T00:00:00.000000000",
          "2014-06-11T00:00:00.000000000",
          "2014-06-12T00:00:00.000000000",
          "2014-06-13T00:00:00.000000000",
          "2014-06-14T00:00:00.000000000",
          "2014-06-15T00:00:00.000000000",
          "2014-06-16T00:00:00.000000000",
          "2014-06-17T00:00:00.000000000",
          "2014-06-18T00:00:00.000000000",
          "2014-06-19T00:00:00.000000000",
          "2014-06-20T00:00:00.000000000",
          "2014-06-21T00:00:00.000000000",
          "2014-06-22T00:00:00.000000000",
          "2014-06-23T00:00:00.000000000",
          "2014-06-24T00:00:00.000000000",
          "2014-06-25T00:00:00.000000000",
          "2014-06-26T00:00:00.000000000",
          "2014-06-27T00:00:00.000000000",
          "2014-06-28T00:00:00.000000000",
          "2014-06-29T00:00:00.000000000",
          "2014-06-30T00:00:00.000000000",
          "2014-07-01T00:00:00.000000000",
          "2014-07-02T00:00:00.000000000",
          "2014-07-03T00:00:00.000000000",
          "2014-07-04T00:00:00.000000000",
          "2014-07-05T00:00:00.000000000",
          "2014-07-06T00:00:00.000000000",
          "2014-07-07T00:00:00.000000000",
          "2014-07-08T00:00:00.000000000",
          "2014-07-09T00:00:00.000000000",
          "2014-07-10T00:00:00.000000000",
          "2014-07-11T00:00:00.000000000",
          "2014-07-12T00:00:00.000000000",
          "2014-07-13T00:00:00.000000000",
          "2014-07-14T00:00:00.000000000",
          "2014-07-15T00:00:00.000000000",
          "2014-07-16T00:00:00.000000000",
          "2014-07-17T00:00:00.000000000",
          "2014-07-18T00:00:00.000000000",
          "2014-07-19T00:00:00.000000000",
          "2014-07-20T00:00:00.000000000",
          "2014-07-21T00:00:00.000000000",
          "2014-07-22T00:00:00.000000000",
          "2014-07-23T00:00:00.000000000",
          "2014-07-24T00:00:00.000000000",
          "2014-07-25T00:00:00.000000000",
          "2014-07-26T00:00:00.000000000",
          "2014-07-27T00:00:00.000000000",
          "2014-07-28T00:00:00.000000000",
          "2014-07-29T00:00:00.000000000",
          "2014-07-30T00:00:00.000000000",
          "2014-07-31T00:00:00.000000000",
          "2014-08-01T00:00:00.000000000",
          "2014-08-02T00:00:00.000000000",
          "2014-08-03T00:00:00.000000000",
          "2014-08-04T00:00:00.000000000",
          "2014-08-05T00:00:00.000000000",
          "2014-08-06T00:00:00.000000000",
          "2014-08-07T00:00:00.000000000",
          "2014-08-08T00:00:00.000000000",
          "2014-08-09T00:00:00.000000000",
          "2014-08-10T00:00:00.000000000",
          "2014-08-11T00:00:00.000000000",
          "2014-08-12T00:00:00.000000000",
          "2014-08-13T00:00:00.000000000",
          "2014-08-14T00:00:00.000000000",
          "2014-08-15T00:00:00.000000000",
          "2014-08-16T00:00:00.000000000",
          "2014-08-17T00:00:00.000000000",
          "2014-08-18T00:00:00.000000000",
          "2014-08-19T00:00:00.000000000",
          "2014-08-20T00:00:00.000000000",
          "2014-08-21T00:00:00.000000000",
          "2014-08-22T00:00:00.000000000",
          "2014-08-23T00:00:00.000000000",
          "2014-08-24T00:00:00.000000000",
          "2014-08-25T00:00:00.000000000",
          "2014-08-26T00:00:00.000000000",
          "2014-08-27T00:00:00.000000000",
          "2014-08-28T00:00:00.000000000",
          "2014-08-29T00:00:00.000000000",
          "2014-08-30T00:00:00.000000000",
          "2014-08-31T00:00:00.000000000",
          "2014-09-01T00:00:00.000000000",
          "2014-09-02T00:00:00.000000000",
          "2014-09-03T00:00:00.000000000",
          "2014-09-04T00:00:00.000000000",
          "2014-09-05T00:00:00.000000000",
          "2014-09-06T00:00:00.000000000",
          "2014-09-07T00:00:00.000000000",
          "2014-09-08T00:00:00.000000000",
          "2014-09-09T00:00:00.000000000",
          "2014-09-10T00:00:00.000000000",
          "2014-09-11T00:00:00.000000000",
          "2014-09-12T00:00:00.000000000",
          "2014-09-13T00:00:00.000000000",
          "2014-09-14T00:00:00.000000000",
          "2014-09-15T00:00:00.000000000",
          "2014-09-16T00:00:00.000000000",
          "2014-09-17T00:00:00.000000000",
          "2014-09-18T00:00:00.000000000",
          "2014-09-19T00:00:00.000000000",
          "2014-09-20T00:00:00.000000000",
          "2014-09-21T00:00:00.000000000",
          "2014-09-22T00:00:00.000000000",
          "2014-09-23T00:00:00.000000000",
          "2014-09-24T00:00:00.000000000",
          "2014-09-25T00:00:00.000000000",
          "2014-09-26T00:00:00.000000000",
          "2014-09-27T00:00:00.000000000",
          "2014-09-28T00:00:00.000000000",
          "2014-09-29T00:00:00.000000000",
          "2014-09-30T00:00:00.000000000",
          "2014-10-01T00:00:00.000000000",
          "2014-10-02T00:00:00.000000000",
          "2014-10-03T00:00:00.000000000",
          "2014-10-04T00:00:00.000000000",
          "2014-10-05T00:00:00.000000000",
          "2014-10-06T00:00:00.000000000",
          "2014-10-07T00:00:00.000000000",
          "2014-10-08T00:00:00.000000000",
          "2014-10-09T00:00:00.000000000",
          "2014-10-10T00:00:00.000000000",
          "2014-10-11T00:00:00.000000000",
          "2014-10-12T00:00:00.000000000",
          "2014-10-13T00:00:00.000000000",
          "2014-10-14T00:00:00.000000000",
          "2014-10-15T00:00:00.000000000",
          "2014-10-16T00:00:00.000000000",
          "2014-10-17T00:00:00.000000000",
          "2014-10-18T00:00:00.000000000",
          "2014-10-19T00:00:00.000000000",
          "2014-10-20T00:00:00.000000000",
          "2014-10-21T00:00:00.000000000",
          "2014-10-22T00:00:00.000000000",
          "2014-10-23T00:00:00.000000000",
          "2014-10-24T00:00:00.000000000",
          "2014-10-25T00:00:00.000000000",
          "2014-10-26T00:00:00.000000000",
          "2014-10-27T00:00:00.000000000",
          "2014-10-28T00:00:00.000000000",
          "2014-10-29T00:00:00.000000000",
          "2014-10-30T00:00:00.000000000",
          "2014-10-31T00:00:00.000000000",
          "2014-11-01T00:00:00.000000000",
          "2014-11-02T00:00:00.000000000",
          "2014-11-03T00:00:00.000000000",
          "2014-11-04T00:00:00.000000000",
          "2014-11-05T00:00:00.000000000",
          "2014-11-06T00:00:00.000000000",
          "2014-11-07T00:00:00.000000000",
          "2014-11-08T00:00:00.000000000",
          "2014-11-09T00:00:00.000000000",
          "2014-11-10T00:00:00.000000000",
          "2014-11-11T00:00:00.000000000",
          "2014-11-12T00:00:00.000000000",
          "2014-11-13T00:00:00.000000000",
          "2014-11-14T00:00:00.000000000",
          "2014-11-15T00:00:00.000000000",
          "2014-11-16T00:00:00.000000000",
          "2014-11-17T00:00:00.000000000",
          "2014-11-18T00:00:00.000000000",
          "2014-11-19T00:00:00.000000000",
          "2014-11-20T00:00:00.000000000",
          "2014-11-21T00:00:00.000000000",
          "2014-11-22T00:00:00.000000000",
          "2014-11-23T00:00:00.000000000",
          "2014-11-24T00:00:00.000000000",
          "2014-11-25T00:00:00.000000000",
          "2014-11-26T00:00:00.000000000",
          "2014-11-27T00:00:00.000000000",
          "2014-11-28T00:00:00.000000000",
          "2014-11-29T00:00:00.000000000",
          "2014-11-30T00:00:00.000000000",
          "2014-12-01T00:00:00.000000000",
          "2014-12-02T00:00:00.000000000",
          "2014-12-03T00:00:00.000000000",
          "2014-12-04T00:00:00.000000000",
          "2014-12-05T00:00:00.000000000",
          "2014-12-06T00:00:00.000000000",
          "2014-12-07T00:00:00.000000000",
          "2014-12-08T00:00:00.000000000",
          "2014-12-09T00:00:00.000000000",
          "2014-12-10T00:00:00.000000000",
          "2014-12-11T00:00:00.000000000",
          "2014-12-12T00:00:00.000000000",
          "2014-12-13T00:00:00.000000000",
          "2014-12-14T00:00:00.000000000",
          "2014-12-15T00:00:00.000000000",
          "2014-12-16T00:00:00.000000000",
          "2014-12-17T00:00:00.000000000",
          "2014-12-18T00:00:00.000000000",
          "2014-12-19T00:00:00.000000000",
          "2014-12-20T00:00:00.000000000",
          "2014-12-21T00:00:00.000000000",
          "2014-12-22T00:00:00.000000000",
          "2014-12-23T00:00:00.000000000",
          "2014-12-24T00:00:00.000000000",
          "2014-12-25T00:00:00.000000000",
          "2014-12-26T00:00:00.000000000",
          "2014-12-27T00:00:00.000000000",
          "2014-12-28T00:00:00.000000000",
          "2014-12-29T00:00:00.000000000",
          "2014-12-30T00:00:00.000000000",
          "2014-12-31T00:00:00.000000000",
          "2015-01-01T00:00:00.000000000",
          "2015-01-02T00:00:00.000000000",
          "2015-01-03T00:00:00.000000000",
          "2015-01-04T00:00:00.000000000",
          "2015-01-05T00:00:00.000000000",
          "2015-01-06T00:00:00.000000000",
          "2015-01-07T00:00:00.000000000",
          "2015-01-08T00:00:00.000000000",
          "2015-01-09T00:00:00.000000000",
          "2015-01-10T00:00:00.000000000",
          "2015-01-11T00:00:00.000000000",
          "2015-01-12T00:00:00.000000000",
          "2015-01-13T00:00:00.000000000",
          "2015-01-14T00:00:00.000000000",
          "2015-01-15T00:00:00.000000000",
          "2015-01-16T00:00:00.000000000",
          "2015-01-17T00:00:00.000000000",
          "2015-01-18T00:00:00.000000000",
          "2015-01-19T00:00:00.000000000",
          "2015-01-20T00:00:00.000000000",
          "2015-01-21T00:00:00.000000000",
          "2015-01-22T00:00:00.000000000",
          "2015-01-23T00:00:00.000000000",
          "2015-01-24T00:00:00.000000000",
          "2015-01-25T00:00:00.000000000",
          "2015-01-26T00:00:00.000000000",
          "2015-01-27T00:00:00.000000000",
          "2015-01-28T00:00:00.000000000",
          "2015-01-29T00:00:00.000000000",
          "2015-01-30T00:00:00.000000000",
          "2015-01-31T00:00:00.000000000",
          "2015-02-01T00:00:00.000000000",
          "2015-02-02T00:00:00.000000000",
          "2015-02-03T00:00:00.000000000",
          "2015-02-04T00:00:00.000000000",
          "2015-02-05T00:00:00.000000000",
          "2015-02-06T00:00:00.000000000",
          "2015-02-07T00:00:00.000000000",
          "2015-02-08T00:00:00.000000000",
          "2015-02-09T00:00:00.000000000",
          "2015-02-10T00:00:00.000000000",
          "2015-02-11T00:00:00.000000000",
          "2015-02-12T00:00:00.000000000",
          "2015-02-13T00:00:00.000000000",
          "2015-02-14T00:00:00.000000000",
          "2015-02-15T00:00:00.000000000",
          "2015-02-16T00:00:00.000000000",
          "2015-02-17T00:00:00.000000000",
          "2015-02-18T00:00:00.000000000",
          "2015-02-19T00:00:00.000000000",
          "2015-02-20T00:00:00.000000000",
          "2015-02-21T00:00:00.000000000",
          "2015-02-22T00:00:00.000000000",
          "2015-02-23T00:00:00.000000000",
          "2015-02-24T00:00:00.000000000",
          "2015-02-25T00:00:00.000000000",
          "2015-02-26T00:00:00.000000000",
          "2015-02-27T00:00:00.000000000",
          "2015-02-28T00:00:00.000000000",
          "2015-03-01T00:00:00.000000000",
          "2015-03-02T00:00:00.000000000",
          "2015-03-03T00:00:00.000000000",
          "2015-03-04T00:00:00.000000000",
          "2015-03-05T00:00:00.000000000",
          "2015-03-06T00:00:00.000000000",
          "2015-03-07T00:00:00.000000000",
          "2015-03-08T00:00:00.000000000",
          "2015-03-09T00:00:00.000000000",
          "2015-03-10T00:00:00.000000000",
          "2015-03-11T00:00:00.000000000",
          "2015-03-12T00:00:00.000000000",
          "2015-03-13T00:00:00.000000000",
          "2015-03-14T00:00:00.000000000",
          "2015-03-15T00:00:00.000000000",
          "2015-03-16T00:00:00.000000000",
          "2015-03-17T00:00:00.000000000",
          "2015-03-18T00:00:00.000000000",
          "2015-03-19T00:00:00.000000000",
          "2015-03-20T00:00:00.000000000",
          "2015-03-21T00:00:00.000000000",
          "2015-03-22T00:00:00.000000000",
          "2015-03-23T00:00:00.000000000",
          "2015-03-24T00:00:00.000000000",
          "2015-03-25T00:00:00.000000000",
          "2015-03-26T00:00:00.000000000",
          "2015-03-27T00:00:00.000000000",
          "2015-03-28T00:00:00.000000000",
          "2015-03-29T00:00:00.000000000",
          "2015-03-30T00:00:00.000000000",
          "2015-03-31T00:00:00.000000000",
          "2015-04-01T00:00:00.000000000",
          "2015-04-02T00:00:00.000000000",
          "2015-04-03T00:00:00.000000000",
          "2015-04-04T00:00:00.000000000",
          "2015-04-05T00:00:00.000000000",
          "2015-04-06T00:00:00.000000000",
          "2015-04-07T00:00:00.000000000",
          "2015-04-08T00:00:00.000000000",
          "2015-04-09T00:00:00.000000000",
          "2015-04-10T00:00:00.000000000",
          "2015-04-11T00:00:00.000000000",
          "2015-04-12T00:00:00.000000000",
          "2015-04-13T00:00:00.000000000",
          "2015-04-14T00:00:00.000000000",
          "2015-04-15T00:00:00.000000000",
          "2015-04-16T00:00:00.000000000",
          "2015-04-17T00:00:00.000000000",
          "2015-04-18T00:00:00.000000000",
          "2015-04-19T00:00:00.000000000",
          "2015-04-20T00:00:00.000000000",
          "2015-04-21T00:00:00.000000000",
          "2015-04-22T00:00:00.000000000",
          "2015-04-23T00:00:00.000000000",
          "2015-04-24T00:00:00.000000000",
          "2015-04-25T00:00:00.000000000",
          "2015-04-26T00:00:00.000000000",
          "2015-04-27T00:00:00.000000000",
          "2015-04-28T00:00:00.000000000",
          "2015-04-29T00:00:00.000000000",
          "2015-04-30T00:00:00.000000000",
          "2015-05-01T00:00:00.000000000",
          "2015-05-02T00:00:00.000000000",
          "2015-05-03T00:00:00.000000000",
          "2015-05-04T00:00:00.000000000",
          "2015-05-05T00:00:00.000000000",
          "2015-05-06T00:00:00.000000000",
          "2015-05-07T00:00:00.000000000",
          "2015-05-08T00:00:00.000000000",
          "2015-05-09T00:00:00.000000000",
          "2015-05-10T00:00:00.000000000",
          "2015-05-11T00:00:00.000000000",
          "2015-05-12T00:00:00.000000000",
          "2015-05-13T00:00:00.000000000",
          "2015-05-14T00:00:00.000000000",
          "2015-05-15T00:00:00.000000000",
          "2015-05-16T00:00:00.000000000",
          "2015-05-17T00:00:00.000000000",
          "2015-05-18T00:00:00.000000000",
          "2015-05-19T00:00:00.000000000",
          "2015-05-20T00:00:00.000000000",
          "2015-05-21T00:00:00.000000000",
          "2015-05-22T00:00:00.000000000",
          "2015-05-23T00:00:00.000000000",
          "2015-05-24T00:00:00.000000000",
          "2015-05-25T00:00:00.000000000",
          "2015-05-26T00:00:00.000000000",
          "2015-05-27T00:00:00.000000000",
          "2015-05-28T00:00:00.000000000",
          "2015-05-29T00:00:00.000000000",
          "2015-05-30T00:00:00.000000000",
          "2015-05-31T00:00:00.000000000",
          "2015-06-01T00:00:00.000000000",
          "2015-06-02T00:00:00.000000000",
          "2015-06-03T00:00:00.000000000",
          "2015-06-04T00:00:00.000000000",
          "2015-06-05T00:00:00.000000000",
          "2015-06-06T00:00:00.000000000",
          "2015-06-07T00:00:00.000000000",
          "2015-06-08T00:00:00.000000000",
          "2015-06-09T00:00:00.000000000",
          "2015-06-10T00:00:00.000000000",
          "2015-06-11T00:00:00.000000000",
          "2015-06-12T00:00:00.000000000",
          "2015-06-13T00:00:00.000000000",
          "2015-06-14T00:00:00.000000000",
          "2015-06-15T00:00:00.000000000",
          "2015-06-16T00:00:00.000000000",
          "2015-06-17T00:00:00.000000000",
          "2015-06-18T00:00:00.000000000",
          "2015-06-19T00:00:00.000000000",
          "2015-06-20T00:00:00.000000000",
          "2015-06-21T00:00:00.000000000",
          "2015-06-22T00:00:00.000000000",
          "2015-06-23T00:00:00.000000000",
          "2015-06-24T00:00:00.000000000",
          "2015-06-25T00:00:00.000000000",
          "2015-06-26T00:00:00.000000000",
          "2015-06-27T00:00:00.000000000",
          "2015-06-28T00:00:00.000000000",
          "2015-06-29T00:00:00.000000000",
          "2015-06-30T00:00:00.000000000",
          "2015-07-01T00:00:00.000000000",
          "2015-07-02T00:00:00.000000000",
          "2015-07-03T00:00:00.000000000",
          "2015-07-04T00:00:00.000000000",
          "2015-07-05T00:00:00.000000000",
          "2015-07-06T00:00:00.000000000",
          "2015-07-07T00:00:00.000000000",
          "2015-07-08T00:00:00.000000000",
          "2015-07-09T00:00:00.000000000",
          "2015-07-10T00:00:00.000000000",
          "2015-07-11T00:00:00.000000000",
          "2015-07-12T00:00:00.000000000",
          "2015-07-13T00:00:00.000000000",
          "2015-07-14T00:00:00.000000000",
          "2015-07-15T00:00:00.000000000",
          "2015-07-16T00:00:00.000000000",
          "2015-07-17T00:00:00.000000000",
          "2015-07-18T00:00:00.000000000",
          "2015-07-19T00:00:00.000000000",
          "2015-07-20T00:00:00.000000000",
          "2015-07-21T00:00:00.000000000",
          "2015-07-22T00:00:00.000000000",
          "2015-07-23T00:00:00.000000000",
          "2015-07-24T00:00:00.000000000",
          "2015-07-25T00:00:00.000000000",
          "2015-07-26T00:00:00.000000000",
          "2015-07-27T00:00:00.000000000",
          "2015-07-28T00:00:00.000000000",
          "2015-07-29T00:00:00.000000000",
          "2015-07-30T00:00:00.000000000",
          "2015-07-31T00:00:00.000000000",
          "2015-08-01T00:00:00.000000000",
          "2015-08-02T00:00:00.000000000",
          "2015-08-03T00:00:00.000000000",
          "2015-08-04T00:00:00.000000000",
          "2015-08-05T00:00:00.000000000",
          "2015-08-06T00:00:00.000000000",
          "2015-08-07T00:00:00.000000000",
          "2015-08-08T00:00:00.000000000",
          "2015-08-09T00:00:00.000000000",
          "2015-08-10T00:00:00.000000000",
          "2015-08-11T00:00:00.000000000",
          "2015-08-12T00:00:00.000000000",
          "2015-08-13T00:00:00.000000000",
          "2015-08-14T00:00:00.000000000",
          "2015-08-15T00:00:00.000000000",
          "2015-08-16T00:00:00.000000000",
          "2015-08-17T00:00:00.000000000",
          "2015-08-18T00:00:00.000000000",
          "2015-08-19T00:00:00.000000000",
          "2015-08-20T00:00:00.000000000",
          "2015-08-21T00:00:00.000000000",
          "2015-08-22T00:00:00.000000000",
          "2015-08-23T00:00:00.000000000",
          "2015-08-24T00:00:00.000000000",
          "2015-08-25T00:00:00.000000000",
          "2015-08-26T00:00:00.000000000",
          "2015-08-27T00:00:00.000000000",
          "2015-08-28T00:00:00.000000000",
          "2015-08-29T00:00:00.000000000",
          "2015-08-30T00:00:00.000000000",
          "2015-08-31T00:00:00.000000000",
          "2015-09-01T00:00:00.000000000",
          "2015-09-02T00:00:00.000000000",
          "2015-09-03T00:00:00.000000000",
          "2015-09-04T00:00:00.000000000",
          "2015-09-05T00:00:00.000000000",
          "2015-09-06T00:00:00.000000000",
          "2015-09-07T00:00:00.000000000",
          "2015-09-08T00:00:00.000000000",
          "2015-09-09T00:00:00.000000000",
          "2015-09-10T00:00:00.000000000",
          "2015-09-11T00:00:00.000000000",
          "2015-09-12T00:00:00.000000000",
          "2015-09-13T00:00:00.000000000",
          "2015-09-14T00:00:00.000000000",
          "2015-09-15T00:00:00.000000000",
          "2015-09-16T00:00:00.000000000",
          "2015-09-17T00:00:00.000000000",
          "2015-09-18T00:00:00.000000000",
          "2015-09-19T00:00:00.000000000",
          "2015-09-20T00:00:00.000000000",
          "2015-09-21T00:00:00.000000000",
          "2015-09-22T00:00:00.000000000",
          "2015-09-23T00:00:00.000000000",
          "2015-09-24T00:00:00.000000000",
          "2015-09-25T00:00:00.000000000",
          "2015-09-26T00:00:00.000000000",
          "2015-09-27T00:00:00.000000000",
          "2015-09-28T00:00:00.000000000",
          "2015-09-29T00:00:00.000000000",
          "2015-09-30T00:00:00.000000000",
          "2015-10-01T00:00:00.000000000",
          "2015-10-02T00:00:00.000000000",
          "2015-10-03T00:00:00.000000000",
          "2015-10-04T00:00:00.000000000",
          "2015-10-05T00:00:00.000000000",
          "2015-10-06T00:00:00.000000000",
          "2015-10-07T00:00:00.000000000",
          "2015-10-08T00:00:00.000000000",
          "2015-10-09T00:00:00.000000000",
          "2015-10-10T00:00:00.000000000",
          "2015-10-11T00:00:00.000000000",
          "2015-10-12T00:00:00.000000000",
          "2015-10-13T00:00:00.000000000",
          "2015-10-14T00:00:00.000000000",
          "2015-10-15T00:00:00.000000000",
          "2015-10-16T00:00:00.000000000",
          "2015-10-17T00:00:00.000000000",
          "2015-10-18T00:00:00.000000000",
          "2015-10-19T00:00:00.000000000",
          "2015-10-20T00:00:00.000000000",
          "2015-10-21T00:00:00.000000000",
          "2015-10-22T00:00:00.000000000",
          "2015-10-23T00:00:00.000000000",
          "2015-10-24T00:00:00.000000000",
          "2015-10-25T00:00:00.000000000",
          "2015-10-26T00:00:00.000000000",
          "2015-10-27T00:00:00.000000000",
          "2015-10-28T00:00:00.000000000",
          "2015-10-29T00:00:00.000000000",
          "2015-10-30T00:00:00.000000000",
          "2015-10-31T00:00:00.000000000",
          "2015-11-01T00:00:00.000000000",
          "2015-11-02T00:00:00.000000000",
          "2015-11-03T00:00:00.000000000",
          "2015-11-04T00:00:00.000000000",
          "2015-11-05T00:00:00.000000000",
          "2015-11-06T00:00:00.000000000",
          "2015-11-07T00:00:00.000000000",
          "2015-11-08T00:00:00.000000000",
          "2015-11-09T00:00:00.000000000",
          "2015-11-10T00:00:00.000000000",
          "2015-11-11T00:00:00.000000000",
          "2015-11-12T00:00:00.000000000",
          "2015-11-13T00:00:00.000000000",
          "2015-11-14T00:00:00.000000000",
          "2015-11-15T00:00:00.000000000",
          "2015-11-16T00:00:00.000000000",
          "2015-11-17T00:00:00.000000000",
          "2015-11-18T00:00:00.000000000",
          "2015-11-19T00:00:00.000000000",
          "2015-11-20T00:00:00.000000000",
          "2015-11-21T00:00:00.000000000",
          "2015-11-22T00:00:00.000000000",
          "2015-11-23T00:00:00.000000000",
          "2015-11-24T00:00:00.000000000",
          "2015-11-25T00:00:00.000000000",
          "2015-11-26T00:00:00.000000000",
          "2015-11-27T00:00:00.000000000",
          "2015-11-28T00:00:00.000000000",
          "2015-11-29T00:00:00.000000000",
          "2015-11-30T00:00:00.000000000",
          "2015-12-01T00:00:00.000000000",
          "2015-12-02T00:00:00.000000000",
          "2015-12-03T00:00:00.000000000",
          "2015-12-04T00:00:00.000000000",
          "2015-12-05T00:00:00.000000000",
          "2015-12-06T00:00:00.000000000",
          "2015-12-07T00:00:00.000000000",
          "2015-12-08T00:00:00.000000000",
          "2015-12-09T00:00:00.000000000",
          "2015-12-10T00:00:00.000000000",
          "2015-12-11T00:00:00.000000000",
          "2015-12-12T00:00:00.000000000",
          "2015-12-13T00:00:00.000000000",
          "2015-12-14T00:00:00.000000000",
          "2015-12-15T00:00:00.000000000",
          "2015-12-16T00:00:00.000000000",
          "2015-12-17T00:00:00.000000000",
          "2015-12-18T00:00:00.000000000",
          "2015-12-19T00:00:00.000000000",
          "2015-12-20T00:00:00.000000000",
          "2015-12-21T00:00:00.000000000",
          "2015-12-22T00:00:00.000000000",
          "2015-12-23T00:00:00.000000000",
          "2015-12-24T00:00:00.000000000",
          "2015-12-25T00:00:00.000000000",
          "2015-12-26T00:00:00.000000000",
          "2015-12-27T00:00:00.000000000",
          "2015-12-28T00:00:00.000000000",
          "2015-12-29T00:00:00.000000000",
          "2015-12-30T00:00:00.000000000",
          "2015-12-31T00:00:00.000000000",
          "2016-01-01T00:00:00.000000000",
          "2016-01-02T00:00:00.000000000",
          "2016-01-03T00:00:00.000000000",
          "2016-01-04T00:00:00.000000000",
          "2016-01-05T00:00:00.000000000",
          "2016-01-06T00:00:00.000000000",
          "2016-01-07T00:00:00.000000000",
          "2016-01-08T00:00:00.000000000",
          "2016-01-09T00:00:00.000000000",
          "2016-01-10T00:00:00.000000000",
          "2016-01-11T00:00:00.000000000",
          "2016-01-12T00:00:00.000000000",
          "2016-01-13T00:00:00.000000000",
          "2016-01-14T00:00:00.000000000",
          "2016-01-15T00:00:00.000000000",
          "2016-01-16T00:00:00.000000000",
          "2016-01-17T00:00:00.000000000",
          "2016-01-18T00:00:00.000000000",
          "2016-01-19T00:00:00.000000000",
          "2016-01-20T00:00:00.000000000",
          "2016-01-21T00:00:00.000000000",
          "2016-01-22T00:00:00.000000000",
          "2016-01-23T00:00:00.000000000",
          "2016-01-24T00:00:00.000000000",
          "2016-01-25T00:00:00.000000000",
          "2016-01-26T00:00:00.000000000",
          "2016-01-27T00:00:00.000000000",
          "2016-01-28T00:00:00.000000000",
          "2016-01-29T00:00:00.000000000",
          "2016-01-30T00:00:00.000000000",
          "2016-01-31T00:00:00.000000000",
          "2016-02-01T00:00:00.000000000",
          "2016-02-02T00:00:00.000000000",
          "2016-02-03T00:00:00.000000000",
          "2016-02-04T00:00:00.000000000",
          "2016-02-05T00:00:00.000000000",
          "2016-02-06T00:00:00.000000000",
          "2016-02-07T00:00:00.000000000",
          "2016-02-08T00:00:00.000000000",
          "2016-02-09T00:00:00.000000000",
          "2016-02-10T00:00:00.000000000",
          "2016-02-11T00:00:00.000000000",
          "2016-02-12T00:00:00.000000000",
          "2016-02-13T00:00:00.000000000",
          "2016-02-14T00:00:00.000000000",
          "2016-02-15T00:00:00.000000000",
          "2016-02-16T00:00:00.000000000",
          "2016-02-17T00:00:00.000000000",
          "2016-02-18T00:00:00.000000000",
          "2016-02-19T00:00:00.000000000",
          "2016-02-20T00:00:00.000000000",
          "2016-02-21T00:00:00.000000000",
          "2016-02-22T00:00:00.000000000",
          "2016-02-23T00:00:00.000000000",
          "2016-02-24T00:00:00.000000000",
          "2016-02-25T00:00:00.000000000",
          "2016-02-26T00:00:00.000000000",
          "2016-02-27T00:00:00.000000000",
          "2016-02-28T00:00:00.000000000",
          "2016-02-29T00:00:00.000000000",
          "2016-03-01T00:00:00.000000000",
          "2016-03-02T00:00:00.000000000",
          "2016-03-03T00:00:00.000000000",
          "2016-03-04T00:00:00.000000000",
          "2016-03-05T00:00:00.000000000",
          "2016-03-06T00:00:00.000000000",
          "2016-03-07T00:00:00.000000000",
          "2016-03-08T00:00:00.000000000",
          "2016-03-09T00:00:00.000000000",
          "2016-03-10T00:00:00.000000000",
          "2016-03-11T00:00:00.000000000",
          "2016-03-12T00:00:00.000000000",
          "2016-03-13T00:00:00.000000000",
          "2016-03-14T00:00:00.000000000",
          "2016-03-15T00:00:00.000000000",
          "2016-03-16T00:00:00.000000000",
          "2016-03-17T00:00:00.000000000",
          "2016-03-18T00:00:00.000000000",
          "2016-03-19T00:00:00.000000000",
          "2016-03-20T00:00:00.000000000",
          "2016-03-21T00:00:00.000000000",
          "2016-03-22T00:00:00.000000000",
          "2016-03-23T00:00:00.000000000",
          "2016-03-24T00:00:00.000000000",
          "2016-03-25T00:00:00.000000000",
          "2016-03-26T00:00:00.000000000",
          "2016-03-27T00:00:00.000000000",
          "2016-03-28T00:00:00.000000000",
          "2016-03-29T00:00:00.000000000",
          "2016-03-30T00:00:00.000000000",
          "2016-03-31T00:00:00.000000000",
          "2016-04-01T00:00:00.000000000",
          "2016-04-02T00:00:00.000000000",
          "2016-04-03T00:00:00.000000000",
          "2016-04-04T00:00:00.000000000",
          "2016-04-05T00:00:00.000000000",
          "2016-04-06T00:00:00.000000000",
          "2016-04-07T00:00:00.000000000",
          "2016-04-08T00:00:00.000000000",
          "2016-04-09T00:00:00.000000000",
          "2016-04-10T00:00:00.000000000",
          "2016-04-11T00:00:00.000000000",
          "2016-04-12T00:00:00.000000000",
          "2016-04-13T00:00:00.000000000",
          "2016-04-14T00:00:00.000000000",
          "2016-04-15T00:00:00.000000000",
          "2016-04-16T00:00:00.000000000",
          "2016-04-17T00:00:00.000000000",
          "2016-04-18T00:00:00.000000000",
          "2016-04-19T00:00:00.000000000",
          "2016-04-20T00:00:00.000000000",
          "2016-04-21T00:00:00.000000000",
          "2016-04-22T00:00:00.000000000",
          "2016-04-23T00:00:00.000000000",
          "2016-04-24T00:00:00.000000000",
          "2016-04-25T00:00:00.000000000",
          "2016-04-26T00:00:00.000000000",
          "2016-04-27T00:00:00.000000000",
          "2016-04-28T00:00:00.000000000",
          "2016-04-29T00:00:00.000000000",
          "2016-04-30T00:00:00.000000000",
          "2016-05-01T00:00:00.000000000",
          "2016-05-02T00:00:00.000000000",
          "2016-05-03T00:00:00.000000000",
          "2016-05-04T00:00:00.000000000",
          "2016-05-05T00:00:00.000000000",
          "2016-05-06T00:00:00.000000000",
          "2016-05-07T00:00:00.000000000",
          "2016-05-08T00:00:00.000000000",
          "2016-05-09T00:00:00.000000000",
          "2016-05-10T00:00:00.000000000",
          "2016-05-11T00:00:00.000000000",
          "2016-05-12T00:00:00.000000000",
          "2016-05-13T00:00:00.000000000",
          "2016-05-14T00:00:00.000000000",
          "2016-05-15T00:00:00.000000000",
          "2016-05-16T00:00:00.000000000",
          "2016-05-17T00:00:00.000000000",
          "2016-05-18T00:00:00.000000000",
          "2016-05-19T00:00:00.000000000",
          "2016-05-20T00:00:00.000000000",
          "2016-05-21T00:00:00.000000000",
          "2016-05-22T00:00:00.000000000",
          "2016-05-23T00:00:00.000000000",
          "2016-05-24T00:00:00.000000000",
          "2016-05-25T00:00:00.000000000",
          "2016-05-26T00:00:00.000000000",
          "2016-05-27T00:00:00.000000000",
          "2016-05-28T00:00:00.000000000",
          "2016-05-29T00:00:00.000000000",
          "2016-05-30T00:00:00.000000000",
          "2016-05-31T00:00:00.000000000",
          "2016-06-01T00:00:00.000000000",
          "2016-06-02T00:00:00.000000000",
          "2016-06-03T00:00:00.000000000",
          "2016-06-04T00:00:00.000000000",
          "2016-06-05T00:00:00.000000000",
          "2016-06-06T00:00:00.000000000",
          "2016-06-07T00:00:00.000000000",
          "2016-06-08T00:00:00.000000000",
          "2016-06-09T00:00:00.000000000",
          "2016-06-10T00:00:00.000000000",
          "2016-06-11T00:00:00.000000000",
          "2016-06-12T00:00:00.000000000",
          "2016-06-13T00:00:00.000000000",
          "2016-06-14T00:00:00.000000000",
          "2016-06-15T00:00:00.000000000",
          "2016-06-16T00:00:00.000000000",
          "2016-06-17T00:00:00.000000000",
          "2016-06-18T00:00:00.000000000",
          "2016-06-19T00:00:00.000000000",
          "2016-06-20T00:00:00.000000000",
          "2016-06-21T00:00:00.000000000",
          "2016-06-22T00:00:00.000000000",
          "2016-06-23T00:00:00.000000000",
          "2016-06-24T00:00:00.000000000",
          "2016-06-25T00:00:00.000000000",
          "2016-06-26T00:00:00.000000000",
          "2016-06-27T00:00:00.000000000",
          "2016-06-28T00:00:00.000000000",
          "2016-06-29T00:00:00.000000000",
          "2016-06-30T00:00:00.000000000",
          "2016-07-01T00:00:00.000000000",
          "2016-07-02T00:00:00.000000000",
          "2016-07-03T00:00:00.000000000",
          "2016-07-04T00:00:00.000000000",
          "2016-07-05T00:00:00.000000000",
          "2016-07-06T00:00:00.000000000",
          "2016-07-07T00:00:00.000000000",
          "2016-07-08T00:00:00.000000000",
          "2016-07-09T00:00:00.000000000",
          "2016-07-10T00:00:00.000000000",
          "2016-07-11T00:00:00.000000000",
          "2016-07-12T00:00:00.000000000",
          "2016-07-13T00:00:00.000000000",
          "2016-07-14T00:00:00.000000000",
          "2016-07-15T00:00:00.000000000",
          "2016-07-16T00:00:00.000000000",
          "2016-07-17T00:00:00.000000000",
          "2016-07-18T00:00:00.000000000",
          "2016-07-19T00:00:00.000000000",
          "2016-07-20T00:00:00.000000000",
          "2016-07-21T00:00:00.000000000",
          "2016-07-22T00:00:00.000000000",
          "2016-07-23T00:00:00.000000000",
          "2016-07-24T00:00:00.000000000",
          "2016-07-25T00:00:00.000000000",
          "2016-07-26T00:00:00.000000000",
          "2016-07-27T00:00:00.000000000",
          "2016-07-28T00:00:00.000000000",
          "2016-07-29T00:00:00.000000000",
          "2016-07-30T00:00:00.000000000",
          "2016-07-31T00:00:00.000000000",
          "2016-08-01T00:00:00.000000000",
          "2016-08-02T00:00:00.000000000",
          "2016-08-03T00:00:00.000000000",
          "2016-08-04T00:00:00.000000000",
          "2016-08-05T00:00:00.000000000",
          "2016-08-06T00:00:00.000000000",
          "2016-08-07T00:00:00.000000000",
          "2016-08-08T00:00:00.000000000",
          "2016-08-09T00:00:00.000000000",
          "2016-08-10T00:00:00.000000000",
          "2016-08-11T00:00:00.000000000",
          "2016-08-12T00:00:00.000000000",
          "2016-08-13T00:00:00.000000000",
          "2016-08-14T00:00:00.000000000",
          "2016-08-15T00:00:00.000000000",
          "2016-08-16T00:00:00.000000000",
          "2016-08-17T00:00:00.000000000",
          "2016-08-18T00:00:00.000000000",
          "2016-08-19T00:00:00.000000000",
          "2016-08-20T00:00:00.000000000",
          "2016-08-21T00:00:00.000000000",
          "2016-08-22T00:00:00.000000000",
          "2016-08-23T00:00:00.000000000",
          "2016-08-24T00:00:00.000000000",
          "2016-08-25T00:00:00.000000000",
          "2016-08-26T00:00:00.000000000",
          "2016-08-27T00:00:00.000000000",
          "2016-08-28T00:00:00.000000000",
          "2016-08-29T00:00:00.000000000",
          "2016-08-30T00:00:00.000000000",
          "2016-08-31T00:00:00.000000000",
          "2016-09-01T00:00:00.000000000",
          "2016-09-02T00:00:00.000000000",
          "2016-09-03T00:00:00.000000000",
          "2016-09-04T00:00:00.000000000",
          "2016-09-05T00:00:00.000000000",
          "2016-09-06T00:00:00.000000000",
          "2016-09-07T00:00:00.000000000",
          "2016-09-08T00:00:00.000000000",
          "2016-09-09T00:00:00.000000000",
          "2016-09-10T00:00:00.000000000",
          "2016-09-11T00:00:00.000000000",
          "2016-09-12T00:00:00.000000000",
          "2016-09-13T00:00:00.000000000",
          "2016-09-14T00:00:00.000000000",
          "2016-09-15T00:00:00.000000000",
          "2016-09-16T00:00:00.000000000",
          "2016-09-17T00:00:00.000000000",
          "2016-09-18T00:00:00.000000000",
          "2016-09-19T00:00:00.000000000",
          "2016-09-20T00:00:00.000000000",
          "2016-09-21T00:00:00.000000000",
          "2016-09-22T00:00:00.000000000",
          "2016-09-23T00:00:00.000000000",
          "2016-09-24T00:00:00.000000000",
          "2016-09-25T00:00:00.000000000",
          "2016-09-26T00:00:00.000000000",
          "2016-09-27T00:00:00.000000000",
          "2016-09-28T00:00:00.000000000",
          "2016-09-29T00:00:00.000000000",
          "2016-09-30T00:00:00.000000000",
          "2016-10-01T00:00:00.000000000",
          "2016-10-02T00:00:00.000000000",
          "2016-10-03T00:00:00.000000000",
          "2016-10-04T00:00:00.000000000",
          "2016-10-05T00:00:00.000000000",
          "2016-10-06T00:00:00.000000000",
          "2016-10-07T00:00:00.000000000",
          "2016-10-08T00:00:00.000000000",
          "2016-10-09T00:00:00.000000000",
          "2016-10-10T00:00:00.000000000",
          "2016-10-11T00:00:00.000000000",
          "2016-10-12T00:00:00.000000000",
          "2016-10-13T00:00:00.000000000",
          "2016-10-14T00:00:00.000000000",
          "2016-10-15T00:00:00.000000000",
          "2016-10-16T00:00:00.000000000",
          "2016-10-17T00:00:00.000000000",
          "2016-10-18T00:00:00.000000000",
          "2016-10-19T00:00:00.000000000",
          "2016-10-20T00:00:00.000000000",
          "2016-10-21T00:00:00.000000000",
          "2016-10-22T00:00:00.000000000",
          "2016-10-23T00:00:00.000000000",
          "2016-10-24T00:00:00.000000000",
          "2016-10-25T00:00:00.000000000",
          "2016-10-26T00:00:00.000000000",
          "2016-10-27T00:00:00.000000000",
          "2016-10-28T00:00:00.000000000",
          "2016-10-29T00:00:00.000000000",
          "2016-10-30T00:00:00.000000000",
          "2016-10-31T00:00:00.000000000",
          "2016-11-01T00:00:00.000000000",
          "2016-11-02T00:00:00.000000000",
          "2016-11-03T00:00:00.000000000",
          "2016-11-04T00:00:00.000000000",
          "2016-11-05T00:00:00.000000000",
          "2016-11-06T00:00:00.000000000",
          "2016-11-07T00:00:00.000000000",
          "2016-11-08T00:00:00.000000000",
          "2016-11-09T00:00:00.000000000",
          "2016-11-10T00:00:00.000000000",
          "2016-11-11T00:00:00.000000000",
          "2016-11-12T00:00:00.000000000",
          "2016-11-13T00:00:00.000000000",
          "2016-11-14T00:00:00.000000000",
          "2016-11-15T00:00:00.000000000",
          "2016-11-16T00:00:00.000000000",
          "2016-11-17T00:00:00.000000000",
          "2016-11-18T00:00:00.000000000",
          "2016-11-19T00:00:00.000000000",
          "2016-11-20T00:00:00.000000000",
          "2016-11-21T00:00:00.000000000",
          "2016-11-22T00:00:00.000000000",
          "2016-11-23T00:00:00.000000000",
          "2016-11-24T00:00:00.000000000",
          "2016-11-25T00:00:00.000000000",
          "2016-11-26T00:00:00.000000000",
          "2016-11-27T00:00:00.000000000",
          "2016-11-28T00:00:00.000000000",
          "2016-11-29T00:00:00.000000000",
          "2016-11-30T00:00:00.000000000",
          "2016-12-01T00:00:00.000000000",
          "2016-12-02T00:00:00.000000000",
          "2016-12-03T00:00:00.000000000",
          "2016-12-04T00:00:00.000000000",
          "2016-12-05T00:00:00.000000000",
          "2016-12-06T00:00:00.000000000",
          "2016-12-07T00:00:00.000000000",
          "2016-12-08T00:00:00.000000000",
          "2016-12-09T00:00:00.000000000",
          "2016-12-10T00:00:00.000000000",
          "2016-12-11T00:00:00.000000000",
          "2016-12-12T00:00:00.000000000",
          "2016-12-13T00:00:00.000000000",
          "2016-12-14T00:00:00.000000000",
          "2016-12-15T00:00:00.000000000",
          "2016-12-16T00:00:00.000000000",
          "2016-12-17T00:00:00.000000000",
          "2016-12-18T00:00:00.000000000",
          "2016-12-19T00:00:00.000000000",
          "2016-12-20T00:00:00.000000000",
          "2016-12-21T00:00:00.000000000",
          "2016-12-22T00:00:00.000000000",
          "2016-12-23T00:00:00.000000000",
          "2016-12-24T00:00:00.000000000",
          "2016-12-25T00:00:00.000000000",
          "2016-12-26T00:00:00.000000000",
          "2016-12-27T00:00:00.000000000",
          "2016-12-28T00:00:00.000000000",
          "2016-12-29T00:00:00.000000000",
          "2016-12-30T00:00:00.000000000",
          "2016-12-31T00:00:00.000000000",
          "2017-01-01T00:00:00.000000000",
          "2017-01-02T00:00:00.000000000",
          "2017-01-03T00:00:00.000000000",
          "2017-01-04T00:00:00.000000000",
          "2017-01-05T00:00:00.000000000",
          "2017-01-06T00:00:00.000000000",
          "2017-01-07T00:00:00.000000000",
          "2017-01-08T00:00:00.000000000",
          "2017-01-09T00:00:00.000000000",
          "2017-01-10T00:00:00.000000000",
          "2017-01-11T00:00:00.000000000",
          "2017-01-12T00:00:00.000000000",
          "2017-01-13T00:00:00.000000000",
          "2017-01-14T00:00:00.000000000",
          "2017-01-15T00:00:00.000000000",
          "2017-01-16T00:00:00.000000000",
          "2017-01-17T00:00:00.000000000",
          "2017-01-18T00:00:00.000000000",
          "2017-01-19T00:00:00.000000000",
          "2017-01-20T00:00:00.000000000",
          "2017-01-21T00:00:00.000000000",
          "2017-01-22T00:00:00.000000000",
          "2017-01-23T00:00:00.000000000",
          "2017-01-24T00:00:00.000000000",
          "2017-01-25T00:00:00.000000000",
          "2017-01-26T00:00:00.000000000",
          "2017-01-27T00:00:00.000000000",
          "2017-01-28T00:00:00.000000000",
          "2017-01-29T00:00:00.000000000",
          "2017-01-30T00:00:00.000000000",
          "2017-01-31T00:00:00.000000000",
          "2017-02-01T00:00:00.000000000",
          "2017-02-02T00:00:00.000000000",
          "2017-02-03T00:00:00.000000000",
          "2017-02-04T00:00:00.000000000",
          "2017-02-05T00:00:00.000000000",
          "2017-02-06T00:00:00.000000000",
          "2017-02-07T00:00:00.000000000",
          "2017-02-08T00:00:00.000000000",
          "2017-02-09T00:00:00.000000000",
          "2017-02-10T00:00:00.000000000",
          "2017-02-11T00:00:00.000000000",
          "2017-02-12T00:00:00.000000000",
          "2017-02-13T00:00:00.000000000",
          "2017-02-14T00:00:00.000000000",
          "2017-02-15T00:00:00.000000000",
          "2017-02-16T00:00:00.000000000",
          "2017-02-17T00:00:00.000000000",
          "2017-02-18T00:00:00.000000000",
          "2017-02-19T00:00:00.000000000",
          "2017-02-20T00:00:00.000000000",
          "2017-02-21T00:00:00.000000000",
          "2017-02-22T00:00:00.000000000",
          "2017-02-23T00:00:00.000000000",
          "2017-02-24T00:00:00.000000000",
          "2017-02-25T00:00:00.000000000",
          "2017-02-26T00:00:00.000000000",
          "2017-02-27T00:00:00.000000000",
          "2017-02-28T00:00:00.000000000",
          "2017-03-01T00:00:00.000000000",
          "2017-03-02T00:00:00.000000000",
          "2017-03-03T00:00:00.000000000",
          "2017-03-04T00:00:00.000000000",
          "2017-03-05T00:00:00.000000000",
          "2017-03-06T00:00:00.000000000",
          "2017-03-07T00:00:00.000000000",
          "2017-03-08T00:00:00.000000000",
          "2017-03-09T00:00:00.000000000",
          "2017-03-10T00:00:00.000000000",
          "2017-03-11T00:00:00.000000000",
          "2017-03-12T00:00:00.000000000",
          "2017-03-13T00:00:00.000000000",
          "2017-03-14T00:00:00.000000000",
          "2017-03-15T00:00:00.000000000",
          "2017-03-16T00:00:00.000000000",
          "2017-03-17T00:00:00.000000000",
          "2017-03-18T00:00:00.000000000",
          "2017-03-19T00:00:00.000000000",
          "2017-03-20T00:00:00.000000000",
          "2017-03-21T00:00:00.000000000",
          "2017-03-22T00:00:00.000000000",
          "2017-03-23T00:00:00.000000000",
          "2017-03-24T00:00:00.000000000",
          "2017-03-25T00:00:00.000000000",
          "2017-03-26T00:00:00.000000000",
          "2017-03-27T00:00:00.000000000",
          "2017-03-28T00:00:00.000000000",
          "2017-03-29T00:00:00.000000000",
          "2017-03-30T00:00:00.000000000",
          "2017-03-31T00:00:00.000000000",
          "2017-04-01T00:00:00.000000000",
          "2017-04-02T00:00:00.000000000",
          "2017-04-03T00:00:00.000000000",
          "2017-04-04T00:00:00.000000000",
          "2017-04-05T00:00:00.000000000",
          "2017-04-06T00:00:00.000000000",
          "2017-04-07T00:00:00.000000000",
          "2017-04-08T00:00:00.000000000",
          "2017-04-09T00:00:00.000000000",
          "2017-04-10T00:00:00.000000000",
          "2017-04-11T00:00:00.000000000",
          "2017-04-12T00:00:00.000000000",
          "2017-04-13T00:00:00.000000000",
          "2017-04-14T00:00:00.000000000",
          "2017-04-15T00:00:00.000000000",
          "2017-04-16T00:00:00.000000000",
          "2017-04-17T00:00:00.000000000",
          "2017-04-18T00:00:00.000000000",
          "2017-04-19T00:00:00.000000000",
          "2017-04-20T00:00:00.000000000",
          "2017-04-21T00:00:00.000000000",
          "2017-04-22T00:00:00.000000000",
          "2017-04-23T00:00:00.000000000",
          "2017-04-24T00:00:00.000000000",
          "2017-04-25T00:00:00.000000000",
          "2017-04-26T00:00:00.000000000",
          "2017-04-27T00:00:00.000000000",
          "2017-04-28T00:00:00.000000000",
          "2017-04-29T00:00:00.000000000",
          "2017-04-30T00:00:00.000000000",
          "2017-05-01T00:00:00.000000000",
          "2017-05-02T00:00:00.000000000",
          "2017-05-03T00:00:00.000000000",
          "2017-05-04T00:00:00.000000000",
          "2017-05-05T00:00:00.000000000",
          "2017-05-06T00:00:00.000000000",
          "2017-05-07T00:00:00.000000000",
          "2017-05-08T00:00:00.000000000",
          "2017-05-09T00:00:00.000000000",
          "2017-05-10T00:00:00.000000000",
          "2017-05-11T00:00:00.000000000",
          "2017-05-12T00:00:00.000000000",
          "2017-05-13T00:00:00.000000000",
          "2017-05-14T00:00:00.000000000",
          "2017-05-15T00:00:00.000000000",
          "2017-05-16T00:00:00.000000000",
          "2017-05-17T00:00:00.000000000",
          "2017-05-18T00:00:00.000000000",
          "2017-05-19T00:00:00.000000000",
          "2017-05-20T00:00:00.000000000",
          "2017-05-21T00:00:00.000000000",
          "2017-05-22T00:00:00.000000000",
          "2017-05-23T00:00:00.000000000",
          "2017-05-24T00:00:00.000000000",
          "2017-05-25T00:00:00.000000000",
          "2017-05-26T00:00:00.000000000",
          "2017-05-27T00:00:00.000000000",
          "2017-05-28T00:00:00.000000000",
          "2017-05-29T00:00:00.000000000",
          "2017-05-30T00:00:00.000000000",
          "2017-05-31T00:00:00.000000000",
          "2017-06-01T00:00:00.000000000",
          "2017-06-02T00:00:00.000000000",
          "2017-06-03T00:00:00.000000000",
          "2017-06-04T00:00:00.000000000",
          "2017-06-05T00:00:00.000000000",
          "2017-06-06T00:00:00.000000000",
          "2017-06-07T00:00:00.000000000",
          "2017-06-08T00:00:00.000000000",
          "2017-06-09T00:00:00.000000000",
          "2017-06-10T00:00:00.000000000",
          "2017-06-11T00:00:00.000000000",
          "2017-06-12T00:00:00.000000000",
          "2017-06-13T00:00:00.000000000",
          "2017-06-14T00:00:00.000000000",
          "2017-06-15T00:00:00.000000000",
          "2017-06-16T00:00:00.000000000",
          "2017-06-17T00:00:00.000000000",
          "2017-06-18T00:00:00.000000000",
          "2017-06-19T00:00:00.000000000",
          "2017-06-20T00:00:00.000000000",
          "2017-06-21T00:00:00.000000000",
          "2017-06-22T00:00:00.000000000",
          "2017-06-23T00:00:00.000000000",
          "2017-06-24T00:00:00.000000000",
          "2017-06-25T00:00:00.000000000",
          "2017-06-26T00:00:00.000000000",
          "2017-06-27T00:00:00.000000000",
          "2017-06-28T00:00:00.000000000",
          "2017-06-29T00:00:00.000000000",
          "2017-06-30T00:00:00.000000000",
          "2017-07-01T00:00:00.000000000",
          "2017-07-02T00:00:00.000000000",
          "2017-07-03T00:00:00.000000000",
          "2017-07-04T00:00:00.000000000",
          "2017-07-05T00:00:00.000000000",
          "2017-07-06T00:00:00.000000000",
          "2017-07-07T00:00:00.000000000",
          "2017-07-08T00:00:00.000000000",
          "2017-07-09T00:00:00.000000000",
          "2017-07-10T00:00:00.000000000",
          "2017-07-11T00:00:00.000000000",
          "2017-07-12T00:00:00.000000000",
          "2017-07-13T00:00:00.000000000",
          "2017-07-14T00:00:00.000000000",
          "2017-07-15T00:00:00.000000000",
          "2017-07-16T00:00:00.000000000",
          "2017-07-17T00:00:00.000000000",
          "2017-07-18T00:00:00.000000000",
          "2017-07-19T00:00:00.000000000",
          "2017-07-20T00:00:00.000000000",
          "2017-07-21T00:00:00.000000000",
          "2017-07-22T00:00:00.000000000",
          "2017-07-23T00:00:00.000000000",
          "2017-07-24T00:00:00.000000000",
          "2017-07-25T00:00:00.000000000",
          "2017-07-26T00:00:00.000000000",
          "2017-07-27T00:00:00.000000000",
          "2017-07-28T00:00:00.000000000",
          "2017-07-29T00:00:00.000000000",
          "2017-07-30T00:00:00.000000000",
          "2017-07-31T00:00:00.000000000"
         ],
         "xaxis": "x",
         "y": {
          "bdata": "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",
          "dtype": "f8"
         },
         "yaxis": "y"
        }
       ],
       "layout": {
        "legend": {
         "tracegroupgap": 0
        },
        "template": {
         "data": {
          "bar": [
           {
            "error_x": {
             "color": "#2a3f5f"
            },
            "error_y": {
             "color": "#2a3f5f"
            },
            "marker": {
             "line": {
              "color": "#E5ECF6",
              "width": 0.5
             },
             "pattern": {
              "fillmode": "overlay",
              "size": 10,
              "solidity": 0.2
             }
            },
            "type": "bar"
           }
          ],
          "barpolar": [
           {
            "marker": {
             "line": {
              "color": "#E5ECF6",
              "width": 0.5
             },
             "pattern": {
              "fillmode": "overlay",
              "size": 10,
              "solidity": 0.2
             }
            },
            "type": "barpolar"
           }
          ],
          "carpet": [
           {
            "aaxis": {
             "endlinecolor": "#2a3f5f",
             "gridcolor": "white",
             "linecolor": "white",
             "minorgridcolor": "white",
             "startlinecolor": "#2a3f5f"
            },
            "baxis": {
             "endlinecolor": "#2a3f5f",
             "gridcolor": "white",
             "linecolor": "white",
             "minorgridcolor": "white",
             "startlinecolor": "#2a3f5f"
            },
            "type": "carpet"
           }
          ],
          "choropleth": [
           {
            "colorbar": {
             "outlinewidth": 0,
             "ticks": ""
            },
            "type": "choropleth"
           }
          ],
          "contour": [
           {
            "colorbar": {
             "outlinewidth": 0,
             "ticks": ""
            },
            "colorscale": [
             [
              0,
              "#0d0887"
             ],
             [
              0.1111111111111111,
              "#46039f"
             ],
             [
              0.2222222222222222,
              "#7201a8"
             ],
             [
              0.3333333333333333,
              "#9c179e"
             ],
             [
              0.4444444444444444,
              "#bd3786"
             ],
             [
              0.5555555555555556,
              "#d8576b"
             ],
             [
              0.6666666666666666,
              "#ed7953"
             ],
             [
              0.7777777777777778,
              "#fb9f3a"
             ],
             [
              0.8888888888888888,
              "#fdca26"
             ],
             [
              1,
              "#f0f921"
             ]
            ],
            "type": "contour"
           }
          ],
          "contourcarpet": [
           {
            "colorbar": {
             "outlinewidth": 0,
             "ticks": ""
            },
            "type": "contourcarpet"
           }
          ],
          "heatmap": [
           {
            "colorbar": {
             "outlinewidth": 0,
             "ticks": ""
            },
            "colorscale": [
             [
              0,
              "#0d0887"
             ],
             [
              0.1111111111111111,
              "#46039f"
             ],
             [
              0.2222222222222222,
              "#7201a8"
             ],
             [
              0.3333333333333333,
              "#9c179e"
             ],
             [
              0.4444444444444444,
              "#bd3786"
             ],
             [
              0.5555555555555556,
              "#d8576b"
             ],
             [
              0.6666666666666666,
              "#ed7953"
             ],
             [
              0.7777777777777778,
              "#fb9f3a"
             ],
             [
              0.8888888888888888,
              "#fdca26"
             ],
             [
              1,
              "#f0f921"
             ]
            ],
            "type": "heatmap"
           }
          ],
          "histogram": [
           {
            "marker": {
             "pattern": {
              "fillmode": "overlay",
              "size": 10,
              "solidity": 0.2
             }
            },
            "type": "histogram"
           }
          ],
          "histogram2d": [
           {
            "colorbar": {
             "outlinewidth": 0,
             "ticks": ""
            },
            "colorscale": [
             [
              0,
              "#0d0887"
             ],
             [
              0.1111111111111111,
              "#46039f"
             ],
             [
              0.2222222222222222,
              "#7201a8"
             ],
             [
              0.3333333333333333,
              "#9c179e"
             ],
             [
              0.4444444444444444,
              "#bd3786"
             ],
             [
              0.5555555555555556,
              "#d8576b"
             ],
             [
              0.6666666666666666,
              "#ed7953"
             ],
             [
              0.7777777777777778,
              "#fb9f3a"
             ],
             [
              0.8888888888888888,
              "#fdca26"
             ],
             [
              1,
              "#f0f921"
             ]
            ],
            "type": "histogram2d"
           }
          ],
          "histogram2dcontour": [
           {
            "colorbar": {
             "outlinewidth": 0,
             "ticks": ""
            },
            "colorscale": [
             [
              0,
              "#0d0887"
             ],
             [
              0.1111111111111111,
              "#46039f"
             ],
             [
              0.2222222222222222,
              "#7201a8"
             ],
             [
              0.3333333333333333,
              "#9c179e"
             ],
             [
              0.4444444444444444,
              "#bd3786"
             ],
             [
              0.5555555555555556,
              "#d8576b"
             ],
             [
              0.6666666666666666,
              "#ed7953"
             ],
             [
              0.7777777777777778,
              "#fb9f3a"
             ],
             [
              0.8888888888888888,
              "#fdca26"
             ],
             [
              1,
              "#f0f921"
             ]
            ],
            "type": "histogram2dcontour"
           }
          ],
          "mesh3d": [
           {
            "colorbar": {
             "outlinewidth": 0,
             "ticks": ""
            },
            "type": "mesh3d"
           }
          ],
          "parcoords": [
           {
            "line": {
             "colorbar": {
              "outlinewidth": 0,
              "ticks": ""
             }
            },
            "type": "parcoords"
           }
          ],
          "pie": [
           {
            "automargin": true,
            "type": "pie"
           }
          ],
          "scatter": [
           {
            "fillpattern": {
             "fillmode": "overlay",
             "size": 10,
             "solidity": 0.2
            },
            "type": "scatter"
           }
          ],
          "scatter3d": [
           {
            "line": {
             "colorbar": {
              "outlinewidth": 0,
              "ticks": ""
             }
            },
            "marker": {
             "colorbar": {
              "outlinewidth": 0,
              "ticks": ""
             }
            },
            "type": "scatter3d"
           }
          ],
          "scattercarpet": [
           {
            "marker": {
             "colorbar": {
              "outlinewidth": 0,
              "ticks": ""
             }
            },
            "type": "scattercarpet"
           }
          ],
          "scattergeo": [
           {
            "marker": {
             "colorbar": {
              "outlinewidth": 0,
              "ticks": ""
             }
            },
            "type": "scattergeo"
           }
          ],
          "scattergl": [
           {
            "marker": {
             "colorbar": {
              "outlinewidth": 0,
              "ticks": ""
             }
            },
            "type": "scattergl"
           }
          ],
          "scattermap": [
           {
            "marker": {
             "colorbar": {
              "outlinewidth": 0,
              "ticks": ""
             }
            },
            "type": "scattermap"
           }
          ],
          "scattermapbox": [
           {
            "marker": {
             "colorbar": {
              "outlinewidth": 0,
              "ticks": ""
             }
            },
            "type": "scattermapbox"
           }
          ],
          "scatterpolar": [
           {
            "marker": {
             "colorbar": {
              "outlinewidth": 0,
              "ticks": ""
             }
            },
            "type": "scatterpolar"
           }
          ],
          "scatterpolargl": [
           {
            "marker": {
             "colorbar": {
              "outlinewidth": 0,
              "ticks": ""
             }
            },
            "type": "scatterpolargl"
           }
          ],
          "scatterternary": [
           {
            "marker": {
             "colorbar": {
              "outlinewidth": 0,
              "ticks": ""
             }
            },
            "type": "scatterternary"
           }
          ],
          "surface": [
           {
            "colorbar": {
             "outlinewidth": 0,
             "ticks": ""
            },
            "colorscale": [
             [
              0,
              "#0d0887"
             ],
             [
              0.1111111111111111,
              "#46039f"
             ],
             [
              0.2222222222222222,
              "#7201a8"
             ],
             [
              0.3333333333333333,
              "#9c179e"
             ],
             [
              0.4444444444444444,
              "#bd3786"
             ],
             [
              0.5555555555555556,
              "#d8576b"
             ],
             [
              0.6666666666666666,
              "#ed7953"
             ],
             [
              0.7777777777777778,
              "#fb9f3a"
             ],
             [
              0.8888888888888888,
              "#fdca26"
             ],
             [
              1,
              "#f0f921"
             ]
            ],
            "type": "surface"
           }
          ],
          "table": [
           {
            "cells": {
             "fill": {
              "color": "#EBF0F8"
             },
             "line": {
              "color": "white"
             }
            },
            "header": {
             "fill": {
              "color": "#C8D4E3"
             },
             "line": {
              "color": "white"
             }
            },
            "type": "table"
           }
          ]
         },
         "layout": {
          "annotationdefaults": {
           "arrowcolor": "#2a3f5f",
           "arrowhead": 0,
           "arrowwidth": 1
          },
          "autotypenumbers": "strict",
          "coloraxis": {
           "colorbar": {
            "outlinewidth": 0,
            "ticks": ""
           }
          },
          "colorscale": {
           "diverging": [
            [
             0,
             "#8e0152"
            ],
            [
             0.1,
             "#c51b7d"
            ],
            [
             0.2,
             "#de77ae"
            ],
            [
             0.3,
             "#f1b6da"
            ],
            [
             0.4,
             "#fde0ef"
            ],
            [
             0.5,
             "#f7f7f7"
            ],
            [
             0.6,
             "#e6f5d0"
            ],
            [
             0.7,
             "#b8e186"
            ],
            [
             0.8,
             "#7fbc41"
            ],
            [
             0.9,
             "#4d9221"
            ],
            [
             1,
             "#276419"
            ]
           ],
           "sequential": [
            [
             0,
             "#0d0887"
            ],
            [
             0.1111111111111111,
             "#46039f"
            ],
            [
             0.2222222222222222,
             "#7201a8"
            ],
            [
             0.3333333333333333,
             "#9c179e"
            ],
            [
             0.4444444444444444,
             "#bd3786"
            ],
            [
             0.5555555555555556,
             "#d8576b"
            ],
            [
             0.6666666666666666,
             "#ed7953"
            ],
            [
             0.7777777777777778,
             "#fb9f3a"
            ],
            [
             0.8888888888888888,
             "#fdca26"
            ],
            [
             1,
             "#f0f921"
            ]
           ],
           "sequentialminus": [
            [
             0,
             "#0d0887"
            ],
            [
             0.1111111111111111,
             "#46039f"
            ],
            [
             0.2222222222222222,
             "#7201a8"
            ],
            [
             0.3333333333333333,
             "#9c179e"
            ],
            [
             0.4444444444444444,
             "#bd3786"
            ],
            [
             0.5555555555555556,
             "#d8576b"
            ],
            [
             0.6666666666666666,
             "#ed7953"
            ],
            [
             0.7777777777777778,
             "#fb9f3a"
            ],
            [
             0.8888888888888888,
             "#fdca26"
            ],
            [
             1,
             "#f0f921"
            ]
           ]
          },
          "colorway": [
           "#636efa",
           "#EF553B",
           "#00cc96",
           "#ab63fa",
           "#FFA15A",
           "#19d3f3",
           "#FF6692",
           "#B6E880",
           "#FF97FF",
           "#FECB52"
          ],
          "font": {
           "color": "#2a3f5f"
          },
          "geo": {
           "bgcolor": "white",
           "lakecolor": "white",
           "landcolor": "#E5ECF6",
           "showlakes": true,
           "showland": true,
           "subunitcolor": "white"
          },
          "hoverlabel": {
           "align": "left"
          },
          "hovermode": "closest",
          "mapbox": {
           "style": "light"
          },
          "paper_bgcolor": "white",
          "plot_bgcolor": "#E5ECF6",
          "polar": {
           "angularaxis": {
            "gridcolor": "white",
            "linecolor": "white",
            "ticks": ""
           },
           "bgcolor": "#E5ECF6",
           "radialaxis": {
            "gridcolor": "white",
            "linecolor": "white",
            "ticks": ""
           }
          },
          "scene": {
           "xaxis": {
            "backgroundcolor": "#E5ECF6",
            "gridcolor": "white",
            "gridwidth": 2,
            "linecolor": "white",
            "showbackground": true,
            "ticks": "",
            "zerolinecolor": "white"
           },
           "yaxis": {
            "backgroundcolor": "#E5ECF6",
            "gridcolor": "white",
            "gridwidth": 2,
            "linecolor": "white",
            "showbackground": true,
            "ticks": "",
            "zerolinecolor": "white"
           },
           "zaxis": {
            "backgroundcolor": "#E5ECF6",
            "gridcolor": "white",
            "gridwidth": 2,
            "linecolor": "white",
            "showbackground": true,
            "ticks": "",
            "zerolinecolor": "white"
           }
          },
          "shapedefaults": {
           "line": {
            "color": "#2a3f5f"
           }
          },
          "ternary": {
           "aaxis": {
            "gridcolor": "white",
            "linecolor": "white",
            "ticks": ""
           },
           "baxis": {
            "gridcolor": "white",
            "linecolor": "white",
            "ticks": ""
           },
           "bgcolor": "#E5ECF6",
           "caxis": {
            "gridcolor": "white",
            "linecolor": "white",
            "ticks": ""
           }
          },
          "title": {
           "x": 0.05
          },
          "xaxis": {
           "automargin": true,
           "gridcolor": "white",
           "linecolor": "white",
           "ticks": "",
           "title": {
            "standoff": 15
           },
           "zerolinecolor": "white",
           "zerolinewidth": 2
          },
          "yaxis": {
           "automargin": true,
           "gridcolor": "white",
           "linecolor": "white",
           "ticks": "",
           "title": {
            "standoff": 15
           },
           "zerolinecolor": "white",
           "zerolinewidth": 2
          }
         }
        },
        "title": {
         "text": "Closing Price Over Time"
        },
        "xaxis": {
         "anchor": "y",
         "domain": [
          0,
          1
         ],
         "title": {
          "text": "Date"
         }
        },
        "yaxis": {
         "anchor": "x",
         "domain": [
          0,
          1
         ],
         "title": {
          "text": "Close"
         }
        }
       }
      },
      "text/html": [
       "<div>            <script src=\"https://cdnjs.cloudflare.com/ajax/libs/mathjax/2.7.5/MathJax.js?config=TeX-AMS-MML_SVG\"></script><script type=\"text/javascript\">if (window.MathJax && window.MathJax.Hub && window.MathJax.Hub.Config) {window.MathJax.Hub.Config({SVG: {font: \"STIX-Web\"}});}</script>                <script type=\"text/javascript\">window.PlotlyConfig = {MathJaxConfig: 'local'};</script>\n",
       "        <script charset=\"utf-8\" src=\"https://cdn.plot.ly/plotly-3.1.0.min.js\" integrity=\"sha256-Ei4740bWZhaUTQuD6q9yQlgVCMPBz6CZWhevDYPv93A=\" crossorigin=\"anonymous\"></script>                <div id=\"e0f81740-ffe9-409d-8fb6-9a11fe8337ad\" class=\"plotly-graph-div\" style=\"height:525px; width:100%;\"></div>            <script type=\"text/javascript\">                window.PLOTLYENV=window.PLOTLYENV || {};                                if (document.getElementById(\"e0f81740-ffe9-409d-8fb6-9a11fe8337ad\")) {                    Plotly.newPlot(                        \"e0f81740-ffe9-409d-8fb6-9a11fe8337ad\",                        [{\"hovertemplate\":\"Date=%{x}\\u003cbr\\u003eClose=%{y}\\u003cextra\\u003e\\u003c\\u002fextra\\u003e\",\"legendgroup\":\"\",\"line\":{\"color\":\"#636efa\",\"dash\":\"solid\"},\"marker\":{\"symbol\":\"circle\"},\"mode\":\"lines\",\"name\":\"\",\"showlegend\":false,\"x\":[\"2013-04-28T00:00:00.000000000\",\"2013-04-29T00:00:00.000000000\",\"2013-04-30T00:00:00.000000000\",\"2013-05-01T00:00:00.000000000\",\"2013-05-02T00:00:00.000000000\",\"2013-05-03T00:00:00.000000000\",\"2013-05-04T00:00:00.000000000\",\"2013-05-05T00:00:00.000000000\",\"2013-05-06T00:00:00.000000000\",\"2013-05-07T00:00:00.000000000\",\"2013-05-08T00:00:00.000000000\",\"2013-05-09T00:00:00.000000000\",\"2013-05-10T00:00:00.000000000\",\"2013-05-11T00:00:00.000000000\",\"2013-05-12T00:00:00.000000000\",\"2013-05-13T00:00:00.000000000\",\"2013-05-14T00:00:00.000000000\",\"2013-05-15T00:00:00.000000000\",\"2013-05-16T00:00:00.000000000\",\"2013-05-17T00:00:00.000000000\",\"2013-05-18T00:00:00.000000000\",\"2013-05-19T00:00:00.000000000\",\"2013-05-20T00:00:00.000000000\",\"2013-05-21T00:00:00.000000000\",\"2013-05-22T00:00:00.000000000\",\"2013-05-23T00:00:00.000000000\",\"2013-05-24T00:00:00.000000000\",\"2013-05-25T00:00:00.000000000\",\"2013-05-26T00:00:00.000000000\",\"2013-05-27T00:00:00.000000000\",\"2013-05-28T00:00:00.000000000\",\"2013-05-29T00:00:00.000000000\",\"2013-05-30T00:00:00.000000000\",\"2013-05-31T00:00:00.000000000\",\"2013-06-01T00:00:00.000000000\",\"2013-06-02T00:00:00.000000000\",\"2013-06-03T00:00:00.000000000\",\"2013-06-04T00:00:00.000000000\",\"2013-06-05T00:00:00.000000000\",\"2013-06-06T00:00:00.000000000\",\"2013-06-07T00:00:00.000000000\",\"2013-06-08T00:00:00.000000000\",\"2013-06-09T00:00:00.000000000\",\"2013-06-10T00:00:00.000000000\",\"2013-06-11T00:00:00.000000000\",\"2013-06-12T00:00:00.000000000\",\"2013-06-13T00:00:00.000000000\",\"2013-06-14T00:00:00.000000000\",\"2013-06-15T00:00:00.000000000\",\"2013-06-16T00:00:00.000000000\",\"2013-06-17T00:00:00.000000000\",\"2013-06-18T00:00:00.000000000\",\"2013-06-19T00:00:00.000000000\",\"2013-06-20T00:00:00.000000000\",\"2013-06-21T00:00:00.000000000\",\"2013-06-22T00:00:00.000000000\",\"2013-06-23T00:00:00.000000000\",\"2013-06-24T00:00:00.000000000\",\"2013-06-25T00:00:00.000000000\",\"2013-06-26T00:00:00.000000000\",\"2013-06-27T00:00:00.000000000\",\"2013-06-28T00:00:00.000000000\",\"2013-06-29T00:00:00.000000000\",\"2013-06-30T00:00:00.000000000\",\"2013-07-01T00:00:00.000000000\",\"2013-07-02T00:00:00.000000000\",\"2013-07-03T00:00:00.000000000\",\"2013-07-04T00:00:00.000000000\",\"2013-07-05T00:00:00.000000000\",\"2013-07-06T00:00:00.000000000\",\"2013-07-07T00:00:00.000000000\",\"2013-07-08T00:00:00.000000000\",\"2013-07-09T00:00:00.000000000\",\"2013-07-10T00:00:00.000000000\",\"2013-07-11T00:00:00.000000000\",\"2013-07-12T00:00:00.000000000\",\"2013-07-13T00:00:00.000000000\",\"2013-07-14T00:00:00.000000000\",\"2013-07-15T00:00:00.000000000\",\"2013-07-16T00:00:00.000000000\",\"2013-07-17T00:00:00.000000000\",\"2013-07-18T00:00:00.000000000\",\"2013-07-19T00:00:00.000000000\",\"2013-07-20T00:00:00.000000000\",\"2013-07-21T00:00:00.000000000\",\"2013-07-22T00:00:00.000000000\",\"2013-07-23T00:00:00.000000000\",\"2013-07-24T00:00:00.000000000\",\"2013-07-25T00:00:00.000000000\",\"2013-07-26T00:00:00.000000000\",\"2013-07-27T00:00:00.000000000\",\"2013-07-28T00:00:00.000000000\",\"2013-07-29T00:00:00.000000000\",\"2013-07-30T00:00:00.000000000\",\"2013-07-31T00:00:00.000000000\",\"2013-08-01T00:00:00.000000000\",\"2013-08-02T00:00:00.000000000\",\"2013-08-03T00:00:00.000000000\",\"2013-08-04T00:00:00.000000000\",\"2013-08-05T00:00:00.000000000\",\"2013-08-06T00:00:00.000000000\",\"2013-08-07T00:00:00.000000000\",\"2013-08-08T00:00:00.000000000\",\"2013-08-09T00:00:00.000000000\",\"2013-08-10T00:00:00.000000000\",\"2013-08-11T00:00:00.000000000\",\"2013-08-12T00:00:00.000000000\",\"2013-08-13T00:00:00.000000000\",\"2013-08-14T00:00:00.000000000\",\"2013-08-15T00:00:00.000000000\",\"2013-08-16T00:00:00.000000000\",\"2013-08-17T00:00:00.000000000\",\"2013-08-18T00:00:00.000000000\",\"2013-08-19T00:00:00.000000000\",\"2013-08-20T00:00:00.000000000\",\"2013-08-21T00:00:00.000000000\",\"2013-08-22T00:00:00.000000000\",\"2013-08-23T00:00:00.000000000\",\"2013-08-24T00:00:00.000000000\",\"2013-08-25T00:00:00.000000000\",\"2013-08-26T00:00:00.000000000\",\"2013-08-27T00:00:00.000000000\",\"2013-08-28T00:00:00.000000000\",\"2013-08-29T00:00:00.000000000\",\"2013-08-30T00:00:00.000000000\",\"2013-08-31T00:00:00.000000000\",\"2013-09-01T00:00:00.000000000\",\"2013-09-02T00:00:00.000000000\",\"2013-09-03T00:00:00.000000000\",\"2013-09-04T00:00:00.000000000\",\"2013-09-05T00:00:00.000000000\",\"2013-09-06T00:00:00.000000000\",\"2013-09-07T00:00:00.000000000\",\"2013-09-08T00:00:00.000000000\",\"2013-09-09T00:00:00.000000000\",\"2013-09-10T00:00:00.000000000\",\"2013-09-11T00:00:00.000000000\",\"2013-09-12T00:00:00.000000000\",\"2013-09-13T00:00:00.000000000\",\"2013-09-14T00:00:00.000000000\",\"2013-09-15T00:00:00.000000000\",\"2013-09-16T00:00:00.000000000\",\"2013-09-17T00:00:00.000000000\",\"2013-09-18T00:00:00.000000000\",\"2013-09-19T00:00:00.000000000\",\"2013-09-20T00:00:00.000000000\",\"2013-09-21T00:00:00.000000000\",\"2013-09-22T00:00:00.000000000\",\"2013-09-23T00:00:00.000000000\",\"2013-09-24T00:00:00.000000000\",\"2013-09-25T00:00:00.000000000\",\"2013-09-26T00:00:00.000000000\",\"2013-09-27T00:00:00.000000000\",\"2013-09-28T00:00:00.000000000\",\"2013-09-29T00:00:00.000000000\",\"2013-09-30T00:00:00.000000000\",\"2013-10-01T00:00:00.000000000\",\"2013-10-02T00:00:00.000000000\",\"2013-10-03T00:00:00.000000000\",\"2013-10-04T00:00:00.000000000\",\"2013-10-05T00:00:00.000000000\",\"2013-10-06T00:00:00.000000000\",\"2013-10-07T00:00:00.000000000\",\"2013-10-08T00:00:00.000000000\",\"2013-10-09T00:00:00.000000000\",\"2013-10-10T00:00:00.000000000\",\"2013-10-11T00:00:00.000000000\",\"2013-10-12T00:00:00.000000000\",\"2013-10-13T00:00:00.000000000\",\"2013-10-14T00:00:00.000000000\",\"2013-10-15T00:00:00.000000000\",\"2013-10-16T00:00:00.000000000\",\"2013-10-17T00:00:00.000000000\",\"2013-10-18T00:00:00.000000000\",\"2013-10-19T00:00:00.000000000\",\"2013-10-20T00:00:00.000000000\",\"2013-10-21T00:00:00.000000000\",\"2013-10-22T00:00:00.000000000\",\"2013-10-23T00:00:00.000000000\",\"2013-10-24T00:00:00.000000000\",\"2013-10-25T00:00:00.000000000\",\"2013-10-26T00:00:00.000000000\",\"2013-10-27T00:00:00.000000000\",\"2013-10-28T00:00:00.000000000\",\"2013-10-29T00:00:00.000000000\",\"2013-10-30T00:00:00.000000000\",\"2013-10-31T00:00:00.000000000\",\"2013-11-01T00:00:00.000000000\",\"2013-11-02T00:00:00.000000000\",\"2013-11-03T00:00:00.000000000\",\"2013-11-04T00:00:00.000000000\",\"2013-11-05T00:00:00.000000000\",\"2013-11-06T00:00:00.000000000\",\"2013-11-07T00:00:00.000000000\",\"2013-11-08T00:00:00.000000000\",\"2013-11-09T00:00:00.000000000\",\"2013-11-10T00:00:00.000000000\",\"2013-11-11T00:00:00.000000000\",\"2013-11-12T00:00:00.000000000\",\"2013-11-13T00:00:00.000000000\",\"2013-11-14T00:00:00.000000000\",\"2013-11-15T00:00:00.000000000\",\"2013-11-16T00:00:00.000000000\",\"2013-11-17T00:00:00.000000000\",\"2013-11-18T00:00:00.000000000\",\"2013-11-19T00:00:00.000000000\",\"2013-11-20T00:00:00.000000000\",\"2013-11-21T00:00:00.000000000\",\"2013-11-22T00:00:00.000000000\",\"2013-11-23T00:00:00.000000000\",\"2013-11-24T00:00:00.000000000\",\"2013-11-25T00:00:00.000000000\",\"2013-11-26T00:00:00.000000000\",\"2013-11-27T00:00:00.000000000\",\"2013-11-28T00:00:00.000000000\",\"2013-11-29T00:00:00.000000000\",\"2013-11-30T00:00:00.000000000\",\"2013-12-01T00:00:00.000000000\",\"2013-12-02T00:00:00.000000000\",\"2013-12-03T00:00:00.000000000\",\"2013-12-04T00:00:00.000000000\",\"2013-12-05T00:00:00.000000000\",\"2013-12-06T00:00:00.000000000\",\"2013-12-07T00:00:00.000000000\",\"2013-12-08T00:00:00.000000000\",\"2013-12-09T00:00:00.000000000\",\"2013-12-10T00:00:00.000000000\",\"2013-12-11T00:00:00.000000000\",\"2013-12-12T00:00:00.000000000\",\"2013-12-13T00:00:00.000000000\",\"2013-12-14T00:00:00.000000000\",\"2013-12-15T00:00:00.000000000\",\"2013-12-16T00:00:00.000000000\",\"2013-12-17T00:00:00.000000000\",\"2013-12-18T00:00:00.000000000\",\"2013-12-19T00:00:00.000000000\",\"2013-12-20T00:00:00.000000000\",\"2013-12-21T00:00:00.000000000\",\"2013-12-22T00:00:00.000000000\",\"2013-12-23T00:00:00.000000000\",\"2013-12-24T00:00:00.000000000\",\"2013-12-25T00:00:00.000000000\",\"2013-12-26T00:00:00.000000000\",\"2013-12-27T00:00:00.000000000\",\"2013-12-28T00:00:00.000000000\",\"2013-12-29T00:00:00.000000000\",\"2013-12-30T00:00:00.000000000\",\"2013-12-31T00:00:00.000000000\",\"2014-01-01T00:00:00.000000000\",\"2014-01-02T00:00:00.000000000\",\"2014-01-03T00:00:00.000000000\",\"2014-01-04T00:00:00.000000000\",\"2014-01-05T00:00:00.000000000\",\"2014-01-06T00:00:00.000000000\",\"2014-01-07T00:00:00.000000000\",\"2014-01-08T00:00:00.000000000\",\"2014-01-09T00:00:00.000000000\",\"2014-01-10T00:00:00.000000000\",\"2014-01-11T00:00:00.000000000\",\"2014-01-12T00:00:00.000000000\",\"2014-01-13T00:00:00.000000000\",\"2014-01-14T00:00:00.000000000\",\"2014-01-15T00:00:00.000000000\",\"2014-01-16T00:00:00.000000000\",\"2014-01-17T00:00:00.000000000\",\"2014-01-18T00:00:00.000000000\",\"2014-01-19T00:00:00.000000000\",\"2014-01-20T00:00:00.000000000\",\"2014-01-21T00:00:00.000000000\",\"2014-01-22T00:00:00.000000000\",\"2014-01-23T00:00:00.000000000\",\"2014-01-24T00:00:00.000000000\",\"2014-01-25T00:00:00.000000000\",\"2014-01-26T00:00:00.000000000\",\"2014-01-27T00:00:00.000000000\",\"2014-01-28T00:00:00.000000000\",\"2014-01-29T00:00:00.000000000\",\"2014-01-30T00:00:00.000000000\",\"2014-01-31T00:00:00.000000000\",\"2014-02-01T00:00:00.000000000\",\"2014-02-02T00:00:00.000000000\",\"2014-02-03T00:00:00.000000000\",\"2014-02-04T00:00:00.000000000\",\"2014-02-05T00:00:00.000000000\",\"2014-02-06T00:00:00.000000000\",\"2014-02-07T00:00:00.000000000\",\"2014-02-08T00:00:00.000000000\",\"2014-02-09T00:00:00.000000000\",\"2014-02-10T00:00:00.000000000\",\"2014-02-11T00:00:00.000000000\",\"2014-02-12T00:00:00.000000000\",\"2014-02-13T00:00:00.000000000\",\"2014-02-14T00:00:00.000000000\",\"2014-02-15T00:00:00.000000000\",\"2014-02-16T00:00:00.000000000\",\"2014-02-17T00:00:00.000000000\",\"2014-02-18T00:00:00.000000000\",\"2014-02-19T00:00:00.000000000\",\"2014-02-20T00:00:00.000000000\",\"2014-02-21T00:00:00.000000000\",\"2014-02-22T00:00:00.000000000\",\"2014-02-23T00:00:00.000000000\",\"2014-02-24T00:00:00.000000000\",\"2014-02-25T00:00:00.000000000\",\"2014-02-26T00:00:00.000000000\",\"2014-02-27T00:00:00.000000000\",\"2014-02-28T00:00:00.000000000\",\"2014-03-01T00:00:00.000000000\",\"2014-03-02T00:00:00.000000000\",\"2014-03-03T00:00:00.000000000\",\"2014-03-04T00:00:00.000000000\",\"2014-03-05T00:00:00.000000000\",\"2014-03-06T00:00:00.000000000\",\"2014-03-07T00:00:00.000000000\",\"2014-03-08T00:00:00.000000000\",\"2014-03-09T00:00:00.000000000\",\"2014-03-10T00:00:00.000000000\",\"2014-03-11T00:00:00.000000000\",\"2014-03-12T00:00:00.000000000\",\"2014-03-13T00:00:00.000000000\",\"2014-03-14T00:00:00.000000000\",\"2014-03-15T00:00:00.000000000\",\"2014-03-16T00:00:00.000000000\",\"2014-03-17T00:00:00.000000000\",\"2014-03-18T00:00:00.000000000\",\"2014-03-19T00:00:00.000000000\",\"2014-03-20T00:00:00.000000000\",\"2014-03-21T00:00:00.000000000\",\"2014-03-22T00:00:00.000000000\",\"2014-03-23T00:00:00.000000000\",\"2014-03-24T00:00:00.000000000\",\"2014-03-25T00:00:00.000000000\",\"2014-03-26T00:00:00.000000000\",\"2014-03-27T00:00:00.000000000\",\"2014-03-28T00:00:00.000000000\",\"2014-03-29T00:00:00.000000000\",\"2014-03-30T00:00:00.000000000\",\"2014-03-31T00:00:00.000000000\",\"2014-04-01T00:00:00.000000000\",\"2014-04-02T00:00:00.000000000\",\"2014-04-03T00:00:00.000000000\",\"2014-04-04T00:00:00.000000000\",\"2014-04-05T00:00:00.000000000\",\"2014-04-06T00:00:00.000000000\",\"2014-04-07T00:00:00.000000000\",\"2014-04-08T00:00:00.000000000\",\"2014-04-09T00:00:00.000000000\",\"2014-04-10T00:00:00.000000000\",\"2014-04-11T00:00:00.000000000\",\"2014-04-12T00:00:00.000000000\",\"2014-04-13T00:00:00.000000000\",\"2014-04-14T00:00:00.000000000\",\"2014-04-15T00:00:00.000000000\",\"2014-04-16T00:00:00.000000000\",\"2014-04-17T00:00:00.000000000\",\"2014-04-18T00:00:00.000000000\",\"2014-04-19T00:00:00.000000000\",\"2014-04-20T00:00:00.000000000\",\"2014-04-21T00:00:00.000000000\",\"2014-04-22T00:00:00.000000000\",\"2014-04-23T00:00:00.000000000\",\"2014-04-24T00:00:00.000000000\",\"2014-04-25T00:00:00.000000000\",\"2014-04-26T00:00:00.000000000\",\"2014-04-27T00:00:00.000000000\",\"2014-04-28T00:00:00.000000000\",\"2014-04-29T00:00:00.000000000\",\"2014-04-30T00:00:00.000000000\",\"2014-05-01T00:00:00.000000000\",\"2014-05-02T00:00:00.000000000\",\"2014-05-03T00:00:00.000000000\",\"2014-05-04T00:00:00.000000000\",\"2014-05-05T00:00:00.000000000\",\"2014-05-06T00:00:00.000000000\",\"2014-05-07T00:00:00.000000000\",\"2014-05-08T00:00:00.000000000\",\"2014-05-09T00:00:00.000000000\",\"2014-05-10T00:00:00.000000000\",\"2014-05-11T00:00:00.000000000\",\"2014-05-12T00:00:00.000000000\",\"2014-05-13T00:00:00.000000000\",\"2014-05-14T00:00:00.000000000\",\"2014-05-15T00:00:00.000000000\",\"2014-05-16T00:00:00.000000000\",\"2014-05-17T00:00:00.000000000\",\"2014-05-18T00:00:00.000000000\",\"2014-05-19T00:00:00.000000000\",\"2014-05-20T00:00:00.000000000\",\"2014-05-21T00:00:00.000000000\",\"2014-05-22T00:00:00.000000000\",\"2014-05-23T00:00:00.000000000\",\"2014-05-24T00:00:00.000000000\",\"2014-05-25T00:00:00.000000000\",\"2014-05-26T00:00:00.000000000\",\"2014-05-27T00:00:00.000000000\",\"2014-05-28T00:00:00.000000000\",\"2014-05-29T00:00:00.000000000\",\"2014-05-30T00:00:00.000000000\",\"2014-05-31T00:00:00.000000000\",\"2014-06-01T00:00:00.000000000\",\"2014-06-02T00:00:00.000000000\",\"2014-06-03T00:00:00.000000000\",\"2014-06-04T00:00:00.000000000\",\"2014-06-05T00:00:00.000000000\",\"2014-06-06T00:00:00.000000000\",\"2014-06-07T00:00:00.000000000\",\"2014-06-08T00:00:00.000000000\",\"2014-06-09T00:00:00.000000000\",\"2014-06-10T00:00:00.000000000\",\"2014-06-11T00:00:00.000000000\",\"2014-06-12T00:00:00.000000000\",\"2014-06-13T00:00:00.000000000\",\"2014-06-14T00:00:00.000000000\",\"2014-06-15T00:00:00.000000000\",\"2014-06-16T00:00:00.000000000\",\"2014-06-17T00:00:00.000000000\",\"2014-06-18T00:00:00.000000000\",\"2014-06-19T00:00:00.000000000\",\"2014-06-20T00:00:00.000000000\",\"2014-06-21T00:00:00.000000000\",\"2014-06-22T00:00:00.000000000\",\"2014-06-23T00:00:00.000000000\",\"2014-06-24T00:00:00.000000000\",\"2014-06-25T00:00:00.000000000\",\"2014-06-26T00:00:00.000000000\",\"2014-06-27T00:00:00.000000000\",\"2014-06-28T00:00:00.000000000\",\"2014-06-29T00:00:00.000000000\",\"2014-06-30T00:00:00.000000000\",\"2014-07-01T00:00:00.000000000\",\"2014-07-02T00:00:00.000000000\",\"2014-07-03T00:00:00.000000000\",\"2014-07-04T00:00:00.000000000\",\"2014-07-05T00:00:00.000000000\",\"2014-07-06T00:00:00.000000000\",\"2014-07-07T00:00:00.000000000\",\"2014-07-08T00:00:00.000000000\",\"2014-07-09T00:00:00.000000000\",\"2014-07-10T00:00:00.000000000\",\"2014-07-11T00:00:00.000000000\",\"2014-07-12T00:00:00.000000000\",\"2014-07-13T00:00:00.000000000\",\"2014-07-14T00:00:00.000000000\",\"2014-07-15T00:00:00.000000000\",\"2014-07-16T00:00:00.000000000\",\"2014-07-17T00:00:00.000000000\",\"2014-07-18T00:00:00.000000000\",\"2014-07-19T00:00:00.000000000\",\"2014-07-20T00:00:00.000000000\",\"2014-07-21T00:00:00.000000000\",\"2014-07-22T00:00:00.000000000\",\"2014-07-23T00:00:00.000000000\",\"2014-07-24T00:00:00.000000000\",\"2014-07-25T00:00:00.000000000\",\"2014-07-26T00:00:00.000000000\",\"2014-07-27T00:00:00.000000000\",\"2014-07-28T00:00:00.000000000\",\"2014-07-29T00:00:00.000000000\",\"2014-07-30T00:00:00.000000000\",\"2014-07-31T00:00:00.000000000\",\"2014-08-01T00:00:00.000000000\",\"2014-08-02T00:00:00.000000000\",\"2014-08-03T00:00:00.000000000\",\"2014-08-04T00:00:00.000000000\",\"2014-08-05T00:00:00.000000000\",\"2014-08-06T00:00:00.000000000\",\"2014-08-07T00:00:00.000000000\",\"2014-08-08T00:00:00.000000000\",\"2014-08-09T00:00:00.000000000\",\"2014-08-10T00:00:00.000000000\",\"2014-08-11T00:00:00.000000000\",\"2014-08-12T00:00:00.000000000\",\"2014-08-13T00:00:00.000000000\",\"2014-08-14T00:00:00.000000000\",\"2014-08-15T00:00:00.000000000\",\"2014-08-16T00:00:00.000000000\",\"2014-08-17T00:00:00.000000000\",\"2014-08-18T00:00:00.000000000\",\"2014-08-19T00:00:00.000000000\",\"2014-08-20T00:00:00.000000000\",\"2014-08-21T00:00:00.000000000\",\"2014-08-22T00:00:00.000000000\",\"2014-08-23T00:00:00.000000000\",\"2014-08-24T00:00:00.000000000\",\"2014-08-25T00:00:00.000000000\",\"2014-08-26T00:00:00.000000000\",\"2014-08-27T00:00:00.000000000\",\"2014-08-28T00:00:00.000000000\",\"2014-08-29T00:00:00.000000000\",\"2014-08-30T00:00:00.000000000\",\"2014-08-31T00:00:00.000000000\",\"2014-09-01T00:00:00.000000000\",\"2014-09-02T00:00:00.000000000\",\"2014-09-03T00:00:00.000000000\",\"2014-09-04T00:00:00.000000000\",\"2014-09-05T00:00:00.000000000\",\"2014-09-06T00:00:00.000000000\",\"2014-09-07T00:00:00.000000000\",\"2014-09-08T00:00:00.000000000\",\"2014-09-09T00:00:00.000000000\",\"2014-09-10T00:00:00.000000000\",\"2014-09-11T00:00:00.000000000\",\"2014-09-12T00:00:00.000000000\",\"2014-09-13T00:00:00.000000000\",\"2014-09-14T00:00:00.000000000\",\"2014-09-15T00:00:00.000000000\",\"2014-09-16T00:00:00.000000000\",\"2014-09-17T00:00:00.000000000\",\"2014-09-18T00:00:00.000000000\",\"2014-09-19T00:00:00.000000000\",\"2014-09-20T00:00:00.000000000\",\"2014-09-21T00:00:00.000000000\",\"2014-09-22T00:00:00.000000000\",\"2014-09-23T00:00:00.000000000\",\"2014-09-24T00:00:00.000000000\",\"2014-09-25T00:00:00.000000000\",\"2014-09-26T00:00:00.000000000\",\"2014-09-27T00:00:00.000000000\",\"2014-09-28T00:00:00.000000000\",\"2014-09-29T00:00:00.000000000\",\"2014-09-30T00:00:00.000000000\",\"2014-10-01T00:00:00.000000000\",\"2014-10-02T00:00:00.000000000\",\"2014-10-03T00:00:00.000000000\",\"2014-10-04T00:00:00.000000000\",\"2014-10-05T00:00:00.000000000\",\"2014-10-06T00:00:00.000000000\",\"2014-10-07T00:00:00.000000000\",\"2014-10-08T00:00:00.000000000\",\"2014-10-09T00:00:00.000000000\",\"2014-10-10T00:00:00.000000000\",\"2014-10-11T00:00:00.000000000\",\"2014-10-12T00:00:00.000000000\",\"2014-10-13T00:00:00.000000000\",\"2014-10-14T00:00:00.000000000\",\"2014-10-15T00:00:00.000000000\",\"2014-10-16T00:00:00.000000000\",\"2014-10-17T00:00:00.000000000\",\"2014-10-18T00:00:00.000000000\",\"2014-10-19T00:00:00.000000000\",\"2014-10-20T00:00:00.000000000\",\"2014-10-21T00:00:00.000000000\",\"2014-10-22T00:00:00.000000000\",\"2014-10-23T00:00:00.000000000\",\"2014-10-24T00:00:00.000000000\",\"2014-10-25T00:00:00.000000000\",\"2014-10-26T00:00:00.000000000\",\"2014-10-27T00:00:00.000000000\",\"2014-10-28T00:00:00.000000000\",\"2014-10-29T00:00:00.000000000\",\"2014-10-30T00:00:00.000000000\",\"2014-10-31T00:00:00.000000000\",\"2014-11-01T00:00:00.000000000\",\"2014-11-02T00:00:00.000000000\",\"2014-11-03T00:00:00.000000000\",\"2014-11-04T00:00:00.000000000\",\"2014-11-05T00:00:00.000000000\",\"2014-11-06T00:00:00.000000000\",\"2014-11-07T00:00:00.000000000\",\"2014-11-08T00:00:00.000000000\",\"2014-11-09T00:00:00.000000000\",\"2014-11-10T00:00:00.000000000\",\"2014-11-11T00:00:00.000000000\",\"2014-11-12T00:00:00.000000000\",\"2014-11-13T00:00:00.000000000\",\"2014-11-14T00:00:00.000000000\",\"2014-11-15T00:00:00.000000000\",\"2014-11-16T00:00:00.000000000\",\"2014-11-17T00:00:00.000000000\",\"2014-11-18T00:00:00.000000000\",\"2014-11-19T00:00:00.000000000\",\"2014-11-20T00:00:00.000000000\",\"2014-11-21T00:00:00.000000000\",\"2014-11-22T00:00:00.000000000\",\"2014-11-23T00:00:00.000000000\",\"2014-11-24T00:00:00.000000000\",\"2014-11-25T00:00:00.000000000\",\"2014-11-26T00:00:00.000000000\",\"2014-11-27T00:00:00.000000000\",\"2014-11-28T00:00:00.000000000\",\"2014-11-29T00:00:00.000000000\",\"2014-11-30T00:00:00.000000000\",\"2014-12-01T00:00:00.000000000\",\"2014-12-02T00:00:00.000000000\",\"2014-12-03T00:00:00.000000000\",\"2014-12-04T00:00:00.000000000\",\"2014-12-05T00:00:00.000000000\",\"2014-12-06T00:00:00.000000000\",\"2014-12-07T00:00:00.000000000\",\"2014-12-08T00:00:00.000000000\",\"2014-12-09T00:00:00.000000000\",\"2014-12-10T00:00:00.000000000\",\"2014-12-11T00:00:00.000000000\",\"2014-12-12T00:00:00.000000000\",\"2014-12-13T00:00:00.000000000\",\"2014-12-14T00:00:00.000000000\",\"2014-12-15T00:00:00.000000000\",\"2014-12-16T00:00:00.000000000\",\"2014-12-17T00:00:00.000000000\",\"2014-12-18T00:00:00.000000000\",\"2014-12-19T00:00:00.000000000\",\"2014-12-20T00:00:00.000000000\",\"2014-12-21T00:00:00.000000000\",\"2014-12-22T00:00:00.000000000\",\"2014-12-23T00:00:00.000000000\",\"2014-12-24T00:00:00.000000000\",\"2014-12-25T00:00:00.000000000\",\"2014-12-26T00:00:00.000000000\",\"2014-12-27T00:00:00.000000000\",\"2014-12-28T00:00:00.000000000\",\"2014-12-29T00:00:00.000000000\",\"2014-12-30T00:00:00.000000000\",\"2014-12-31T00:00:00.000000000\",\"2015-01-01T00:00:00.000000000\",\"2015-01-02T00:00:00.000000000\",\"2015-01-03T00:00:00.000000000\",\"2015-01-04T00:00:00.000000000\",\"2015-01-05T00:00:00.000000000\",\"2015-01-06T00:00:00.000000000\",\"2015-01-07T00:00:00.000000000\",\"2015-01-08T00:00:00.000000000\",\"2015-01-09T00:00:00.000000000\",\"2015-01-10T00:00:00.000000000\",\"2015-01-11T00:00:00.000000000\",\"2015-01-12T00:00:00.000000000\",\"2015-01-13T00:00:00.000000000\",\"2015-01-14T00:00:00.000000000\",\"2015-01-15T00:00:00.000000000\",\"2015-01-16T00:00:00.000000000\",\"2015-01-17T00:00:00.000000000\",\"2015-01-18T00:00:00.000000000\",\"2015-01-19T00:00:00.000000000\",\"2015-01-20T00:00:00.000000000\",\"2015-01-21T00:00:00.000000000\",\"2015-01-22T00:00:00.000000000\",\"2015-01-23T00:00:00.000000000\",\"2015-01-24T00:00:00.000000000\",\"2015-01-25T00:00:00.000000000\",\"2015-01-26T00:00:00.000000000\",\"2015-01-27T00:00:00.000000000\",\"2015-01-28T00:00:00.000000000\",\"2015-01-29T00:00:00.000000000\",\"2015-01-30T00:00:00.000000000\",\"2015-01-31T00:00:00.000000000\",\"2015-02-01T00:00:00.000000000\",\"2015-02-02T00:00:00.000000000\",\"2015-02-03T00:00:00.000000000\",\"2015-02-04T00:00:00.000000000\",\"2015-02-05T00:00:00.000000000\",\"2015-02-06T00:00:00.000000000\",\"2015-02-07T00:00:00.000000000\",\"2015-02-08T00:00:00.000000000\",\"2015-02-09T00:00:00.000000000\",\"2015-02-10T00:00:00.000000000\",\"2015-02-11T00:00:00.000000000\",\"2015-02-12T00:00:00.000000000\",\"2015-02-13T00:00:00.000000000\",\"2015-02-14T00:00:00.000000000\",\"2015-02-15T00:00:00.000000000\",\"2015-02-16T00:00:00.000000000\",\"2015-02-17T00:00:00.000000000\",\"2015-02-18T00:00:00.000000000\",\"2015-02-19T00:00:00.000000000\",\"2015-02-20T00:00:00.000000000\",\"2015-02-21T00:00:00.000000000\",\"2015-02-22T00:00:00.000000000\",\"2015-02-23T00:00:00.000000000\",\"2015-02-24T00:00:00.000000000\",\"2015-02-25T00:00:00.000000000\",\"2015-02-26T00:00:00.000000000\",\"2015-02-27T00:00:00.000000000\",\"2015-02-28T00:00:00.000000000\",\"2015-03-01T00:00:00.000000000\",\"2015-03-02T00:00:00.000000000\",\"2015-03-03T00:00:00.000000000\",\"2015-03-04T00:00:00.000000000\",\"2015-03-05T00:00:00.000000000\",\"2015-03-06T00:00:00.000000000\",\"2015-03-07T00:00:00.000000000\",\"2015-03-08T00:00:00.000000000\",\"2015-03-09T00:00:00.000000000\",\"2015-03-10T00:00:00.000000000\",\"2015-03-11T00:00:00.000000000\",\"2015-03-12T00:00:00.000000000\",\"2015-03-13T00:00:00.000000000\",\"2015-03-14T00:00:00.000000000\",\"2015-03-15T00:00:00.000000000\",\"2015-03-16T00:00:00.000000000\",\"2015-03-17T00:00:00.000000000\",\"2015-03-18T00:00:00.000000000\",\"2015-03-19T00:00:00.000000000\",\"2015-03-20T00:00:00.000000000\",\"2015-03-21T00:00:00.000000000\",\"2015-03-22T00:00:00.000000000\",\"2015-03-23T00:00:00.000000000\",\"2015-03-24T00:00:00.000000000\",\"2015-03-25T00:00:00.000000000\",\"2015-03-26T00:00:00.000000000\",\"2015-03-27T00:00:00.000000000\",\"2015-03-28T00:00:00.000000000\",\"2015-03-29T00:00:00.000000000\",\"2015-03-30T00:00:00.000000000\",\"2015-03-31T00:00:00.000000000\",\"2015-04-01T00:00:00.000000000\",\"2015-04-02T00:00:00.000000000\",\"2015-04-03T00:00:00.000000000\",\"2015-04-04T00:00:00.000000000\",\"2015-04-05T00:00:00.000000000\",\"2015-04-06T00:00:00.000000000\",\"2015-04-07T00:00:00.000000000\",\"2015-04-08T00:00:00.000000000\",\"2015-04-09T00:00:00.000000000\",\"2015-04-10T00:00:00.000000000\",\"2015-04-11T00:00:00.000000000\",\"2015-04-12T00:00:00.000000000\",\"2015-04-13T00:00:00.000000000\",\"2015-04-14T00:00:00.000000000\",\"2015-04-15T00:00:00.000000000\",\"2015-04-16T00:00:00.000000000\",\"2015-04-17T00:00:00.000000000\",\"2015-04-18T00:00:00.000000000\",\"2015-04-19T00:00:00.000000000\",\"2015-04-20T00:00:00.000000000\",\"2015-04-21T00:00:00.000000000\",\"2015-04-22T00:00:00.000000000\",\"2015-04-23T00:00:00.000000000\",\"2015-04-24T00:00:00.000000000\",\"2015-04-25T00:00:00.000000000\",\"2015-04-26T00:00:00.000000000\",\"2015-04-27T00:00:00.000000000\",\"2015-04-28T00:00:00.000000000\",\"2015-04-29T00:00:00.000000000\",\"2015-04-30T00:00:00.000000000\",\"2015-05-01T00:00:00.000000000\",\"2015-05-02T00:00:00.000000000\",\"2015-05-03T00:00:00.000000000\",\"2015-05-04T00:00:00.000000000\",\"2015-05-05T00:00:00.000000000\",\"2015-05-06T00:00:00.000000000\",\"2015-05-07T00:00:00.000000000\",\"2015-05-08T00:00:00.000000000\",\"2015-05-09T00:00:00.000000000\",\"2015-05-10T00:00:00.000000000\",\"2015-05-11T00:00:00.000000000\",\"2015-05-12T00:00:00.000000000\",\"2015-05-13T00:00:00.000000000\",\"2015-05-14T00:00:00.000000000\",\"2015-05-15T00:00:00.000000000\",\"2015-05-16T00:00:00.000000000\",\"2015-05-17T00:00:00.000000000\",\"2015-05-18T00:00:00.000000000\",\"2015-05-19T00:00:00.000000000\",\"2015-05-20T00:00:00.000000000\",\"2015-05-21T00:00:00.000000000\",\"2015-05-22T00:00:00.000000000\",\"2015-05-23T00:00:00.000000000\",\"2015-05-24T00:00:00.000000000\",\"2015-05-25T00:00:00.000000000\",\"2015-05-26T00:00:00.000000000\",\"2015-05-27T00:00:00.000000000\",\"2015-05-28T00:00:00.000000000\",\"2015-05-29T00:00:00.000000000\",\"2015-05-30T00:00:00.000000000\",\"2015-05-31T00:00:00.000000000\",\"2015-06-01T00:00:00.000000000\",\"2015-06-02T00:00:00.000000000\",\"2015-06-03T00:00:00.000000000\",\"2015-06-04T00:00:00.000000000\",\"2015-06-05T00:00:00.000000000\",\"2015-06-06T00:00:00.000000000\",\"2015-06-07T00:00:00.000000000\",\"2015-06-08T00:00:00.000000000\",\"2015-06-09T00:00:00.000000000\",\"2015-06-10T00:00:00.000000000\",\"2015-06-11T00:00:00.000000000\",\"2015-06-12T00:00:00.000000000\",\"2015-06-13T00:00:00.000000000\",\"2015-06-14T00:00:00.000000000\",\"2015-06-15T00:00:00.000000000\",\"2015-06-16T00:00:00.000000000\",\"2015-06-17T00:00:00.000000000\",\"2015-06-18T00:00:00.000000000\",\"2015-06-19T00:00:00.000000000\",\"2015-06-20T00:00:00.000000000\",\"2015-06-21T00:00:00.000000000\",\"2015-06-22T00:00:00.000000000\",\"2015-06-23T00:00:00.000000000\",\"2015-06-24T00:00:00.000000000\",\"2015-06-25T00:00:00.000000000\",\"2015-06-26T00:00:00.000000000\",\"2015-06-27T00:00:00.000000000\",\"2015-06-28T00:00:00.000000000\",\"2015-06-29T00:00:00.000000000\",\"2015-06-30T00:00:00.000000000\",\"2015-07-01T00:00:00.000000000\",\"2015-07-02T00:00:00.000000000\",\"2015-07-03T00:00:00.000000000\",\"2015-07-04T00:00:00.000000000\",\"2015-07-05T00:00:00.000000000\",\"2015-07-06T00:00:00.000000000\",\"2015-07-07T00:00:00.000000000\",\"2015-07-08T00:00:00.000000000\",\"2015-07-09T00:00:00.000000000\",\"2015-07-10T00:00:00.000000000\",\"2015-07-11T00:00:00.000000000\",\"2015-07-12T00:00:00.000000000\",\"2015-07-13T00:00:00.000000000\",\"2015-07-14T00:00:00.000000000\",\"2015-07-15T00:00:00.000000000\",\"2015-07-16T00:00:00.000000000\",\"2015-07-17T00:00:00.000000000\",\"2015-07-18T00:00:00.000000000\",\"2015-07-19T00:00:00.000000000\",\"2015-07-20T00:00:00.000000000\",\"2015-07-21T00:00:00.000000000\",\"2015-07-22T00:00:00.000000000\",\"2015-07-23T00:00:00.000000000\",\"2015-07-24T00:00:00.000000000\",\"2015-07-25T00:00:00.000000000\",\"2015-07-26T00:00:00.000000000\",\"2015-07-27T00:00:00.000000000\",\"2015-07-28T00:00:00.000000000\",\"2015-07-29T00:00:00.000000000\",\"2015-07-30T00:00:00.000000000\",\"2015-07-31T00:00:00.000000000\",\"2015-08-01T00:00:00.000000000\",\"2015-08-02T00:00:00.000000000\",\"2015-08-03T00:00:00.000000000\",\"2015-08-04T00:00:00.000000000\",\"2015-08-05T00:00:00.000000000\",\"2015-08-06T00:00:00.000000000\",\"2015-08-07T00:00:00.000000000\",\"2015-08-08T00:00:00.000000000\",\"2015-08-09T00:00:00.000000000\",\"2015-08-10T00:00:00.000000000\",\"2015-08-11T00:00:00.000000000\",\"2015-08-12T00:00:00.000000000\",\"2015-08-13T00:00:00.000000000\",\"2015-08-14T00:00:00.000000000\",\"2015-08-15T00:00:00.000000000\",\"2015-08-16T00:00:00.000000000\",\"2015-08-17T00:00:00.000000000\",\"2015-08-18T00:00:00.000000000\",\"2015-08-19T00:00:00.000000000\",\"2015-08-20T00:00:00.000000000\",\"2015-08-21T00:00:00.000000000\",\"2015-08-22T00:00:00.000000000\",\"2015-08-23T00:00:00.000000000\",\"2015-08-24T00:00:00.000000000\",\"2015-08-25T00:00:00.000000000\",\"2015-08-26T00:00:00.000000000\",\"2015-08-27T00:00:00.000000000\",\"2015-08-28T00:00:00.000000000\",\"2015-08-29T00:00:00.000000000\",\"2015-08-30T00:00:00.000000000\",\"2015-08-31T00:00:00.000000000\",\"2015-09-01T00:00:00.000000000\",\"2015-09-02T00:00:00.000000000\",\"2015-09-03T00:00:00.000000000\",\"2015-09-04T00:00:00.000000000\",\"2015-09-05T00:00:00.000000000\",\"2015-09-06T00:00:00.000000000\",\"2015-09-07T00:00:00.000000000\",\"2015-09-08T00:00:00.000000000\",\"2015-09-09T00:00:00.000000000\",\"2015-09-10T00:00:00.000000000\",\"2015-09-11T00:00:00.000000000\",\"2015-09-12T00:00:00.000000000\",\"2015-09-13T00:00:00.000000000\",\"2015-09-14T00:00:00.000000000\",\"2015-09-15T00:00:00.000000000\",\"2015-09-16T00:00:00.000000000\",\"2015-09-17T00:00:00.000000000\",\"2015-09-18T00:00:00.000000000\",\"2015-09-19T00:00:00.000000000\",\"2015-09-20T00:00:00.000000000\",\"2015-09-21T00:00:00.000000000\",\"2015-09-22T00:00:00.000000000\",\"2015-09-23T00:00:00.000000000\",\"2015-09-24T00:00:00.000000000\",\"2015-09-25T00:00:00.000000000\",\"2015-09-26T00:00:00.000000000\",\"2015-09-27T00:00:00.000000000\",\"2015-09-28T00:00:00.000000000\",\"2015-09-29T00:00:00.000000000\",\"2015-09-30T00:00:00.000000000\",\"2015-10-01T00:00:00.000000000\",\"2015-10-02T00:00:00.000000000\",\"2015-10-03T00:00:00.000000000\",\"2015-10-04T00:00:00.000000000\",\"2015-10-05T00:00:00.000000000\",\"2015-10-06T00:00:00.000000000\",\"2015-10-07T00:00:00.000000000\",\"2015-10-08T00:00:00.000000000\",\"2015-10-09T00:00:00.000000000\",\"2015-10-10T00:00:00.000000000\",\"2015-10-11T00:00:00.000000000\",\"2015-10-12T00:00:00.000000000\",\"2015-10-13T00:00:00.000000000\",\"2015-10-14T00:00:00.000000000\",\"2015-10-15T00:00:00.000000000\",\"2015-10-16T00:00:00.000000000\",\"2015-10-17T00:00:00.000000000\",\"2015-10-18T00:00:00.000000000\",\"2015-10-19T00:00:00.000000000\",\"2015-10-20T00:00:00.000000000\",\"2015-10-21T00:00:00.000000000\",\"2015-10-22T00:00:00.000000000\",\"2015-10-23T00:00:00.000000000\",\"2015-10-24T00:00:00.000000000\",\"2015-10-25T00:00:00.000000000\",\"2015-10-26T00:00:00.000000000\",\"2015-10-27T00:00:00.000000000\",\"2015-10-28T00:00:00.000000000\",\"2015-10-29T00:00:00.000000000\",\"2015-10-30T00:00:00.000000000\",\"2015-10-31T00:00:00.000000000\",\"2015-11-01T00:00:00.000000000\",\"2015-11-02T00:00:00.000000000\",\"2015-11-03T00:00:00.000000000\",\"2015-11-04T00:00:00.000000000\",\"2015-11-05T00:00:00.000000000\",\"2015-11-06T00:00:00.000000000\",\"2015-11-07T00:00:00.000000000\",\"2015-11-08T00:00:00.000000000\",\"2015-11-09T00:00:00.000000000\",\"2015-11-10T00:00:00.000000000\",\"2015-11-11T00:00:00.000000000\",\"2015-11-12T00:00:00.000000000\",\"2015-11-13T00:00:00.000000000\",\"2015-11-14T00:00:00.000000000\",\"2015-11-15T00:00:00.000000000\",\"2015-11-16T00:00:00.000000000\",\"2015-11-17T00:00:00.000000000\",\"2015-11-18T00:00:00.000000000\",\"2015-11-19T00:00:00.000000000\",\"2015-11-20T00:00:00.000000000\",\"2015-11-21T00:00:00.000000000\",\"2015-11-22T00:00:00.000000000\",\"2015-11-23T00:00:00.000000000\",\"2015-11-24T00:00:00.000000000\",\"2015-11-25T00:00:00.000000000\",\"2015-11-26T00:00:00.000000000\",\"2015-11-27T00:00:00.000000000\",\"2015-11-28T00:00:00.000000000\",\"2015-11-29T00:00:00.000000000\",\"2015-11-30T00:00:00.000000000\",\"2015-12-01T00:00:00.000000000\",\"2015-12-02T00:00:00.000000000\",\"2015-12-03T00:00:00.000000000\",\"2015-12-04T00:00:00.000000000\",\"2015-12-05T00:00:00.000000000\",\"2015-12-06T00:00:00.000000000\",\"2015-12-07T00:00:00.000000000\",\"2015-12-08T00:00:00.000000000\",\"2015-12-09T00:00:00.000000000\",\"2015-12-10T00:00:00.000000000\",\"2015-12-11T00:00:00.000000000\",\"2015-12-12T00:00:00.000000000\",\"2015-12-13T00:00:00.000000000\",\"2015-12-14T00:00:00.000000000\",\"2015-12-15T00:00:00.000000000\",\"2015-12-16T00:00:00.000000000\",\"2015-12-17T00:00:00.000000000\",\"2015-12-18T00:00:00.000000000\",\"2015-12-19T00:00:00.000000000\",\"2015-12-20T00:00:00.000000000\",\"2015-12-21T00:00:00.000000000\",\"2015-12-22T00:00:00.000000000\",\"2015-12-23T00:00:00.000000000\",\"2015-12-24T00:00:00.000000000\",\"2015-12-25T00:00:00.000000000\",\"2015-12-26T00:00:00.000000000\",\"2015-12-27T00:00:00.000000000\",\"2015-12-28T00:00:00.000000000\",\"2015-12-29T00:00:00.000000000\",\"2015-12-30T00:00:00.000000000\",\"2015-12-31T00:00:00.000000000\",\"2016-01-01T00:00:00.000000000\",\"2016-01-02T00:00:00.000000000\",\"2016-01-03T00:00:00.000000000\",\"2016-01-04T00:00:00.000000000\",\"2016-01-05T00:00:00.000000000\",\"2016-01-06T00:00:00.000000000\",\"2016-01-07T00:00:00.000000000\",\"2016-01-08T00:00:00.000000000\",\"2016-01-09T00:00:00.000000000\",\"2016-01-10T00:00:00.000000000\",\"2016-01-11T00:00:00.000000000\",\"2016-01-12T00:00:00.000000000\",\"2016-01-13T00:00:00.000000000\",\"2016-01-14T00:00:00.000000000\",\"2016-01-15T00:00:00.000000000\",\"2016-01-16T00:00:00.000000000\",\"2016-01-17T00:00:00.000000000\",\"2016-01-18T00:00:00.000000000\",\"2016-01-19T00:00:00.000000000\",\"2016-01-20T00:00:00.000000000\",\"2016-01-21T00:00:00.000000000\",\"2016-01-22T00:00:00.000000000\",\"2016-01-23T00:00:00.000000000\",\"2016-01-24T00:00:00.000000000\",\"2016-01-25T00:00:00.000000000\",\"2016-01-26T00:00:00.000000000\",\"2016-01-27T00:00:00.000000000\",\"2016-01-28T00:00:00.000000000\",\"2016-01-29T00:00:00.000000000\",\"2016-01-30T00:00:00.000000000\",\"2016-01-31T00:00:00.000000000\",\"2016-02-01T00:00:00.000000000\",\"2016-02-02T00:00:00.000000000\",\"2016-02-03T00:00:00.000000000\",\"2016-02-04T00:00:00.000000000\",\"2016-02-05T00:00:00.000000000\",\"2016-02-06T00:00:00.000000000\",\"2016-02-07T00:00:00.000000000\",\"2016-02-08T00:00:00.000000000\",\"2016-02-09T00:00:00.000000000\",\"2016-02-10T00:00:00.000000000\",\"2016-02-11T00:00:00.000000000\",\"2016-02-12T00:00:00.000000000\",\"2016-02-13T00:00:00.000000000\",\"2016-02-14T00:00:00.000000000\",\"2016-02-15T00:00:00.000000000\",\"2016-02-16T00:00:00.000000000\",\"2016-02-17T00:00:00.000000000\",\"2016-02-18T00:00:00.000000000\",\"2016-02-19T00:00:00.000000000\",\"2016-02-20T00:00:00.000000000\",\"2016-02-21T00:00:00.000000000\",\"2016-02-22T00:00:00.000000000\",\"2016-02-23T00:00:00.000000000\",\"2016-02-24T00:00:00.000000000\",\"2016-02-25T00:00:00.000000000\",\"2016-02-26T00:00:00.000000000\",\"2016-02-27T00:00:00.000000000\",\"2016-02-28T00:00:00.000000000\",\"2016-02-29T00:00:00.000000000\",\"2016-03-01T00:00:00.000000000\",\"2016-03-02T00:00:00.000000000\",\"2016-03-03T00:00:00.000000000\",\"2016-03-04T00:00:00.000000000\",\"2016-03-05T00:00:00.000000000\",\"2016-03-06T00:00:00.000000000\",\"2016-03-07T00:00:00.000000000\",\"2016-03-08T00:00:00.000000000\",\"2016-03-09T00:00:00.000000000\",\"2016-03-10T00:00:00.000000000\",\"2016-03-11T00:00:00.000000000\",\"2016-03-12T00:00:00.000000000\",\"2016-03-13T00:00:00.000000000\",\"2016-03-14T00:00:00.000000000\",\"2016-03-15T00:00:00.000000000\",\"2016-03-16T00:00:00.000000000\",\"2016-03-17T00:00:00.000000000\",\"2016-03-18T00:00:00.000000000\",\"2016-03-19T00:00:00.000000000\",\"2016-03-20T00:00:00.000000000\",\"2016-03-21T00:00:00.000000000\",\"2016-03-22T00:00:00.000000000\",\"2016-03-23T00:00:00.000000000\",\"2016-03-24T00:00:00.000000000\",\"2016-03-25T00:00:00.000000000\",\"2016-03-26T00:00:00.000000000\",\"2016-03-27T00:00:00.000000000\",\"2016-03-28T00:00:00.000000000\",\"2016-03-29T00:00:00.000000000\",\"2016-03-30T00:00:00.000000000\",\"2016-03-31T00:00:00.000000000\",\"2016-04-01T00:00:00.000000000\",\"2016-04-02T00:00:00.000000000\",\"2016-04-03T00:00:00.000000000\",\"2016-04-04T00:00:00.000000000\",\"2016-04-05T00:00:00.000000000\",\"2016-04-06T00:00:00.000000000\",\"2016-04-07T00:00:00.000000000\",\"2016-04-08T00:00:00.000000000\",\"2016-04-09T00:00:00.000000000\",\"2016-04-10T00:00:00.000000000\",\"2016-04-11T00:00:00.000000000\",\"2016-04-12T00:00:00.000000000\",\"2016-04-13T00:00:00.000000000\",\"2016-04-14T00:00:00.000000000\",\"2016-04-15T00:00:00.000000000\",\"2016-04-16T00:00:00.000000000\",\"2016-04-17T00:00:00.000000000\",\"2016-04-18T00:00:00.000000000\",\"2016-04-19T00:00:00.000000000\",\"2016-04-20T00:00:00.000000000\",\"2016-04-21T00:00:00.000000000\",\"2016-04-22T00:00:00.000000000\",\"2016-04-23T00:00:00.000000000\",\"2016-04-24T00:00:00.000000000\",\"2016-04-25T00:00:00.000000000\",\"2016-04-26T00:00:00.000000000\",\"2016-04-27T00:00:00.000000000\",\"2016-04-28T00:00:00.000000000\",\"2016-04-29T00:00:00.000000000\",\"2016-04-30T00:00:00.000000000\",\"2016-05-01T00:00:00.000000000\",\"2016-05-02T00:00:00.000000000\",\"2016-05-03T00:00:00.000000000\",\"2016-05-04T00:00:00.000000000\",\"2016-05-05T00:00:00.000000000\",\"2016-05-06T00:00:00.000000000\",\"2016-05-07T00:00:00.000000000\",\"2016-05-08T00:00:00.000000000\",\"2016-05-09T00:00:00.000000000\",\"2016-05-10T00:00:00.000000000\",\"2016-05-11T00:00:00.000000000\",\"2016-05-12T00:00:00.000000000\",\"2016-05-13T00:00:00.000000000\",\"2016-05-14T00:00:00.000000000\",\"2016-05-15T00:00:00.000000000\",\"2016-05-16T00:00:00.000000000\",\"2016-05-17T00:00:00.000000000\",\"2016-05-18T00:00:00.000000000\",\"2016-05-19T00:00:00.000000000\",\"2016-05-20T00:00:00.000000000\",\"2016-05-21T00:00:00.000000000\",\"2016-05-22T00:00:00.000000000\",\"2016-05-23T00:00:00.000000000\",\"2016-05-24T00:00:00.000000000\",\"2016-05-25T00:00:00.000000000\",\"2016-05-26T00:00:00.000000000\",\"2016-05-27T00:00:00.000000000\",\"2016-05-28T00:00:00.000000000\",\"2016-05-29T00:00:00.000000000\",\"2016-05-30T00:00:00.000000000\",\"2016-05-31T00:00:00.000000000\",\"2016-06-01T00:00:00.000000000\",\"2016-06-02T00:00:00.000000000\",\"2016-06-03T00:00:00.000000000\",\"2016-06-04T00:00:00.000000000\",\"2016-06-05T00:00:00.000000000\",\"2016-06-06T00:00:00.000000000\",\"2016-06-07T00:00:00.000000000\",\"2016-06-08T00:00:00.000000000\",\"2016-06-09T00:00:00.000000000\",\"2016-06-10T00:00:00.000000000\",\"2016-06-11T00:00:00.000000000\",\"2016-06-12T00:00:00.000000000\",\"2016-06-13T00:00:00.000000000\",\"2016-06-14T00:00:00.000000000\",\"2016-06-15T00:00:00.000000000\",\"2016-06-16T00:00:00.000000000\",\"2016-06-17T00:00:00.000000000\",\"2016-06-18T00:00:00.000000000\",\"2016-06-19T00:00:00.000000000\",\"2016-06-20T00:00:00.000000000\",\"2016-06-21T00:00:00.000000000\",\"2016-06-22T00:00:00.000000000\",\"2016-06-23T00:00:00.000000000\",\"2016-06-24T00:00:00.000000000\",\"2016-06-25T00:00:00.000000000\",\"2016-06-26T00:00:00.000000000\",\"2016-06-27T00:00:00.000000000\",\"2016-06-28T00:00:00.000000000\",\"2016-06-29T00:00:00.000000000\",\"2016-06-30T00:00:00.000000000\",\"2016-07-01T00:00:00.000000000\",\"2016-07-02T00:00:00.000000000\",\"2016-07-03T00:00:00.000000000\",\"2016-07-04T00:00:00.000000000\",\"2016-07-05T00:00:00.000000000\",\"2016-07-06T00:00:00.000000000\",\"2016-07-07T00:00:00.000000000\",\"2016-07-08T00:00:00.000000000\",\"2016-07-09T00:00:00.000000000\",\"2016-07-10T00:00:00.000000000\",\"2016-07-11T00:00:00.000000000\",\"2016-07-12T00:00:00.000000000\",\"2016-07-13T00:00:00.000000000\",\"2016-07-14T00:00:00.000000000\",\"2016-07-15T00:00:00.000000000\",\"2016-07-16T00:00:00.000000000\",\"2016-07-17T00:00:00.000000000\",\"2016-07-18T00:00:00.000000000\",\"2016-07-19T00:00:00.000000000\",\"2016-07-20T00:00:00.000000000\",\"2016-07-21T00:00:00.000000000\",\"2016-07-22T00:00:00.000000000\",\"2016-07-23T00:00:00.000000000\",\"2016-07-24T00:00:00.000000000\",\"2016-07-25T00:00:00.000000000\",\"2016-07-26T00:00:00.000000000\",\"2016-07-27T00:00:00.000000000\",\"2016-07-28T00:00:00.000000000\",\"2016-07-29T00:00:00.000000000\",\"2016-07-30T00:00:00.000000000\",\"2016-07-31T00:00:00.000000000\",\"2016-08-01T00:00:00.000000000\",\"2016-08-02T00:00:00.000000000\",\"2016-08-03T00:00:00.000000000\",\"2016-08-04T00:00:00.000000000\",\"2016-08-05T00:00:00.000000000\",\"2016-08-06T00:00:00.000000000\",\"2016-08-07T00:00:00.000000000\",\"2016-08-08T00:00:00.000000000\",\"2016-08-09T00:00:00.000000000\",\"2016-08-10T00:00:00.000000000\",\"2016-08-11T00:00:00.000000000\",\"2016-08-12T00:00:00.000000000\",\"2016-08-13T00:00:00.000000000\",\"2016-08-14T00:00:00.000000000\",\"2016-08-15T00:00:00.000000000\",\"2016-08-16T00:00:00.000000000\",\"2016-08-17T00:00:00.000000000\",\"2016-08-18T00:00:00.000000000\",\"2016-08-19T00:00:00.000000000\",\"2016-08-20T00:00:00.000000000\",\"2016-08-21T00:00:00.000000000\",\"2016-08-22T00:00:00.000000000\",\"2016-08-23T00:00:00.000000000\",\"2016-08-24T00:00:00.000000000\",\"2016-08-25T00:00:00.000000000\",\"2016-08-26T00:00:00.000000000\",\"2016-08-27T00:00:00.000000000\",\"2016-08-28T00:00:00.000000000\",\"2016-08-29T00:00:00.000000000\",\"2016-08-30T00:00:00.000000000\",\"2016-08-31T00:00:00.000000000\",\"2016-09-01T00:00:00.000000000\",\"2016-09-02T00:00:00.000000000\",\"2016-09-03T00:00:00.000000000\",\"2016-09-04T00:00:00.000000000\",\"2016-09-05T00:00:00.000000000\",\"2016-09-06T00:00:00.000000000\",\"2016-09-07T00:00:00.000000000\",\"2016-09-08T00:00:00.000000000\",\"2016-09-09T00:00:00.000000000\",\"2016-09-10T00:00:00.000000000\",\"2016-09-11T00:00:00.000000000\",\"2016-09-12T00:00:00.000000000\",\"2016-09-13T00:00:00.000000000\",\"2016-09-14T00:00:00.000000000\",\"2016-09-15T00:00:00.000000000\",\"2016-09-16T00:00:00.000000000\",\"2016-09-17T00:00:00.000000000\",\"2016-09-18T00:00:00.000000000\",\"2016-09-19T00:00:00.000000000\",\"2016-09-20T00:00:00.000000000\",\"2016-09-21T00:00:00.000000000\",\"2016-09-22T00:00:00.000000000\",\"2016-09-23T00:00:00.000000000\",\"2016-09-24T00:00:00.000000000\",\"2016-09-25T00:00:00.000000000\",\"2016-09-26T00:00:00.000000000\",\"2016-09-27T00:00:00.000000000\",\"2016-09-28T00:00:00.000000000\",\"2016-09-29T00:00:00.000000000\",\"2016-09-30T00:00:00.000000000\",\"2016-10-01T00:00:00.000000000\",\"2016-10-02T00:00:00.000000000\",\"2016-10-03T00:00:00.000000000\",\"2016-10-04T00:00:00.000000000\",\"2016-10-05T00:00:00.000000000\",\"2016-10-06T00:00:00.000000000\",\"2016-10-07T00:00:00.000000000\",\"2016-10-08T00:00:00.000000000\",\"2016-10-09T00:00:00.000000000\",\"2016-10-10T00:00:00.000000000\",\"2016-10-11T00:00:00.000000000\",\"2016-10-12T00:00:00.000000000\",\"2016-10-13T00:00:00.000000000\",\"2016-10-14T00:00:00.000000000\",\"2016-10-15T00:00:00.000000000\",\"2016-10-16T00:00:00.000000000\",\"2016-10-17T00:00:00.000000000\",\"2016-10-18T00:00:00.000000000\",\"2016-10-19T00:00:00.000000000\",\"2016-10-20T00:00:00.000000000\",\"2016-10-21T00:00:00.000000000\",\"2016-10-22T00:00:00.000000000\",\"2016-10-23T00:00:00.000000000\",\"2016-10-24T00:00:00.000000000\",\"2016-10-25T00:00:00.000000000\",\"2016-10-26T00:00:00.000000000\",\"2016-10-27T00:00:00.000000000\",\"2016-10-28T00:00:00.000000000\",\"2016-10-29T00:00:00.000000000\",\"2016-10-30T00:00:00.000000000\",\"2016-10-31T00:00:00.000000000\",\"2016-11-01T00:00:00.000000000\",\"2016-11-02T00:00:00.000000000\",\"2016-11-03T00:00:00.000000000\",\"2016-11-04T00:00:00.000000000\",\"2016-11-05T00:00:00.000000000\",\"2016-11-06T00:00:00.000000000\",\"2016-11-07T00:00:00.000000000\",\"2016-11-08T00:00:00.000000000\",\"2016-11-09T00:00:00.000000000\",\"2016-11-10T00:00:00.000000000\",\"2016-11-11T00:00:00.000000000\",\"2016-11-12T00:00:00.000000000\",\"2016-11-13T00:00:00.000000000\",\"2016-11-14T00:00:00.000000000\",\"2016-11-15T00:00:00.000000000\",\"2016-11-16T00:00:00.000000000\",\"2016-11-17T00:00:00.000000000\",\"2016-11-18T00:00:00.000000000\",\"2016-11-19T00:00:00.000000000\",\"2016-11-20T00:00:00.000000000\",\"2016-11-21T00:00:00.000000000\",\"2016-11-22T00:00:00.000000000\",\"2016-11-23T00:00:00.000000000\",\"2016-11-24T00:00:00.000000000\",\"2016-11-25T00:00:00.000000000\",\"2016-11-26T00:00:00.000000000\",\"2016-11-27T00:00:00.000000000\",\"2016-11-28T00:00:00.000000000\",\"2016-11-29T00:00:00.000000000\",\"2016-11-30T00:00:00.000000000\",\"2016-12-01T00:00:00.000000000\",\"2016-12-02T00:00:00.000000000\",\"2016-12-03T00:00:00.000000000\",\"2016-12-04T00:00:00.000000000\",\"2016-12-05T00:00:00.000000000\",\"2016-12-06T00:00:00.000000000\",\"2016-12-07T00:00:00.000000000\",\"2016-12-08T00:00:00.000000000\",\"2016-12-09T00:00:00.000000000\",\"2016-12-10T00:00:00.000000000\",\"2016-12-11T00:00:00.000000000\",\"2016-12-12T00:00:00.000000000\",\"2016-12-13T00:00:00.000000000\",\"2016-12-14T00:00:00.000000000\",\"2016-12-15T00:00:00.000000000\",\"2016-12-16T00:00:00.000000000\",\"2016-12-17T00:00:00.000000000\",\"2016-12-18T00:00:00.000000000\",\"2016-12-19T00:00:00.000000000\",\"2016-12-20T00:00:00.000000000\",\"2016-12-21T00:00:00.000000000\",\"2016-12-22T00:00:00.000000000\",\"2016-12-23T00:00:00.000000000\",\"2016-12-24T00:00:00.000000000\",\"2016-12-25T00:00:00.000000000\",\"2016-12-26T00:00:00.000000000\",\"2016-12-27T00:00:00.000000000\",\"2016-12-28T00:00:00.000000000\",\"2016-12-29T00:00:00.000000000\",\"2016-12-30T00:00:00.000000000\",\"2016-12-31T00:00:00.000000000\",\"2017-01-01T00:00:00.000000000\",\"2017-01-02T00:00:00.000000000\",\"2017-01-03T00:00:00.000000000\",\"2017-01-04T00:00:00.000000000\",\"2017-01-05T00:00:00.000000000\",\"2017-01-06T00:00:00.000000000\",\"2017-01-07T00:00:00.000000000\",\"2017-01-08T00:00:00.000000000\",\"2017-01-09T00:00:00.000000000\",\"2017-01-10T00:00:00.000000000\",\"2017-01-11T00:00:00.000000000\",\"2017-01-12T00:00:00.000000000\",\"2017-01-13T00:00:00.000000000\",\"2017-01-14T00:00:00.000000000\",\"2017-01-15T00:00:00.000000000\",\"2017-01-16T00:00:00.000000000\",\"2017-01-17T00:00:00.000000000\",\"2017-01-18T00:00:00.000000000\",\"2017-01-19T00:00:00.000000000\",\"2017-01-20T00:00:00.000000000\",\"2017-01-21T00:00:00.000000000\",\"2017-01-22T00:00:00.000000000\",\"2017-01-23T00:00:00.000000000\",\"2017-01-24T00:00:00.000000000\",\"2017-01-25T00:00:00.000000000\",\"2017-01-26T00:00:00.000000000\",\"2017-01-27T00:00:00.000000000\",\"2017-01-28T00:00:00.000000000\",\"2017-01-29T00:00:00.000000000\",\"2017-01-30T00:00:00.000000000\",\"2017-01-31T00:00:00.000000000\",\"2017-02-01T00:00:00.000000000\",\"2017-02-02T00:00:00.000000000\",\"2017-02-03T00:00:00.000000000\",\"2017-02-04T00:00:00.000000000\",\"2017-02-05T00:00:00.000000000\",\"2017-02-06T00:00:00.000000000\",\"2017-02-07T00:00:00.000000000\",\"2017-02-08T00:00:00.000000000\",\"2017-02-09T00:00:00.000000000\",\"2017-02-10T00:00:00.000000000\",\"2017-02-11T00:00:00.000000000\",\"2017-02-12T00:00:00.000000000\",\"2017-02-13T00:00:00.000000000\",\"2017-02-14T00:00:00.000000000\",\"2017-02-15T00:00:00.000000000\",\"2017-02-16T00:00:00.000000000\",\"2017-02-17T00:00:00.000000000\",\"2017-02-18T00:00:00.000000000\",\"2017-02-19T00:00:00.000000000\",\"2017-02-20T00:00:00.000000000\",\"2017-02-21T00:00:00.000000000\",\"2017-02-22T00:00:00.000000000\",\"2017-02-23T00:00:00.000000000\",\"2017-02-24T00:00:00.000000000\",\"2017-02-25T00:00:00.000000000\",\"2017-02-26T00:00:00.000000000\",\"2017-02-27T00:00:00.000000000\",\"2017-02-28T00:00:00.000000000\",\"2017-03-01T00:00:00.000000000\",\"2017-03-02T00:00:00.000000000\",\"2017-03-03T00:00:00.000000000\",\"2017-03-04T00:00:00.000000000\",\"2017-03-05T00:00:00.000000000\",\"2017-03-06T00:00:00.000000000\",\"2017-03-07T00:00:00.000000000\",\"2017-03-08T00:00:00.000000000\",\"2017-03-09T00:00:00.000000000\",\"2017-03-10T00:00:00.000000000\",\"2017-03-11T00:00:00.000000000\",\"2017-03-12T00:00:00.000000000\",\"2017-03-13T00:00:00.000000000\",\"2017-03-14T00:00:00.000000000\",\"2017-03-15T00:00:00.000000000\",\"2017-03-16T00:00:00.000000000\",\"2017-03-17T00:00:00.000000000\",\"2017-03-18T00:00:00.000000000\",\"2017-03-19T00:00:00.000000000\",\"2017-03-20T00:00:00.000000000\",\"2017-03-21T00:00:00.000000000\",\"2017-03-22T00:00:00.000000000\",\"2017-03-23T00:00:00.000000000\",\"2017-03-24T00:00:00.000000000\",\"2017-03-25T00:00:00.000000000\",\"2017-03-26T00:00:00.000000000\",\"2017-03-27T00:00:00.000000000\",\"2017-03-28T00:00:00.000000000\",\"2017-03-29T00:00:00.000000000\",\"2017-03-30T00:00:00.000000000\",\"2017-03-31T00:00:00.000000000\",\"2017-04-01T00:00:00.000000000\",\"2017-04-02T00:00:00.000000000\",\"2017-04-03T00:00:00.000000000\",\"2017-04-04T00:00:00.000000000\",\"2017-04-05T00:00:00.000000000\",\"2017-04-06T00:00:00.000000000\",\"2017-04-07T00:00:00.000000000\",\"2017-04-08T00:00:00.000000000\",\"2017-04-09T00:00:00.000000000\",\"2017-04-10T00:00:00.000000000\",\"2017-04-11T00:00:00.000000000\",\"2017-04-12T00:00:00.000000000\",\"2017-04-13T00:00:00.000000000\",\"2017-04-14T00:00:00.000000000\",\"2017-04-15T00:00:00.000000000\",\"2017-04-16T00:00:00.000000000\",\"2017-04-17T00:00:00.000000000\",\"2017-04-18T00:00:00.000000000\",\"2017-04-19T00:00:00.000000000\",\"2017-04-20T00:00:00.000000000\",\"2017-04-21T00:00:00.000000000\",\"2017-04-22T00:00:00.000000000\",\"2017-04-23T00:00:00.000000000\",\"2017-04-24T00:00:00.000000000\",\"2017-04-25T00:00:00.000000000\",\"2017-04-26T00:00:00.000000000\",\"2017-04-27T00:00:00.000000000\",\"2017-04-28T00:00:00.000000000\",\"2017-04-29T00:00:00.000000000\",\"2017-04-30T00:00:00.000000000\",\"2017-05-01T00:00:00.000000000\",\"2017-05-02T00:00:00.000000000\",\"2017-05-03T00:00:00.000000000\",\"2017-05-04T00:00:00.000000000\",\"2017-05-05T00:00:00.000000000\",\"2017-05-06T00:00:00.000000000\",\"2017-05-07T00:00:00.000000000\",\"2017-05-08T00:00:00.000000000\",\"2017-05-09T00:00:00.000000000\",\"2017-05-10T00:00:00.000000000\",\"2017-05-11T00:00:00.000000000\",\"2017-05-12T00:00:00.000000000\",\"2017-05-13T00:00:00.000000000\",\"2017-05-14T00:00:00.000000000\",\"2017-05-15T00:00:00.000000000\",\"2017-05-16T00:00:00.000000000\",\"2017-05-17T00:00:00.000000000\",\"2017-05-18T00:00:00.000000000\",\"2017-05-19T00:00:00.000000000\",\"2017-05-20T00:00:00.000000000\",\"2017-05-21T00:00:00.000000000\",\"2017-05-22T00:00:00.000000000\",\"2017-05-23T00:00:00.000000000\",\"2017-05-24T00:00:00.000000000\",\"2017-05-25T00:00:00.000000000\",\"2017-05-26T00:00:00.000000000\",\"2017-05-27T00:00:00.000000000\",\"2017-05-28T00:00:00.000000000\",\"2017-05-29T00:00:00.000000000\",\"2017-05-30T00:00:00.000000000\",\"2017-05-31T00:00:00.000000000\",\"2017-06-01T00:00:00.000000000\",\"2017-06-02T00:00:00.000000000\",\"2017-06-03T00:00:00.000000000\",\"2017-06-04T00:00:00.000000000\",\"2017-06-05T00:00:00.000000000\",\"2017-06-06T00:00:00.000000000\",\"2017-06-07T00:00:00.000000000\",\"2017-06-08T00:00:00.000000000\",\"2017-06-09T00:00:00.000000000\",\"2017-06-10T00:00:00.000000000\",\"2017-06-11T00:00:00.000000000\",\"2017-06-12T00:00:00.000000000\",\"2017-06-13T00:00:00.000000000\",\"2017-06-14T00:00:00.000000000\",\"2017-06-15T00:00:00.000000000\",\"2017-06-16T00:00:00.000000000\",\"2017-06-17T00:00:00.000000000\",\"2017-06-18T00:00:00.000000000\",\"2017-06-19T00:00:00.000000000\",\"2017-06-20T00:00:00.000000000\",\"2017-06-21T00:00:00.000000000\",\"2017-06-22T00:00:00.000000000\",\"2017-06-23T00:00:00.000000000\",\"2017-06-24T00:00:00.000000000\",\"2017-06-25T00:00:00.000000000\",\"2017-06-26T00:00:00.000000000\",\"2017-06-27T00:00:00.000000000\",\"2017-06-28T00:00:00.000000000\",\"2017-06-29T00:00:00.000000000\",\"2017-06-30T00:00:00.000000000\",\"2017-07-01T00:00:00.000000000\",\"2017-07-02T00:00:00.000000000\",\"2017-07-03T00:00:00.000000000\",\"2017-07-04T00:00:00.000000000\",\"2017-07-05T00:00:00.000000000\",\"2017-07-06T00:00:00.000000000\",\"2017-07-07T00:00:00.000000000\",\"2017-07-08T00:00:00.000000000\",\"2017-07-09T00:00:00.000000000\",\"2017-07-10T00:00:00.000000000\",\"2017-07-11T00:00:00.000000000\",\"2017-07-12T00:00:00.000000000\",\"2017-07-13T00:00:00.000000000\",\"2017-07-14T00:00:00.000000000\",\"2017-07-15T00:00:00.000000000\",\"2017-07-16T00:00:00.000000000\",\"2017-07-17T00:00:00.000000000\",\"2017-07-18T00:00:00.000000000\",\"2017-07-19T00:00:00.000000000\",\"2017-07-20T00:00:00.000000000\",\"2017-07-21T00:00:00.000000000\",\"2017-07-22T00:00:00.000000000\",\"2017-07-23T00:00:00.000000000\",\"2017-07-24T00:00:00.000000000\",\"2017-07-25T00:00:00.000000000\",\"2017-07-26T00:00:00.000000000\",\"2017-07-27T00:00:00.000000000\",\"2017-07-28T00:00:00.000000000\",\"2017-07-29T00:00:00.000000000\",\"2017-07-30T00:00:00.000000000\",\"2017-07-31T00:00:00.000000000\"],\"xaxis\":\"x\",\"y\":{\"dtype\":\"f8\",\"bdata\":\"H4XrUbjGYEDhehSuRxFiQAAAAAAAYGFAj8L1KFw\\u002fXUA9CtejcE1aQAAAAAAAcFhAAAAAAAAgXEAK16NwPfpcQDMzMzMzE1xAAAAAAADgW0AUrkfhemRcQHsUrkfhKlxAzczMzMxMXUCPwvUoXM9cQAAAAAAAwFxAH4XrUbh+XUAAAAAAAOBbQK5H4XoUjlxAcT0K16OwXUDhehSuR8FeQAAAAAAA4F5Aj8L1KFx\\u002fXkAAAAAAAIBeQLgehetRuF5AKVyPwvX4XkDNzMzMzKxfQGZmZmZmpmBAj8L1KFx\\u002fYECPwvUoXK9gQAAAAAAAOGBAAAAAAAAgYECamZmZmYlgQJqZmZmZGWBAAAAAAAAgYECamZmZmSlgQMP1KFyPkl5ArkfhehSOXkB7FK5H4VpeQJqZmZmZaV5AAAAAAACAXUAAAAAAAOBbQDMzMzMzE1tAAAAAAAAAWUBmZmZmZpZaQJqZmZmZOVtAmpmZmZkJW0AAAAAAAABaQB+F61G4\\u002flhAj8L1KFz\\u002fWEBxPQrXo+BYQM3MzMzMbFlAmpmZmZnZWkAAAAAAABBbQJqZmZmZiVtAAAAAAABgW0AzMzMzMxNbQGZmZmZm5lpAj8L1KFyvWUDNzMzMzPxZQAAAAAAAAFpAXI\\u002fC9ShcWUCamZmZmalXQI\\u002fC9Shcv1dA16NwPQonWEAzMzMzMwNWQLgehetRiFZAUrgehethU0BSuB6F6yFUQOxRuB6FG1FAUrgeheuRUUCkcD0K16NSQOF6FK5HIVNAXI\\u002fC9SgsU0BxPQrXo7BVQB+F61G4PlZA9ihcj8JlV0C4HoXrUYhYQFyPwvUorFdAmpmZmZmZWEDNzMzMzFxYQAAAAAAAoFhAhetRuB6lVkB7FK5H4QpXQClcj8L1WFZAcT0K16OwVkDXo3A9CudWQKRwPQrX41dAcT0K16OgV0CamZmZmTlYQOF6FK5HAVhASOF6FK6HV0BxPQrXo\\u002fBYQM3MzMzMTFlAj8L1KFz\\u002fWkD2KFyPwoVaQAAAAAAAAFpAAAAAAAAgWkAAAAAAAABaQClcj8L1SFpArkfhehSOWkAAAAAAALBaQAAAAAAAsFpAAAAAAADAWUAzMzMzM7NZQAAAAAAAwFlAAAAAAABAWkApXI\\u002fC9ahaQAAAAAAAQFtApHA9CtcjXECPwvUoXH9bQI\\u002fC9ShcP1tAAAAAAABgXEAAAAAAAGBcQAAAAAAAwF1AzczMzMxMXkAzMzMzM9NeQJqZmZmZSV5AAAAAAACgXUAzMzMzMwNeQNejcD0Kh15ApHA9CtcDXkAAAAAAAKBfQEjhehSup15AKVyPwvWYXkBI4XoUrq9gQDMzMzMz62BAexSuR+FKYUAzMzMzM\\u002ftgQHE9CtejGGFAj8L1KFyvX0DsUbgehZtfQJqZmZmZyV1AmpmZmZkJX0AK16NwPWpeQNejcD0Kx19ACtejcD16X0AAAAAAAOhgQFyPwvUopGBAj8L1KFzfYEDXo3A9CidgQKRwPQrXS2BA16NwPQp3YECF61G4HnVgQNejcD0Kb2BAzczMzMw0YEDD9Shcj8JfQOxRuB6F219ApHA9CtcjYEDNzMzMzHxfQAAAAAAA0F9A16NwPQoHYEBcj8L1KAxgQClcj8L1uGBAKVyPwvXYYEB7FK5H4SphQAAAAAAAoGBA9ihcj8KFYEC4HoXrUYhcQLgehetR6F5AuB6F61EgYECamZmZmRFgQAAAAAAAIGBAXI\\u002fC9Si8X0AAAAAAAIBfQK5H4XoUVmBAexSuR+FSYEDNzMzMzFxgQK5H4XoU5mBAXI\\u002fC9ShEYUBxPQrXo5BhQEjhehSuJ2JAmpmZmZnRYUAAAAAAAEhiQB+F61G4fmNAPQrXo3CNZUDsUbgehdNlQB+F61G4xmZAuB6F61E4aECkcD0K17NqQI\\u002fC9Shcx2hArkfhehRWZ0AK16NwPSpmQK5H4XoUjmhAmpmZmZnRaEAUrkfheoxpQNejcD0K\\u002f2hAAAAAAACAaUD2KFyPwsVpQNejcD0Kx2lAmpmZmZnhakAzMzMzM6NsQEjhehSup25AAAAAAABocEDD9Shcj4ZyQPYoXI\\u002fCIXVA9ihcj8IxdUBSuB6F62l0QNejcD0KZ3VA4XoUrkeFdkBSuB6F63V5QDMzMzMzQ3pAMzMzMzMfekDsUbgehYN7QPYoXI\\u002fCwX5AFK5H4Xr8hUB7FK5H4USCQHE9CtejdoJAPQrXo3CThkDsUbgehRuIQMP1KFyP7ohAAAAAAAAyiEB7FK5H4fiIQM3MzMzMAI1ASOF6FK5Pj0DNzMzMzB+QQHsUrkfhr5FAH4XrUbilkUDNzMzMzN6NQLgehetRTZBAhetRuB7ZkEBI4XoUrvyRQD0K16NwVJBAmpmZmZnriUCkcD0K19GFQClcj8L13ohA7FG4HoXpi0CuR+F6FOSOQKRwPQrXc4tArkfhehRKi0BxPQrXo+SLQM3MzMzMRItAKVyPwvVgi0D2KFyPwg+GQClcj8L1UIVAmpmZmZlVgEBI4XoUrp+FQMP1KFyPioNA4XoUrkftgkA9CtejcEmDQOF6FK5HC4VAcT0K16PMhEBI4XoUrlGFQKRwPQrXz4dAw\\u002fUoXI\\u002f4hkBxPQrXo76GQGZmZmZmSIdA16NwPQqhh0CuR+F6FJCHQDMzMzMzG4hAhetRuB4TiUD2KFyPwpWJQK5H4XoU3IpACtejcD0sjUC4HoXrUcqNQAAAAAAAEIlA9ihcj8JVikB7FK5H4XaKQKRwPQrXI4tAmpmZmZmPjED2KFyPwvmKQJqZmZmZSYpAXI\\u002fC9SgKikAzMzMzM+eKQNejcD0KHYpAhetRuB51iUAAAAAAAECKQEjhehSuN4tAmpmZmZkxi0DhehSuR\\u002f+KQB+F61G4bIpAuB6F61GwiUDD9Shcj+iIQHsUrkfhrIpACtejcD2qi0CF61G4HhuIQK5H4XoUZIlAAAAAAADQiUAK16NwPZiJQI\\u002fC9Shc74lAcT0K16MEikApXI\\u002fC9cqJQHE9CtejvolASOF6FK7fiUDhehSuR1+JQGZmZmZmbIhAMzMzMzNDhkCPwvUoXA+FQDMzMzMzV4VACtejcD1IhUCPwvUoXAGFQPYoXI\\u002fCXYRAUrgehevpgkBSuB6F66+EQI\\u002fC9ShcV4RA16NwPQpFg0Bcj8L1KJKDQM3MzMzMlINACtejcD14g0CF61G4HmGBQOF6FK5H8YFAj8L1KFzrgkDD9Shcj+6CQMP1KFyPEoFASOF6FK7VgEDsUbgehTWCQFyPwvUoFoJArkfhehQqgUB7FK5H4ayBQLgehetRfoFArkfhehTehEAK16NwPdaEQK5H4XoUzIRAexSuR+G+hEAzMzMzM6mDQJqZmZmZS4NASOF6FK7ng0C4HoXrUZ6DQHsUrkfh0INAzczMzMzAg0CF61G4HvGDQGZmZmZmpoNAKVyPwvXgg0B7FK5H4biDQClcj8L1coNAcT0K16M2g0CF61G4Hg+DQFyPwvUoZoJAUrgehevbgUC4HoXrUaiBQFyPwvUoioFA4XoUrkc7gkCPwvUoXD+CQHE9CtejJoJApHA9CtdzfUAfhetRuPp+QB+F61G4sn5AuB6F61HEfEAAAAAAAJB8QK5H4XoU5n1ACtejcD1Se0DsUbgehct7QBSuR+F6+HtAw\\u002fUoXI\\u002fefEAAAAAAAMh8QB+F61G4FnxAPQrXo3BRfEBI4XoUrqt7QHsUrkfh0nZAMzMzMzNPekBSuB6F61F6QClcj8L14HlAcT0K16OsfEAfhetRuByAQIXrUbgee4BAj8L1KFz\\u002ffkAK16NwPfp9QClcj8L1WH9AH4XrUbgif0C4HoXrUfx+QB+F61G4fn5AzczMzMy0fkCPwvUoXEd\\u002fQDMzMzMz13xAmpmZmZmpfEAK16NwPUZ7QHE9CtejhHtAj8L1KFzze0AK16NwPfp7QFyPwvUonHxArkfhehQWfEBcj8L1KFx7QGZmZmZmRntASOF6FK4Xe0CPwvUoXM96QIXrUbgebXtAH4XrUbiCe0CPwvUoXBd8QHsUrkfhZnxACtejcD1ue0CPwvUoXJd7QB+F61G4intA7FG4HoW\\u002fe0AAAAAAAPR7QClcj8L1AHxAZmZmZmYOfEBcj8L1KOR7QHsUrkfh4ntA7FG4HoVbfkC4HoXrUbx+QHE9CtejZIBA9ihcj8JBgECF61G4HmmAQB+F61G43IFAj8L1KFw7gkBSuB6F69mBQBSuR+F6CIJAPQrXo3DBgUBxPQrXozqDQD0K16NwfYNApHA9Ctexg0ApXI\\u002fC9aSEQHsUrkfh3IRAexSuR+EMhECuR+F6FJqEQJqZmZmZbYRA9ihcj8J3hECF61G4HoGEQOF6FK5HSYRAMzMzMzNphEBcj8L1KMiDQJqZmZmZV4JA4XoUrkfBgkB7FK5H4QqCQOxRuB6Fh4JA7FG4HoWBgkB7FK5H4RaDQEjhehSu\\u002f4JAw\\u002fUoXI+wgkAzMzMzM5GCQFK4HoXrl4JAXI\\u002fC9SjSgkCkcD0K14+CQHsUrkfhMoJAH4XrUbiygUCF61G4HimCQK5H4XoUqoJAZmZmZmakgkD2KFyPwtWCQGZmZmZm\\u002foNAFK5H4XoGhEDXo3A9CleEQOF6FK5HKYRA7FG4HoW1g0BI4XoUrruDQBSuR+F63oNAH4XrUbiAg0DD9Shcj4aDQK5H4XoUhINArkfhehRGg0AAAAAAAMCDQEjhehSuzYNAAAAAAACUg0DD9Shcj1qDQB+F61G4bINAZmZmZmZGg0AfhetRuHiDQArXo3A9poNArkfhehSkg0AzMzMzM3+DQEjhehSucYNAZmZmZmZsg0DhehSuR1uDQKRwPQrXzYJAH4XrUbjIgkAUrkfhep6CQM3MzMzMjoJA7FG4HoVNgkCkcD0K10WCQLgehetRuoFAUrgehetRgkCPwvUoXJeCQHE9CtejaoJAj8L1KFxVgkAK16NwPWaCQOxRuB6FS4JAMzMzMzNFgkApXI\\u002fC9WaCQHE9CtejhIJAKVyPwvVqgkAUrkfheniCQClcj8L1AoJAhetRuB7NgUDhehSuRxWBQOxRuB6Fn39AXI\\u002fC9SgQf0BI4XoUrj2AQM3MzMzMvH5Aj8L1KFzXfEAAAAAAAFR+QEjhehSu\\u002f39AUrgehespgEC4HoXrURCAQIXrUbgeIX9AcT0K16PEf0AAAAAAAGh\\u002fQIXrUbge+X9AZmZmZmbyf0ApXI\\u002fC9bx\\u002fQLgehetRyH9AAAAAAACEf0Bcj8L1KNx9QK5H4XoUrn1AexSuR+HWfUA9CtejcNl9QMP1KFyPmn5APQrXo3A1fkDhehSuR01+QBSuR+F6JH5AmpmZmZmpfUBcj8L1KLR9QPYoXI\\u002fC9X1AAAAAAAD8fUAAAAAAANx9QAAAAAAA8H1ACtejcD3efUBSuB6F67V9QClcj8L1IH1A4XoUrkeVfEDXo3A9Cod6QM3MzMzMrHhAZmZmZmaOeUCF61G4Hu14QGZmZmZmInlAcT0K16M8e0AzMzMzM3N6QIXrUbgeuXlAexSuR+FGeUC4HoXrUfh4QHsUrkfhkndA7FG4HoV3d0DXo3A9Ci94QFK4HoXr+XdAhetRuB5xd0Bcj8L1KHh2QFK4HoXrjXRAXI\\u002fC9SgIdEDhehSuR6F0QNejcD0KA3VA16NwPQoPdkAUrkfhetB2QClcj8L1mHZAzczMzMykdkDNzMzMzKh3QMP1KFyPZnhAUrgehesNeUC4HoXrUax4QClcj8L16HdAXI\\u002fC9Sj8d0DXo3A9Cnd4QM3MzMzMWHhAmpmZmZntd0BI4XoUrid4QMP1KFyP8ndAH4XrUbhmdkCamZmZmWV2QLgehetRtHVAMzMzMzMrdkCkcD0K1w92QFK4HoXrWXZAPQrXo3D5dEApXI\\u002fC9ZR1QIXrUbgeJXVAAAAAAABcdEAK16NwPV50QM3MzMzMeHRApHA9CtendECkcD0K1zd1QHE9Ctej1HVAH4XrUbhmdUCkcD0K15d1QFyPwvUotHZAH4XrUbjudkDXo3A9Cvt2QClcj8L1eHpApHA9CtdLekCF61G4Ht14QK5H4XoUgndArkfhehQ+eEDD9ShcjzZ4QDMzMzMzc3dAKVyPwvXId0A9CtejcF12QJqZmZmZ7XVAH4XrUbgOdkCF61G4Hvl2QGZmZmZmjndAmpmZmZl1d0BSuB6F6wV3QB+F61G4GndAMzMzMzOHd0CkcD0K13d3QM3MzMzMoHdAAAAAAAC0d0ApXI\\u002fC9dR3QFyPwvUocHdAmpmZmZkZd0CamZmZmY13QHE9CtejbHdAmpmZmZlxd0DD9Shcj552QOxRuB6FA3ZAUrgeheuldUBcj8L1KOh1QHE9CtejCHZArkfhehS2dUCuR+F6FPp1QJqZmZmZlXVAKVyPwvVwdEAUrkfhevxzQGZmZmZmdnNAPQrXo3Ddc0CPwvUoXJ90QD0K16NwDXRACtejcD2+dECF61G4Hul0QBSuR+F6KHRAXI\\u002fC9Sjwc0AfhetRuH50QPYoXI\\u002fCvXNApHA9CtfTc0AfhetRuIpzQKRwPQrXa3NA16NwPQoDdEAAAAAAAKRzQBSuR+F6sHNA4XoUrkeRcUDXo3A9CoNwQOxRuB6FJ3FA16NwPQrjcUA9CtejcGVyQJqZmZmZtXFAw\\u002fUoXI8mckDNzMzMzCxxQMP1KFyPmnBAzczMzMy8cEDsUbgehTtsQDMzMzMzQ2ZAexSuR+E6akAzMzMzMwNqQLgehetR6GhAexSuR+FKakDsUbgehdtqQFK4HoXraWpAzczMzMxcbECF61G4Hi1tQFyPwvUoHG1AMzMzMzP7bkDXo3A9CrdvQOxRuB6FF3FASOF6FK53cECF61G4Hj1tQLgehetRMG1A9ihcj8JNbEAfhetRuC5rQNejcD0KX2xAj8L1KFzHbUBxPQrXo2hsQDMzMzMzW2xA7FG4HoUja0BxPQrXo8hrQAAAAAAAeGxAhetRuB7ta0DsUbgehYNrQHsUrkfhemtArkfhehRma0C4HoXrUbhrQPYoXI\\u002fCbW1AhetRuB4VcEAK16NwPVptQHsUrkfhOm1A7FG4HoVzbkDD9Shcj4ptQClcj8L1CG5AKVyPwvV4bkApXI\\u002fC9ZBuQI\\u002fC9Shcf21AFK5H4XrcbUBI4XoUrtdtQNejcD0Kr21A9ihcj8KNbUDD9Shcj7pvQLgehetRyG9AMzMzMzNDcEAfhetRuDpxQDMzMzMzm3FAPQrXo3ARcUB7FK5H4UJxQOxRuB6FC3FAXI\\u002fC9ShEcUCamZmZmSVxQPYoXI\\u002fCGXJAXI\\u002fC9Sg8ckCuR+F6FIZyQJqZmZmZZXJAPQrXo3DVcUCuR+F6FJ5xQArXo3A95nFAPQrXo3ApckAAAAAAANhxQM3MzMzMBHBAexSuR+FOcEAAAAAAAFxwQLgehetRQHBAj8L1KFy\\u002fcECkcD0K16twQHsUrkfhsm5AZmZmZmbGbkApXI\\u002fC9RBvQClcj8L14G5AmpmZmZmZb0AfhetRuFZuQClcj8L18G5A16NwPQqHbkBxPQrXo+huQAAAAAAAoG9ACtejcD3Kb0BmZmZmZrZvQJqZmZmZSXBASOF6FK7vb0D2KFyPwqVvQHE9CtejoG5A9ihcj8J1bkAK16NwPYJtQJqZmZmZkW1AzczMzMyEbUB7FK5H4RJsQIXrUbgeZWtAw\\u002fUoXI\\u002f6a0AK16NwPZJsQFyPwvUo3GtA7FG4HoXra0AzMzMzM9NrQFyPwvUoFGxAcT0K16NobUD2KFyPwkVtQB+F61G4jm1AcT0K16PobEAUrkfhekxsQPYoXI\\u002fCbWtA4XoUrkepbEAzMzMzMztsQFK4HoXrOWxAzczMzMyEbUDD9ShcjwJtQPYoXI\\u002fCXW1A7FG4HoULbkBxPQrXo+BtQKRwPQrXg21AKVyPwvW4bEDD9Shcj6ptQOxRuB6Fe25Aw\\u002fUoXI86bkCamZmZmQluQIXrUbgeRW5A7FG4HoUjbkBcj8L1KIxtQPYoXI\\u002fCnW1AMzMzMzOzbUDNzMzMzIRtQJqZmZmZmW1AXI\\u002fC9SgkbUBmZmZmZv5sQHE9CtejQG1AexSuR+FqbUAzMzMzMwtuQKRwPQrX221AZmZmZmYebkDsUbgehaNtQKRwPQrXo21AKVyPwvWobUCF61G4Hq1tQDMzMzMzo21AexSuR+EqbUCuR+F6FMZsQPYoXI\\u002fC3WtAmpmZmZk5bECkcD0K1ztsQArXo3A9CmxAZmZmZmYebECkcD0K1zNsQFyPwvUo3GtASOF6FK6PbECamZmZmaFsQJqZmZmZmWxAH4XrUbi2bECPwvUoXL9sQM3MzMzMDG1A4XoUrkcxbUAK16NwPZptQM3MzMzMXG9AKVyPwvUob0C4HoXrUSBvQOxRuB6Fk25AH4XrUbimbkCuR+F6FH5uQEjhehSu325AmpmZmZmJbkC4HoXrURBuQJqZmZmZWW5AexSuR+FybkBI4XoUrl9vQLgehetRIG9AKVyPwvUQcECF61G4HnFwQFK4HoXrKXBAhetRuB7tb0A9CtejcAVwQArXo3A9TnBAw\\u002fUoXI\\u002f+cEAUrkfhetBwQI\\u002fC9Shco3BAcT0K16PscEBI4XoUrtNwQArXo3A9znFAUrgehetRckBSuB6F621zQM3MzMzMQHJAj8L1KFz3cUDhehSuR91xQD0K16NwYXFA7FG4HoV3cUBmZmZmZi5xQPYoXI\\u002fCGXFASOF6FK5vcUDhehSuRz1xQOxRuB6FU3FAzczMzMxAcUAUrkfhegRyQDMzMzMzC3JA16NwPQpLckBSuB6F61lyQHsUrkfhZnJAPQrXo3AZckDsUbgehftxQGZmZmZmynFAmpmZmZmZcUD2KFyPwqlxQEjhehSuk3FA7FG4HoXTcUCuR+F6FJ5xQOF6FK5HaXFA4XoUrkd5cUAAAAAAAFBwQOF6FK5HkXBA7FG4HoWHcEAK16NwPeZwQK5H4XoUpnBA4XoUrkeBcEB7FK5H4ZpwQM3MzMzMWHBAXI\\u002fC9SgocEBI4XoUrh9wQMP1KFyPYmpA9ihcj8JVbEAzMzMzM2ttQArXo3A9Em1AFK5H4XrMbEA9CtejcIVsQAAAAAAAUGpA7FG4HoWza0DD9ShcjzpsQHE9CtejGGxAzczMzMzsbEApXI\\u002fC9bhsQLgehetRmGxAUrgehevBbECkcD0K14NsQClcj8L1qGxA9ihcj8JlbECamZmZmclsQHE9CtejYG1AexSuR+H6bUAzMzMzM\\u002fttQOxRuB6Fc25APQrXo3DFbUCPwvUoXM9tQOxRuB6FA25Aj8L1KFxnbUC4HoXrUdBsQBSuR+F61GxAmpmZmZnJbEB7FK5H4aJsQFK4HoXruWxA16NwPQofbUBI4XoUru9sQB+F61G45mxAexSuR+FibECkcD0K19NsQClcj8L1yGxAKVyPwvVQbUAUrkfhemRtQHsUrkfhSm1AuB6F61EYbUAUrkfheuRtQK5H4XoUlm1AUrgeheuBbUCamZmZmbFtQOF6FK5HqW1Aj8L1KFzXbUC4HoXrUchtQFyPwvUoDG5AUrgehevBbkDXo3A9Cl9uQJqZmZmZSW5A9ihcj8J9bkCuR+F6FJ5uQJqZmZmZ4W5AUrgeheupbkC4HoXrUTBvQEjhehSuf29ACtejcD3Kb0BSuB6F621wQArXo3A96nBACtejcD1acEDXo3A9CndwQI\\u002fC9Shc13BAuB6F61GkcEC4HoXrUSBxQAAAAAAASHFAZmZmZmaacUB7FK5H4bpxQM3MzMzM1HFAcT0K16NcckBSuB6F6wlzQPYoXI\\u002fCnXNAXI\\u002fC9SiAdEAfhetRuKJzQHsUrkfhVnRA16NwPQqTdkAfhetRuDZ5QClcj8L1uHlAmpmZmZkleEDsUbgehWd3QEjhehSuJ3hAUrgehetVd0Bcj8L1KMR3QIXrUbgeDXVA4XoUrkdxc0BmZmZmZiJ1QAAAAAAADHVAw\\u002fUoXI\\u002fOdEAfhetRuAJ0QAAAAAAArHRAPQrXo3DxdEA9CtejcOl0QGZmZmZmYnRAuB6F61EgdEB7FK5H4W50QHE9CtejSHRAzczMzMwwdEDNzMzMzAB0QI\\u002fC9Shcg3RAexSuR+EKdkBxPQrXo2B2QK5H4XoUVnZAcT0K16M0d0CF61G4HpV3QKRwPQrXp3ZA16NwPQpzdkDNzMzMzJB2QHsUrkfhsnZAMzMzMzNPeEAUrkfhekx4QHE9CtejuHhAKVyPwvX4eUApXI\\u002fC9Rh6QEjhehSu93lA16NwPQo\\u002ffEAAAAAAADB7QAAAAAAAHHtAexSuR+HCe0CF61G4HhV9QHsUrkfhbnxA4XoUrkeBfEBSuB6F6\\u002fl8QIXrUbge5XxA16NwPQqre0AK16NwPWp7QIXrUbgeSXtAZmZmZmame0CkcD0K1298QGZmZmZmenxAuB6F61EUekCF61G4Hm16QBSuR+F6ZHpASOF6FK4Pe0BSuB6F66l6QIXrUbge6XpA4XoUrkcle0DXo3A9Chd7QFyPwvUo4HpAPQrXo3ARe0CPwvUoXP96QPYoXI\\u002fC0XpAzczMzMygfEBI4XoUrlN8QPYoXI\\u002fC+XtApHA9Ctf\\u002fe0B7FK5H4QZ8QNejcD0KO3tAUrgehesFe0ApXI\\u002fC9eR6QOF6FK5HxXZAcT0K16M4eEDNzMzMzOR3QB+F61G4MnhAZmZmZmbCd0BI4XoUrkN6QFyPwvUopHlApHA9Ctfnd0CkcD0K1zd4QOxRuB6FL3lASOF6FK57eEBmZmZmZoJ4QOxRuB6Fr3hAcT0K16PEd0DsUbgehbd3QAAAAAAApHdAuB6F61EMd0ApXI\\u002fC9VB3QDMzMzMzZ3dAMzMzMzMfd0A9CtejcFl4QM3MzMzMKHhAuB6F61GId0BSuB6F64l3QDMzMzMzV3dAFK5H4XqAd0BmZmZmZtp3QGZmZmZmundAXI\\u002fC9SgEeED2KFyPwn14QEjhehSuc3lA16NwPQoDeUCkcD0K13d5QIXrUbgeBXpAUrgehetlekBxPQrXo0x6QMP1KFyPUntAzczMzMxse0AAAAAAAFx7QKRwPQrXS3pAMzMzMzOPekBxPQrXo4h6QGZmZmZmAntAuB6F61EIe0AAAAAAABh7QDMzMzMzW3tAUrgehesxe0CkcD0K1396QGZmZmZmWnpA16NwPQqveUCF61G4Hgl5QI\\u002fC9Shce3lAhetRuB7leUDsUbgehd95QPYoXI\\u002fC7XlArkfhehQSekDXo3A9Clt6QFK4HoXruXlAKVyPwvXgeUDXo3A9Cgd6QOF6FK5HDXpAXI\\u002fC9SgQekBSuB6F60l6QM3MzMzMmHlA16NwPQqneUAAAAAAANx5QClcj8L11HlAPQrXo3AhekBxPQrXoyB6QArXo3A9BnpAexSuR+ESekDXo3A9Ch96QFyPwvUorHpASOF6FK6DekC4HoXrUQh6QIXrUbge7XlASOF6FK4LekCPwvUoXB96QFK4HoXrTXpAZmZmZmZOekDXo3A9Cld6QBSuR+F6gHpAw\\u002fUoXI92ekAAAAAAAGx6QJqZmZmZRXpAw\\u002fUoXI82ekApXI\\u002fC9Vh6QEjhehSuZ3pA16NwPQqTekBI4XoUrnt6QBSuR+F6hHpAj8L1KFzbekCF61G4Hul6QGZmZmZmtnpAPQrXo3DJekBcj8L1KDh7QArXo3A9lntAexSuR+EWfECkcD0K19t7QBSuR+F6JHxAKVyPwvWofEB7FK5H4dZ8QD0K16NwIX1A16NwPQrLe0Bcj8L1KBB8QJqZmZmZcXxAhetRuB4FfECuR+F6FD58QB+F61G4yntAzczMzMwkfEDsUbgehet7QEjhehSu\\u002f3tAmpmZmZm5fEBxPQrXo6h8QM3MzMzMqHxASOF6FK7HfEAK16NwPS58QEjhehSuS3xAuB6F61FsfEAfhetRuHp8QB+F61G4enxAhetRuB6ZfEDD9Shcj2J8QBSuR+F6XHxAUrgehetpfECPwvUoXGt7QHsUrkfhqntA16NwPQqze0CF61G4HnV7QGZmZmZmwntASOF6FK7fe0CamZmZmRl8QK5H4XoUVnxAj8L1KFyXfUC4HoXrUZCAQKRwPQrXcYBAexSuR+GugECF61G4HpuAQI\\u002fC9Shcx4BA9ihcj8LPgEDsUbgehcmBQKRwPQrX5YFApHA9Ctf3gUC4HoXrUUyCQM3MzMzMBIJAhetRuB4tgkDXo3A9CvWBQPYoXI\\u002fCC4JApHA9Ctf1gkAK16NwPQaFQNejcD0KA4ZAFK5H4XpshUD2KFyPwrOFQBSuR+F68odA4XoUrkdnh0CkcD0K16GHQArXo3A93odApHA9CtcJh0AzMzMzM9WEQClcj8L1oIJApHA9Ctd\\u002fg0BmZmZmZsqEQClcj8L1yIRAKVyPwvWqg0Bcj8L1KHqEQAAAAAAAOIRAhetRuB7\\u002fg0AfhetRuAqFQGZmZmZmIoVAmpmZmZn9hUDhehSuR5WEQOF6FK5HXYVA16NwPQr1hEBxPQrXoyqFQBSuR+F6BIRAXI\\u002fC9SjUhEBI4XoUrleEQHsUrkfhSoRA4XoUrkc9hEBmZmZmZsSEQPYoXI\\u002fCc4RAcT0K16OQhEAAAAAAALqEQFyPwvUopoRASOF6FK47hUB7FK5H4QiFQHsUrkfhBoVAPQrXo3DNhECuR+F6FMiEQClcj8L1VIRAFK5H4Xp8hEAK16NwPaqEQM3MzMzMcIRACtejcD1ehEDNzMzMzHKEQArXo3A9eIRAUrgeheuHhEBmZmZmZniEQD0K16NwhYNAXI\\u002fC9SjygkD2KFyPwhuBQHsUrkfhsoFAuB6F61ESgkC4HoXrUfiBQArXo3A9XoJA7FG4HoWFgkBmZmZmZniCQGZmZmZmXoJAzczMzMyAgkApXI\\u002fC9WiCQBSuR+F6XIJAH4XrUbhMgkD2KFyPwtOBQFK4HoXruYFA7FG4HoULgkD2KFyPwumBQMP1KFyP8oFA16NwPQr9gUCamZmZmS2CQBSuR+F6KoJAAAAAAABWgkDhehSuRzuCQD0K16NwIYJArkfhehQOgkAzMzMzMx2CQJqZmZmZz4FA4XoUrkfvgUB7FK5H4fCBQAAAAAAADIJA9ihcj8L7gUBmZmZmZuKBQLgehetR\\u002fIFASOF6FK6xgkDXo3A9CgWDQB+F61G49IJA7FG4HoUTg0C4HoXrUTSDQMP1KFyPkoNAexSuR+F2g0CuR+F6FHyDQPYoXI\\u002fC9YJAUrgehesBg0BSuB6F6wmDQD0K16NwFYNAMzMzMzP5gkD2KFyPwveCQKRwPQrX74JAKVyPwvUOg0CkcD0K1wmDQBSuR+F6AoNAMzMzMzOpgkBmZmZmZqKCQB+F61G41oJA16NwPQrVgkBxPQrXo8aCQLgehetRAINAj8L1KFzxgkCkcD0K1+WCQOxRuB6F7YJAUrgehesNg0CkcD0K1y+DQIXrUbgeF4NA16NwPQohg0CamZmZmRGDQK5H4XoUJINAXI\\u002fC9Sgog0ApXI\\u002fC9UiDQHsUrkfhWINAAAAAAABGg0BSuB6F61eDQMP1KFyPCIRA7FG4HoXhg0C4HoXrUeaDQNejcD0KA4RAMzMzMzP1g0DXo3A9Cg2EQOxRuB6F+YNASOF6FK7vg0Bcj8L1KLSDQHsUrkfhtoNAcT0K16PGg0C4HoXrUYqEQMP1KFyPiIRArkfhehRuhEAfhetRuIyEQGZmZmZmMoVAFK5H4XqChUAzMzMzM42FQKRwPQrXU4ZAexSuR+HuhUD2KFyPwueFQLgehetRzoZAcT0K16Mmh0CamZmZmYWFQFK4HoXr+YVAj8L1KFz7hUBcj8L1KDyGQNejcD0K+YVAzczMzMwuhkBcj8L1KJqGQArXo3A9XIZA4XoUrkdjhkBmZmZmZgiGQArXo3A98IVAXI\\u002fC9SgIhkApXI\\u002fC9TyGQJqZmZmZQYdApHA9Ctcnh0AfhetRuHyHQClcj8L1fIdACtejcD3YhkAAAAAAABqHQM3MzMzMeodAH4XrUbhEh0C4HoXrUSKHQDMzMzMzLYdA16NwPQr7hkAK16NwPeCGQBSuR+F6\\u002foZAzczMzMz8hkDsUbgehU2HQFyPwvUopodA7FG4HoVPiEAzMzMzMxmIQClcj8L1LohAmpmZmZm1h0D2KFyPwuGHQNejcD0KAYhAFK5H4XoWiEC4HoXrUSaIQDMzMzMzNYhApHA9CtcNiEAfhetRuGCIQBSuR+F6ZIhApHA9CtdriEAfhetRuFCIQOF6FK5Hh4hAcT0K16O2iEAK16NwPbSIQEjhehSuxYhA16NwPQoHiUAK16NwPRKKQLgehetRBItApHA9CtfPjEDD9ShcjxaMQD0K16NwAYxAexSuR+FcjECamZmZmSmNQI\\u002fC9Shcf45AAAAAAABsjkBSuB6F6wmOQFK4HoXrHY5AcT0K16Myj0AAAAAAAO6PQI\\u002fC9ShcT5BAUrgehesKkkDXo3A9CquPQJqZmZmZMYxAH4XrUbhkjECamZmZmXmMQHE9CtejNoxAPQrXo3BdjECuR+F6FE6IQHE9CtejJolApHA9Cte\\u002fiUDhehSuR5OJQGZmZmZmrolACtejcD38iUDsUbgehV+MQClcj8L1tItAw\\u002fUoXI8YjEAK16NwPfiLQLgehetRzoxAj8L1KFzljECuR+F6FMiMQOxRuB6F5YtAuB6F61EsjEAfhetRuKyMQAAAAAAAvoxAH4XrUbjMjEAAAAAAALyMQNejcD0Kw4xAMzMzMzNTjkBcj8L1KOiOQGZmZmZmno9AcT0K16MXkECamZmZmUuQQI\\u002fC9ShcDZBAmpmZmZk4kEBmZmZmZpWQQOF6FK5HnJBA16NwPQoTj0CPwvUoXOWOQJqZmZmZY49APQrXo3A5j0CF61G4HvWOQGZmZmZmZI9ApHA9Ctd7j0D2KFyPwg2QQKRwPQrXWJBASOF6FK55kEAUrkfhel+QQFK4HoXr35BAMzMzMzNtkUD2KFyPwnWRQHsUrkfhOpJAH4XrUbhWkkCPwvUoXN+RQM3MzMzMNJJAexSuR+FvkkB7FK5H4W+SQAAAAAAAGpNA16NwPQqMk0ApXI\\u002fC9euTQJqZmZmZnJNAFK5H4XrMk0C4HoXrUeOTQFyPwvUoHpNAAAAAAAD4kUApXI\\u002fC9ZGSQHsUrkfhcpFAuB6F61FfkkDsUbgehRWTQEjhehSuP5NAAAAAAABgk0A9CtejcIaTQArXo3A9j5JAUrgeheswkUDD9Shcj26OQClcj8L1MpBAUrgehet4kEBcj8L1KIKRQMP1KFyPZJBAj8L1KFw6kEBcj8L1KEyNQArXo3A9Zo5ApHA9Ctc1jkCuR+F6FFeQQJqZmZmZXJBAexSuR+E\\u002fkEAfhetRuAmQQFyPwvUov5BAAAAAAADikEBI4XoUrjiRQArXo3A935FAAAAAAAC1kUCF61G4HpORQB+F61G4epJAmpmZmZljkkDNzMzMzF+SQBSuR+F6j5JA7FG4HoWMkkDXo3A9CtSSQBSuR+F6wZJAhetRuB5FkkBcj8L1KD6SQK5H4XoUUpJA9ihcj8J7kkBxPQrXo6eSQEjhehSu7pJAXI\\u002fC9SjpkkC4HoXrUTSTQDMzMzMzGJNApHA9Ctc+k0CkcD0K19ySQJqZmZmZiJNAKVyPwvXFk0C4HoXrUQSUQFK4HoXrlpRAUrgeheuRlEBcj8L1KKeUQMP1KFyPD5VAZmZmZmY2lkDhehSuR7OWQI\\u002fC9ShcSJdASOF6FK4GmEDNzMzMzE2YQDMzMzMzq5hApHA9CtfymEBmZmZmZu2aQD0K16NwbZtA7FG4HoXsm0DhehSuR+KcQClcj8L18JpAcT0K16MznEBxPQrXo0OcQB+F61G4KZtAzczMzMwZm0CPwvUoXLycQJqZmZmZgp1ApHA9CtcOn0ApXI\\u002fCdUmgQM3MzMzM5J9AzczMzMz6oECkcD0K1yCiQOF6FK5HF6NAKVyPwvUBokCkcD0K1zShQBSuR+F6259AmpmZmZnXoEAfhetROJ+hQD0K16Pw\\u002fqBAuB6F69HcoUD2KFyPws+iQJqZmZkZcaNAMzMzM7Omo0CF61G4np+jQIXrUbie\\u002faRAZmZmZmZepkC4HoXrUVilQArXo3A966VAhetRuJ4PpkBSuB6FawenQB+F61E4HKdA9ihcj0LHpEDXo3A9CjqlQArXo3C9lKNAXI\\u002fC9ShBo0CF61G4Hq2jQPYoXI\\u002fCv6RArkfhepToo0AzMzMzMzukQK5H4XqUQ6VAMzMzMzMCpUC4HoXr0SKlQLgehevRcaVAPQrXo3BhpEC4HoXr0TqkQGZmZmbmXKNAZmZmZubwo0CuR+F6lB2kQHE9Ctej1qNASOF6FK5ho0CamZmZGQWjQD0K16PwlKNAhetRuB4IpEDhehSuR1OkQBSuR+H6U6RAhetRuB5hpEC4HoXrUa2jQEjhehSuFqRAexSuR+Gso0CF61G4HomiQK5H4XqUQ6JASOF6FK69okDNzMzMzGuiQEjhehSucqFAPQrXo3A7n0DhehSuRyeeQLgehevRaKFA9ihcj8IdokCPwvUo3MKhQDMzMzMzA6ZA7FG4HoXXpEAK16NwPfSlQM3MzMzMVKVAH4XrUbiFpUApXI\\u002fC9SCkQGZmZmbmwqNAw\\u002fUoXI\\u002ffpEDsUbgeBfKlQGZmZmbmTKVAj8L1KFyKpUBI4XoUrnamQA==\"},\"yaxis\":\"y\",\"type\":\"scattergl\"}],                        {\"template\":{\"data\":{\"histogram2dcontour\":[{\"type\":\"histogram2dcontour\",\"colorbar\":{\"outlinewidth\":0,\"ticks\":\"\"},\"colorscale\":[[0.0,\"#0d0887\"],[0.1111111111111111,\"#46039f\"],[0.2222222222222222,\"#7201a8\"],[0.3333333333333333,\"#9c179e\"],[0.4444444444444444,\"#bd3786\"],[0.5555555555555556,\"#d8576b\"],[0.6666666666666666,\"#ed7953\"],[0.7777777777777778,\"#fb9f3a\"],[0.8888888888888888,\"#fdca26\"],[1.0,\"#f0f921\"]]}],\"choropleth\":[{\"type\":\"choropleth\",\"colorbar\":{\"outlinewidth\":0,\"ticks\":\"\"}}],\"histogram2d\":[{\"type\":\"histogram2d\",\"colorbar\":{\"outlinewidth\":0,\"ticks\":\"\"},\"colorscale\":[[0.0,\"#0d0887\"],[0.1111111111111111,\"#46039f\"],[0.2222222222222222,\"#7201a8\"],[0.3333333333333333,\"#9c179e\"],[0.4444444444444444,\"#bd3786\"],[0.5555555555555556,\"#d8576b\"],[0.6666666666666666,\"#ed7953\"],[0.7777777777777778,\"#fb9f3a\"],[0.8888888888888888,\"#fdca26\"],[1.0,\"#f0f921\"]]}],\"heatmap\":[{\"type\":\"heatmap\",\"colorbar\":{\"outlinewidth\":0,\"ticks\":\"\"},\"colorscale\":[[0.0,\"#0d0887\"],[0.1111111111111111,\"#46039f\"],[0.2222222222222222,\"#7201a8\"],[0.3333333333333333,\"#9c179e\"],[0.4444444444444444,\"#bd3786\"],[0.5555555555555556,\"#d8576b\"],[0.6666666666666666,\"#ed7953\"],[0.7777777777777778,\"#fb9f3a\"],[0.8888888888888888,\"#fdca26\"],[1.0,\"#f0f921\"]]}],\"contourcarpet\":[{\"type\":\"contourcarpet\",\"colorbar\":{\"outlinewidth\":0,\"ticks\":\"\"}}],\"contour\":[{\"type\":\"contour\",\"colorbar\":{\"outlinewidth\":0,\"ticks\":\"\"},\"colorscale\":[[0.0,\"#0d0887\"],[0.1111111111111111,\"#46039f\"],[0.2222222222222222,\"#7201a8\"],[0.3333333333333333,\"#9c179e\"],[0.4444444444444444,\"#bd3786\"],[0.5555555555555556,\"#d8576b\"],[0.6666666666666666,\"#ed7953\"],[0.7777777777777778,\"#fb9f3a\"],[0.8888888888888888,\"#fdca26\"],[1.0,\"#f0f921\"]]}],\"surface\":[{\"type\":\"surface\",\"colorbar\":{\"outlinewidth\":0,\"ticks\":\"\"},\"colorscale\":[[0.0,\"#0d0887\"],[0.1111111111111111,\"#46039f\"],[0.2222222222222222,\"#7201a8\"],[0.3333333333333333,\"#9c179e\"],[0.4444444444444444,\"#bd3786\"],[0.5555555555555556,\"#d8576b\"],[0.6666666666666666,\"#ed7953\"],[0.7777777777777778,\"#fb9f3a\"],[0.8888888888888888,\"#fdca26\"],[1.0,\"#f0f921\"]]}],\"mesh3d\":[{\"type\":\"mesh3d\",\"colorbar\":{\"outlinewidth\":0,\"ticks\":\"\"}}],\"scatter\":[{\"fillpattern\":{\"fillmode\":\"overlay\",\"size\":10,\"solidity\":0.2},\"type\":\"scatter\"}],\"parcoords\":[{\"type\":\"parcoords\",\"line\":{\"colorbar\":{\"outlinewidth\":0,\"ticks\":\"\"}}}],\"scatterpolargl\":[{\"type\":\"scatterpolargl\",\"marker\":{\"colorbar\":{\"outlinewidth\":0,\"ticks\":\"\"}}}],\"bar\":[{\"error_x\":{\"color\":\"#2a3f5f\"},\"error_y\":{\"color\":\"#2a3f5f\"},\"marker\":{\"line\":{\"color\":\"#E5ECF6\",\"width\":0.5},\"pattern\":{\"fillmode\":\"overlay\",\"size\":10,\"solidity\":0.2}},\"type\":\"bar\"}],\"scattergeo\":[{\"type\":\"scattergeo\",\"marker\":{\"colorbar\":{\"outlinewidth\":0,\"ticks\":\"\"}}}],\"scatterpolar\":[{\"type\":\"scatterpolar\",\"marker\":{\"colorbar\":{\"outlinewidth\":0,\"ticks\":\"\"}}}],\"histogram\":[{\"marker\":{\"pattern\":{\"fillmode\":\"overlay\",\"size\":10,\"solidity\":0.2}},\"type\":\"histogram\"}],\"scattergl\":[{\"type\":\"scattergl\",\"marker\":{\"colorbar\":{\"outlinewidth\":0,\"ticks\":\"\"}}}],\"scatter3d\":[{\"type\":\"scatter3d\",\"line\":{\"colorbar\":{\"outlinewidth\":0,\"ticks\":\"\"}},\"marker\":{\"colorbar\":{\"outlinewidth\":0,\"ticks\":\"\"}}}],\"scattermap\":[{\"type\":\"scattermap\",\"marker\":{\"colorbar\":{\"outlinewidth\":0,\"ticks\":\"\"}}}],\"scattermapbox\":[{\"type\":\"scattermapbox\",\"marker\":{\"colorbar\":{\"outlinewidth\":0,\"ticks\":\"\"}}}],\"scatterternary\":[{\"type\":\"scatterternary\",\"marker\":{\"colorbar\":{\"outlinewidth\":0,\"ticks\":\"\"}}}],\"scattercarpet\":[{\"type\":\"scattercarpet\",\"marker\":{\"colorbar\":{\"outlinewidth\":0,\"ticks\":\"\"}}}],\"carpet\":[{\"aaxis\":{\"endlinecolor\":\"#2a3f5f\",\"gridcolor\":\"white\",\"linecolor\":\"white\",\"minorgridcolor\":\"white\",\"startlinecolor\":\"#2a3f5f\"},\"baxis\":{\"endlinecolor\":\"#2a3f5f\",\"gridcolor\":\"white\",\"linecolor\":\"white\",\"minorgridcolor\":\"white\",\"startlinecolor\":\"#2a3f5f\"},\"type\":\"carpet\"}],\"table\":[{\"cells\":{\"fill\":{\"color\":\"#EBF0F8\"},\"line\":{\"color\":\"white\"}},\"header\":{\"fill\":{\"color\":\"#C8D4E3\"},\"line\":{\"color\":\"white\"}},\"type\":\"table\"}],\"barpolar\":[{\"marker\":{\"line\":{\"color\":\"#E5ECF6\",\"width\":0.5},\"pattern\":{\"fillmode\":\"overlay\",\"size\":10,\"solidity\":0.2}},\"type\":\"barpolar\"}],\"pie\":[{\"automargin\":true,\"type\":\"pie\"}]},\"layout\":{\"autotypenumbers\":\"strict\",\"colorway\":[\"#636efa\",\"#EF553B\",\"#00cc96\",\"#ab63fa\",\"#FFA15A\",\"#19d3f3\",\"#FF6692\",\"#B6E880\",\"#FF97FF\",\"#FECB52\"],\"font\":{\"color\":\"#2a3f5f\"},\"hovermode\":\"closest\",\"hoverlabel\":{\"align\":\"left\"},\"paper_bgcolor\":\"white\",\"plot_bgcolor\":\"#E5ECF6\",\"polar\":{\"bgcolor\":\"#E5ECF6\",\"angularaxis\":{\"gridcolor\":\"white\",\"linecolor\":\"white\",\"ticks\":\"\"},\"radialaxis\":{\"gridcolor\":\"white\",\"linecolor\":\"white\",\"ticks\":\"\"}},\"ternary\":{\"bgcolor\":\"#E5ECF6\",\"aaxis\":{\"gridcolor\":\"white\",\"linecolor\":\"white\",\"ticks\":\"\"},\"baxis\":{\"gridcolor\":\"white\",\"linecolor\":\"white\",\"ticks\":\"\"},\"caxis\":{\"gridcolor\":\"white\",\"linecolor\":\"white\",\"ticks\":\"\"}},\"coloraxis\":{\"colorbar\":{\"outlinewidth\":0,\"ticks\":\"\"}},\"colorscale\":{\"sequential\":[[0.0,\"#0d0887\"],[0.1111111111111111,\"#46039f\"],[0.2222222222222222,\"#7201a8\"],[0.3333333333333333,\"#9c179e\"],[0.4444444444444444,\"#bd3786\"],[0.5555555555555556,\"#d8576b\"],[0.6666666666666666,\"#ed7953\"],[0.7777777777777778,\"#fb9f3a\"],[0.8888888888888888,\"#fdca26\"],[1.0,\"#f0f921\"]],\"sequentialminus\":[[0.0,\"#0d0887\"],[0.1111111111111111,\"#46039f\"],[0.2222222222222222,\"#7201a8\"],[0.3333333333333333,\"#9c179e\"],[0.4444444444444444,\"#bd3786\"],[0.5555555555555556,\"#d8576b\"],[0.6666666666666666,\"#ed7953\"],[0.7777777777777778,\"#fb9f3a\"],[0.8888888888888888,\"#fdca26\"],[1.0,\"#f0f921\"]],\"diverging\":[[0,\"#8e0152\"],[0.1,\"#c51b7d\"],[0.2,\"#de77ae\"],[0.3,\"#f1b6da\"],[0.4,\"#fde0ef\"],[0.5,\"#f7f7f7\"],[0.6,\"#e6f5d0\"],[0.7,\"#b8e186\"],[0.8,\"#7fbc41\"],[0.9,\"#4d9221\"],[1,\"#276419\"]]},\"xaxis\":{\"gridcolor\":\"white\",\"linecolor\":\"white\",\"ticks\":\"\",\"title\":{\"standoff\":15},\"zerolinecolor\":\"white\",\"automargin\":true,\"zerolinewidth\":2},\"yaxis\":{\"gridcolor\":\"white\",\"linecolor\":\"white\",\"ticks\":\"\",\"title\":{\"standoff\":15},\"zerolinecolor\":\"white\",\"automargin\":true,\"zerolinewidth\":2},\"scene\":{\"xaxis\":{\"backgroundcolor\":\"#E5ECF6\",\"gridcolor\":\"white\",\"linecolor\":\"white\",\"showbackground\":true,\"ticks\":\"\",\"zerolinecolor\":\"white\",\"gridwidth\":2},\"yaxis\":{\"backgroundcolor\":\"#E5ECF6\",\"gridcolor\":\"white\",\"linecolor\":\"white\",\"showbackground\":true,\"ticks\":\"\",\"zerolinecolor\":\"white\",\"gridwidth\":2},\"zaxis\":{\"backgroundcolor\":\"#E5ECF6\",\"gridcolor\":\"white\",\"linecolor\":\"white\",\"showbackground\":true,\"ticks\":\"\",\"zerolinecolor\":\"white\",\"gridwidth\":2}},\"shapedefaults\":{\"line\":{\"color\":\"#2a3f5f\"}},\"annotationdefaults\":{\"arrowcolor\":\"#2a3f5f\",\"arrowhead\":0,\"arrowwidth\":1},\"geo\":{\"bgcolor\":\"white\",\"landcolor\":\"#E5ECF6\",\"subunitcolor\":\"white\",\"showland\":true,\"showlakes\":true,\"lakecolor\":\"white\"},\"title\":{\"x\":0.05},\"mapbox\":{\"style\":\"light\"}}},\"xaxis\":{\"anchor\":\"y\",\"domain\":[0.0,1.0],\"title\":{\"text\":\"Date\"}},\"yaxis\":{\"anchor\":\"x\",\"domain\":[0.0,1.0],\"title\":{\"text\":\"Close\"}},\"legend\":{\"tracegroupgap\":0},\"title\":{\"text\":\"Closing Price Over Time\"}},                        {\"responsive\": true}                    ).then(function(){\n",
       "                            \n",
       "var gd = document.getElementById('e0f81740-ffe9-409d-8fb6-9a11fe8337ad');\n",
       "var x = new MutationObserver(function (mutations, observer) {{\n",
       "        var display = window.getComputedStyle(gd).display;\n",
       "        if (!display || display === 'none') {{\n",
       "            console.log([gd, 'removed!']);\n",
       "            Plotly.purge(gd);\n",
       "            observer.disconnect();\n",
       "        }}\n",
       "}});\n",
       "\n",
       "// Listen for the removal of the full notebook cells\n",
       "var notebookContainer = gd.closest('#notebook-container');\n",
       "if (notebookContainer) {{\n",
       "    x.observe(notebookContainer, {childList: true});\n",
       "}}\n",
       "\n",
       "// Listen for the clearing of the current output cell\n",
       "var outputEl = gd.closest('.output');\n",
       "if (outputEl) {{\n",
       "    x.observe(outputEl, {childList: true});\n",
       "}}\n",
       "\n",
       "                        })                };            </script>        </div>"
      ]
     },
     "metadata": {},
     "output_type": "display_data"
    }
   ],
   "source": [
    "# Closing price over time using Plotly Express for better interactivity\n",
    "\n",
    "fig = px.line(data, y='Close', title='Closing Price Over Time')\n",
    "fig.show()"
   ]
  },
  {
   "cell_type": "code",
   "execution_count": 29,
   "id": "84f8e027",
   "metadata": {},
   "outputs": [
    {
     "data": {
      "text/plain": [
       "Text(0.5, 1.0, 'Log Scale')"
      ]
     },
     "execution_count": 29,
     "metadata": {},
     "output_type": "execute_result"
    },
    {
     "data": {
      "image/png": "[encoded data removed]",
      "text/plain": [
       "<Figure size 2000x800 with 2 Axes>"
      ]
     },
     "metadata": {},
     "output_type": "display_data"
    }
   ],
   "source": [
    "# creating log plot using \"log1p\" to visualize the closing price in a logarithmic scale \n",
    "\n",
    "plt.figure(figsize=(20, 8))\n",
    "\n",
    "plt.subplot(1, 2, 1)\n",
    "plt.plot(data['Close'])\n",
    "plt.title('No Scale')\n",
    "\n",
    "plt.subplot(1, 2, 2)\n",
    "plt.plot(np.log1p(data['Close']))\n",
    "plt.title('Log Scale')"
   ]
  },
  {
   "cell_type": "code",
   "execution_count": 30,
   "id": "56f69d35",
   "metadata": {},
   "outputs": [
    {
     "data": {
      "text/plain": [
       "Date\n",
       "2013-04-28     134.21\n",
       "2013-04-29     144.54\n",
       "2013-04-30     139.00\n",
       "2013-05-01     116.99\n",
       "2013-05-02     105.21\n",
       "               ...   \n",
       "2017-07-27    2671.78\n",
       "2017-07-28    2809.01\n",
       "2017-07-29    2726.45\n",
       "2017-07-30    2757.18\n",
       "2017-07-31    2875.34\n",
       "Name: Close, Length: 1556, dtype: float64"
      ]
     },
     "execution_count": 30,
     "metadata": {},
     "output_type": "execute_result"
    }
   ],
   "source": [
    "# Analyzing closing price on yearly, quaterly, monthly basis\n",
    "\n",
    "data['Close']  # Display the 'Close' price series"
   ]
  },
  {
   "cell_type": "code",
   "execution_count": 31,
   "id": "17dfed95",
   "metadata": {},
   "outputs": [
    {
     "data": {
      "text/plain": [
       "Date\n",
       "2013-12-31     257.474476\n",
       "2014-12-31     527.236658\n",
       "2015-12-31     272.453260\n",
       "2016-12-31     568.492131\n",
       "2017-12-31    1628.622123\n",
       "Freq: YE-DEC, Name: Close, dtype: float64"
      ]
     },
     "execution_count": 31,
     "metadata": {},
     "output_type": "execute_result"
    }
   ],
   "source": [
    "data['Close'].resample('YE').mean()  # Yearly resampling and calculating the mean closing price"
   ]
  },
  {
   "cell_type": "code",
   "execution_count": 32,
   "id": "13d25adb",
   "metadata": {},
   "outputs": [
    {
     "data": {
      "text/plain": [
       "<Axes: title={'center': 'Yearly Mean Closing Price'}, xlabel='Date'>"
      ]
     },
     "execution_count": 32,
     "metadata": {},
     "output_type": "execute_result"
    },
    {
     "data": {
      "image/png": "[encoded data removed]",
      "text/plain": [
       "<Figure size 800x300 with 1 Axes>"
      ]
     },
     "metadata": {},
     "output_type": "display_data"
    }
   ],
   "source": [
    "data['Close'].resample('YE').mean().plot(title=\"Yearly Mean Closing Price\", figsize=(8, 3)) # Plotting the yearly mean closing price"
   ]
  },
  {
   "cell_type": "code",
   "execution_count": 33,
   "id": "326584e2",
   "metadata": {},
   "outputs": [
    {
     "data": {
      "application/vnd.plotly.v1+json": {
       "config": {
        "plotlyServerURL": "https://plot.ly"
       },
       "data": [
        {
         "hovertemplate": "Date=%{x}<br>Close=%{y}<extra></extra>",
         "legendgroup": "",
         "line": {
          "color": "#636efa",
          "dash": "solid"
         },
         "marker": {
          "symbol": "circle"
         },
         "mode": "lines+markers+text",
         "name": "",
         "orientation": "v",
         "showlegend": false,
         "text": {
          "bdata": "7FG4HoUXcEBSuB6F63mAQDMzMzMzB3FAUrgehevDgUAUrkfhenKZQA==",
          "dtype": "f8"
         },
         "textfont": {
          "size": 15
         },
         "textposition": "top center",
         "texttemplate": "%{text}",
         "type": "scatter",
         "x": [
          "2013-12-31T00:00:00.000000000",
          "2014-12-31T00:00:00.000000000",
          "2015-12-31T00:00:00.000000000",
          "2016-12-31T00:00:00.000000000",
          "2017-12-31T00:00:00.000000000"
         ],
         "xaxis": "x",
         "y": {
          "bdata": "P3fxc5cXcECHj7Ss5HmAQJ1U2I1AB3FAQIB04u/DgUCKvbcNfXKZQA==",
          "dtype": "f8"
         },
         "yaxis": "y"
        }
       ],
       "layout": {
        "legend": {
         "tracegroupgap": 0
        },
        "template": {
         "data": {
          "bar": [
           {
            "error_x": {
             "color": "#2a3f5f"
            },
            "error_y": {
             "color": "#2a3f5f"
            },
            "marker": {
             "line": {
              "color": "#E5ECF6",
              "width": 0.5
             },
             "pattern": {
              "fillmode": "overlay",
              "size": 10,
              "solidity": 0.2
             }
            },
            "type": "bar"
           }
          ],
          "barpolar": [
           {
            "marker": {
             "line": {
              "color": "#E5ECF6",
              "width": 0.5
             },
             "pattern": {
              "fillmode": "overlay",
              "size": 10,
              "solidity": 0.2
             }
            },
            "type": "barpolar"
           }
          ],
          "carpet": [
           {
            "aaxis": {
             "endlinecolor": "#2a3f5f",
             "gridcolor": "white",
             "linecolor": "white",
             "minorgridcolor": "white",
             "startlinecolor": "#2a3f5f"
            },
            "baxis": {
             "endlinecolor": "#2a3f5f",
             "gridcolor": "white",
             "linecolor": "white",
             "minorgridcolor": "white",
             "startlinecolor": "#2a3f5f"
            },
            "type": "carpet"
           }
          ],
          "choropleth": [
           {
            "colorbar": {
             "outlinewidth": 0,
             "ticks": ""
            },
            "type": "choropleth"
           }
          ],
          "contour": [
           {
            "colorbar": {
             "outlinewidth": 0,
             "ticks": ""
            },
            "colorscale": [
             [
              0,
              "#0d0887"
             ],
             [
              0.1111111111111111,
              "#46039f"
             ],
             [
              0.2222222222222222,
              "#7201a8"
             ],
             [
              0.3333333333333333,
              "#9c179e"
             ],
             [
              0.4444444444444444,
              "#bd3786"
             ],
             [
              0.5555555555555556,
              "#d8576b"
             ],
             [
              0.6666666666666666,
              "#ed7953"
             ],
             [
              0.7777777777777778,
              "#fb9f3a"
             ],
             [
              0.8888888888888888,
              "#fdca26"
             ],
             [
              1,
              "#f0f921"
             ]
            ],
            "type": "contour"
           }
          ],
          "contourcarpet": [
           {
            "colorbar": {
             "outlinewidth": 0,
             "ticks": ""
            },
            "type": "contourcarpet"
           }
          ],
          "heatmap": [
           {
            "colorbar": {
             "outlinewidth": 0,
             "ticks": ""
            },
            "colorscale": [
             [
              0,
              "#0d0887"
             ],
             [
              0.1111111111111111,
              "#46039f"
             ],
             [
              0.2222222222222222,
              "#7201a8"
             ],
             [
              0.3333333333333333,
              "#9c179e"
             ],
             [
              0.4444444444444444,
              "#bd3786"
             ],
             [
              0.5555555555555556,
              "#d8576b"
             ],
             [
              0.6666666666666666,
              "#ed7953"
             ],
             [
              0.7777777777777778,
              "#fb9f3a"
             ],
             [
              0.8888888888888888,
              "#fdca26"
             ],
             [
              1,
              "#f0f921"
             ]
            ],
            "type": "heatmap"
           }
          ],
          "histogram": [
           {
            "marker": {
             "pattern": {
              "fillmode": "overlay",
              "size": 10,
              "solidity": 0.2
             }
            },
            "type": "histogram"
           }
          ],
          "histogram2d": [
           {
            "colorbar": {
             "outlinewidth": 0,
             "ticks": ""
            },
            "colorscale": [
             [
              0,
              "#0d0887"
             ],
             [
              0.1111111111111111,
              "#46039f"
             ],
             [
              0.2222222222222222,
              "#7201a8"
             ],
             [
              0.3333333333333333,
              "#9c179e"
             ],
             [
              0.4444444444444444,
              "#bd3786"
             ],
             [
              0.5555555555555556,
              "#d8576b"
             ],
             [
              0.6666666666666666,
              "#ed7953"
             ],
             [
              0.7777777777777778,
              "#fb9f3a"
             ],
             [
              0.8888888888888888,
              "#fdca26"
             ],
             [
              1,
              "#f0f921"
             ]
            ],
            "type": "histogram2d"
           }
          ],
          "histogram2dcontour": [
           {
            "colorbar": {
             "outlinewidth": 0,
             "ticks": ""
            },
            "colorscale": [
             [
              0,
              "#0d0887"
             ],
             [
              0.1111111111111111,
              "#46039f"
             ],
             [
              0.2222222222222222,
              "#7201a8"
             ],
             [
              0.3333333333333333,
              "#9c179e"
             ],
             [
              0.4444444444444444,
              "#bd3786"
             ],
             [
              0.5555555555555556,
              "#d8576b"
             ],
             [
              0.6666666666666666,
              "#ed7953"
             ],
             [
              0.7777777777777778,
              "#fb9f3a"
             ],
             [
              0.8888888888888888,
              "#fdca26"
             ],
             [
              1,
              "#f0f921"
             ]
            ],
            "type": "histogram2dcontour"
           }
          ],
          "mesh3d": [
           {
            "colorbar": {
             "outlinewidth": 0,
             "ticks": ""
            },
            "type": "mesh3d"
           }
          ],
          "parcoords": [
           {
            "line": {
             "colorbar": {
              "outlinewidth": 0,
              "ticks": ""
             }
            },
            "type": "parcoords"
           }
          ],
          "pie": [
           {
            "automargin": true,
            "type": "pie"
           }
          ],
          "scatter": [
           {
            "fillpattern": {
             "fillmode": "overlay",
             "size": 10,
             "solidity": 0.2
            },
            "type": "scatter"
           }
          ],
          "scatter3d": [
           {
            "line": {
             "colorbar": {
              "outlinewidth": 0,
              "ticks": ""
             }
            },
            "marker": {
             "colorbar": {
              "outlinewidth": 0,
              "ticks": ""
             }
            },
            "type": "scatter3d"
           }
          ],
          "scattercarpet": [
           {
            "marker": {
             "colorbar": {
              "outlinewidth": 0,
              "ticks": ""
             }
            },
            "type": "scattercarpet"
           }
          ],
          "scattergeo": [
           {
            "marker": {
             "colorbar": {
              "outlinewidth": 0,
              "ticks": ""
             }
            },
            "type": "scattergeo"
           }
          ],
          "scattergl": [
           {
            "marker": {
             "colorbar": {
              "outlinewidth": 0,
              "ticks": ""
             }
            },
            "type": "scattergl"
           }
          ],
          "scattermap": [
           {
            "marker": {
             "colorbar": {
              "outlinewidth": 0,
              "ticks": ""
             }
            },
            "type": "scattermap"
           }
          ],
          "scattermapbox": [
           {
            "marker": {
             "colorbar": {
              "outlinewidth": 0,
              "ticks": ""
             }
            },
            "type": "scattermapbox"
           }
          ],
          "scatterpolar": [
           {
            "marker": {
             "colorbar": {
              "outlinewidth": 0,
              "ticks": ""
             }
            },
            "type": "scatterpolar"
           }
          ],
          "scatterpolargl": [
           {
            "marker": {
             "colorbar": {
              "outlinewidth": 0,
              "ticks": ""
             }
            },
            "type": "scatterpolargl"
           }
          ],
          "scatterternary": [
           {
            "marker": {
             "colorbar": {
              "outlinewidth": 0,
              "ticks": ""
             }
            },
            "type": "scatterternary"
           }
          ],
          "surface": [
           {
            "colorbar": {
             "outlinewidth": 0,
             "ticks": ""
            },
            "colorscale": [
             [
              0,
              "#0d0887"
             ],
             [
              0.1111111111111111,
              "#46039f"
             ],
             [
              0.2222222222222222,
              "#7201a8"
             ],
             [
              0.3333333333333333,
              "#9c179e"
             ],
             [
              0.4444444444444444,
              "#bd3786"
             ],
             [
              0.5555555555555556,
              "#d8576b"
             ],
             [
              0.6666666666666666,
              "#ed7953"
             ],
             [
              0.7777777777777778,
              "#fb9f3a"
             ],
             [
              0.8888888888888888,
              "#fdca26"
             ],
             [
              1,
              "#f0f921"
             ]
            ],
            "type": "surface"
           }
          ],
          "table": [
           {
            "cells": {
             "fill": {
              "color": "#EBF0F8"
             },
             "line": {
              "color": "white"
             }
            },
            "header": {
             "fill": {
              "color": "#C8D4E3"
             },
             "line": {
              "color": "white"
             }
            },
            "type": "table"
           }
          ]
         },
         "layout": {
          "annotationdefaults": {
           "arrowcolor": "#2a3f5f",
           "arrowhead": 0,
           "arrowwidth": 1
          },
          "autotypenumbers": "strict",
          "coloraxis": {
           "colorbar": {
            "outlinewidth": 0,
            "ticks": ""
           }
          },
          "colorscale": {
           "diverging": [
            [
             0,
             "#8e0152"
            ],
            [
             0.1,
             "#c51b7d"
            ],
            [
             0.2,
             "#de77ae"
            ],
            [
             0.3,
             "#f1b6da"
            ],
            [
             0.4,
             "#fde0ef"
            ],
            [
             0.5,
             "#f7f7f7"
            ],
            [
             0.6,
             "#e6f5d0"
            ],
            [
             0.7,
             "#b8e186"
            ],
            [
             0.8,
             "#7fbc41"
            ],
            [
             0.9,
             "#4d9221"
            ],
            [
             1,
             "#276419"
            ]
           ],
           "sequential": [
            [
             0,
             "#0d0887"
            ],
            [
             0.1111111111111111,
             "#46039f"
            ],
            [
             0.2222222222222222,
             "#7201a8"
            ],
            [
             0.3333333333333333,
             "#9c179e"
            ],
            [
             0.4444444444444444,
             "#bd3786"
            ],
            [
             0.5555555555555556,
             "#d8576b"
            ],
            [
             0.6666666666666666,
             "#ed7953"
            ],
            [
             0.7777777777777778,
             "#fb9f3a"
            ],
            [
             0.8888888888888888,
             "#fdca26"
            ],
            [
             1,
             "#f0f921"
            ]
           ],
           "sequentialminus": [
            [
             0,
             "#0d0887"
            ],
            [
             0.1111111111111111,
             "#46039f"
            ],
            [
             0.2222222222222222,
             "#7201a8"
            ],
            [
             0.3333333333333333,
             "#9c179e"
            ],
            [
             0.4444444444444444,
             "#bd3786"
            ],
            [
             0.5555555555555556,
             "#d8576b"
            ],
            [
             0.6666666666666666,
             "#ed7953"
            ],
            [
             0.7777777777777778,
             "#fb9f3a"
            ],
            [
             0.8888888888888888,
             "#fdca26"
            ],
            [
             1,
             "#f0f921"
            ]
           ]
          },
          "colorway": [
           "#636efa",
           "#EF553B",
           "#00cc96",
           "#ab63fa",
           "#FFA15A",
           "#19d3f3",
           "#FF6692",
           "#B6E880",
           "#FF97FF",
           "#FECB52"
          ],
          "font": {
           "color": "#2a3f5f"
          },
          "geo": {
           "bgcolor": "white",
           "lakecolor": "white",
           "landcolor": "#E5ECF6",
           "showlakes": true,
           "showland": true,
           "subunitcolor": "white"
          },
          "hoverlabel": {
           "align": "left"
          },
          "hovermode": "closest",
          "mapbox": {
           "style": "light"
          },
          "paper_bgcolor": "white",
          "plot_bgcolor": "#E5ECF6",
          "polar": {
           "angularaxis": {
            "gridcolor": "white",
            "linecolor": "white",
            "ticks": ""
           },
           "bgcolor": "#E5ECF6",
           "radialaxis": {
            "gridcolor": "white",
            "linecolor": "white",
            "ticks": ""
           }
          },
          "scene": {
           "xaxis": {
            "backgroundcolor": "#E5ECF6",
            "gridcolor": "white",
            "gridwidth": 2,
            "linecolor": "white",
            "showbackground": true,
            "ticks": "",
            "zerolinecolor": "white"
           },
           "yaxis": {
            "backgroundcolor": "#E5ECF6",
            "gridcolor": "white",
            "gridwidth": 2,
            "linecolor": "white",
            "showbackground": true,
            "ticks": "",
            "zerolinecolor": "white"
           },
           "zaxis": {
            "backgroundcolor": "#E5ECF6",
            "gridcolor": "white",
            "gridwidth": 2,
            "linecolor": "white",
            "showbackground": true,
            "ticks": "",
            "zerolinecolor": "white"
           }
          },
          "shapedefaults": {
           "line": {
            "color": "#2a3f5f"
           }
          },
          "ternary": {
           "aaxis": {
            "gridcolor": "white",
            "linecolor": "white",
            "ticks": ""
           },
           "baxis": {
            "gridcolor": "white",
            "linecolor": "white",
            "ticks": ""
           },
           "bgcolor": "#E5ECF6",
           "caxis": {
            "gridcolor": "white",
            "linecolor": "white",
            "ticks": ""
           }
          },
          "title": {
           "x": 0.05
          },
          "xaxis": {
           "automargin": true,
           "gridcolor": "white",
           "linecolor": "white",
           "ticks": "",
           "title": {
            "standoff": 15
           },
           "zerolinecolor": "white",
           "zerolinewidth": 2
          },
          "yaxis": {
           "automargin": true,
           "gridcolor": "white",
           "linecolor": "white",
           "ticks": "",
           "title": {
            "standoff": 15
           },
           "zerolinecolor": "white",
           "zerolinewidth": 2
          }
         }
        },
        "title": {
         "text": "Yearly Mean Closing Price"
        },
        "xaxis": {
         "anchor": "y",
         "domain": [
          0,
          1
         ],
         "title": {
          "text": "Date"
         }
        },
        "yaxis": {
         "anchor": "x",
         "domain": [
          0,
          1
         ],
         "title": {
          "text": "Close"
         }
        }
       }
      },
      "text/html": [
       "<div>            <script src=\"https://cdnjs.cloudflare.com/ajax/libs/mathjax/2.7.5/MathJax.js?config=TeX-AMS-MML_SVG\"></script><script type=\"text/javascript\">if (window.MathJax && window.MathJax.Hub && window.MathJax.Hub.Config) {window.MathJax.Hub.Config({SVG: {font: \"STIX-Web\"}});}</script>                <script type=\"text/javascript\">window.PlotlyConfig = {MathJaxConfig: 'local'};</script>\n",
       "        <script charset=\"utf-8\" src=\"https://cdn.plot.ly/plotly-3.1.0.min.js\" integrity=\"sha256-Ei4740bWZhaUTQuD6q9yQlgVCMPBz6CZWhevDYPv93A=\" crossorigin=\"anonymous\"></script>                <div id=\"6951ebe5-7a71-4c55-9ee6-0b644c7afa33\" class=\"plotly-graph-div\" style=\"height:525px; width:100%;\"></div>            <script type=\"text/javascript\">                window.PLOTLYENV=window.PLOTLYENV || {};                                if (document.getElementById(\"6951ebe5-7a71-4c55-9ee6-0b644c7afa33\")) {                    Plotly.newPlot(                        \"6951ebe5-7a71-4c55-9ee6-0b644c7afa33\",                        [{\"hovertemplate\":\"Date=%{x}\\u003cbr\\u003eClose=%{y}\\u003cextra\\u003e\\u003c\\u002fextra\\u003e\",\"legendgroup\":\"\",\"line\":{\"color\":\"#636efa\",\"dash\":\"solid\"},\"marker\":{\"symbol\":\"circle\"},\"mode\":\"lines+markers+text\",\"name\":\"\",\"orientation\":\"v\",\"showlegend\":false,\"x\":[\"2013-12-31T00:00:00.000000000\",\"2014-12-31T00:00:00.000000000\",\"2015-12-31T00:00:00.000000000\",\"2016-12-31T00:00:00.000000000\",\"2017-12-31T00:00:00.000000000\"],\"xaxis\":\"x\",\"y\":{\"dtype\":\"f8\",\"bdata\":\"P3fxc5cXcECHj7Ss5HmAQJ1U2I1AB3FAQIB04u\\u002fDgUCKvbcNfXKZQA==\"},\"yaxis\":\"y\",\"type\":\"scatter\",\"textfont\":{\"size\":15},\"text\":{\"dtype\":\"f8\",\"bdata\":\"7FG4HoUXcEBSuB6F63mAQDMzMzMzB3FAUrgehevDgUAUrkfhenKZQA==\"},\"textposition\":\"top center\",\"texttemplate\":\"%{text}\"}],                        {\"template\":{\"data\":{\"histogram2dcontour\":[{\"type\":\"histogram2dcontour\",\"colorbar\":{\"outlinewidth\":0,\"ticks\":\"\"},\"colorscale\":[[0.0,\"#0d0887\"],[0.1111111111111111,\"#46039f\"],[0.2222222222222222,\"#7201a8\"],[0.3333333333333333,\"#9c179e\"],[0.4444444444444444,\"#bd3786\"],[0.5555555555555556,\"#d8576b\"],[0.6666666666666666,\"#ed7953\"],[0.7777777777777778,\"#fb9f3a\"],[0.8888888888888888,\"#fdca26\"],[1.0,\"#f0f921\"]]}],\"choropleth\":[{\"type\":\"choropleth\",\"colorbar\":{\"outlinewidth\":0,\"ticks\":\"\"}}],\"histogram2d\":[{\"type\":\"histogram2d\",\"colorbar\":{\"outlinewidth\":0,\"ticks\":\"\"},\"colorscale\":[[0.0,\"#0d0887\"],[0.1111111111111111,\"#46039f\"],[0.2222222222222222,\"#7201a8\"],[0.3333333333333333,\"#9c179e\"],[0.4444444444444444,\"#bd3786\"],[0.5555555555555556,\"#d8576b\"],[0.6666666666666666,\"#ed7953\"],[0.7777777777777778,\"#fb9f3a\"],[0.8888888888888888,\"#fdca26\"],[1.0,\"#f0f921\"]]}],\"heatmap\":[{\"type\":\"heatmap\",\"colorbar\":{\"outlinewidth\":0,\"ticks\":\"\"},\"colorscale\":[[0.0,\"#0d0887\"],[0.1111111111111111,\"#46039f\"],[0.2222222222222222,\"#7201a8\"],[0.3333333333333333,\"#9c179e\"],[0.4444444444444444,\"#bd3786\"],[0.5555555555555556,\"#d8576b\"],[0.6666666666666666,\"#ed7953\"],[0.7777777777777778,\"#fb9f3a\"],[0.8888888888888888,\"#fdca26\"],[1.0,\"#f0f921\"]]}],\"contourcarpet\":[{\"type\":\"contourcarpet\",\"colorbar\":{\"outlinewidth\":0,\"ticks\":\"\"}}],\"contour\":[{\"type\":\"contour\",\"colorbar\":{\"outlinewidth\":0,\"ticks\":\"\"},\"colorscale\":[[0.0,\"#0d0887\"],[0.1111111111111111,\"#46039f\"],[0.2222222222222222,\"#7201a8\"],[0.3333333333333333,\"#9c179e\"],[0.4444444444444444,\"#bd3786\"],[0.5555555555555556,\"#d8576b\"],[0.6666666666666666,\"#ed7953\"],[0.7777777777777778,\"#fb9f3a\"],[0.8888888888888888,\"#fdca26\"],[1.0,\"#f0f921\"]]}],\"surface\":[{\"type\":\"surface\",\"colorbar\":{\"outlinewidth\":0,\"ticks\":\"\"},\"colorscale\":[[0.0,\"#0d0887\"],[0.1111111111111111,\"#46039f\"],[0.2222222222222222,\"#7201a8\"],[0.3333333333333333,\"#9c179e\"],[0.4444444444444444,\"#bd3786\"],[0.5555555555555556,\"#d8576b\"],[0.6666666666666666,\"#ed7953\"],[0.7777777777777778,\"#fb9f3a\"],[0.8888888888888888,\"#fdca26\"],[1.0,\"#f0f921\"]]}],\"mesh3d\":[{\"type\":\"mesh3d\",\"colorbar\":{\"outlinewidth\":0,\"ticks\":\"\"}}],\"scatter\":[{\"fillpattern\":{\"fillmode\":\"overlay\",\"size\":10,\"solidity\":0.2},\"type\":\"scatter\"}],\"parcoords\":[{\"type\":\"parcoords\",\"line\":{\"colorbar\":{\"outlinewidth\":0,\"ticks\":\"\"}}}],\"scatterpolargl\":[{\"type\":\"scatterpolargl\",\"marker\":{\"colorbar\":{\"outlinewidth\":0,\"ticks\":\"\"}}}],\"bar\":[{\"error_x\":{\"color\":\"#2a3f5f\"},\"error_y\":{\"color\":\"#2a3f5f\"},\"marker\":{\"line\":{\"color\":\"#E5ECF6\",\"width\":0.5},\"pattern\":{\"fillmode\":\"overlay\",\"size\":10,\"solidity\":0.2}},\"type\":\"bar\"}],\"scattergeo\":[{\"type\":\"scattergeo\",\"marker\":{\"colorbar\":{\"outlinewidth\":0,\"ticks\":\"\"}}}],\"scatterpolar\":[{\"type\":\"scatterpolar\",\"marker\":{\"colorbar\":{\"outlinewidth\":0,\"ticks\":\"\"}}}],\"histogram\":[{\"marker\":{\"pattern\":{\"fillmode\":\"overlay\",\"size\":10,\"solidity\":0.2}},\"type\":\"histogram\"}],\"scattergl\":[{\"type\":\"scattergl\",\"marker\":{\"colorbar\":{\"outlinewidth\":0,\"ticks\":\"\"}}}],\"scatter3d\":[{\"type\":\"scatter3d\",\"line\":{\"colorbar\":{\"outlinewidth\":0,\"ticks\":\"\"}},\"marker\":{\"colorbar\":{\"outlinewidth\":0,\"ticks\":\"\"}}}],\"scattermap\":[{\"type\":\"scattermap\",\"marker\":{\"colorbar\":{\"outlinewidth\":0,\"ticks\":\"\"}}}],\"scattermapbox\":[{\"type\":\"scattermapbox\",\"marker\":{\"colorbar\":{\"outlinewidth\":0,\"ticks\":\"\"}}}],\"scatterternary\":[{\"type\":\"scatterternary\",\"marker\":{\"colorbar\":{\"outlinewidth\":0,\"ticks\":\"\"}}}],\"scattercarpet\":[{\"type\":\"scattercarpet\",\"marker\":{\"colorbar\":{\"outlinewidth\":0,\"ticks\":\"\"}}}],\"carpet\":[{\"aaxis\":{\"endlinecolor\":\"#2a3f5f\",\"gridcolor\":\"white\",\"linecolor\":\"white\",\"minorgridcolor\":\"white\",\"startlinecolor\":\"#2a3f5f\"},\"baxis\":{\"endlinecolor\":\"#2a3f5f\",\"gridcolor\":\"white\",\"linecolor\":\"white\",\"minorgridcolor\":\"white\",\"startlinecolor\":\"#2a3f5f\"},\"type\":\"carpet\"}],\"table\":[{\"cells\":{\"fill\":{\"color\":\"#EBF0F8\"},\"line\":{\"color\":\"white\"}},\"header\":{\"fill\":{\"color\":\"#C8D4E3\"},\"line\":{\"color\":\"white\"}},\"type\":\"table\"}],\"barpolar\":[{\"marker\":{\"line\":{\"color\":\"#E5ECF6\",\"width\":0.5},\"pattern\":{\"fillmode\":\"overlay\",\"size\":10,\"solidity\":0.2}},\"type\":\"barpolar\"}],\"pie\":[{\"automargin\":true,\"type\":\"pie\"}]},\"layout\":{\"autotypenumbers\":\"strict\",\"colorway\":[\"#636efa\",\"#EF553B\",\"#00cc96\",\"#ab63fa\",\"#FFA15A\",\"#19d3f3\",\"#FF6692\",\"#B6E880\",\"#FF97FF\",\"#FECB52\"],\"font\":{\"color\":\"#2a3f5f\"},\"hovermode\":\"closest\",\"hoverlabel\":{\"align\":\"left\"},\"paper_bgcolor\":\"white\",\"plot_bgcolor\":\"#E5ECF6\",\"polar\":{\"bgcolor\":\"#E5ECF6\",\"angularaxis\":{\"gridcolor\":\"white\",\"linecolor\":\"white\",\"ticks\":\"\"},\"radialaxis\":{\"gridcolor\":\"white\",\"linecolor\":\"white\",\"ticks\":\"\"}},\"ternary\":{\"bgcolor\":\"#E5ECF6\",\"aaxis\":{\"gridcolor\":\"white\",\"linecolor\":\"white\",\"ticks\":\"\"},\"baxis\":{\"gridcolor\":\"white\",\"linecolor\":\"white\",\"ticks\":\"\"},\"caxis\":{\"gridcolor\":\"white\",\"linecolor\":\"white\",\"ticks\":\"\"}},\"coloraxis\":{\"colorbar\":{\"outlinewidth\":0,\"ticks\":\"\"}},\"colorscale\":{\"sequential\":[[0.0,\"#0d0887\"],[0.1111111111111111,\"#46039f\"],[0.2222222222222222,\"#7201a8\"],[0.3333333333333333,\"#9c179e\"],[0.4444444444444444,\"#bd3786\"],[0.5555555555555556,\"#d8576b\"],[0.6666666666666666,\"#ed7953\"],[0.7777777777777778,\"#fb9f3a\"],[0.8888888888888888,\"#fdca26\"],[1.0,\"#f0f921\"]],\"sequentialminus\":[[0.0,\"#0d0887\"],[0.1111111111111111,\"#46039f\"],[0.2222222222222222,\"#7201a8\"],[0.3333333333333333,\"#9c179e\"],[0.4444444444444444,\"#bd3786\"],[0.5555555555555556,\"#d8576b\"],[0.6666666666666666,\"#ed7953\"],[0.7777777777777778,\"#fb9f3a\"],[0.8888888888888888,\"#fdca26\"],[1.0,\"#f0f921\"]],\"diverging\":[[0,\"#8e0152\"],[0.1,\"#c51b7d\"],[0.2,\"#de77ae\"],[0.3,\"#f1b6da\"],[0.4,\"#fde0ef\"],[0.5,\"#f7f7f7\"],[0.6,\"#e6f5d0\"],[0.7,\"#b8e186\"],[0.8,\"#7fbc41\"],[0.9,\"#4d9221\"],[1,\"#276419\"]]},\"xaxis\":{\"gridcolor\":\"white\",\"linecolor\":\"white\",\"ticks\":\"\",\"title\":{\"standoff\":15},\"zerolinecolor\":\"white\",\"automargin\":true,\"zerolinewidth\":2},\"yaxis\":{\"gridcolor\":\"white\",\"linecolor\":\"white\",\"ticks\":\"\",\"title\":{\"standoff\":15},\"zerolinecolor\":\"white\",\"automargin\":true,\"zerolinewidth\":2},\"scene\":{\"xaxis\":{\"backgroundcolor\":\"#E5ECF6\",\"gridcolor\":\"white\",\"linecolor\":\"white\",\"showbackground\":true,\"ticks\":\"\",\"zerolinecolor\":\"white\",\"gridwidth\":2},\"yaxis\":{\"backgroundcolor\":\"#E5ECF6\",\"gridcolor\":\"white\",\"linecolor\":\"white\",\"showbackground\":true,\"ticks\":\"\",\"zerolinecolor\":\"white\",\"gridwidth\":2},\"zaxis\":{\"backgroundcolor\":\"#E5ECF6\",\"gridcolor\":\"white\",\"linecolor\":\"white\",\"showbackground\":true,\"ticks\":\"\",\"zerolinecolor\":\"white\",\"gridwidth\":2}},\"shapedefaults\":{\"line\":{\"color\":\"#2a3f5f\"}},\"annotationdefaults\":{\"arrowcolor\":\"#2a3f5f\",\"arrowhead\":0,\"arrowwidth\":1},\"geo\":{\"bgcolor\":\"white\",\"landcolor\":\"#E5ECF6\",\"subunitcolor\":\"white\",\"showland\":true,\"showlakes\":true,\"lakecolor\":\"white\"},\"title\":{\"x\":0.05},\"mapbox\":{\"style\":\"light\"}}},\"xaxis\":{\"anchor\":\"y\",\"domain\":[0.0,1.0],\"title\":{\"text\":\"Date\"}},\"yaxis\":{\"anchor\":\"x\",\"domain\":[0.0,1.0],\"title\":{\"text\":\"Close\"}},\"legend\":{\"tracegroupgap\":0},\"title\":{\"text\":\"Yearly Mean Closing Price\"}},                        {\"responsive\": true}                    ).then(function(){\n",
       "                            \n",
       "var gd = document.getElementById('6951ebe5-7a71-4c55-9ee6-0b644c7afa33');\n",
       "var x = new MutationObserver(function (mutations, observer) {{\n",
       "        var display = window.getComputedStyle(gd).display;\n",
       "        if (!display || display === 'none') {{\n",
       "            console.log([gd, 'removed!']);\n",
       "            Plotly.purge(gd);\n",
       "            observer.disconnect();\n",
       "        }}\n",
       "}});\n",
       "\n",
       "// Listen for the removal of the full notebook cells\n",
       "var notebookContainer = gd.closest('#notebook-container');\n",
       "if (notebookContainer) {{\n",
       "    x.observe(notebookContainer, {childList: true});\n",
       "}}\n",
       "\n",
       "// Listen for the clearing of the current output cell\n",
       "var outputEl = gd.closest('.output');\n",
       "if (outputEl) {{\n",
       "    x.observe(outputEl, {childList: true});\n",
       "}}\n",
       "\n",
       "                        })                };            </script>        </div>"
      ]
     },
     "metadata": {},
     "output_type": "display_data"
    }
   ],
   "source": [
    "# Yearly Mean Closing Price using Plotly Express\n",
    "\n",
    "mean_cpY = data['Close'].resample('YE').mean()\n",
    "fig = px.line(mean_cpY, y='Close', title='Yearly Mean Closing Price', markers = True)\n",
    "fig.update_traces(\n",
    "    mode='lines+markers+text',\n",
    "    text=mean_cpY.round(2),\n",
    "    textposition='top center',\n",
    "    texttemplate='%{text}',\n",
    "    textfont=dict(size=15)\n",
    ")\n",
    "fig.show()"
   ]
  },
  {
   "cell_type": "code",
   "execution_count": 34,
   "id": "6c7d0e42",
   "metadata": {},
   "outputs": [
    {
     "data": {
      "application/vnd.plotly.v1+json": {
       "config": {
        "plotlyServerURL": "https://plot.ly"
       },
       "data": [
        {
         "hovertemplate": "Date=%{x}<br>Close=%{y}<extra></extra>",
         "legendgroup": "",
         "line": {
          "color": "#636efa",
          "dash": "solid"
         },
         "marker": {
          "symbol": "circle"
         },
         "mode": "lines+markers+text",
         "name": "",
         "orientation": "v",
         "showlegend": false,
         "text": {
          "bdata": "CtejcD3KXEDD9Shcj9JbQMP1KFyPan9AH4XrUbjkhUA9CtejcEeAQBSuR+F6sIBA4XoUrkdRdkAfhetRuGZvQOxRuB6Fm21A7FG4HoXbb0BxPQrXo6B1QEjhehSuq3lAUrgehesDgECamZmZmT2DQPYoXI/C5YZApHA9CtcqkEAzMzMzM+KdQKRwPQrXrqNA",
          "dtype": "f8"
         },
         "textfont": {
          "size": 10
         },
         "textposition": "top center",
         "texttemplate": "%{text}",
         "type": "scatter",
         "x": [
          "2013-06-30T00:00:00.000000000",
          "2013-09-30T00:00:00.000000000",
          "2013-12-31T00:00:00.000000000",
          "2014-03-31T00:00:00.000000000",
          "2014-06-30T00:00:00.000000000",
          "2014-09-30T00:00:00.000000000",
          "2014-12-31T00:00:00.000000000",
          "2015-03-31T00:00:00.000000000",
          "2015-06-30T00:00:00.000000000",
          "2015-09-30T00:00:00.000000000",
          "2015-12-31T00:00:00.000000000",
          "2016-03-31T00:00:00.000000000",
          "2016-06-30T00:00:00.000000000",
          "2016-09-30T00:00:00.000000000",
          "2016-12-31T00:00:00.000000000",
          "2017-03-31T00:00:00.000000000",
          "2017-06-30T00:00:00.000000000",
          "2017-09-30T00:00:00.000000000"
         ],
         "xaxis": "x",
         "y": {
          "bdata": "exSuR2HKXEDDtBbzotJbQEMWspCFan9AppvEILDkhUCx1SdKb0eAQOySyodxsIBAlpEHUTZRdkAklNHbsmZvQFLbgep0m21APcnEOoTbb0A9iLLRl6B1QDuogzqoq3lA8r14JfEDgEAuJ1hGnj2DQC2lM3TF5YZAgQJRbNQqkEBzNVdzNeKdQG1j1TbWrqNA",
          "dtype": "f8"
         },
         "yaxis": "y"
        }
       ],
       "layout": {
        "legend": {
         "tracegroupgap": 0
        },
        "template": {
         "data": {
          "bar": [
           {
            "error_x": {
             "color": "#2a3f5f"
            },
            "error_y": {
             "color": "#2a3f5f"
            },
            "marker": {
             "line": {
              "color": "#E5ECF6",
              "width": 0.5
             },
             "pattern": {
              "fillmode": "overlay",
              "size": 10,
              "solidity": 0.2
             }
            },
            "type": "bar"
           }
          ],
          "barpolar": [
           {
            "marker": {
             "line": {
              "color": "#E5ECF6",
              "width": 0.5
             },
             "pattern": {
              "fillmode": "overlay",
              "size": 10,
              "solidity": 0.2
             }
            },
            "type": "barpolar"
           }
          ],
          "carpet": [
           {
            "aaxis": {
             "endlinecolor": "#2a3f5f",
             "gridcolor": "white",
             "linecolor": "white",
             "minorgridcolor": "white",
             "startlinecolor": "#2a3f5f"
            },
            "baxis": {
             "endlinecolor": "#2a3f5f",
             "gridcolor": "white",
             "linecolor": "white",
             "minorgridcolor": "white",
             "startlinecolor": "#2a3f5f"
            },
            "type": "carpet"
           }
          ],
          "choropleth": [
           {
            "colorbar": {
             "outlinewidth": 0,
             "ticks": ""
            },
            "type": "choropleth"
           }
          ],
          "contour": [
           {
            "colorbar": {
             "outlinewidth": 0,
             "ticks": ""
            },
            "colorscale": [
             [
              0,
              "#0d0887"
             ],
             [
              0.1111111111111111,
              "#46039f"
             ],
             [
              0.2222222222222222,
              "#7201a8"
             ],
             [
              0.3333333333333333,
              "#9c179e"
             ],
             [
              0.4444444444444444,
              "#bd3786"
             ],
             [
              0.5555555555555556,
              "#d8576b"
             ],
             [
              0.6666666666666666,
              "#ed7953"
             ],
             [
              0.7777777777777778,
              "#fb9f3a"
             ],
             [
              0.8888888888888888,
              "#fdca26"
             ],
             [
              1,
              "#f0f921"
             ]
            ],
            "type": "contour"
           }
          ],
          "contourcarpet": [
           {
            "colorbar": {
             "outlinewidth": 0,
             "ticks": ""
            },
            "type": "contourcarpet"
           }
          ],
          "heatmap": [
           {
            "colorbar": {
             "outlinewidth": 0,
             "ticks": ""
            },
            "colorscale": [
             [
              0,
              "#0d0887"
             ],
             [
              0.1111111111111111,
              "#46039f"
             ],
             [
              0.2222222222222222,
              "#7201a8"
             ],
             [
              0.3333333333333333,
              "#9c179e"
             ],
             [
              0.4444444444444444,
              "#bd3786"
             ],
             [
              0.5555555555555556,
              "#d8576b"
             ],
             [
              0.6666666666666666,
              "#ed7953"
             ],
             [
              0.7777777777777778,
              "#fb9f3a"
             ],
             [
              0.8888888888888888,
              "#fdca26"
             ],
             [
              1,
              "#f0f921"
             ]
            ],
            "type": "heatmap"
           }
          ],
          "histogram": [
           {
            "marker": {
             "pattern": {
              "fillmode": "overlay",
              "size": 10,
              "solidity": 0.2
             }
            },
            "type": "histogram"
           }
          ],
          "histogram2d": [
           {
            "colorbar": {
             "outlinewidth": 0,
             "ticks": ""
            },
            "colorscale": [
             [
              0,
              "#0d0887"
             ],
             [
              0.1111111111111111,
              "#46039f"
             ],
             [
              0.2222222222222222,
              "#7201a8"
             ],
             [
              0.3333333333333333,
              "#9c179e"
             ],
             [
              0.4444444444444444,
              "#bd3786"
             ],
             [
              0.5555555555555556,
              "#d8576b"
             ],
             [
              0.6666666666666666,
              "#ed7953"
             ],
             [
              0.7777777777777778,
              "#fb9f3a"
             ],
             [
              0.8888888888888888,
              "#fdca26"
             ],
             [
              1,
              "#f0f921"
             ]
            ],
            "type": "histogram2d"
           }
          ],
          "histogram2dcontour": [
           {
            "colorbar": {
             "outlinewidth": 0,
             "ticks": ""
            },
            "colorscale": [
             [
              0,
              "#0d0887"
             ],
             [
              0.1111111111111111,
              "#46039f"
             ],
             [
              0.2222222222222222,
              "#7201a8"
             ],
             [
              0.3333333333333333,
              "#9c179e"
             ],
             [
              0.4444444444444444,
              "#bd3786"
             ],
             [
              0.5555555555555556,
              "#d8576b"
             ],
             [
              0.6666666666666666,
              "#ed7953"
             ],
             [
              0.7777777777777778,
              "#fb9f3a"
             ],
             [
              0.8888888888888888,
              "#fdca26"
             ],
             [
              1,
              "#f0f921"
             ]
            ],
            "type": "histogram2dcontour"
           }
          ],
          "mesh3d": [
           {
            "colorbar": {
             "outlinewidth": 0,
             "ticks": ""
            },
            "type": "mesh3d"
           }
          ],
          "parcoords": [
           {
            "line": {
             "colorbar": {
              "outlinewidth": 0,
              "ticks": ""
             }
            },
            "type": "parcoords"
           }
          ],
          "pie": [
           {
            "automargin": true,
            "type": "pie"
           }
          ],
          "scatter": [
           {
            "fillpattern": {
             "fillmode": "overlay",
             "size": 10,
             "solidity": 0.2
            },
            "type": "scatter"
           }
          ],
          "scatter3d": [
           {
            "line": {
             "colorbar": {
              "outlinewidth": 0,
              "ticks": ""
             }
            },
            "marker": {
             "colorbar": {
              "outlinewidth": 0,
              "ticks": ""
             }
            },
            "type": "scatter3d"
           }
          ],
          "scattercarpet": [
           {
            "marker": {
             "colorbar": {
              "outlinewidth": 0,
              "ticks": ""
             }
            },
            "type": "scattercarpet"
           }
          ],
          "scattergeo": [
           {
            "marker": {
             "colorbar": {
              "outlinewidth": 0,
              "ticks": ""
             }
            },
            "type": "scattergeo"
           }
          ],
          "scattergl": [
           {
            "marker": {
             "colorbar": {
              "outlinewidth": 0,
              "ticks": ""
             }
            },
            "type": "scattergl"
           }
          ],
          "scattermap": [
           {
            "marker": {
             "colorbar": {
              "outlinewidth": 0,
              "ticks": ""
             }
            },
            "type": "scattermap"
           }
          ],
          "scattermapbox": [
           {
            "marker": {
             "colorbar": {
              "outlinewidth": 0,
              "ticks": ""
             }
            },
            "type": "scattermapbox"
           }
          ],
          "scatterpolar": [
           {
            "marker": {
             "colorbar": {
              "outlinewidth": 0,
              "ticks": ""
             }
            },
            "type": "scatterpolar"
           }
          ],
          "scatterpolargl": [
           {
            "marker": {
             "colorbar": {
              "outlinewidth": 0,
              "ticks": ""
             }
            },
            "type": "scatterpolargl"
           }
          ],
          "scatterternary": [
           {
            "marker": {
             "colorbar": {
              "outlinewidth": 0,
              "ticks": ""
             }
            },
            "type": "scatterternary"
           }
          ],
          "surface": [
           {
            "colorbar": {
             "outlinewidth": 0,
             "ticks": ""
            },
            "colorscale": [
             [
              0,
              "#0d0887"
             ],
             [
              0.1111111111111111,
              "#46039f"
             ],
             [
              0.2222222222222222,
              "#7201a8"
             ],
             [
              0.3333333333333333,
              "#9c179e"
             ],
             [
              0.4444444444444444,
              "#bd3786"
             ],
             [
              0.5555555555555556,
              "#d8576b"
             ],
             [
              0.6666666666666666,
              "#ed7953"
             ],
             [
              0.7777777777777778,
              "#fb9f3a"
             ],
             [
              0.8888888888888888,
              "#fdca26"
             ],
             [
              1,
              "#f0f921"
             ]
            ],
            "type": "surface"
           }
          ],
          "table": [
           {
            "cells": {
             "fill": {
              "color": "#EBF0F8"
             },
             "line": {
              "color": "white"
             }
            },
            "header": {
             "fill": {
              "color": "#C8D4E3"
             },
             "line": {
              "color": "white"
             }
            },
            "type": "table"
           }
          ]
         },
         "layout": {
          "annotationdefaults": {
           "arrowcolor": "#2a3f5f",
           "arrowhead": 0,
           "arrowwidth": 1
          },
          "autotypenumbers": "strict",
          "coloraxis": {
           "colorbar": {
            "outlinewidth": 0,
            "ticks": ""
           }
          },
          "colorscale": {
           "diverging": [
            [
             0,
             "#8e0152"
            ],
            [
             0.1,
             "#c51b7d"
            ],
            [
             0.2,
             "#de77ae"
            ],
            [
             0.3,
             "#f1b6da"
            ],
            [
             0.4,
             "#fde0ef"
            ],
            [
             0.5,
             "#f7f7f7"
            ],
            [
             0.6,
             "#e6f5d0"
            ],
            [
             0.7,
             "#b8e186"
            ],
            [
             0.8,
             "#7fbc41"
            ],
            [
             0.9,
             "#4d9221"
            ],
            [
             1,
             "#276419"
            ]
           ],
           "sequential": [
            [
             0,
             "#0d0887"
            ],
            [
             0.1111111111111111,
             "#46039f"
            ],
            [
             0.2222222222222222,
             "#7201a8"
            ],
            [
             0.3333333333333333,
             "#9c179e"
            ],
            [
             0.4444444444444444,
             "#bd3786"
            ],
            [
             0.5555555555555556,
             "#d8576b"
            ],
            [
             0.6666666666666666,
             "#ed7953"
            ],
            [
             0.7777777777777778,
             "#fb9f3a"
            ],
            [
             0.8888888888888888,
             "#fdca26"
            ],
            [
             1,
             "#f0f921"
            ]
           ],
           "sequentialminus": [
            [
             0,
             "#0d0887"
            ],
            [
             0.1111111111111111,
             "#46039f"
            ],
            [
             0.2222222222222222,
             "#7201a8"
            ],
            [
             0.3333333333333333,
             "#9c179e"
            ],
            [
             0.4444444444444444,
             "#bd3786"
            ],
            [
             0.5555555555555556,
             "#d8576b"
            ],
            [
             0.6666666666666666,
             "#ed7953"
            ],
            [
             0.7777777777777778,
             "#fb9f3a"
            ],
            [
             0.8888888888888888,
             "#fdca26"
            ],
            [
             1,
             "#f0f921"
            ]
           ]
          },
          "colorway": [
           "#636efa",
           "#EF553B",
           "#00cc96",
           "#ab63fa",
           "#FFA15A",
           "#19d3f3",
           "#FF6692",
           "#B6E880",
           "#FF97FF",
           "#FECB52"
          ],
          "font": {
           "color": "#2a3f5f"
          },
          "geo": {
           "bgcolor": "white",
           "lakecolor": "white",
           "landcolor": "#E5ECF6",
           "showlakes": true,
           "showland": true,
           "subunitcolor": "white"
          },
          "hoverlabel": {
           "align": "left"
          },
          "hovermode": "closest",
          "mapbox": {
           "style": "light"
          },
          "paper_bgcolor": "white",
          "plot_bgcolor": "#E5ECF6",
          "polar": {
           "angularaxis": {
            "gridcolor": "white",
            "linecolor": "white",
            "ticks": ""
           },
           "bgcolor": "#E5ECF6",
           "radialaxis": {
            "gridcolor": "white",
            "linecolor": "white",
            "ticks": ""
           }
          },
          "scene": {
           "xaxis": {
            "backgroundcolor": "#E5ECF6",
            "gridcolor": "white",
            "gridwidth": 2,
            "linecolor": "white",
            "showbackground": true,
            "ticks": "",
            "zerolinecolor": "white"
           },
           "yaxis": {
            "backgroundcolor": "#E5ECF6",
            "gridcolor": "white",
            "gridwidth": 2,
            "linecolor": "white",
            "showbackground": true,
            "ticks": "",
            "zerolinecolor": "white"
           },
           "zaxis": {
            "backgroundcolor": "#E5ECF6",
            "gridcolor": "white",
            "gridwidth": 2,
            "linecolor": "white",
            "showbackground": true,
            "ticks": "",
            "zerolinecolor": "white"
           }
          },
          "shapedefaults": {
           "line": {
            "color": "#2a3f5f"
           }
          },
          "ternary": {
           "aaxis": {
            "gridcolor": "white",
            "linecolor": "white",
            "ticks": ""
           },
           "baxis": {
            "gridcolor": "white",
            "linecolor": "white",
            "ticks": ""
           },
           "bgcolor": "#E5ECF6",
           "caxis": {
            "gridcolor": "white",
            "linecolor": "white",
            "ticks": ""
           }
          },
          "title": {
           "x": 0.05
          },
          "xaxis": {
           "automargin": true,
           "gridcolor": "white",
           "linecolor": "white",
           "ticks": "",
           "title": {
            "standoff": 15
           },
           "zerolinecolor": "white",
           "zerolinewidth": 2
          },
          "yaxis": {
           "automargin": true,
           "gridcolor": "white",
           "linecolor": "white",
           "ticks": "",
           "title": {
            "standoff": 15
           },
           "zerolinecolor": "white",
           "zerolinewidth": 2
          }
         }
        },
        "title": {
         "text": "Quaterly Mean Closing Price"
        },
        "xaxis": {
         "anchor": "y",
         "domain": [
          0,
          1
         ],
         "title": {
          "text": "Date"
         }
        },
        "yaxis": {
         "anchor": "x",
         "domain": [
          0,
          1
         ],
         "title": {
          "text": "Close"
         }
        }
       }
      },
      "text/html": [
       "<div>            <script src=\"https://cdnjs.cloudflare.com/ajax/libs/mathjax/2.7.5/MathJax.js?config=TeX-AMS-MML_SVG\"></script><script type=\"text/javascript\">if (window.MathJax && window.MathJax.Hub && window.MathJax.Hub.Config) {window.MathJax.Hub.Config({SVG: {font: \"STIX-Web\"}});}</script>                <script type=\"text/javascript\">window.PlotlyConfig = {MathJaxConfig: 'local'};</script>\n",
       "        <script charset=\"utf-8\" src=\"https://cdn.plot.ly/plotly-3.1.0.min.js\" integrity=\"sha256-Ei4740bWZhaUTQuD6q9yQlgVCMPBz6CZWhevDYPv93A=\" crossorigin=\"anonymous\"></script>                <div id=\"a87aaafe-22a5-4148-a7c6-f0df30ee239a\" class=\"plotly-graph-div\" style=\"height:525px; width:100%;\"></div>            <script type=\"text/javascript\">                window.PLOTLYENV=window.PLOTLYENV || {};                                if (document.getElementById(\"a87aaafe-22a5-4148-a7c6-f0df30ee239a\")) {                    Plotly.newPlot(                        \"a87aaafe-22a5-4148-a7c6-f0df30ee239a\",                        [{\"hovertemplate\":\"Date=%{x}\\u003cbr\\u003eClose=%{y}\\u003cextra\\u003e\\u003c\\u002fextra\\u003e\",\"legendgroup\":\"\",\"line\":{\"color\":\"#636efa\",\"dash\":\"solid\"},\"marker\":{\"symbol\":\"circle\"},\"mode\":\"lines+markers+text\",\"name\":\"\",\"orientation\":\"v\",\"showlegend\":false,\"x\":[\"2013-06-30T00:00:00.000000000\",\"2013-09-30T00:00:00.000000000\",\"2013-12-31T00:00:00.000000000\",\"2014-03-31T00:00:00.000000000\",\"2014-06-30T00:00:00.000000000\",\"2014-09-30T00:00:00.000000000\",\"2014-12-31T00:00:00.000000000\",\"2015-03-31T00:00:00.000000000\",\"2015-06-30T00:00:00.000000000\",\"2015-09-30T00:00:00.000000000\",\"2015-12-31T00:00:00.000000000\",\"2016-03-31T00:00:00.000000000\",\"2016-06-30T00:00:00.000000000\",\"2016-09-30T00:00:00.000000000\",\"2016-12-31T00:00:00.000000000\",\"2017-03-31T00:00:00.000000000\",\"2017-06-30T00:00:00.000000000\",\"2017-09-30T00:00:00.000000000\"],\"xaxis\":\"x\",\"y\":{\"dtype\":\"f8\",\"bdata\":\"exSuR2HKXEDDtBbzotJbQEMWspCFan9AppvEILDkhUCx1SdKb0eAQOySyodxsIBAlpEHUTZRdkAklNHbsmZvQFLbgep0m21APcnEOoTbb0A9iLLRl6B1QDuogzqoq3lA8r14JfEDgEAuJ1hGnj2DQC2lM3TF5YZAgQJRbNQqkEBzNVdzNeKdQG1j1TbWrqNA\"},\"yaxis\":\"y\",\"type\":\"scatter\",\"textfont\":{\"size\":10},\"text\":{\"dtype\":\"f8\",\"bdata\":\"CtejcD3KXEDD9Shcj9JbQMP1KFyPan9AH4XrUbjkhUA9CtejcEeAQBSuR+F6sIBA4XoUrkdRdkAfhetRuGZvQOxRuB6Fm21A7FG4HoXbb0BxPQrXo6B1QEjhehSuq3lAUrgehesDgECamZmZmT2DQPYoXI\\u002fC5YZApHA9CtcqkEAzMzMzM+KdQKRwPQrXrqNA\"},\"textposition\":\"top center\",\"texttemplate\":\"%{text}\"}],                        {\"template\":{\"data\":{\"histogram2dcontour\":[{\"type\":\"histogram2dcontour\",\"colorbar\":{\"outlinewidth\":0,\"ticks\":\"\"},\"colorscale\":[[0.0,\"#0d0887\"],[0.1111111111111111,\"#46039f\"],[0.2222222222222222,\"#7201a8\"],[0.3333333333333333,\"#9c179e\"],[0.4444444444444444,\"#bd3786\"],[0.5555555555555556,\"#d8576b\"],[0.6666666666666666,\"#ed7953\"],[0.7777777777777778,\"#fb9f3a\"],[0.8888888888888888,\"#fdca26\"],[1.0,\"#f0f921\"]]}],\"choropleth\":[{\"type\":\"choropleth\",\"colorbar\":{\"outlinewidth\":0,\"ticks\":\"\"}}],\"histogram2d\":[{\"type\":\"histogram2d\",\"colorbar\":{\"outlinewidth\":0,\"ticks\":\"\"},\"colorscale\":[[0.0,\"#0d0887\"],[0.1111111111111111,\"#46039f\"],[0.2222222222222222,\"#7201a8\"],[0.3333333333333333,\"#9c179e\"],[0.4444444444444444,\"#bd3786\"],[0.5555555555555556,\"#d8576b\"],[0.6666666666666666,\"#ed7953\"],[0.7777777777777778,\"#fb9f3a\"],[0.8888888888888888,\"#fdca26\"],[1.0,\"#f0f921\"]]}],\"heatmap\":[{\"type\":\"heatmap\",\"colorbar\":{\"outlinewidth\":0,\"ticks\":\"\"},\"colorscale\":[[0.0,\"#0d0887\"],[0.1111111111111111,\"#46039f\"],[0.2222222222222222,\"#7201a8\"],[0.3333333333333333,\"#9c179e\"],[0.4444444444444444,\"#bd3786\"],[0.5555555555555556,\"#d8576b\"],[0.6666666666666666,\"#ed7953\"],[0.7777777777777778,\"#fb9f3a\"],[0.8888888888888888,\"#fdca26\"],[1.0,\"#f0f921\"]]}],\"contourcarpet\":[{\"type\":\"contourcarpet\",\"colorbar\":{\"outlinewidth\":0,\"ticks\":\"\"}}],\"contour\":[{\"type\":\"contour\",\"colorbar\":{\"outlinewidth\":0,\"ticks\":\"\"},\"colorscale\":[[0.0,\"#0d0887\"],[0.1111111111111111,\"#46039f\"],[0.2222222222222222,\"#7201a8\"],[0.3333333333333333,\"#9c179e\"],[0.4444444444444444,\"#bd3786\"],[0.5555555555555556,\"#d8576b\"],[0.6666666666666666,\"#ed7953\"],[0.7777777777777778,\"#fb9f3a\"],[0.8888888888888888,\"#fdca26\"],[1.0,\"#f0f921\"]]}],\"surface\":[{\"type\":\"surface\",\"colorbar\":{\"outlinewidth\":0,\"ticks\":\"\"},\"colorscale\":[[0.0,\"#0d0887\"],[0.1111111111111111,\"#46039f\"],[0.2222222222222222,\"#7201a8\"],[0.3333333333333333,\"#9c179e\"],[0.4444444444444444,\"#bd3786\"],[0.5555555555555556,\"#d8576b\"],[0.6666666666666666,\"#ed7953\"],[0.7777777777777778,\"#fb9f3a\"],[0.8888888888888888,\"#fdca26\"],[1.0,\"#f0f921\"]]}],\"mesh3d\":[{\"type\":\"mesh3d\",\"colorbar\":{\"outlinewidth\":0,\"ticks\":\"\"}}],\"scatter\":[{\"fillpattern\":{\"fillmode\":\"overlay\",\"size\":10,\"solidity\":0.2},\"type\":\"scatter\"}],\"parcoords\":[{\"type\":\"parcoords\",\"line\":{\"colorbar\":{\"outlinewidth\":0,\"ticks\":\"\"}}}],\"scatterpolargl\":[{\"type\":\"scatterpolargl\",\"marker\":{\"colorbar\":{\"outlinewidth\":0,\"ticks\":\"\"}}}],\"bar\":[{\"error_x\":{\"color\":\"#2a3f5f\"},\"error_y\":{\"color\":\"#2a3f5f\"},\"marker\":{\"line\":{\"color\":\"#E5ECF6\",\"width\":0.5},\"pattern\":{\"fillmode\":\"overlay\",\"size\":10,\"solidity\":0.2}},\"type\":\"bar\"}],\"scattergeo\":[{\"type\":\"scattergeo\",\"marker\":{\"colorbar\":{\"outlinewidth\":0,\"ticks\":\"\"}}}],\"scatterpolar\":[{\"type\":\"scatterpolar\",\"marker\":{\"colorbar\":{\"outlinewidth\":0,\"ticks\":\"\"}}}],\"histogram\":[{\"marker\":{\"pattern\":{\"fillmode\":\"overlay\",\"size\":10,\"solidity\":0.2}},\"type\":\"histogram\"}],\"scattergl\":[{\"type\":\"scattergl\",\"marker\":{\"colorbar\":{\"outlinewidth\":0,\"ticks\":\"\"}}}],\"scatter3d\":[{\"type\":\"scatter3d\",\"line\":{\"colorbar\":{\"outlinewidth\":0,\"ticks\":\"\"}},\"marker\":{\"colorbar\":{\"outlinewidth\":0,\"ticks\":\"\"}}}],\"scattermap\":[{\"type\":\"scattermap\",\"marker\":{\"colorbar\":{\"outlinewidth\":0,\"ticks\":\"\"}}}],\"scattermapbox\":[{\"type\":\"scattermapbox\",\"marker\":{\"colorbar\":{\"outlinewidth\":0,\"ticks\":\"\"}}}],\"scatterternary\":[{\"type\":\"scatterternary\",\"marker\":{\"colorbar\":{\"outlinewidth\":0,\"ticks\":\"\"}}}],\"scattercarpet\":[{\"type\":\"scattercarpet\",\"marker\":{\"colorbar\":{\"outlinewidth\":0,\"ticks\":\"\"}}}],\"carpet\":[{\"aaxis\":{\"endlinecolor\":\"#2a3f5f\",\"gridcolor\":\"white\",\"linecolor\":\"white\",\"minorgridcolor\":\"white\",\"startlinecolor\":\"#2a3f5f\"},\"baxis\":{\"endlinecolor\":\"#2a3f5f\",\"gridcolor\":\"white\",\"linecolor\":\"white\",\"minorgridcolor\":\"white\",\"startlinecolor\":\"#2a3f5f\"},\"type\":\"carpet\"}],\"table\":[{\"cells\":{\"fill\":{\"color\":\"#EBF0F8\"},\"line\":{\"color\":\"white\"}},\"header\":{\"fill\":{\"color\":\"#C8D4E3\"},\"line\":{\"color\":\"white\"}},\"type\":\"table\"}],\"barpolar\":[{\"marker\":{\"line\":{\"color\":\"#E5ECF6\",\"width\":0.5},\"pattern\":{\"fillmode\":\"overlay\",\"size\":10,\"solidity\":0.2}},\"type\":\"barpolar\"}],\"pie\":[{\"automargin\":true,\"type\":\"pie\"}]},\"layout\":{\"autotypenumbers\":\"strict\",\"colorway\":[\"#636efa\",\"#EF553B\",\"#00cc96\",\"#ab63fa\",\"#FFA15A\",\"#19d3f3\",\"#FF6692\",\"#B6E880\",\"#FF97FF\",\"#FECB52\"],\"font\":{\"color\":\"#2a3f5f\"},\"hovermode\":\"closest\",\"hoverlabel\":{\"align\":\"left\"},\"paper_bgcolor\":\"white\",\"plot_bgcolor\":\"#E5ECF6\",\"polar\":{\"bgcolor\":\"#E5ECF6\",\"angularaxis\":{\"gridcolor\":\"white\",\"linecolor\":\"white\",\"ticks\":\"\"},\"radialaxis\":{\"gridcolor\":\"white\",\"linecolor\":\"white\",\"ticks\":\"\"}},\"ternary\":{\"bgcolor\":\"#E5ECF6\",\"aaxis\":{\"gridcolor\":\"white\",\"linecolor\":\"white\",\"ticks\":\"\"},\"baxis\":{\"gridcolor\":\"white\",\"linecolor\":\"white\",\"ticks\":\"\"},\"caxis\":{\"gridcolor\":\"white\",\"linecolor\":\"white\",\"ticks\":\"\"}},\"coloraxis\":{\"colorbar\":{\"outlinewidth\":0,\"ticks\":\"\"}},\"colorscale\":{\"sequential\":[[0.0,\"#0d0887\"],[0.1111111111111111,\"#46039f\"],[0.2222222222222222,\"#7201a8\"],[0.3333333333333333,\"#9c179e\"],[0.4444444444444444,\"#bd3786\"],[0.5555555555555556,\"#d8576b\"],[0.6666666666666666,\"#ed7953\"],[0.7777777777777778,\"#fb9f3a\"],[0.8888888888888888,\"#fdca26\"],[1.0,\"#f0f921\"]],\"sequentialminus\":[[0.0,\"#0d0887\"],[0.1111111111111111,\"#46039f\"],[0.2222222222222222,\"#7201a8\"],[0.3333333333333333,\"#9c179e\"],[0.4444444444444444,\"#bd3786\"],[0.5555555555555556,\"#d8576b\"],[0.6666666666666666,\"#ed7953\"],[0.7777777777777778,\"#fb9f3a\"],[0.8888888888888888,\"#fdca26\"],[1.0,\"#f0f921\"]],\"diverging\":[[0,\"#8e0152\"],[0.1,\"#c51b7d\"],[0.2,\"#de77ae\"],[0.3,\"#f1b6da\"],[0.4,\"#fde0ef\"],[0.5,\"#f7f7f7\"],[0.6,\"#e6f5d0\"],[0.7,\"#b8e186\"],[0.8,\"#7fbc41\"],[0.9,\"#4d9221\"],[1,\"#276419\"]]},\"xaxis\":{\"gridcolor\":\"white\",\"linecolor\":\"white\",\"ticks\":\"\",\"title\":{\"standoff\":15},\"zerolinecolor\":\"white\",\"automargin\":true,\"zerolinewidth\":2},\"yaxis\":{\"gridcolor\":\"white\",\"linecolor\":\"white\",\"ticks\":\"\",\"title\":{\"standoff\":15},\"zerolinecolor\":\"white\",\"automargin\":true,\"zerolinewidth\":2},\"scene\":{\"xaxis\":{\"backgroundcolor\":\"#E5ECF6\",\"gridcolor\":\"white\",\"linecolor\":\"white\",\"showbackground\":true,\"ticks\":\"\",\"zerolinecolor\":\"white\",\"gridwidth\":2},\"yaxis\":{\"backgroundcolor\":\"#E5ECF6\",\"gridcolor\":\"white\",\"linecolor\":\"white\",\"showbackground\":true,\"ticks\":\"\",\"zerolinecolor\":\"white\",\"gridwidth\":2},\"zaxis\":{\"backgroundcolor\":\"#E5ECF6\",\"gridcolor\":\"white\",\"linecolor\":\"white\",\"showbackground\":true,\"ticks\":\"\",\"zerolinecolor\":\"white\",\"gridwidth\":2}},\"shapedefaults\":{\"line\":{\"color\":\"#2a3f5f\"}},\"annotationdefaults\":{\"arrowcolor\":\"#2a3f5f\",\"arrowhead\":0,\"arrowwidth\":1},\"geo\":{\"bgcolor\":\"white\",\"landcolor\":\"#E5ECF6\",\"subunitcolor\":\"white\",\"showland\":true,\"showlakes\":true,\"lakecolor\":\"white\"},\"title\":{\"x\":0.05},\"mapbox\":{\"style\":\"light\"}}},\"xaxis\":{\"anchor\":\"y\",\"domain\":[0.0,1.0],\"title\":{\"text\":\"Date\"}},\"yaxis\":{\"anchor\":\"x\",\"domain\":[0.0,1.0],\"title\":{\"text\":\"Close\"}},\"legend\":{\"tracegroupgap\":0},\"title\":{\"text\":\"Quaterly Mean Closing Price\"}},                        {\"responsive\": true}                    ).then(function(){\n",
       "                            \n",
       "var gd = document.getElementById('a87aaafe-22a5-4148-a7c6-f0df30ee239a');\n",
       "var x = new MutationObserver(function (mutations, observer) {{\n",
       "        var display = window.getComputedStyle(gd).display;\n",
       "        if (!display || display === 'none') {{\n",
       "            console.log([gd, 'removed!']);\n",
       "            Plotly.purge(gd);\n",
       "            observer.disconnect();\n",
       "        }}\n",
       "}});\n",
       "\n",
       "// Listen for the removal of the full notebook cells\n",
       "var notebookContainer = gd.closest('#notebook-container');\n",
       "if (notebookContainer) {{\n",
       "    x.observe(notebookContainer, {childList: true});\n",
       "}}\n",
       "\n",
       "// Listen for the clearing of the current output cell\n",
       "var outputEl = gd.closest('.output');\n",
       "if (outputEl) {{\n",
       "    x.observe(outputEl, {childList: true});\n",
       "}}\n",
       "\n",
       "                        })                };            </script>        </div>"
      ]
     },
     "metadata": {},
     "output_type": "display_data"
    }
   ],
   "source": [
    "# Quaterly Mean Closing Price using Plotly Express\n",
    "\n",
    "mean_cpQ = data['Close'].resample('QE').mean()\n",
    "fig = px.line(mean_cpQ, y='Close', title='Quaterly Mean Closing Price', markers = True)\n",
    "fig.update_traces(\n",
    "    mode='lines+markers+text',\n",
    "    text=mean_cpQ.round(2),\n",
    "    textposition='top center',\n",
    "    texttemplate='%{text}',\n",
    "    textfont=dict(size=10)\n",
    ")\n",
    "fig.show()"
   ]
  },
  {
   "cell_type": "code",
   "execution_count": 35,
   "id": "5f892b87",
   "metadata": {},
   "outputs": [
    {
     "data": {
      "application/vnd.plotly.v1+json": {
       "config": {
        "plotlyServerURL": "https://plot.ly"
       },
       "data": [
        {
         "hovertemplate": "Date=%{x}<br>Close=%{y}<extra></extra>",
         "legendgroup": "",
         "line": {
          "color": "#636efa",
          "dash": "solid"
         },
         "marker": {
          "symbol": "circle"
         },
         "mode": "lines+markers+text",
         "name": "",
         "orientation": "v",
         "showlegend": false,
         "text": {
          "bdata": "AAAAAABoYUCPwvUoXP9dQHE9Ctej8FpAcT0K16OgVkAK16NwPXpcQFK4HoXrQWBAUrgehevJY0CPwvUoXDOBQArXo3A9BolAj8L1KFxhikApXI/C9ayEQJqZmZmZgYJA9ihcj8LVfEBmZmZmZmp+QI/C9ShcP4NACtejcD1Qg0AfhetRuMCAQNejcD0K03tAZmZmZmbCdkCamZmZmeF2QLgehetRVHVAKVyPwvUYb0DNzMzMzERtQHE9Ctej0HBASOF6FK5vbUAAAAAAAKBtQMP1KFyPwm1AKVyPwvV4cUCPwvUoXFdvQDMzMzMzM21A9ihcj8KNcECuR+F6FM51QI/C9Shch3pAPQrXo3CteUDD9Shcj0Z5QBSuR+F6CHpAPQrXo3Ale0AzMzMzM998QClcj8L1FoRAexSuR+GqhEAfhetRuByCQM3MzMzM7oJAZmZmZmYchEDNzMzMzLKGQBSuR+F64IlAj8L1KFyXjECF61G4HpqQQBSuR+F6pZFAw/UoXI/akkDsUbgehZ2dQGZmZmZmmKRApHA9Cteuo0A=",
          "dtype": "f8"
         },
         "textfont": {
          "size": 4
         },
         "textposition": "top center",
         "texttemplate": "%{text}",
         "type": "scatter",
         "x": [
          "2013-04-30T00:00:00.000000000",
          "2013-05-31T00:00:00.000000000",
          "2013-06-30T00:00:00.000000000",
          "2013-07-31T00:00:00.000000000",
          "2013-08-31T00:00:00.000000000",
          "2013-09-30T00:00:00.000000000",
          "2013-10-31T00:00:00.000000000",
          "2013-11-30T00:00:00.000000000",
          "2013-12-31T00:00:00.000000000",
          "2014-01-31T00:00:00.000000000",
          "2014-02-28T00:00:00.000000000",
          "2014-03-31T00:00:00.000000000",
          "2014-04-30T00:00:00.000000000",
          "2014-05-31T00:00:00.000000000",
          "2014-06-30T00:00:00.000000000",
          "2014-07-31T00:00:00.000000000",
          "2014-08-31T00:00:00.000000000",
          "2014-09-30T00:00:00.000000000",
          "2014-10-31T00:00:00.000000000",
          "2014-11-30T00:00:00.000000000",
          "2014-12-31T00:00:00.000000000",
          "2015-01-31T00:00:00.000000000",
          "2015-02-28T00:00:00.000000000",
          "2015-03-31T00:00:00.000000000",
          "2015-04-30T00:00:00.000000000",
          "2015-05-31T00:00:00.000000000",
          "2015-06-30T00:00:00.000000000",
          "2015-07-31T00:00:00.000000000",
          "2015-08-31T00:00:00.000000000",
          "2015-09-30T00:00:00.000000000",
          "2015-10-31T00:00:00.000000000",
          "2015-11-30T00:00:00.000000000",
          "2015-12-31T00:00:00.000000000",
          "2016-01-31T00:00:00.000000000",
          "2016-02-29T00:00:00.000000000",
          "2016-03-31T00:00:00.000000000",
          "2016-04-30T00:00:00.000000000",
          "2016-05-31T00:00:00.000000000",
          "2016-06-30T00:00:00.000000000",
          "2016-07-31T00:00:00.000000000",
          "2016-08-31T00:00:00.000000000",
          "2016-09-30T00:00:00.000000000",
          "2016-10-31T00:00:00.000000000",
          "2016-11-30T00:00:00.000000000",
          "2016-12-31T00:00:00.000000000",
          "2017-01-31T00:00:00.000000000",
          "2017-02-28T00:00:00.000000000",
          "2017-03-31T00:00:00.000000000",
          "2017-04-30T00:00:00.000000000",
          "2017-05-31T00:00:00.000000000",
          "2017-06-30T00:00:00.000000000",
          "2017-07-31T00:00:00.000000000"
         ],
         "xaxis": "x",
         "y": {
          "bdata": "AAAAAABoYUAvEPkCkf9dQF4Bcq+58FpAYY0M1sigVkCa4p4p7nlcQMaSXyz5QWBAArYfYPvJY0DOPnyGXTOBQMD2A2w/BolAto1V21hhikCB2FQa8qyEQCukuUKagYJAbxKDwMrVfED3umava2p+QJTR27JWP4NADkPjMDRQg0AhOwuys8CAQCRNqTj70ntAZmZmZmbCdkCamZmZmeF2QAS1RFBLVHVAaa6Q5goZb0AP6qAO6kRtQAGSCiCp0HBAvLu7u7tvbUAxWf6S5Z9tQDzfT42Xwm1A2VmQnQV5cUCAEvgngVdvQFScffgMM21A2uuava6NcEAiIiIiIs51QIfqdqhuh3pANjJYI4OteUBSNUVMiEZ5QPlwhg9nCHpAwBHK6G0le0DjMDQOQ998QAoezBP1FoRAf4DtB9iqhECR5gpprhyCQDCW/GLJ7oJAZmZmZmYchEBvEoPAyrKGQIKjJzh64IlASU6V5FSXjECd++wCIpqQQBdkZ0F2pZFA8tJNYpDakkAOjOjAiJ2dQE3wYJ5omKRAbWPVNtauo0A=",
          "dtype": "f8"
         },
         "yaxis": "y"
        }
       ],
       "layout": {
        "legend": {
         "tracegroupgap": 0
        },
        "template": {
         "data": {
          "bar": [
           {
            "error_x": {
             "color": "#2a3f5f"
            },
            "error_y": {
             "color": "#2a3f5f"
            },
            "marker": {
             "line": {
              "color": "#E5ECF6",
              "width": 0.5
             },
             "pattern": {
              "fillmode": "overlay",
              "size": 10,
              "solidity": 0.2
             }
            },
            "type": "bar"
           }
          ],
          "barpolar": [
           {
            "marker": {
             "line": {
              "color": "#E5ECF6",
              "width": 0.5
             },
             "pattern": {
              "fillmode": "overlay",
              "size": 10,
              "solidity": 0.2
             }
            },
            "type": "barpolar"
           }
          ],
          "carpet": [
           {
            "aaxis": {
             "endlinecolor": "#2a3f5f",
             "gridcolor": "white",
             "linecolor": "white",
             "minorgridcolor": "white",
             "startlinecolor": "#2a3f5f"
            },
            "baxis": {
             "endlinecolor": "#2a3f5f",
             "gridcolor": "white",
             "linecolor": "white",
             "minorgridcolor": "white",
             "startlinecolor": "#2a3f5f"
            },
            "type": "carpet"
           }
          ],
          "choropleth": [
           {
            "colorbar": {
             "outlinewidth": 0,
             "ticks": ""
            },
            "type": "choropleth"
           }
          ],
          "contour": [
           {
            "colorbar": {
             "outlinewidth": 0,
             "ticks": ""
            },
            "colorscale": [
             [
              0,
              "#0d0887"
             ],
             [
              0.1111111111111111,
              "#46039f"
             ],
             [
              0.2222222222222222,
              "#7201a8"
             ],
             [
              0.3333333333333333,
              "#9c179e"
             ],
             [
              0.4444444444444444,
              "#bd3786"
             ],
             [
              0.5555555555555556,
              "#d8576b"
             ],
             [
              0.6666666666666666,
              "#ed7953"
             ],
             [
              0.7777777777777778,
              "#fb9f3a"
             ],
             [
              0.8888888888888888,
              "#fdca26"
             ],
             [
              1,
              "#f0f921"
             ]
            ],
            "type": "contour"
           }
          ],
          "contourcarpet": [
           {
            "colorbar": {
             "outlinewidth": 0,
             "ticks": ""
            },
            "type": "contourcarpet"
           }
          ],
          "heatmap": [
           {
            "colorbar": {
             "outlinewidth": 0,
             "ticks": ""
            },
            "colorscale": [
             [
              0,
              "#0d0887"
             ],
             [
              0.1111111111111111,
              "#46039f"
             ],
             [
              0.2222222222222222,
              "#7201a8"
             ],
             [
              0.3333333333333333,
              "#9c179e"
             ],
             [
              0.4444444444444444,
              "#bd3786"
             ],
             [
              0.5555555555555556,
              "#d8576b"
             ],
             [
              0.6666666666666666,
              "#ed7953"
             ],
             [
              0.7777777777777778,
              "#fb9f3a"
             ],
             [
              0.8888888888888888,
              "#fdca26"
             ],
             [
              1,
              "#f0f921"
             ]
            ],
            "type": "heatmap"
           }
          ],
          "histogram": [
           {
            "marker": {
             "pattern": {
              "fillmode": "overlay",
              "size": 10,
              "solidity": 0.2
             }
            },
            "type": "histogram"
           }
          ],
          "histogram2d": [
           {
            "colorbar": {
             "outlinewidth": 0,
             "ticks": ""
            },
            "colorscale": [
             [
              0,
              "#0d0887"
             ],
             [
              0.1111111111111111,
              "#46039f"
             ],
             [
              0.2222222222222222,
              "#7201a8"
             ],
             [
              0.3333333333333333,
              "#9c179e"
             ],
             [
              0.4444444444444444,
              "#bd3786"
             ],
             [
              0.5555555555555556,
              "#d8576b"
             ],
             [
              0.6666666666666666,
              "#ed7953"
             ],
             [
              0.7777777777777778,
              "#fb9f3a"
             ],
             [
              0.8888888888888888,
              "#fdca26"
             ],
             [
              1,
              "#f0f921"
             ]
            ],
            "type": "histogram2d"
           }
          ],
          "histogram2dcontour": [
           {
            "colorbar": {
             "outlinewidth": 0,
             "ticks": ""
            },
            "colorscale": [
             [
              0,
              "#0d0887"
             ],
             [
              0.1111111111111111,
              "#46039f"
             ],
             [
              0.2222222222222222,
              "#7201a8"
             ],
             [
              0.3333333333333333,
              "#9c179e"
             ],
             [
              0.4444444444444444,
              "#bd3786"
             ],
             [
              0.5555555555555556,
              "#d8576b"
             ],
             [
              0.6666666666666666,
              "#ed7953"
             ],
             [
              0.7777777777777778,
              "#fb9f3a"
             ],
             [
              0.8888888888888888,
              "#fdca26"
             ],
             [
              1,
              "#f0f921"
             ]
            ],
            "type": "histogram2dcontour"
           }
          ],
          "mesh3d": [
           {
            "colorbar": {
             "outlinewidth": 0,
             "ticks": ""
            },
            "type": "mesh3d"
           }
          ],
          "parcoords": [
           {
            "line": {
             "colorbar": {
              "outlinewidth": 0,
              "ticks": ""
             }
            },
            "type": "parcoords"
           }
          ],
          "pie": [
           {
            "automargin": true,
            "type": "pie"
           }
          ],
          "scatter": [
           {
            "fillpattern": {
             "fillmode": "overlay",
             "size": 10,
             "solidity": 0.2
            },
            "type": "scatter"
           }
          ],
          "scatter3d": [
           {
            "line": {
             "colorbar": {
              "outlinewidth": 0,
              "ticks": ""
             }
            },
            "marker": {
             "colorbar": {
              "outlinewidth": 0,
              "ticks": ""
             }
            },
            "type": "scatter3d"
           }
          ],
          "scattercarpet": [
           {
            "marker": {
             "colorbar": {
              "outlinewidth": 0,
              "ticks": ""
             }
            },
            "type": "scattercarpet"
           }
          ],
          "scattergeo": [
           {
            "marker": {
             "colorbar": {
              "outlinewidth": 0,
              "ticks": ""
             }
            },
            "type": "scattergeo"
           }
          ],
          "scattergl": [
           {
            "marker": {
             "colorbar": {
              "outlinewidth": 0,
              "ticks": ""
             }
            },
            "type": "scattergl"
           }
          ],
          "scattermap": [
           {
            "marker": {
             "colorbar": {
              "outlinewidth": 0,
              "ticks": ""
             }
            },
            "type": "scattermap"
           }
          ],
          "scattermapbox": [
           {
            "marker": {
             "colorbar": {
              "outlinewidth": 0,
              "ticks": ""
             }
            },
            "type": "scattermapbox"
           }
          ],
          "scatterpolar": [
           {
            "marker": {
             "colorbar": {
              "outlinewidth": 0,
              "ticks": ""
             }
            },
            "type": "scatterpolar"
           }
          ],
          "scatterpolargl": [
           {
            "marker": {
             "colorbar": {
              "outlinewidth": 0,
              "ticks": ""
             }
            },
            "type": "scatterpolargl"
           }
          ],
          "scatterternary": [
           {
            "marker": {
             "colorbar": {
              "outlinewidth": 0,
              "ticks": ""
             }
            },
            "type": "scatterternary"
           }
          ],
          "surface": [
           {
            "colorbar": {
             "outlinewidth": 0,
             "ticks": ""
            },
            "colorscale": [
             [
              0,
              "#0d0887"
             ],
             [
              0.1111111111111111,
              "#46039f"
             ],
             [
              0.2222222222222222,
              "#7201a8"
             ],
             [
              0.3333333333333333,
              "#9c179e"
             ],
             [
              0.4444444444444444,
              "#bd3786"
             ],
             [
              0.5555555555555556,
              "#d8576b"
             ],
             [
              0.6666666666666666,
              "#ed7953"
             ],
             [
              0.7777777777777778,
              "#fb9f3a"
             ],
             [
              0.8888888888888888,
              "#fdca26"
             ],
             [
              1,
              "#f0f921"
             ]
            ],
            "type": "surface"
           }
          ],
          "table": [
           {
            "cells": {
             "fill": {
              "color": "#EBF0F8"
             },
             "line": {
              "color": "white"
             }
            },
            "header": {
             "fill": {
              "color": "#C8D4E3"
             },
             "line": {
              "color": "white"
             }
            },
            "type": "table"
           }
          ]
         },
         "layout": {
          "annotationdefaults": {
           "arrowcolor": "#2a3f5f",
           "arrowhead": 0,
           "arrowwidth": 1
          },
          "autotypenumbers": "strict",
          "coloraxis": {
           "colorbar": {
            "outlinewidth": 0,
            "ticks": ""
           }
          },
          "colorscale": {
           "diverging": [
            [
             0,
             "#8e0152"
            ],
            [
             0.1,
             "#c51b7d"
            ],
            [
             0.2,
             "#de77ae"
            ],
            [
             0.3,
             "#f1b6da"
            ],
            [
             0.4,
             "#fde0ef"
            ],
            [
             0.5,
             "#f7f7f7"
            ],
            [
             0.6,
             "#e6f5d0"
            ],
            [
             0.7,
             "#b8e186"
            ],
            [
             0.8,
             "#7fbc41"
            ],
            [
             0.9,
             "#4d9221"
            ],
            [
             1,
             "#276419"
            ]
           ],
           "sequential": [
            [
             0,
             "#0d0887"
            ],
            [
             0.1111111111111111,
             "#46039f"
            ],
            [
             0.2222222222222222,
             "#7201a8"
            ],
            [
             0.3333333333333333,
             "#9c179e"
            ],
            [
             0.4444444444444444,
             "#bd3786"
            ],
            [
             0.5555555555555556,
             "#d8576b"
            ],
            [
             0.6666666666666666,
             "#ed7953"
            ],
            [
             0.7777777777777778,
             "#fb9f3a"
            ],
            [
             0.8888888888888888,
             "#fdca26"
            ],
            [
             1,
             "#f0f921"
            ]
           ],
           "sequentialminus": [
            [
             0,
             "#0d0887"
            ],
            [
             0.1111111111111111,
             "#46039f"
            ],
            [
             0.2222222222222222,
             "#7201a8"
            ],
            [
             0.3333333333333333,
             "#9c179e"
            ],
            [
             0.4444444444444444,
             "#bd3786"
            ],
            [
             0.5555555555555556,
             "#d8576b"
            ],
            [
             0.6666666666666666,
             "#ed7953"
            ],
            [
             0.7777777777777778,
             "#fb9f3a"
            ],
            [
             0.8888888888888888,
             "#fdca26"
            ],
            [
             1,
             "#f0f921"
            ]
           ]
          },
          "colorway": [
           "#636efa",
           "#EF553B",
           "#00cc96",
           "#ab63fa",
           "#FFA15A",
           "#19d3f3",
           "#FF6692",
           "#B6E880",
           "#FF97FF",
           "#FECB52"
          ],
          "font": {
           "color": "#2a3f5f"
          },
          "geo": {
           "bgcolor": "white",
           "lakecolor": "white",
           "landcolor": "#E5ECF6",
           "showlakes": true,
           "showland": true,
           "subunitcolor": "white"
          },
          "hoverlabel": {
           "align": "left"
          },
          "hovermode": "closest",
          "mapbox": {
           "style": "light"
          },
          "paper_bgcolor": "white",
          "plot_bgcolor": "#E5ECF6",
          "polar": {
           "angularaxis": {
            "gridcolor": "white",
            "linecolor": "white",
            "ticks": ""
           },
           "bgcolor": "#E5ECF6",
           "radialaxis": {
            "gridcolor": "white",
            "linecolor": "white",
            "ticks": ""
           }
          },
          "scene": {
           "xaxis": {
            "backgroundcolor": "#E5ECF6",
            "gridcolor": "white",
            "gridwidth": 2,
            "linecolor": "white",
            "showbackground": true,
            "ticks": "",
            "zerolinecolor": "white"
           },
           "yaxis": {
            "backgroundcolor": "#E5ECF6",
            "gridcolor": "white",
            "gridwidth": 2,
            "linecolor": "white",
            "showbackground": true,
            "ticks": "",
            "zerolinecolor": "white"
           },
           "zaxis": {
            "backgroundcolor": "#E5ECF6",
            "gridcolor": "white",
            "gridwidth": 2,
            "linecolor": "white",
            "showbackground": true,
            "ticks": "",
            "zerolinecolor": "white"
           }
          },
          "shapedefaults": {
           "line": {
            "color": "#2a3f5f"
           }
          },
          "ternary": {
           "aaxis": {
            "gridcolor": "white",
            "linecolor": "white",
            "ticks": ""
           },
           "baxis": {
            "gridcolor": "white",
            "linecolor": "white",
            "ticks": ""
           },
           "bgcolor": "#E5ECF6",
           "caxis": {
            "gridcolor": "white",
            "linecolor": "white",
            "ticks": ""
           }
          },
          "title": {
           "x": 0.05
          },
          "xaxis": {
           "automargin": true,
           "gridcolor": "white",
           "linecolor": "white",
           "ticks": "",
           "title": {
            "standoff": 15
           },
           "zerolinecolor": "white",
           "zerolinewidth": 2
          },
          "yaxis": {
           "automargin": true,
           "gridcolor": "white",
           "linecolor": "white",
           "ticks": "",
           "title": {
            "standoff": 15
           },
           "zerolinecolor": "white",
           "zerolinewidth": 2
          }
         }
        },
        "title": {
         "text": "Monthly Mean Closing Price"
        },
        "xaxis": {
         "anchor": "y",
         "domain": [
          0,
          1
         ],
         "title": {
          "text": "Date"
         }
        },
        "yaxis": {
         "anchor": "x",
         "domain": [
          0,
          1
         ],
         "title": {
          "text": "Close"
         }
        }
       }
      },
      "text/html": [
       "<div>            <script src=\"https://cdnjs.cloudflare.com/ajax/libs/mathjax/2.7.5/MathJax.js?config=TeX-AMS-MML_SVG\"></script><script type=\"text/javascript\">if (window.MathJax && window.MathJax.Hub && window.MathJax.Hub.Config) {window.MathJax.Hub.Config({SVG: {font: \"STIX-Web\"}});}</script>                <script type=\"text/javascript\">window.PlotlyConfig = {MathJaxConfig: 'local'};</script>\n",
       "        <script charset=\"utf-8\" src=\"https://cdn.plot.ly/plotly-3.1.0.min.js\" integrity=\"sha256-Ei4740bWZhaUTQuD6q9yQlgVCMPBz6CZWhevDYPv93A=\" crossorigin=\"anonymous\"></script>                <div id=\"d1d6f96a-b17f-40cc-a8c0-b93c02eb949c\" class=\"plotly-graph-div\" style=\"height:525px; width:100%;\"></div>            <script type=\"text/javascript\">                window.PLOTLYENV=window.PLOTLYENV || {};                                if (document.getElementById(\"d1d6f96a-b17f-40cc-a8c0-b93c02eb949c\")) {                    Plotly.newPlot(                        \"d1d6f96a-b17f-40cc-a8c0-b93c02eb949c\",                        [{\"hovertemplate\":\"Date=%{x}\\u003cbr\\u003eClose=%{y}\\u003cextra\\u003e\\u003c\\u002fextra\\u003e\",\"legendgroup\":\"\",\"line\":{\"color\":\"#636efa\",\"dash\":\"solid\"},\"marker\":{\"symbol\":\"circle\"},\"mode\":\"lines+markers+text\",\"name\":\"\",\"orientation\":\"v\",\"showlegend\":false,\"x\":[\"2013-04-30T00:00:00.000000000\",\"2013-05-31T00:00:00.000000000\",\"2013-06-30T00:00:00.000000000\",\"2013-07-31T00:00:00.000000000\",\"2013-08-31T00:00:00.000000000\",\"2013-09-30T00:00:00.000000000\",\"2013-10-31T00:00:00.000000000\",\"2013-11-30T00:00:00.000000000\",\"2013-12-31T00:00:00.000000000\",\"2014-01-31T00:00:00.000000000\",\"2014-02-28T00:00:00.000000000\",\"2014-03-31T00:00:00.000000000\",\"2014-04-30T00:00:00.000000000\",\"2014-05-31T00:00:00.000000000\",\"2014-06-30T00:00:00.000000000\",\"2014-07-31T00:00:00.000000000\",\"2014-08-31T00:00:00.000000000\",\"2014-09-30T00:00:00.000000000\",\"2014-10-31T00:00:00.000000000\",\"2014-11-30T00:00:00.000000000\",\"2014-12-31T00:00:00.000000000\",\"2015-01-31T00:00:00.000000000\",\"2015-02-28T00:00:00.000000000\",\"2015-03-31T00:00:00.000000000\",\"2015-04-30T00:00:00.000000000\",\"2015-05-31T00:00:00.000000000\",\"2015-06-30T00:00:00.000000000\",\"2015-07-31T00:00:00.000000000\",\"2015-08-31T00:00:00.000000000\",\"2015-09-30T00:00:00.000000000\",\"2015-10-31T00:00:00.000000000\",\"2015-11-30T00:00:00.000000000\",\"2015-12-31T00:00:00.000000000\",\"2016-01-31T00:00:00.000000000\",\"2016-02-29T00:00:00.000000000\",\"2016-03-31T00:00:00.000000000\",\"2016-04-30T00:00:00.000000000\",\"2016-05-31T00:00:00.000000000\",\"2016-06-30T00:00:00.000000000\",\"2016-07-31T00:00:00.000000000\",\"2016-08-31T00:00:00.000000000\",\"2016-09-30T00:00:00.000000000\",\"2016-10-31T00:00:00.000000000\",\"2016-11-30T00:00:00.000000000\",\"2016-12-31T00:00:00.000000000\",\"2017-01-31T00:00:00.000000000\",\"2017-02-28T00:00:00.000000000\",\"2017-03-31T00:00:00.000000000\",\"2017-04-30T00:00:00.000000000\",\"2017-05-31T00:00:00.000000000\",\"2017-06-30T00:00:00.000000000\",\"2017-07-31T00:00:00.000000000\"],\"xaxis\":\"x\",\"y\":{\"dtype\":\"f8\",\"bdata\":\"AAAAAABoYUAvEPkCkf9dQF4Bcq+58FpAYY0M1sigVkCa4p4p7nlcQMaSXyz5QWBAArYfYPvJY0DOPnyGXTOBQMD2A2w\\u002fBolAto1V21hhikCB2FQa8qyEQCukuUKagYJAbxKDwMrVfED3umava2p+QJTR27JWP4NADkPjMDRQg0AhOwuys8CAQCRNqTj70ntAZmZmZmbCdkCamZmZmeF2QAS1RFBLVHVAaa6Q5goZb0AP6qAO6kRtQAGSCiCp0HBAvLu7u7tvbUAxWf6S5Z9tQDzfT42Xwm1A2VmQnQV5cUCAEvgngVdvQFScffgMM21A2uuava6NcEAiIiIiIs51QIfqdqhuh3pANjJYI4OteUBSNUVMiEZ5QPlwhg9nCHpAwBHK6G0le0DjMDQOQ998QAoezBP1FoRAf4DtB9iqhECR5gpprhyCQDCW\\u002fGLJ7oJAZmZmZmYchEBvEoPAyrKGQIKjJzh64IlASU6V5FSXjECd++wCIpqQQBdkZ0F2pZFA8tJNYpDakkAOjOjAiJ2dQE3wYJ5omKRAbWPVNtauo0A=\"},\"yaxis\":\"y\",\"type\":\"scatter\",\"textfont\":{\"size\":4},\"text\":{\"dtype\":\"f8\",\"bdata\":\"AAAAAABoYUCPwvUoXP9dQHE9Ctej8FpAcT0K16OgVkAK16NwPXpcQFK4HoXrQWBAUrgehevJY0CPwvUoXDOBQArXo3A9BolAj8L1KFxhikApXI\\u002fC9ayEQJqZmZmZgYJA9ihcj8LVfEBmZmZmZmp+QI\\u002fC9ShcP4NACtejcD1Qg0AfhetRuMCAQNejcD0K03tAZmZmZmbCdkCamZmZmeF2QLgehetRVHVAKVyPwvUYb0DNzMzMzERtQHE9Ctej0HBASOF6FK5vbUAAAAAAAKBtQMP1KFyPwm1AKVyPwvV4cUCPwvUoXFdvQDMzMzMzM21A9ihcj8KNcECuR+F6FM51QI\\u002fC9Shch3pAPQrXo3CteUDD9Shcj0Z5QBSuR+F6CHpAPQrXo3Ale0AzMzMzM998QClcj8L1FoRAexSuR+GqhEAfhetRuByCQM3MzMzM7oJAZmZmZmYchEDNzMzMzLKGQBSuR+F64IlAj8L1KFyXjECF61G4HpqQQBSuR+F6pZFAw\\u002fUoXI\\u002fakkDsUbgehZ2dQGZmZmZmmKRApHA9Cteuo0A=\"},\"textposition\":\"top center\",\"texttemplate\":\"%{text}\"}],                        {\"template\":{\"data\":{\"histogram2dcontour\":[{\"type\":\"histogram2dcontour\",\"colorbar\":{\"outlinewidth\":0,\"ticks\":\"\"},\"colorscale\":[[0.0,\"#0d0887\"],[0.1111111111111111,\"#46039f\"],[0.2222222222222222,\"#7201a8\"],[0.3333333333333333,\"#9c179e\"],[0.4444444444444444,\"#bd3786\"],[0.5555555555555556,\"#d8576b\"],[0.6666666666666666,\"#ed7953\"],[0.7777777777777778,\"#fb9f3a\"],[0.8888888888888888,\"#fdca26\"],[1.0,\"#f0f921\"]]}],\"choropleth\":[{\"type\":\"choropleth\",\"colorbar\":{\"outlinewidth\":0,\"ticks\":\"\"}}],\"histogram2d\":[{\"type\":\"histogram2d\",\"colorbar\":{\"outlinewidth\":0,\"ticks\":\"\"},\"colorscale\":[[0.0,\"#0d0887\"],[0.1111111111111111,\"#46039f\"],[0.2222222222222222,\"#7201a8\"],[0.3333333333333333,\"#9c179e\"],[0.4444444444444444,\"#bd3786\"],[0.5555555555555556,\"#d8576b\"],[0.6666666666666666,\"#ed7953\"],[0.7777777777777778,\"#fb9f3a\"],[0.8888888888888888,\"#fdca26\"],[1.0,\"#f0f921\"]]}],\"heatmap\":[{\"type\":\"heatmap\",\"colorbar\":{\"outlinewidth\":0,\"ticks\":\"\"},\"colorscale\":[[0.0,\"#0d0887\"],[0.1111111111111111,\"#46039f\"],[0.2222222222222222,\"#7201a8\"],[0.3333333333333333,\"#9c179e\"],[0.4444444444444444,\"#bd3786\"],[0.5555555555555556,\"#d8576b\"],[0.6666666666666666,\"#ed7953\"],[0.7777777777777778,\"#fb9f3a\"],[0.8888888888888888,\"#fdca26\"],[1.0,\"#f0f921\"]]}],\"contourcarpet\":[{\"type\":\"contourcarpet\",\"colorbar\":{\"outlinewidth\":0,\"ticks\":\"\"}}],\"contour\":[{\"type\":\"contour\",\"colorbar\":{\"outlinewidth\":0,\"ticks\":\"\"},\"colorscale\":[[0.0,\"#0d0887\"],[0.1111111111111111,\"#46039f\"],[0.2222222222222222,\"#7201a8\"],[0.3333333333333333,\"#9c179e\"],[0.4444444444444444,\"#bd3786\"],[0.5555555555555556,\"#d8576b\"],[0.6666666666666666,\"#ed7953\"],[0.7777777777777778,\"#fb9f3a\"],[0.8888888888888888,\"#fdca26\"],[1.0,\"#f0f921\"]]}],\"surface\":[{\"type\":\"surface\",\"colorbar\":{\"outlinewidth\":0,\"ticks\":\"\"},\"colorscale\":[[0.0,\"#0d0887\"],[0.1111111111111111,\"#46039f\"],[0.2222222222222222,\"#7201a8\"],[0.3333333333333333,\"#9c179e\"],[0.4444444444444444,\"#bd3786\"],[0.5555555555555556,\"#d8576b\"],[0.6666666666666666,\"#ed7953\"],[0.7777777777777778,\"#fb9f3a\"],[0.8888888888888888,\"#fdca26\"],[1.0,\"#f0f921\"]]}],\"mesh3d\":[{\"type\":\"mesh3d\",\"colorbar\":{\"outlinewidth\":0,\"ticks\":\"\"}}],\"scatter\":[{\"fillpattern\":{\"fillmode\":\"overlay\",\"size\":10,\"solidity\":0.2},\"type\":\"scatter\"}],\"parcoords\":[{\"type\":\"parcoords\",\"line\":{\"colorbar\":{\"outlinewidth\":0,\"ticks\":\"\"}}}],\"scatterpolargl\":[{\"type\":\"scatterpolargl\",\"marker\":{\"colorbar\":{\"outlinewidth\":0,\"ticks\":\"\"}}}],\"bar\":[{\"error_x\":{\"color\":\"#2a3f5f\"},\"error_y\":{\"color\":\"#2a3f5f\"},\"marker\":{\"line\":{\"color\":\"#E5ECF6\",\"width\":0.5},\"pattern\":{\"fillmode\":\"overlay\",\"size\":10,\"solidity\":0.2}},\"type\":\"bar\"}],\"scattergeo\":[{\"type\":\"scattergeo\",\"marker\":{\"colorbar\":{\"outlinewidth\":0,\"ticks\":\"\"}}}],\"scatterpolar\":[{\"type\":\"scatterpolar\",\"marker\":{\"colorbar\":{\"outlinewidth\":0,\"ticks\":\"\"}}}],\"histogram\":[{\"marker\":{\"pattern\":{\"fillmode\":\"overlay\",\"size\":10,\"solidity\":0.2}},\"type\":\"histogram\"}],\"scattergl\":[{\"type\":\"scattergl\",\"marker\":{\"colorbar\":{\"outlinewidth\":0,\"ticks\":\"\"}}}],\"scatter3d\":[{\"type\":\"scatter3d\",\"line\":{\"colorbar\":{\"outlinewidth\":0,\"ticks\":\"\"}},\"marker\":{\"colorbar\":{\"outlinewidth\":0,\"ticks\":\"\"}}}],\"scattermap\":[{\"type\":\"scattermap\",\"marker\":{\"colorbar\":{\"outlinewidth\":0,\"ticks\":\"\"}}}],\"scattermapbox\":[{\"type\":\"scattermapbox\",\"marker\":{\"colorbar\":{\"outlinewidth\":0,\"ticks\":\"\"}}}],\"scatterternary\":[{\"type\":\"scatterternary\",\"marker\":{\"colorbar\":{\"outlinewidth\":0,\"ticks\":\"\"}}}],\"scattercarpet\":[{\"type\":\"scattercarpet\",\"marker\":{\"colorbar\":{\"outlinewidth\":0,\"ticks\":\"\"}}}],\"carpet\":[{\"aaxis\":{\"endlinecolor\":\"#2a3f5f\",\"gridcolor\":\"white\",\"linecolor\":\"white\",\"minorgridcolor\":\"white\",\"startlinecolor\":\"#2a3f5f\"},\"baxis\":{\"endlinecolor\":\"#2a3f5f\",\"gridcolor\":\"white\",\"linecolor\":\"white\",\"minorgridcolor\":\"white\",\"startlinecolor\":\"#2a3f5f\"},\"type\":\"carpet\"}],\"table\":[{\"cells\":{\"fill\":{\"color\":\"#EBF0F8\"},\"line\":{\"color\":\"white\"}},\"header\":{\"fill\":{\"color\":\"#C8D4E3\"},\"line\":{\"color\":\"white\"}},\"type\":\"table\"}],\"barpolar\":[{\"marker\":{\"line\":{\"color\":\"#E5ECF6\",\"width\":0.5},\"pattern\":{\"fillmode\":\"overlay\",\"size\":10,\"solidity\":0.2}},\"type\":\"barpolar\"}],\"pie\":[{\"automargin\":true,\"type\":\"pie\"}]},\"layout\":{\"autotypenumbers\":\"strict\",\"colorway\":[\"#636efa\",\"#EF553B\",\"#00cc96\",\"#ab63fa\",\"#FFA15A\",\"#19d3f3\",\"#FF6692\",\"#B6E880\",\"#FF97FF\",\"#FECB52\"],\"font\":{\"color\":\"#2a3f5f\"},\"hovermode\":\"closest\",\"hoverlabel\":{\"align\":\"left\"},\"paper_bgcolor\":\"white\",\"plot_bgcolor\":\"#E5ECF6\",\"polar\":{\"bgcolor\":\"#E5ECF6\",\"angularaxis\":{\"gridcolor\":\"white\",\"linecolor\":\"white\",\"ticks\":\"\"},\"radialaxis\":{\"gridcolor\":\"white\",\"linecolor\":\"white\",\"ticks\":\"\"}},\"ternary\":{\"bgcolor\":\"#E5ECF6\",\"aaxis\":{\"gridcolor\":\"white\",\"linecolor\":\"white\",\"ticks\":\"\"},\"baxis\":{\"gridcolor\":\"white\",\"linecolor\":\"white\",\"ticks\":\"\"},\"caxis\":{\"gridcolor\":\"white\",\"linecolor\":\"white\",\"ticks\":\"\"}},\"coloraxis\":{\"colorbar\":{\"outlinewidth\":0,\"ticks\":\"\"}},\"colorscale\":{\"sequential\":[[0.0,\"#0d0887\"],[0.1111111111111111,\"#46039f\"],[0.2222222222222222,\"#7201a8\"],[0.3333333333333333,\"#9c179e\"],[0.4444444444444444,\"#bd3786\"],[0.5555555555555556,\"#d8576b\"],[0.6666666666666666,\"#ed7953\"],[0.7777777777777778,\"#fb9f3a\"],[0.8888888888888888,\"#fdca26\"],[1.0,\"#f0f921\"]],\"sequentialminus\":[[0.0,\"#0d0887\"],[0.1111111111111111,\"#46039f\"],[0.2222222222222222,\"#7201a8\"],[0.3333333333333333,\"#9c179e\"],[0.4444444444444444,\"#bd3786\"],[0.5555555555555556,\"#d8576b\"],[0.6666666666666666,\"#ed7953\"],[0.7777777777777778,\"#fb9f3a\"],[0.8888888888888888,\"#fdca26\"],[1.0,\"#f0f921\"]],\"diverging\":[[0,\"#8e0152\"],[0.1,\"#c51b7d\"],[0.2,\"#de77ae\"],[0.3,\"#f1b6da\"],[0.4,\"#fde0ef\"],[0.5,\"#f7f7f7\"],[0.6,\"#e6f5d0\"],[0.7,\"#b8e186\"],[0.8,\"#7fbc41\"],[0.9,\"#4d9221\"],[1,\"#276419\"]]},\"xaxis\":{\"gridcolor\":\"white\",\"linecolor\":\"white\",\"ticks\":\"\",\"title\":{\"standoff\":15},\"zerolinecolor\":\"white\",\"automargin\":true,\"zerolinewidth\":2},\"yaxis\":{\"gridcolor\":\"white\",\"linecolor\":\"white\",\"ticks\":\"\",\"title\":{\"standoff\":15},\"zerolinecolor\":\"white\",\"automargin\":true,\"zerolinewidth\":2},\"scene\":{\"xaxis\":{\"backgroundcolor\":\"#E5ECF6\",\"gridcolor\":\"white\",\"linecolor\":\"white\",\"showbackground\":true,\"ticks\":\"\",\"zerolinecolor\":\"white\",\"gridwidth\":2},\"yaxis\":{\"backgroundcolor\":\"#E5ECF6\",\"gridcolor\":\"white\",\"linecolor\":\"white\",\"showbackground\":true,\"ticks\":\"\",\"zerolinecolor\":\"white\",\"gridwidth\":2},\"zaxis\":{\"backgroundcolor\":\"#E5ECF6\",\"gridcolor\":\"white\",\"linecolor\":\"white\",\"showbackground\":true,\"ticks\":\"\",\"zerolinecolor\":\"white\",\"gridwidth\":2}},\"shapedefaults\":{\"line\":{\"color\":\"#2a3f5f\"}},\"annotationdefaults\":{\"arrowcolor\":\"#2a3f5f\",\"arrowhead\":0,\"arrowwidth\":1},\"geo\":{\"bgcolor\":\"white\",\"landcolor\":\"#E5ECF6\",\"subunitcolor\":\"white\",\"showland\":true,\"showlakes\":true,\"lakecolor\":\"white\"},\"title\":{\"x\":0.05},\"mapbox\":{\"style\":\"light\"}}},\"xaxis\":{\"anchor\":\"y\",\"domain\":[0.0,1.0],\"title\":{\"text\":\"Date\"}},\"yaxis\":{\"anchor\":\"x\",\"domain\":[0.0,1.0],\"title\":{\"text\":\"Close\"}},\"legend\":{\"tracegroupgap\":0},\"title\":{\"text\":\"Monthly Mean Closing Price\"}},                        {\"responsive\": true}                    ).then(function(){\n",
       "                            \n",
       "var gd = document.getElementById('d1d6f96a-b17f-40cc-a8c0-b93c02eb949c');\n",
       "var x = new MutationObserver(function (mutations, observer) {{\n",
       "        var display = window.getComputedStyle(gd).display;\n",
       "        if (!display || display === 'none') {{\n",
       "            console.log([gd, 'removed!']);\n",
       "            Plotly.purge(gd);\n",
       "            observer.disconnect();\n",
       "        }}\n",
       "}});\n",
       "\n",
       "// Listen for the removal of the full notebook cells\n",
       "var notebookContainer = gd.closest('#notebook-container');\n",
       "if (notebookContainer) {{\n",
       "    x.observe(notebookContainer, {childList: true});\n",
       "}}\n",
       "\n",
       "// Listen for the clearing of the current output cell\n",
       "var outputEl = gd.closest('.output');\n",
       "if (outputEl) {{\n",
       "    x.observe(outputEl, {childList: true});\n",
       "}}\n",
       "\n",
       "                        })                };            </script>        </div>"
      ]
     },
     "metadata": {},
     "output_type": "display_data"
    }
   ],
   "source": [
    "# Monthly Mean Closing Price using Plotly Express\n",
    "mean_cpM = data['Close'].resample('ME').mean()\n",
    "fig = px.line(mean_cpM, y='Close', title='Monthly Mean Closing Price', markers = True)\n",
    "fig.update_traces(\n",
    "    mode='lines+markers+text',\n",
    "    text=mean_cpM.round(2),\n",
    "    textposition='top center',\n",
    "    texttemplate='%{text}',\n",
    "    textfont=dict(size=4)\n",
    ")\n",
    "fig.show()"
   ]
  },
  {
   "cell_type": "code",
   "execution_count": 64,
   "id": "ee59c70e",
   "metadata": {},
   "outputs": [
    {
     "data": {
      "text/plain": [
       "Date\n",
       "2013-04-28          NaN\n",
       "2013-04-29     7.696893\n",
       "2013-04-30    -3.832849\n",
       "2013-05-01   -15.834532\n",
       "2013-05-02   -10.069237\n",
       "                ...    \n",
       "2017-07-27     5.626915\n",
       "2017-07-28     5.136276\n",
       "2017-07-29    -2.939114\n",
       "2017-07-30     1.127107\n",
       "2017-07-31     4.285538\n",
       "Name: close_pc, Length: 1556, dtype: float64"
      ]
     },
     "execution_count": 64,
     "metadata": {},
     "output_type": "execute_result"
    }
   ],
   "source": [
    "# Analyzing daily change in closing price of stocks\n",
    "\n",
    "data['close_pc'] = data['Close'].pct_change() * 100  # Calculate the daily percentage change in closing price\n",
    "data['close_pc']"
   ]
  },
  {
   "cell_type": "code",
   "execution_count": 79,
   "id": "16b9296c",
   "metadata": {},
   "outputs": [
    {
     "data": {
      "application/vnd.plotly.v1+json": {
       "config": {
        "plotlyServerURL": "https://plot.ly"
       },
       "data": [
        {
         "hovertemplate": "variable=Close<br>Date=%{x}<br>Percentage Change=%{y}<extra></extra>",
         "legendgroup": "Close",
         "line": {
          "color": "green",
          "dash": "solid",
          "shape": "spline",
          "width": 1
         },
         "marker": {
          "symbol": "circle"
         },
         "mode": "lines",
         "name": "Close",
         "orientation": "v",
         "showlegend": true,
         "type": "scatter",
         "x": [
          "2013-04-28",
          "2013-04-29",
          "2013-04-30",
          "2013-05-01",
          "2013-05-02",
          "2013-05-03",
          "2013-05-04",
          "2013-05-05",
          "2013-05-06",
          "2013-05-07",
          "2013-05-08",
          "2013-05-09",
          "2013-05-10",
          "2013-05-11",
          "2013-05-12",
          "2013-05-13",
          "2013-05-14",
          "2013-05-15",
          "2013-05-16",
          "2013-05-17",
          "2013-05-18",
          "2013-05-19",
          "2013-05-20",
          "2013-05-21",
          "2013-05-22",
          "2013-05-23",
          "2013-05-24",
          "2013-05-25",
          "2013-05-26",
          "2013-05-27",
          "2013-05-28",
          "2013-05-29",
          "2013-05-30",
          "2013-05-31",
          "2013-06-01",
          "2013-06-02",
          "2013-06-03",
          "2013-06-04",
          "2013-06-05",
          "2013-06-06",
          "2013-06-07",
          "2013-06-08",
          "2013-06-09",
          "2013-06-10",
          "2013-06-11",
          "2013-06-12",
          "2013-06-13",
          "2013-06-14",
          "2013-06-15",
          "2013-06-16",
          "2013-06-17",
          "2013-06-18",
          "2013-06-19",
          "2013-06-20",
          "2013-06-21",
          "2013-06-22",
          "2013-06-23",
          "2013-06-24",
          "2013-06-25",
          "2013-06-26",
          "2013-06-27",
          "2013-06-28",
          "2013-06-29",
          "2013-06-30",
          "2013-07-01",
          "2013-07-02",
          "2013-07-03",
          "2013-07-04",
          "2013-07-05",
          "2013-07-06",
          "2013-07-07",
          "2013-07-08",
          "2013-07-09",
          "2013-07-10",
          "2013-07-11",
          "2013-07-12",
          "2013-07-13",
          "2013-07-14",
          "2013-07-15",
          "2013-07-16",
          "2013-07-17",
          "2013-07-18",
          "2013-07-19",
          "2013-07-20",
          "2013-07-21",
          "2013-07-22",
          "2013-07-23",
          "2013-07-24",
          "2013-07-25",
          "2013-07-26",
          "2013-07-27",
          "2013-07-28",
          "2013-07-29",
          "2013-07-30",
          "2013-07-31",
          "2013-08-01",
          "2013-08-02",
          "2013-08-03",
          "2013-08-04",
          "2013-08-05",
          "2013-08-06",
          "2013-08-07",
          "2013-08-08",
          "2013-08-09",
          "2013-08-10",
          "2013-08-11",
          "2013-08-12",
          "2013-08-13",
          "2013-08-14",
          "2013-08-15",
          "2013-08-16",
          "2013-08-17",
          "2013-08-18",
          "2013-08-19",
          "2013-08-20",
          "2013-08-21",
          "2013-08-22",
          "2013-08-23",
          "2013-08-24",
          "2013-08-25",
          "2013-08-26",
          "2013-08-27",
          "2013-08-28",
          "2013-08-29",
          "2013-08-30",
          "2013-08-31",
          "2013-09-01",
          "2013-09-02",
          "2013-09-03",
          "2013-09-04",
          "2013-09-05",
          "2013-09-06",
          "2013-09-07",
          "2013-09-08",
          "2013-09-09",
          "2013-09-10",
          "2013-09-11",
          "2013-09-12",
          "2013-09-13",
          "2013-09-14",
          "2013-09-15",
          "2013-09-16",
          "2013-09-17",
          "2013-09-18",
          "2013-09-19",
          "2013-09-20",
          "2013-09-21",
          "2013-09-22",
          "2013-09-23",
          "2013-09-24",
          "2013-09-25",
          "2013-09-26",
          "2013-09-27",
          "2013-09-28",
          "2013-09-29",
          "2013-09-30",
          "2013-10-01",
          "2013-10-02",
          "2013-10-03",
          "2013-10-04",
          "2013-10-05",
          "2013-10-06",
          "2013-10-07",
          "2013-10-08",
          "2013-10-09",
          "2013-10-10",
          "2013-10-11",
          "2013-10-12",
          "2013-10-13",
          "2013-10-14",
          "2013-10-15",
          "2013-10-16",
          "2013-10-17",
          "2013-10-18",
          "2013-10-19",
          "2013-10-20",
          "2013-10-21",
          "2013-10-22",
          "2013-10-23",
          "2013-10-24",
          "2013-10-25",
          "2013-10-26",
          "2013-10-27",
          "2013-10-28",
          "2013-10-29",
          "2013-10-30",
          "2013-10-31",
          "2013-11-01",
          "2013-11-02",
          "2013-11-03",
          "2013-11-04",
          "2013-11-05",
          "2013-11-06",
          "2013-11-07",
          "2013-11-08",
          "2013-11-09",
          "2013-11-10",
          "2013-11-11",
          "2013-11-12",
          "2013-11-13",
          "2013-11-14",
          "2013-11-15",
          "2013-11-16",
          "2013-11-17",
          "2013-11-18",
          "2013-11-19",
          "2013-11-20",
          "2013-11-21",
          "2013-11-22",
          "2013-11-23",
          "2013-11-24",
          "2013-11-25",
          "2013-11-26",
          "2013-11-27",
          "2013-11-28",
          "2013-11-29",
          "2013-11-30",
          "2013-12-01",
          "2013-12-02",
          "2013-12-03",
          "2013-12-04",
          "2013-12-05",
          "2013-12-06",
          "2013-12-07",
          "2013-12-08",
          "2013-12-09",
          "2013-12-10",
          "2013-12-11",
          "2013-12-12",
          "2013-12-13",
          "2013-12-14",
          "2013-12-15",
          "2013-12-16",
          "2013-12-17",
          "2013-12-18",
          "2013-12-19",
          "2013-12-20",
          "2013-12-21",
          "2013-12-22",
          "2013-12-23",
          "2013-12-24",
          "2013-12-25",
          "2013-12-26",
          "2013-12-27",
          "2013-12-28",
          "2013-12-29",
          "2013-12-30",
          "2013-12-31",
          "2014-01-01",
          "2014-01-02",
          "2014-01-03",
          "2014-01-04",
          "2014-01-05",
          "2014-01-06",
          "2014-01-07",
          "2014-01-08",
          "2014-01-09",
          "2014-01-10",
          "2014-01-11",
          "2014-01-12",
          "2014-01-13",
          "2014-01-14",
          "2014-01-15",
          "2014-01-16",
          "2014-01-17",
          "2014-01-18",
          "2014-01-19",
          "2014-01-20",
          "2014-01-21",
          "2014-01-22",
          "2014-01-23",
          "2014-01-24",
          "2014-01-25",
          "2014-01-26",
          "2014-01-27",
          "2014-01-28",
          "2014-01-29",
          "2014-01-30",
          "2014-01-31",
          "2014-02-01",
          "2014-02-02",
          "2014-02-03",
          "2014-02-04",
          "2014-02-05",
          "2014-02-06",
          "2014-02-07",
          "2014-02-08",
          "2014-02-09",
          "2014-02-10",
          "2014-02-11",
          "2014-02-12",
          "2014-02-13",
          "2014-02-14",
          "2014-02-15",
          "2014-02-16",
          "2014-02-17",
          "2014-02-18",
          "2014-02-19",
          "2014-02-20",
          "2014-02-21",
          "2014-02-22",
          "2014-02-23",
          "2014-02-24",
          "2014-02-25",
          "2014-02-26",
          "2014-02-27",
          "2014-02-28",
          "2014-03-01",
          "2014-03-02",
          "2014-03-03",
          "2014-03-04",
          "2014-03-05",
          "2014-03-06",
          "2014-03-07",
          "2014-03-08",
          "2014-03-09",
          "2014-03-10",
          "2014-03-11",
          "2014-03-12",
          "2014-03-13",
          "2014-03-14",
          "2014-03-15",
          "2014-03-16",
          "2014-03-17",
          "2014-03-18",
          "2014-03-19",
          "2014-03-20",
          "2014-03-21",
          "2014-03-22",
          "2014-03-23",
          "2014-03-24",
          "2014-03-25",
          "2014-03-26",
          "2014-03-27",
          "2014-03-28",
          "2014-03-29",
          "2014-03-30",
          "2014-03-31",
          "2014-04-01",
          "2014-04-02",
          "2014-04-03",
          "2014-04-04",
          "2014-04-05",
          "2014-04-06",
          "2014-04-07",
          "2014-04-08",
          "2014-04-09",
          "2014-04-10",
          "2014-04-11",
          "2014-04-12",
          "2014-04-13",
          "2014-04-14",
          "2014-04-15",
          "2014-04-16",
          "2014-04-17",
          "2014-04-18",
          "2014-04-19",
          "2014-04-20",
          "2014-04-21",
          "2014-04-22",
          "2014-04-23",
          "2014-04-24",
          "2014-04-25",
          "2014-04-26",
          "2014-04-27",
          "2014-04-28",
          "2014-04-29",
          "2014-04-30",
          "2014-05-01",
          "2014-05-02",
          "2014-05-03",
          "2014-05-04",
          "2014-05-05",
          "2014-05-06",
          "2014-05-07",
          "2014-05-08",
          "2014-05-09",
          "2014-05-10",
          "2014-05-11",
          "2014-05-12",
          "2014-05-13",
          "2014-05-14",
          "2014-05-15",
          "2014-05-16",
          "2014-05-17",
          "2014-05-18",
          "2014-05-19",
          "2014-05-20",
          "2014-05-21",
          "2014-05-22",
          "2014-05-23",
          "2014-05-24",
          "2014-05-25",
          "2014-05-26",
          "2014-05-27",
          "2014-05-28",
          "2014-05-29",
          "2014-05-30",
          "2014-05-31",
          "2014-06-01",
          "2014-06-02",
          "2014-06-03",
          "2014-06-04",
          "2014-06-05",
          "2014-06-06",
          "2014-06-07",
          "2014-06-08",
          "2014-06-09",
          "2014-06-10",
          "2014-06-11",
          "2014-06-12",
          "2014-06-13",
          "2014-06-14",
          "2014-06-15",
          "2014-06-16",
          "2014-06-17",
          "2014-06-18",
          "2014-06-19",
          "2014-06-20",
          "2014-06-21",
          "2014-06-22",
          "2014-06-23",
          "2014-06-24",
          "2014-06-25",
          "2014-06-26",
          "2014-06-27",
          "2014-06-28",
          "2014-06-29",
          "2014-06-30",
          "2014-07-01",
          "2014-07-02",
          "2014-07-03",
          "2014-07-04",
          "2014-07-05",
          "2014-07-06",
          "2014-07-07",
          "2014-07-08",
          "2014-07-09",
          "2014-07-10",
          "2014-07-11",
          "2014-07-12",
          "2014-07-13",
          "2014-07-14",
          "2014-07-15",
          "2014-07-16",
          "2014-07-17",
          "2014-07-18",
          "2014-07-19",
          "2014-07-20",
          "2014-07-21",
          "2014-07-22",
          "2014-07-23",
          "2014-07-24",
          "2014-07-25",
          "2014-07-26",
          "2014-07-27",
          "2014-07-28",
          "2014-07-29",
          "2014-07-30",
          "2014-07-31",
          "2014-08-01",
          "2014-08-02",
          "2014-08-03",
          "2014-08-04",
          "2014-08-05",
          "2014-08-06",
          "2014-08-07",
          "2014-08-08",
          "2014-08-09",
          "2014-08-10",
          "2014-08-11",
          "2014-08-12",
          "2014-08-13",
          "2014-08-14",
          "2014-08-15",
          "2014-08-16",
          "2014-08-17",
          "2014-08-18",
          "2014-08-19",
          "2014-08-20",
          "2014-08-21",
          "2014-08-22",
          "2014-08-23",
          "2014-08-24",
          "2014-08-25",
          "2014-08-26",
          "2014-08-27",
          "2014-08-28",
          "2014-08-29",
          "2014-08-30",
          "2014-08-31",
          "2014-09-01",
          "2014-09-02",
          "2014-09-03",
          "2014-09-04",
          "2014-09-05",
          "2014-09-06",
          "2014-09-07",
          "2014-09-08",
          "2014-09-09",
          "2014-09-10",
          "2014-09-11",
          "2014-09-12",
          "2014-09-13",
          "2014-09-14",
          "2014-09-15",
          "2014-09-16",
          "2014-09-17",
          "2014-09-18",
          "2014-09-19",
          "2014-09-20",
          "2014-09-21",
          "2014-09-22",
          "2014-09-23",
          "2014-09-24",
          "2014-09-25",
          "2014-09-26",
          "2014-09-27",
          "2014-09-28",
          "2014-09-29",
          "2014-09-30",
          "2014-10-01",
          "2014-10-02",
          "2014-10-03",
          "2014-10-04",
          "2014-10-05",
          "2014-10-06",
          "2014-10-07",
          "2014-10-08",
          "2014-10-09",
          "2014-10-10",
          "2014-10-11",
          "2014-10-12",
          "2014-10-13",
          "2014-10-14",
          "2014-10-15",
          "2014-10-16",
          "2014-10-17",
          "2014-10-18",
          "2014-10-19",
          "2014-10-20",
          "2014-10-21",
          "2014-10-22",
          "2014-10-23",
          "2014-10-24",
          "2014-10-25",
          "2014-10-26",
          "2014-10-27",
          "2014-10-28",
          "2014-10-29",
          "2014-10-30",
          "2014-10-31",
          "2014-11-01",
          "2014-11-02",
          "2014-11-03",
          "2014-11-04",
          "2014-11-05",
          "2014-11-06",
          "2014-11-07",
          "2014-11-08",
          "2014-11-09",
          "2014-11-10",
          "2014-11-11",
          "2014-11-12",
          "2014-11-13",
          "2014-11-14",
          "2014-11-15",
          "2014-11-16",
          "2014-11-17",
          "2014-11-18",
          "2014-11-19",
          "2014-11-20",
          "2014-11-21",
          "2014-11-22",
          "2014-11-23",
          "2014-11-24",
          "2014-11-25",
          "2014-11-26",
          "2014-11-27",
          "2014-11-28",
          "2014-11-29",
          "2014-11-30",
          "2014-12-01",
          "2014-12-02",
          "2014-12-03",
          "2014-12-04",
          "2014-12-05",
          "2014-12-06",
          "2014-12-07",
          "2014-12-08",
          "2014-12-09",
          "2014-12-10",
          "2014-12-11",
          "2014-12-12",
          "2014-12-13",
          "2014-12-14",
          "2014-12-15",
          "2014-12-16",
          "2014-12-17",
          "2014-12-18",
          "2014-12-19",
          "2014-12-20",
          "2014-12-21",
          "2014-12-22",
          "2014-12-23",
          "2014-12-24",
          "2014-12-25",
          "2014-12-26",
          "2014-12-27",
          "2014-12-28",
          "2014-12-29",
          "2014-12-30",
          "2014-12-31",
          "2015-01-01",
          "2015-01-02",
          "2015-01-03",
          "2015-01-04",
          "2015-01-05",
          "2015-01-06",
          "2015-01-07",
          "2015-01-08",
          "2015-01-09",
          "2015-01-10",
          "2015-01-11",
          "2015-01-12",
          "2015-01-13",
          "2015-01-14",
          "2015-01-15",
          "2015-01-16",
          "2015-01-17",
          "2015-01-18",
          "2015-01-19",
          "2015-01-20",
          "2015-01-21",
          "2015-01-22",
          "2015-01-23",
          "2015-01-24",
          "2015-01-25",
          "2015-01-26",
          "2015-01-27",
          "2015-01-28",
          "2015-01-29",
          "2015-01-30",
          "2015-01-31",
          "2015-02-01",
          "2015-02-02",
          "2015-02-03",
          "2015-02-04",
          "2015-02-05",
          "2015-02-06",
          "2015-02-07",
          "2015-02-08",
          "2015-02-09",
          "2015-02-10",
          "2015-02-11",
          "2015-02-12",
          "2015-02-13",
          "2015-02-14",
          "2015-02-15",
          "2015-02-16",
          "2015-02-17",
          "2015-02-18",
          "2015-02-19",
          "2015-02-20",
          "2015-02-21",
          "2015-02-22",
          "2015-02-23",
          "2015-02-24",
          "2015-02-25",
          "2015-02-26",
          "2015-02-27",
          "2015-02-28",
          "2015-03-01",
          "2015-03-02",
          "2015-03-03",
          "2015-03-04",
          "2015-03-05",
          "2015-03-06",
          "2015-03-07",
          "2015-03-08",
          "2015-03-09",
          "2015-03-10",
          "2015-03-11",
          "2015-03-12",
          "2015-03-13",
          "2015-03-14",
          "2015-03-15",
          "2015-03-16",
          "2015-03-17",
          "2015-03-18",
          "2015-03-19",
          "2015-03-20",
          "2015-03-21",
          "2015-03-22",
          "2015-03-23",
          "2015-03-24",
          "2015-03-25",
          "2015-03-26",
          "2015-03-27",
          "2015-03-28",
          "2015-03-29",
          "2015-03-30",
          "2015-03-31",
          "2015-04-01",
          "2015-04-02",
          "2015-04-03",
          "2015-04-04",
          "2015-04-05",
          "2015-04-06",
          "2015-04-07",
          "2015-04-08",
          "2015-04-09",
          "2015-04-10",
          "2015-04-11",
          "2015-04-12",
          "2015-04-13",
          "2015-04-14",
          "2015-04-15",
          "2015-04-16",
          "2015-04-17",
          "2015-04-18",
          "2015-04-19",
          "2015-04-20",
          "2015-04-21",
          "2015-04-22",
          "2015-04-23",
          "2015-04-24",
          "2015-04-25",
          "2015-04-26",
          "2015-04-27",
          "2015-04-28",
          "2015-04-29",
          "2015-04-30",
          "2015-05-01",
          "2015-05-02",
          "2015-05-03",
          "2015-05-04",
          "2015-05-05",
          "2015-05-06",
          "2015-05-07",
          "2015-05-08",
          "2015-05-09",
          "2015-05-10",
          "2015-05-11",
          "2015-05-12",
          "2015-05-13",
          "2015-05-14",
          "2015-05-15",
          "2015-05-16",
          "2015-05-17",
          "2015-05-18",
          "2015-05-19",
          "2015-05-20",
          "2015-05-21",
          "2015-05-22",
          "2015-05-23",
          "2015-05-24",
          "2015-05-25",
          "2015-05-26",
          "2015-05-27",
          "2015-05-28",
          "2015-05-29",
          "2015-05-30",
          "2015-05-31",
          "2015-06-01",
          "2015-06-02",
          "2015-06-03",
          "2015-06-04",
          "2015-06-05",
          "2015-06-06",
          "2015-06-07",
          "2015-06-08",
          "2015-06-09",
          "2015-06-10",
          "2015-06-11",
          "2015-06-12",
          "2015-06-13",
          "2015-06-14",
          "2015-06-15",
          "2015-06-16",
          "2015-06-17",
          "2015-06-18",
          "2015-06-19",
          "2015-06-20",
          "2015-06-21",
          "2015-06-22",
          "2015-06-23",
          "2015-06-24",
          "2015-06-25",
          "2015-06-26",
          "2015-06-27",
          "2015-06-28",
          "2015-06-29",
          "2015-06-30",
          "2015-07-01",
          "2015-07-02",
          "2015-07-03",
          "2015-07-04",
          "2015-07-05",
          "2015-07-06",
          "2015-07-07",
          "2015-07-08",
          "2015-07-09",
          "2015-07-10",
          "2015-07-11",
          "2015-07-12",
          "2015-07-13",
          "2015-07-14",
          "2015-07-15",
          "2015-07-16",
          "2015-07-17",
          "2015-07-18",
          "2015-07-19",
          "2015-07-20",
          "2015-07-21",
          "2015-07-22",
          "2015-07-23",
          "2015-07-24",
          "2015-07-25",
          "2015-07-26",
          "2015-07-27",
          "2015-07-28",
          "2015-07-29",
          "2015-07-30",
          "2015-07-31",
          "2015-08-01",
          "2015-08-02",
          "2015-08-03",
          "2015-08-04",
          "2015-08-05",
          "2015-08-06",
          "2015-08-07",
          "2015-08-08",
          "2015-08-09",
          "2015-08-10",
          "2015-08-11",
          "2015-08-12",
          "2015-08-13",
          "2015-08-14",
          "2015-08-15",
          "2015-08-16",
          "2015-08-17",
          "2015-08-18",
          "2015-08-19",
          "2015-08-20",
          "2015-08-21",
          "2015-08-22",
          "2015-08-23",
          "2015-08-24",
          "2015-08-25",
          "2015-08-26",
          "2015-08-27",
          "2015-08-28",
          "2015-08-29",
          "2015-08-30",
          "2015-08-31",
          "2015-09-01",
          "2015-09-02",
          "2015-09-03",
          "2015-09-04",
          "2015-09-05",
          "2015-09-06",
          "2015-09-07",
          "2015-09-08",
          "2015-09-09",
          "2015-09-10",
          "2015-09-11",
          "2015-09-12",
          "2015-09-13",
          "2015-09-14",
          "2015-09-15",
          "2015-09-16",
          "2015-09-17",
          "2015-09-18",
          "2015-09-19",
          "2015-09-20",
          "2015-09-21",
          "2015-09-22",
          "2015-09-23",
          "2015-09-24",
          "2015-09-25",
          "2015-09-26",
          "2015-09-27",
          "2015-09-28",
          "2015-09-29",
          "2015-09-30",
          "2015-10-01",
          "2015-10-02",
          "2015-10-03",
          "2015-10-04",
          "2015-10-05",
          "2015-10-06",
          "2015-10-07",
          "2015-10-08",
          "2015-10-09",
          "2015-10-10",
          "2015-10-11",
          "2015-10-12",
          "2015-10-13",
          "2015-10-14",
          "2015-10-15",
          "2015-10-16",
          "2015-10-17",
          "2015-10-18",
          "2015-10-19",
          "2015-10-20",
          "2015-10-21",
          "2015-10-22",
          "2015-10-23",
          "2015-10-24",
          "2015-10-25",
          "2015-10-26",
          "2015-10-27",
          "2015-10-28",
          "2015-10-29",
          "2015-10-30",
          "2015-10-31",
          "2015-11-01",
          "2015-11-02",
          "2015-11-03",
          "2015-11-04",
          "2015-11-05",
          "2015-11-06",
          "2015-11-07",
          "2015-11-08",
          "2015-11-09",
          "2015-11-10",
          "2015-11-11",
          "2015-11-12",
          "2015-11-13",
          "2015-11-14",
          "2015-11-15",
          "2015-11-16",
          "2015-11-17",
          "2015-11-18",
          "2015-11-19",
          "2015-11-20",
          "2015-11-21",
          "2015-11-22",
          "2015-11-23",
          "2015-11-24",
          "2015-11-25",
          "2015-11-26",
          "2015-11-27",
          "2015-11-28",
          "2015-11-29",
          "2015-11-30",
          "2015-12-01",
          "2015-12-02",
          "2015-12-03",
          "2015-12-04",
          "2015-12-05",
          "2015-12-06",
          "2015-12-07",
          "2015-12-08",
          "2015-12-09",
          "2015-12-10",
          "2015-12-11",
          "2015-12-12",
          "2015-12-13",
          "2015-12-14",
          "2015-12-15",
          "2015-12-16",
          "2015-12-17",
          "2015-12-18",
          "2015-12-19",
          "2015-12-20",
          "2015-12-21",
          "2015-12-22",
          "2015-12-23",
          "2015-12-24",
          "2015-12-25",
          "2015-12-26",
          "2015-12-27",
          "2015-12-28",
          "2015-12-29",
          "2015-12-30",
          "2015-12-31",
          "2016-01-01",
          "2016-01-02",
          "2016-01-03",
          "2016-01-04",
          "2016-01-05",
          "2016-01-06",
          "2016-01-07",
          "2016-01-08",
          "2016-01-09",
          "2016-01-10",
          "2016-01-11",
          "2016-01-12",
          "2016-01-13",
          "2016-01-14",
          "2016-01-15",
          "2016-01-16",
          "2016-01-17",
          "2016-01-18",
          "2016-01-19",
          "2016-01-20",
          "2016-01-21",
          "2016-01-22",
          "2016-01-23",
          "2016-01-24",
          "2016-01-25",
          "2016-01-26",
          "2016-01-27",
          "2016-01-28",
          "2016-01-29",
          "2016-01-30",
          "2016-01-31",
          "2016-02-01",
          "2016-02-02",
          "2016-02-03",
          "2016-02-04",
          "2016-02-05",
          "2016-02-06",
          "2016-02-07",
          "2016-02-08",
          "2016-02-09",
          "2016-02-10",
          "2016-02-11",
          "2016-02-12",
          "2016-02-13",
          "2016-02-14",
          "2016-02-15",
          "2016-02-16",
          "2016-02-17",
          "2016-02-18",
          "2016-02-19",
          "2016-02-20",
          "2016-02-21",
          "2016-02-22",
          "2016-02-23",
          "2016-02-24",
          "2016-02-25",
          "2016-02-26",
          "2016-02-27",
          "2016-02-28",
          "2016-02-29",
          "2016-03-01",
          "2016-03-02",
          "2016-03-03",
          "2016-03-04",
          "2016-03-05",
          "2016-03-06",
          "2016-03-07",
          "2016-03-08",
          "2016-03-09",
          "2016-03-10",
          "2016-03-11",
          "2016-03-12",
          "2016-03-13",
          "2016-03-14",
          "2016-03-15",
          "2016-03-16",
          "2016-03-17",
          "2016-03-18",
          "2016-03-19",
          "2016-03-20",
          "2016-03-21",
          "2016-03-22",
          "2016-03-23",
          "2016-03-24",
          "2016-03-25",
          "2016-03-26",
          "2016-03-27",
          "2016-03-28",
          "2016-03-29",
          "2016-03-30",
          "2016-03-31",
          "2016-04-01",
          "2016-04-02",
          "2016-04-03",
          "2016-04-04",
          "2016-04-05",
          "2016-04-06",
          "2016-04-07",
          "2016-04-08",
          "2016-04-09",
          "2016-04-10",
          "2016-04-11",
          "2016-04-12",
          "2016-04-13",
          "2016-04-14",
          "2016-04-15",
          "2016-04-16",
          "2016-04-17",
          "2016-04-18",
          "2016-04-19",
          "2016-04-20",
          "2016-04-21",
          "2016-04-22",
          "2016-04-23",
          "2016-04-24",
          "2016-04-25",
          "2016-04-26",
          "2016-04-27",
          "2016-04-28",
          "2016-04-29",
          "2016-04-30",
          "2016-05-01",
          "2016-05-02",
          "2016-05-03",
          "2016-05-04",
          "2016-05-05",
          "2016-05-06",
          "2016-05-07",
          "2016-05-08",
          "2016-05-09",
          "2016-05-10",
          "2016-05-11",
          "2016-05-12",
          "2016-05-13",
          "2016-05-14",
          "2016-05-15",
          "2016-05-16",
          "2016-05-17",
          "2016-05-18",
          "2016-05-19",
          "2016-05-20",
          "2016-05-21",
          "2016-05-22",
          "2016-05-23",
          "2016-05-24",
          "2016-05-25",
          "2016-05-26",
          "2016-05-27",
          "2016-05-28",
          "2016-05-29",
          "2016-05-30",
          "2016-05-31",
          "2016-06-01",
          "2016-06-02",
          "2016-06-03",
          "2016-06-04",
          "2016-06-05",
          "2016-06-06",
          "2016-06-07",
          "2016-06-08",
          "2016-06-09",
          "2016-06-10",
          "2016-06-11",
          "2016-06-12",
          "2016-06-13",
          "2016-06-14",
          "2016-06-15",
          "2016-06-16",
          "2016-06-17",
          "2016-06-18",
          "2016-06-19",
          "2016-06-20",
          "2016-06-21",
          "2016-06-22",
          "2016-06-23",
          "2016-06-24",
          "2016-06-25",
          "2016-06-26",
          "2016-06-27",
          "2016-06-28",
          "2016-06-29",
          "2016-06-30",
          "2016-07-01",
          "2016-07-02",
          "2016-07-03",
          "2016-07-04",
          "2016-07-05",
          "2016-07-06",
          "2016-07-07",
          "2016-07-08",
          "2016-07-09",
          "2016-07-10",
          "2016-07-11",
          "2016-07-12",
          "2016-07-13",
          "2016-07-14",
          "2016-07-15",
          "2016-07-16",
          "2016-07-17",
          "2016-07-18",
          "2016-07-19",
          "2016-07-20",
          "2016-07-21",
          "2016-07-22",
          "2016-07-23",
          "2016-07-24",
          "2016-07-25",
          "2016-07-26",
          "2016-07-27",
          "2016-07-28",
          "2016-07-29",
          "2016-07-30",
          "2016-07-31",
          "2016-08-01",
          "2016-08-02",
          "2016-08-03",
          "2016-08-04",
          "2016-08-05",
          "2016-08-06",
          "2016-08-07",
          "2016-08-08",
          "2016-08-09",
          "2016-08-10",
          "2016-08-11",
          "2016-08-12",
          "2016-08-13",
          "2016-08-14",
          "2016-08-15",
          "2016-08-16",
          "2016-08-17",
          "2016-08-18",
          "2016-08-19",
          "2016-08-20",
          "2016-08-21",
          "2016-08-22",
          "2016-08-23",
          "2016-08-24",
          "2016-08-25",
          "2016-08-26",
          "2016-08-27",
          "2016-08-28",
          "2016-08-29",
          "2016-08-30",
          "2016-08-31",
          "2016-09-01",
          "2016-09-02",
          "2016-09-03",
          "2016-09-04",
          "2016-09-05",
          "2016-09-06",
          "2016-09-07",
          "2016-09-08",
          "2016-09-09",
          "2016-09-10",
          "2016-09-11",
          "2016-09-12",
          "2016-09-13",
          "2016-09-14",
          "2016-09-15",
          "2016-09-16",
          "2016-09-17",
          "2016-09-18",
          "2016-09-19",
          "2016-09-20",
          "2016-09-21",
          "2016-09-22",
          "2016-09-23",
          "2016-09-24",
          "2016-09-25",
          "2016-09-26",
          "2016-09-27",
          "2016-09-28",
          "2016-09-29",
          "2016-09-30",
          "2016-10-01",
          "2016-10-02",
          "2016-10-03",
          "2016-10-04",
          "2016-10-05",
          "2016-10-06",
          "2016-10-07",
          "2016-10-08",
          "2016-10-09",
          "2016-10-10",
          "2016-10-11",
          "2016-10-12",
          "2016-10-13",
          "2016-10-14",
          "2016-10-15",
          "2016-10-16",
          "2016-10-17",
          "2016-10-18",
          "2016-10-19",
          "2016-10-20",
          "2016-10-21",
          "2016-10-22",
          "2016-10-23",
          "2016-10-24",
          "2016-10-25",
          "2016-10-26",
          "2016-10-27",
          "2016-10-28",
          "2016-10-29",
          "2016-10-30",
          "2016-10-31",
          "2016-11-01",
          "2016-11-02",
          "2016-11-03",
          "2016-11-04",
          "2016-11-05",
          "2016-11-06",
          "2016-11-07",
          "2016-11-08",
          "2016-11-09",
          "2016-11-10",
          "2016-11-11",
          "2016-11-12",
          "2016-11-13",
          "2016-11-14",
          "2016-11-15",
          "2016-11-16",
          "2016-11-17",
          "2016-11-18",
          "2016-11-19",
          "2016-11-20",
          "2016-11-21",
          "2016-11-22",
          "2016-11-23",
          "2016-11-24",
          "2016-11-25",
          "2016-11-26",
          "2016-11-27",
          "2016-11-28",
          "2016-11-29",
          "2016-11-30",
          "2016-12-01",
          "2016-12-02",
          "2016-12-03",
          "2016-12-04",
          "2016-12-05",
          "2016-12-06",
          "2016-12-07",
          "2016-12-08",
          "2016-12-09",
          "2016-12-10",
          "2016-12-11",
          "2016-12-12",
          "2016-12-13",
          "2016-12-14",
          "2016-12-15",
          "2016-12-16",
          "2016-12-17",
          "2016-12-18",
          "2016-12-19",
          "2016-12-20",
          "2016-12-21",
          "2016-12-22",
          "2016-12-23",
          "2016-12-24",
          "2016-12-25",
          "2016-12-26",
          "2016-12-27",
          "2016-12-28",
          "2016-12-29",
          "2016-12-30",
          "2016-12-31",
          "2017-01-01",
          "2017-01-02",
          "2017-01-03",
          "2017-01-04",
          "2017-01-05",
          "2017-01-06",
          "2017-01-07",
          "2017-01-08",
          "2017-01-09",
          "2017-01-10",
          "2017-01-11",
          "2017-01-12",
          "2017-01-13",
          "2017-01-14",
          "2017-01-15",
          "2017-01-16",
          "2017-01-17",
          "2017-01-18",
          "2017-01-19",
          "2017-01-20",
          "2017-01-21",
          "2017-01-22",
          "2017-01-23",
          "2017-01-24",
          "2017-01-25",
          "2017-01-26",
          "2017-01-27",
          "2017-01-28",
          "2017-01-29",
          "2017-01-30",
          "2017-01-31",
          "2017-02-01",
          "2017-02-02",
          "2017-02-03",
          "2017-02-04",
          "2017-02-05",
          "2017-02-06",
          "2017-02-07",
          "2017-02-08",
          "2017-02-09",
          "2017-02-10",
          "2017-02-11",
          "2017-02-12",
          "2017-02-13",
          "2017-02-14",
          "2017-02-15",
          "2017-02-16",
          "2017-02-17",
          "2017-02-18",
          "2017-02-19",
          "2017-02-20",
          "2017-02-21",
          "2017-02-22",
          "2017-02-23",
          "2017-02-24",
          "2017-02-25",
          "2017-02-26",
          "2017-02-27",
          "2017-02-28",
          "2017-03-01",
          "2017-03-02",
          "2017-03-03",
          "2017-03-04",
          "2017-03-05",
          "2017-03-06",
          "2017-03-07",
          "2017-03-08",
          "2017-03-09",
          "2017-03-10",
          "2017-03-11",
          "2017-03-12",
          "2017-03-13",
          "2017-03-14",
          "2017-03-15",
          "2017-03-16",
          "2017-03-17",
          "2017-03-18",
          "2017-03-19",
          "2017-03-20",
          "2017-03-21",
          "2017-03-22",
          "2017-03-23",
          "2017-03-24",
          "2017-03-25",
          "2017-03-26",
          "2017-03-27",
          "2017-03-28",
          "2017-03-29",
          "2017-03-30",
          "2017-03-31",
          "2017-04-01",
          "2017-04-02",
          "2017-04-03",
          "2017-04-04",
          "2017-04-05",
          "2017-04-06",
          "2017-04-07",
          "2017-04-08",
          "2017-04-09",
          "2017-04-10",
          "2017-04-11",
          "2017-04-12",
          "2017-04-13",
          "2017-04-14",
          "2017-04-15",
          "2017-04-16",
          "2017-04-17",
          "2017-04-18",
          "2017-04-19",
          "2017-04-20",
          "2017-04-21",
          "2017-04-22",
          "2017-04-23",
          "2017-04-24",
          "2017-04-25",
          "2017-04-26",
          "2017-04-27",
          "2017-04-28",
          "2017-04-29",
          "2017-04-30",
          "2017-05-01",
          "2017-05-02",
          "2017-05-03",
          "2017-05-04",
          "2017-05-05",
          "2017-05-06",
          "2017-05-07",
          "2017-05-08",
          "2017-05-09",
          "2017-05-10",
          "2017-05-11",
          "2017-05-12",
          "2017-05-13",
          "2017-05-14",
          "2017-05-15",
          "2017-05-16",
          "2017-05-17",
          "2017-05-18",
          "2017-05-19",
          "2017-05-20",
          "2017-05-21",
          "2017-05-22",
          "2017-05-23",
          "2017-05-24",
          "2017-05-25",
          "2017-05-26",
          "2017-05-27",
          "2017-05-28",
          "2017-05-29",
          "2017-05-30",
          "2017-05-31",
          "2017-06-01",
          "2017-06-02",
          "2017-06-03",
          "2017-06-04",
          "2017-06-05",
          "2017-06-06",
          "2017-06-07",
          "2017-06-08",
          "2017-06-09",
          "2017-06-10",
          "2017-06-11",
          "2017-06-12",
          "2017-06-13",
          "2017-06-14",
          "2017-06-15",
          "2017-06-16",
          "2017-06-17",
          "2017-06-18",
          "2017-06-19",
          "2017-06-20",
          "2017-06-21",
          "2017-06-22",
          "2017-06-23",
          "2017-06-24",
          "2017-06-25",
          "2017-06-26",
          "2017-06-27",
          "2017-06-28",
          "2017-06-29",
          "2017-06-30",
          "2017-07-01",
          "2017-07-02",
          "2017-07-03",
          "2017-07-04",
          "2017-07-05",
          "2017-07-06",
          "2017-07-07",
          "2017-07-08",
          "2017-07-09",
          "2017-07-10",
          "2017-07-11",
          "2017-07-12",
          "2017-07-13",
          "2017-07-14",
          "2017-07-15",
          "2017-07-16",
          "2017-07-17",
          "2017-07-18",
          "2017-07-19",
          "2017-07-20",
          "2017-07-21",
          "2017-07-22",
          "2017-07-23",
          "2017-07-24",
          "2017-07-25",
          "2017-07-26",
          "2017-07-27",
          "2017-07-28",
          "2017-07-29",
          "2017-07-30",
          "2017-07-31"
         ],
         "xaxis": "x",
         "y": {
          "bdata": "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",
          "dtype": "f8"
         },
         "yaxis": "y"
        }
       ],
       "layout": {
        "legend": {
         "title": {
          "text": "variable"
         },
         "tracegroupgap": 0
        },
        "template": {
         "data": {
          "bar": [
           {
            "error_x": {
             "color": "#2a3f5f"
            },
            "error_y": {
             "color": "#2a3f5f"
            },
            "marker": {
             "line": {
              "color": "#E5ECF6",
              "width": 0.5
             },
             "pattern": {
              "fillmode": "overlay",
              "size": 10,
              "solidity": 0.2
             }
            },
            "type": "bar"
           }
          ],
          "barpolar": [
           {
            "marker": {
             "line": {
              "color": "#E5ECF6",
              "width": 0.5
             },
             "pattern": {
              "fillmode": "overlay",
              "size": 10,
              "solidity": 0.2
             }
            },
            "type": "barpolar"
           }
          ],
          "carpet": [
           {
            "aaxis": {
             "endlinecolor": "#2a3f5f",
             "gridcolor": "white",
             "linecolor": "white",
             "minorgridcolor": "white",
             "startlinecolor": "#2a3f5f"
            },
            "baxis": {
             "endlinecolor": "#2a3f5f",
             "gridcolor": "white",
             "linecolor": "white",
             "minorgridcolor": "white",
             "startlinecolor": "#2a3f5f"
            },
            "type": "carpet"
           }
          ],
          "choropleth": [
           {
            "colorbar": {
             "outlinewidth": 0,
             "ticks": ""
            },
            "type": "choropleth"
           }
          ],
          "contour": [
           {
            "colorbar": {
             "outlinewidth": 0,
             "ticks": ""
            },
            "colorscale": [
             [
              0,
              "#0d0887"
             ],
             [
              0.1111111111111111,
              "#46039f"
             ],
             [
              0.2222222222222222,
              "#7201a8"
             ],
             [
              0.3333333333333333,
              "#9c179e"
             ],
             [
              0.4444444444444444,
              "#bd3786"
             ],
             [
              0.5555555555555556,
              "#d8576b"
             ],
             [
              0.6666666666666666,
              "#ed7953"
             ],
             [
              0.7777777777777778,
              "#fb9f3a"
             ],
             [
              0.8888888888888888,
              "#fdca26"
             ],
             [
              1,
              "#f0f921"
             ]
            ],
            "type": "contour"
           }
          ],
          "contourcarpet": [
           {
            "colorbar": {
             "outlinewidth": 0,
             "ticks": ""
            },
            "type": "contourcarpet"
           }
          ],
          "heatmap": [
           {
            "colorbar": {
             "outlinewidth": 0,
             "ticks": ""
            },
            "colorscale": [
             [
              0,
              "#0d0887"
             ],
             [
              0.1111111111111111,
              "#46039f"
             ],
             [
              0.2222222222222222,
              "#7201a8"
             ],
             [
              0.3333333333333333,
              "#9c179e"
             ],
             [
              0.4444444444444444,
              "#bd3786"
             ],
             [
              0.5555555555555556,
              "#d8576b"
             ],
             [
              0.6666666666666666,
              "#ed7953"
             ],
             [
              0.7777777777777778,
              "#fb9f3a"
             ],
             [
              0.8888888888888888,
              "#fdca26"
             ],
             [
              1,
              "#f0f921"
             ]
            ],
            "type": "heatmap"
           }
          ],
          "histogram": [
           {
            "marker": {
             "pattern": {
              "fillmode": "overlay",
              "size": 10,
              "solidity": 0.2
             }
            },
            "type": "histogram"
           }
          ],
          "histogram2d": [
           {
            "colorbar": {
             "outlinewidth": 0,
             "ticks": ""
            },
            "colorscale": [
             [
              0,
              "#0d0887"
             ],
             [
              0.1111111111111111,
              "#46039f"
             ],
             [
              0.2222222222222222,
              "#7201a8"
             ],
             [
              0.3333333333333333,
              "#9c179e"
             ],
             [
              0.4444444444444444,
              "#bd3786"
             ],
             [
              0.5555555555555556,
              "#d8576b"
             ],
             [
              0.6666666666666666,
              "#ed7953"
             ],
             [
              0.7777777777777778,
              "#fb9f3a"
             ],
             [
              0.8888888888888888,
              "#fdca26"
             ],
             [
              1,
              "#f0f921"
             ]
            ],
            "type": "histogram2d"
           }
          ],
          "histogram2dcontour": [
           {
            "colorbar": {
             "outlinewidth": 0,
             "ticks": ""
            },
            "colorscale": [
             [
              0,
              "#0d0887"
             ],
             [
              0.1111111111111111,
              "#46039f"
             ],
             [
              0.2222222222222222,
              "#7201a8"
             ],
             [
              0.3333333333333333,
              "#9c179e"
             ],
             [
              0.4444444444444444,
              "#bd3786"
             ],
             [
              0.5555555555555556,
              "#d8576b"
             ],
             [
              0.6666666666666666,
              "#ed7953"
             ],
             [
              0.7777777777777778,
              "#fb9f3a"
             ],
             [
              0.8888888888888888,
              "#fdca26"
             ],
             [
              1,
              "#f0f921"
             ]
            ],
            "type": "histogram2dcontour"
           }
          ],
          "mesh3d": [
           {
            "colorbar": {
             "outlinewidth": 0,
             "ticks": ""
            },
            "type": "mesh3d"
           }
          ],
          "parcoords": [
           {
            "line": {
             "colorbar": {
              "outlinewidth": 0,
              "ticks": ""
             }
            },
            "type": "parcoords"
           }
          ],
          "pie": [
           {
            "automargin": true,
            "type": "pie"
           }
          ],
          "scatter": [
           {
            "fillpattern": {
             "fillmode": "overlay",
             "size": 10,
             "solidity": 0.2
            },
            "type": "scatter"
           }
          ],
          "scatter3d": [
           {
            "line": {
             "colorbar": {
              "outlinewidth": 0,
              "ticks": ""
             }
            },
            "marker": {
             "colorbar": {
              "outlinewidth": 0,
              "ticks": ""
             }
            },
            "type": "scatter3d"
           }
          ],
          "scattercarpet": [
           {
            "marker": {
             "colorbar": {
              "outlinewidth": 0,
              "ticks": ""
             }
            },
            "type": "scattercarpet"
           }
          ],
          "scattergeo": [
           {
            "marker": {
             "colorbar": {
              "outlinewidth": 0,
              "ticks": ""
             }
            },
            "type": "scattergeo"
           }
          ],
          "scattergl": [
           {
            "marker": {
             "colorbar": {
              "outlinewidth": 0,
              "ticks": ""
             }
            },
            "type": "scattergl"
           }
          ],
          "scattermap": [
           {
            "marker": {
             "colorbar": {
              "outlinewidth": 0,
              "ticks": ""
             }
            },
            "type": "scattermap"
           }
          ],
          "scattermapbox": [
           {
            "marker": {
             "colorbar": {
              "outlinewidth": 0,
              "ticks": ""
             }
            },
            "type": "scattermapbox"
           }
          ],
          "scatterpolar": [
           {
            "marker": {
             "colorbar": {
              "outlinewidth": 0,
              "ticks": ""
             }
            },
            "type": "scatterpolar"
           }
          ],
          "scatterpolargl": [
           {
            "marker": {
             "colorbar": {
              "outlinewidth": 0,
              "ticks": ""
             }
            },
            "type": "scatterpolargl"
           }
          ],
          "scatterternary": [
           {
            "marker": {
             "colorbar": {
              "outlinewidth": 0,
              "ticks": ""
             }
            },
            "type": "scatterternary"
           }
          ],
          "surface": [
           {
            "colorbar": {
             "outlinewidth": 0,
             "ticks": ""
            },
            "colorscale": [
             [
              0,
              "#0d0887"
             ],
             [
              0.1111111111111111,
              "#46039f"
             ],
             [
              0.2222222222222222,
              "#7201a8"
             ],
             [
              0.3333333333333333,
              "#9c179e"
             ],
             [
              0.4444444444444444,
              "#bd3786"
             ],
             [
              0.5555555555555556,
              "#d8576b"
             ],
             [
              0.6666666666666666,
              "#ed7953"
             ],
             [
              0.7777777777777778,
              "#fb9f3a"
             ],
             [
              0.8888888888888888,
              "#fdca26"
             ],
             [
              1,
              "#f0f921"
             ]
            ],
            "type": "surface"
           }
          ],
          "table": [
           {
            "cells": {
             "fill": {
              "color": "#EBF0F8"
             },
             "line": {
              "color": "white"
             }
            },
            "header": {
             "fill": {
              "color": "#C8D4E3"
             },
             "line": {
              "color": "white"
             }
            },
            "type": "table"
           }
          ]
         },
         "layout": {
          "annotationdefaults": {
           "arrowcolor": "#2a3f5f",
           "arrowhead": 0,
           "arrowwidth": 1
          },
          "autotypenumbers": "strict",
          "coloraxis": {
           "colorbar": {
            "outlinewidth": 0,
            "ticks": ""
           }
          },
          "colorscale": {
           "diverging": [
            [
             0,
             "#8e0152"
            ],
            [
             0.1,
             "#c51b7d"
            ],
            [
             0.2,
             "#de77ae"
            ],
            [
             0.3,
             "#f1b6da"
            ],
            [
             0.4,
             "#fde0ef"
            ],
            [
             0.5,
             "#f7f7f7"
            ],
            [
             0.6,
             "#e6f5d0"
            ],
            [
             0.7,
             "#b8e186"
            ],
            [
             0.8,
             "#7fbc41"
            ],
            [
             0.9,
             "#4d9221"
            ],
            [
             1,
             "#276419"
            ]
           ],
           "sequential": [
            [
             0,
             "#0d0887"
            ],
            [
             0.1111111111111111,
             "#46039f"
            ],
            [
             0.2222222222222222,
             "#7201a8"
            ],
            [
             0.3333333333333333,
             "#9c179e"
            ],
            [
             0.4444444444444444,
             "#bd3786"
            ],
            [
             0.5555555555555556,
             "#d8576b"
            ],
            [
             0.6666666666666666,
             "#ed7953"
            ],
            [
             0.7777777777777778,
             "#fb9f3a"
            ],
            [
             0.8888888888888888,
             "#fdca26"
            ],
            [
             1,
             "#f0f921"
            ]
           ],
           "sequentialminus": [
            [
             0,
             "#0d0887"
            ],
            [
             0.1111111111111111,
             "#46039f"
            ],
            [
             0.2222222222222222,
             "#7201a8"
            ],
            [
             0.3333333333333333,
             "#9c179e"
            ],
            [
             0.4444444444444444,
             "#bd3786"
            ],
            [
             0.5555555555555556,
             "#d8576b"
            ],
            [
             0.6666666666666666,
             "#ed7953"
            ],
            [
             0.7777777777777778,
             "#fb9f3a"
            ],
            [
             0.8888888888888888,
             "#fdca26"
            ],
            [
             1,
             "#f0f921"
            ]
           ]
          },
          "colorway": [
           "#636efa",
           "#EF553B",
           "#00cc96",
           "#ab63fa",
           "#FFA15A",
           "#19d3f3",
           "#FF6692",
           "#B6E880",
           "#FF97FF",
           "#FECB52"
          ],
          "font": {
           "color": "#2a3f5f"
          },
          "geo": {
           "bgcolor": "white",
           "lakecolor": "white",
           "landcolor": "#E5ECF6",
           "showlakes": true,
           "showland": true,
           "subunitcolor": "white"
          },
          "hoverlabel": {
           "align": "left"
          },
          "hovermode": "closest",
          "mapbox": {
           "style": "light"
          },
          "paper_bgcolor": "white",
          "plot_bgcolor": "#E5ECF6",
          "polar": {
           "angularaxis": {
            "gridcolor": "white",
            "linecolor": "white",
            "ticks": ""
           },
           "bgcolor": "#E5ECF6",
           "radialaxis": {
            "gridcolor": "white",
            "linecolor": "white",
            "ticks": ""
           }
          },
          "scene": {
           "xaxis": {
            "backgroundcolor": "#E5ECF6",
            "gridcolor": "white",
            "gridwidth": 2,
            "linecolor": "white",
            "showbackground": true,
            "ticks": "",
            "zerolinecolor": "white"
           },
           "yaxis": {
            "backgroundcolor": "#E5ECF6",
            "gridcolor": "white",
            "gridwidth": 2,
            "linecolor": "white",
            "showbackground": true,
            "ticks": "",
            "zerolinecolor": "white"
           },
           "zaxis": {
            "backgroundcolor": "#E5ECF6",
            "gridcolor": "white",
            "gridwidth": 2,
            "linecolor": "white",
            "showbackground": true,
            "ticks": "",
            "zerolinecolor": "white"
           }
          },
          "shapedefaults": {
           "line": {
            "color": "#2a3f5f"
           }
          },
          "ternary": {
           "aaxis": {
            "gridcolor": "white",
            "linecolor": "white",
            "ticks": ""
           },
           "baxis": {
            "gridcolor": "white",
            "linecolor": "white",
            "ticks": ""
           },
           "bgcolor": "#E5ECF6",
           "caxis": {
            "gridcolor": "white",
            "linecolor": "white",
            "ticks": ""
           }
          },
          "title": {
           "x": 0.05
          },
          "xaxis": {
           "automargin": true,
           "gridcolor": "white",
           "linecolor": "white",
           "ticks": "",
           "title": {
            "standoff": 15
           },
           "zerolinecolor": "white",
           "zerolinewidth": 2
          },
          "yaxis": {
           "automargin": true,
           "gridcolor": "white",
           "linecolor": "white",
           "ticks": "",
           "title": {
            "standoff": 15
           },
           "zerolinecolor": "white",
           "zerolinewidth": 2
          }
         }
        },
        "title": {
         "text": "Daily Percentage Change in Closing Price"
        },
        "xaxis": {
         "anchor": "y",
         "domain": [
          0,
          1
         ],
         "title": {
          "text": "Date"
         }
        },
        "yaxis": {
         "anchor": "x",
         "domain": [
          0,
          1
         ],
         "title": {
          "text": "Percentage Change"
         }
        }
       }
      },
      "text/html": [
       "<div>            <script src=\"https://cdnjs.cloudflare.com/ajax/libs/mathjax/2.7.5/MathJax.js?config=TeX-AMS-MML_SVG\"></script><script type=\"text/javascript\">if (window.MathJax && window.MathJax.Hub && window.MathJax.Hub.Config) {window.MathJax.Hub.Config({SVG: {font: \"STIX-Web\"}});}</script>                <script type=\"text/javascript\">window.PlotlyConfig = {MathJaxConfig: 'local'};</script>\n",
       "        <script charset=\"utf-8\" src=\"https://cdn.plot.ly/plotly-3.1.0.min.js\" integrity=\"sha256-Ei4740bWZhaUTQuD6q9yQlgVCMPBz6CZWhevDYPv93A=\" crossorigin=\"anonymous\"></script>                <div id=\"4be12d8d-93cf-4ba5-878d-cff64c84300f\" class=\"plotly-graph-div\" style=\"height:525px; width:100%;\"></div>            <script type=\"text/javascript\">                window.PLOTLYENV=window.PLOTLYENV || {};                                if (document.getElementById(\"4be12d8d-93cf-4ba5-878d-cff64c84300f\")) {                    Plotly.newPlot(                        \"4be12d8d-93cf-4ba5-878d-cff64c84300f\",                        [{\"hovertemplate\":\"variable=Close\\u003cbr\\u003eDate=%{x}\\u003cbr\\u003ePercentage Change=%{y}\\u003cextra\\u003e\\u003c\\u002fextra\\u003e\",\"legendgroup\":\"Close\",\"line\":{\"color\":\"green\",\"dash\":\"solid\",\"shape\":\"spline\",\"width\":1},\"marker\":{\"symbol\":\"circle\"},\"mode\":\"lines\",\"name\":\"Close\",\"orientation\":\"v\",\"showlegend\":true,\"x\":[\"2013-04-28\",\"2013-04-29\",\"2013-04-30\",\"2013-05-01\",\"2013-05-02\",\"2013-05-03\",\"2013-05-04\",\"2013-05-05\",\"2013-05-06\",\"2013-05-07\",\"2013-05-08\",\"2013-05-09\",\"2013-05-10\",\"2013-05-11\",\"2013-05-12\",\"2013-05-13\",\"2013-05-14\",\"2013-05-15\",\"2013-05-16\",\"2013-05-17\",\"2013-05-18\",\"2013-05-19\",\"2013-05-20\",\"2013-05-21\",\"2013-05-22\",\"2013-05-23\",\"2013-05-24\",\"2013-05-25\",\"2013-05-26\",\"2013-05-27\",\"2013-05-28\",\"2013-05-29\",\"2013-05-30\",\"2013-05-31\",\"2013-06-01\",\"2013-06-02\",\"2013-06-03\",\"2013-06-04\",\"2013-06-05\",\"2013-06-06\",\"2013-06-07\",\"2013-06-08\",\"2013-06-09\",\"2013-06-10\",\"2013-06-11\",\"2013-06-12\",\"2013-06-13\",\"2013-06-14\",\"2013-06-15\",\"2013-06-16\",\"2013-06-17\",\"2013-06-18\",\"2013-06-19\",\"2013-06-20\",\"2013-06-21\",\"2013-06-22\",\"2013-06-23\",\"2013-06-24\",\"2013-06-25\",\"2013-06-26\",\"2013-06-27\",\"2013-06-28\",\"2013-06-29\",\"2013-06-30\",\"2013-07-01\",\"2013-07-02\",\"2013-07-03\",\"2013-07-04\",\"2013-07-05\",\"2013-07-06\",\"2013-07-07\",\"2013-07-08\",\"2013-07-09\",\"2013-07-10\",\"2013-07-11\",\"2013-07-12\",\"2013-07-13\",\"2013-07-14\",\"2013-07-15\",\"2013-07-16\",\"2013-07-17\",\"2013-07-18\",\"2013-07-19\",\"2013-07-20\",\"2013-07-21\",\"2013-07-22\",\"2013-07-23\",\"2013-07-24\",\"2013-07-25\",\"2013-07-26\",\"2013-07-27\",\"2013-07-28\",\"2013-07-29\",\"2013-07-30\",\"2013-07-31\",\"2013-08-01\",\"2013-08-02\",\"2013-08-03\",\"2013-08-04\",\"2013-08-05\",\"2013-08-06\",\"2013-08-07\",\"2013-08-08\",\"2013-08-09\",\"2013-08-10\",\"2013-08-11\",\"2013-08-12\",\"2013-08-13\",\"2013-08-14\",\"2013-08-15\",\"2013-08-16\",\"2013-08-17\",\"2013-08-18\",\"2013-08-19\",\"2013-08-20\",\"2013-08-21\",\"2013-08-22\",\"2013-08-23\",\"2013-08-24\",\"2013-08-25\",\"2013-08-26\",\"2013-08-27\",\"2013-08-28\",\"2013-08-29\",\"2013-08-30\",\"2013-08-31\",\"2013-09-01\",\"2013-09-02\",\"2013-09-03\",\"2013-09-04\",\"2013-09-05\",\"2013-09-06\",\"2013-09-07\",\"2013-09-08\",\"2013-09-09\",\"2013-09-10\",\"2013-09-11\",\"2013-09-12\",\"2013-09-13\",\"2013-09-14\",\"2013-09-15\",\"2013-09-16\",\"2013-09-17\",\"2013-09-18\",\"2013-09-19\",\"2013-09-20\",\"2013-09-21\",\"2013-09-22\",\"2013-09-23\",\"2013-09-24\",\"2013-09-25\",\"2013-09-26\",\"2013-09-27\",\"2013-09-28\",\"2013-09-29\",\"2013-09-30\",\"2013-10-01\",\"2013-10-02\",\"2013-10-03\",\"2013-10-04\",\"2013-10-05\",\"2013-10-06\",\"2013-10-07\",\"2013-10-08\",\"2013-10-09\",\"2013-10-10\",\"2013-10-11\",\"2013-10-12\",\"2013-10-13\",\"2013-10-14\",\"2013-10-15\",\"2013-10-16\",\"2013-10-17\",\"2013-10-18\",\"2013-10-19\",\"2013-10-20\",\"2013-10-21\",\"2013-10-22\",\"2013-10-23\",\"2013-10-24\",\"2013-10-25\",\"2013-10-26\",\"2013-10-27\",\"2013-10-28\",\"2013-10-29\",\"2013-10-30\",\"2013-10-31\",\"2013-11-01\",\"2013-11-02\",\"2013-11-03\",\"2013-11-04\",\"2013-11-05\",\"2013-11-06\",\"2013-11-07\",\"2013-11-08\",\"2013-11-09\",\"2013-11-10\",\"2013-11-11\",\"2013-11-12\",\"2013-11-13\",\"2013-11-14\",\"2013-11-15\",\"2013-11-16\",\"2013-11-17\",\"2013-11-18\",\"2013-11-19\",\"2013-11-20\",\"2013-11-21\",\"2013-11-22\",\"2013-11-23\",\"2013-11-24\",\"2013-11-25\",\"2013-11-26\",\"2013-11-27\",\"2013-11-28\",\"2013-11-29\",\"2013-11-30\",\"2013-12-01\",\"2013-12-02\",\"2013-12-03\",\"2013-12-04\",\"2013-12-05\",\"2013-12-06\",\"2013-12-07\",\"2013-12-08\",\"2013-12-09\",\"2013-12-10\",\"2013-12-11\",\"2013-12-12\",\"2013-12-13\",\"2013-12-14\",\"2013-12-15\",\"2013-12-16\",\"2013-12-17\",\"2013-12-18\",\"2013-12-19\",\"2013-12-20\",\"2013-12-21\",\"2013-12-22\",\"2013-12-23\",\"2013-12-24\",\"2013-12-25\",\"2013-12-26\",\"2013-12-27\",\"2013-12-28\",\"2013-12-29\",\"2013-12-30\",\"2013-12-31\",\"2014-01-01\",\"2014-01-02\",\"2014-01-03\",\"2014-01-04\",\"2014-01-05\",\"2014-01-06\",\"2014-01-07\",\"2014-01-08\",\"2014-01-09\",\"2014-01-10\",\"2014-01-11\",\"2014-01-12\",\"2014-01-13\",\"2014-01-14\",\"2014-01-15\",\"2014-01-16\",\"2014-01-17\",\"2014-01-18\",\"2014-01-19\",\"2014-01-20\",\"2014-01-21\",\"2014-01-22\",\"2014-01-23\",\"2014-01-24\",\"2014-01-25\",\"2014-01-26\",\"2014-01-27\",\"2014-01-28\",\"2014-01-29\",\"2014-01-30\",\"2014-01-31\",\"2014-02-01\",\"2014-02-02\",\"2014-02-03\",\"2014-02-04\",\"2014-02-05\",\"2014-02-06\",\"2014-02-07\",\"2014-02-08\",\"2014-02-09\",\"2014-02-10\",\"2014-02-11\",\"2014-02-12\",\"2014-02-13\",\"2014-02-14\",\"2014-02-15\",\"2014-02-16\",\"2014-02-17\",\"2014-02-18\",\"2014-02-19\",\"2014-02-20\",\"2014-02-21\",\"2014-02-22\",\"2014-02-23\",\"2014-02-24\",\"2014-02-25\",\"2014-02-26\",\"2014-02-27\",\"2014-02-28\",\"2014-03-01\",\"2014-03-02\",\"2014-03-03\",\"2014-03-04\",\"2014-03-05\",\"2014-03-06\",\"2014-03-07\",\"2014-03-08\",\"2014-03-09\",\"2014-03-10\",\"2014-03-11\",\"2014-03-12\",\"2014-03-13\",\"2014-03-14\",\"2014-03-15\",\"2014-03-16\",\"2014-03-17\",\"2014-03-18\",\"2014-03-19\",\"2014-03-20\",\"2014-03-21\",\"2014-03-22\",\"2014-03-23\",\"2014-03-24\",\"2014-03-25\",\"2014-03-26\",\"2014-03-27\",\"2014-03-28\",\"2014-03-29\",\"2014-03-30\",\"2014-03-31\",\"2014-04-01\",\"2014-04-02\",\"2014-04-03\",\"2014-04-04\",\"2014-04-05\",\"2014-04-06\",\"2014-04-07\",\"2014-04-08\",\"2014-04-09\",\"2014-04-10\",\"2014-04-11\",\"2014-04-12\",\"2014-04-13\",\"2014-04-14\",\"2014-04-15\",\"2014-04-16\",\"2014-04-17\",\"2014-04-18\",\"2014-04-19\",\"2014-04-20\",\"2014-04-21\",\"2014-04-22\",\"2014-04-23\",\"2014-04-24\",\"2014-04-25\",\"2014-04-26\",\"2014-04-27\",\"2014-04-28\",\"2014-04-29\",\"2014-04-30\",\"2014-05-01\",\"2014-05-02\",\"2014-05-03\",\"2014-05-04\",\"2014-05-05\",\"2014-05-06\",\"2014-05-07\",\"2014-05-08\",\"2014-05-09\",\"2014-05-10\",\"2014-05-11\",\"2014-05-12\",\"2014-05-13\",\"2014-05-14\",\"2014-05-15\",\"2014-05-16\",\"2014-05-17\",\"2014-05-18\",\"2014-05-19\",\"2014-05-20\",\"2014-05-21\",\"2014-05-22\",\"2014-05-23\",\"2014-05-24\",\"2014-05-25\",\"2014-05-26\",\"2014-05-27\",\"2014-05-28\",\"2014-05-29\",\"2014-05-30\",\"2014-05-31\",\"2014-06-01\",\"2014-06-02\",\"2014-06-03\",\"2014-06-04\",\"2014-06-05\",\"2014-06-06\",\"2014-06-07\",\"2014-06-08\",\"2014-06-09\",\"2014-06-10\",\"2014-06-11\",\"2014-06-12\",\"2014-06-13\",\"2014-06-14\",\"2014-06-15\",\"2014-06-16\",\"2014-06-17\",\"2014-06-18\",\"2014-06-19\",\"2014-06-20\",\"2014-06-21\",\"2014-06-22\",\"2014-06-23\",\"2014-06-24\",\"2014-06-25\",\"2014-06-26\",\"2014-06-27\",\"2014-06-28\",\"2014-06-29\",\"2014-06-30\",\"2014-07-01\",\"2014-07-02\",\"2014-07-03\",\"2014-07-04\",\"2014-07-05\",\"2014-07-06\",\"2014-07-07\",\"2014-07-08\",\"2014-07-09\",\"2014-07-10\",\"2014-07-11\",\"2014-07-12\",\"2014-07-13\",\"2014-07-14\",\"2014-07-15\",\"2014-07-16\",\"2014-07-17\",\"2014-07-18\",\"2014-07-19\",\"2014-07-20\",\"2014-07-21\",\"2014-07-22\",\"2014-07-23\",\"2014-07-24\",\"2014-07-25\",\"2014-07-26\",\"2014-07-27\",\"2014-07-28\",\"2014-07-29\",\"2014-07-30\",\"2014-07-31\",\"2014-08-01\",\"2014-08-02\",\"2014-08-03\",\"2014-08-04\",\"2014-08-05\",\"2014-08-06\",\"2014-08-07\",\"2014-08-08\",\"2014-08-09\",\"2014-08-10\",\"2014-08-11\",\"2014-08-12\",\"2014-08-13\",\"2014-08-14\",\"2014-08-15\",\"2014-08-16\",\"2014-08-17\",\"2014-08-18\",\"2014-08-19\",\"2014-08-20\",\"2014-08-21\",\"2014-08-22\",\"2014-08-23\",\"2014-08-24\",\"2014-08-25\",\"2014-08-26\",\"2014-08-27\",\"2014-08-28\",\"2014-08-29\",\"2014-08-30\",\"2014-08-31\",\"2014-09-01\",\"2014-09-02\",\"2014-09-03\",\"2014-09-04\",\"2014-09-05\",\"2014-09-06\",\"2014-09-07\",\"2014-09-08\",\"2014-09-09\",\"2014-09-10\",\"2014-09-11\",\"2014-09-12\",\"2014-09-13\",\"2014-09-14\",\"2014-09-15\",\"2014-09-16\",\"2014-09-17\",\"2014-09-18\",\"2014-09-19\",\"2014-09-20\",\"2014-09-21\",\"2014-09-22\",\"2014-09-23\",\"2014-09-24\",\"2014-09-25\",\"2014-09-26\",\"2014-09-27\",\"2014-09-28\",\"2014-09-29\",\"2014-09-30\",\"2014-10-01\",\"2014-10-02\",\"2014-10-03\",\"2014-10-04\",\"2014-10-05\",\"2014-10-06\",\"2014-10-07\",\"2014-10-08\",\"2014-10-09\",\"2014-10-10\",\"2014-10-11\",\"2014-10-12\",\"2014-10-13\",\"2014-10-14\",\"2014-10-15\",\"2014-10-16\",\"2014-10-17\",\"2014-10-18\",\"2014-10-19\",\"2014-10-20\",\"2014-10-21\",\"2014-10-22\",\"2014-10-23\",\"2014-10-24\",\"2014-10-25\",\"2014-10-26\",\"2014-10-27\",\"2014-10-28\",\"2014-10-29\",\"2014-10-30\",\"2014-10-31\",\"2014-11-01\",\"2014-11-02\",\"2014-11-03\",\"2014-11-04\",\"2014-11-05\",\"2014-11-06\",\"2014-11-07\",\"2014-11-08\",\"2014-11-09\",\"2014-11-10\",\"2014-11-11\",\"2014-11-12\",\"2014-11-13\",\"2014-11-14\",\"2014-11-15\",\"2014-11-16\",\"2014-11-17\",\"2014-11-18\",\"2014-11-19\",\"2014-11-20\",\"2014-11-21\",\"2014-11-22\",\"2014-11-23\",\"2014-11-24\",\"2014-11-25\",\"2014-11-26\",\"2014-11-27\",\"2014-11-28\",\"2014-11-29\",\"2014-11-30\",\"2014-12-01\",\"2014-12-02\",\"2014-12-03\",\"2014-12-04\",\"2014-12-05\",\"2014-12-06\",\"2014-12-07\",\"2014-12-08\",\"2014-12-09\",\"2014-12-10\",\"2014-12-11\",\"2014-12-12\",\"2014-12-13\",\"2014-12-14\",\"2014-12-15\",\"2014-12-16\",\"2014-12-17\",\"2014-12-18\",\"2014-12-19\",\"2014-12-20\",\"2014-12-21\",\"2014-12-22\",\"2014-12-23\",\"2014-12-24\",\"2014-12-25\",\"2014-12-26\",\"2014-12-27\",\"2014-12-28\",\"2014-12-29\",\"2014-12-30\",\"2014-12-31\",\"2015-01-01\",\"2015-01-02\",\"2015-01-03\",\"2015-01-04\",\"2015-01-05\",\"2015-01-06\",\"2015-01-07\",\"2015-01-08\",\"2015-01-09\",\"2015-01-10\",\"2015-01-11\",\"2015-01-12\",\"2015-01-13\",\"2015-01-14\",\"2015-01-15\",\"2015-01-16\",\"2015-01-17\",\"2015-01-18\",\"2015-01-19\",\"2015-01-20\",\"2015-01-21\",\"2015-01-22\",\"2015-01-23\",\"2015-01-24\",\"2015-01-25\",\"2015-01-26\",\"2015-01-27\",\"2015-01-28\",\"2015-01-29\",\"2015-01-30\",\"2015-01-31\",\"2015-02-01\",\"2015-02-02\",\"2015-02-03\",\"2015-02-04\",\"2015-02-05\",\"2015-02-06\",\"2015-02-07\",\"2015-02-08\",\"2015-02-09\",\"2015-02-10\",\"2015-02-11\",\"2015-02-12\",\"2015-02-13\",\"2015-02-14\",\"2015-02-15\",\"2015-02-16\",\"2015-02-17\",\"2015-02-18\",\"2015-02-19\",\"2015-02-20\",\"2015-02-21\",\"2015-02-22\",\"2015-02-23\",\"2015-02-24\",\"2015-02-25\",\"2015-02-26\",\"2015-02-27\",\"2015-02-28\",\"2015-03-01\",\"2015-03-02\",\"2015-03-03\",\"2015-03-04\",\"2015-03-05\",\"2015-03-06\",\"2015-03-07\",\"2015-03-08\",\"2015-03-09\",\"2015-03-10\",\"2015-03-11\",\"2015-03-12\",\"2015-03-13\",\"2015-03-14\",\"2015-03-15\",\"2015-03-16\",\"2015-03-17\",\"2015-03-18\",\"2015-03-19\",\"2015-03-20\",\"2015-03-21\",\"2015-03-22\",\"2015-03-23\",\"2015-03-24\",\"2015-03-25\",\"2015-03-26\",\"2015-03-27\",\"2015-03-28\",\"2015-03-29\",\"2015-03-30\",\"2015-03-31\",\"2015-04-01\",\"2015-04-02\",\"2015-04-03\",\"2015-04-04\",\"2015-04-05\",\"2015-04-06\",\"2015-04-07\",\"2015-04-08\",\"2015-04-09\",\"2015-04-10\",\"2015-04-11\",\"2015-04-12\",\"2015-04-13\",\"2015-04-14\",\"2015-04-15\",\"2015-04-16\",\"2015-04-17\",\"2015-04-18\",\"2015-04-19\",\"2015-04-20\",\"2015-04-21\",\"2015-04-22\",\"2015-04-23\",\"2015-04-24\",\"2015-04-25\",\"2015-04-26\",\"2015-04-27\",\"2015-04-28\",\"2015-04-29\",\"2015-04-30\",\"2015-05-01\",\"2015-05-02\",\"2015-05-03\",\"2015-05-04\",\"2015-05-05\",\"2015-05-06\",\"2015-05-07\",\"2015-05-08\",\"2015-05-09\",\"2015-05-10\",\"2015-05-11\",\"2015-05-12\",\"2015-05-13\",\"2015-05-14\",\"2015-05-15\",\"2015-05-16\",\"2015-05-17\",\"2015-05-18\",\"2015-05-19\",\"2015-05-20\",\"2015-05-21\",\"2015-05-22\",\"2015-05-23\",\"2015-05-24\",\"2015-05-25\",\"2015-05-26\",\"2015-05-27\",\"2015-05-28\",\"2015-05-29\",\"2015-05-30\",\"2015-05-31\",\"2015-06-01\",\"2015-06-02\",\"2015-06-03\",\"2015-06-04\",\"2015-06-05\",\"2015-06-06\",\"2015-06-07\",\"2015-06-08\",\"2015-06-09\",\"2015-06-10\",\"2015-06-11\",\"2015-06-12\",\"2015-06-13\",\"2015-06-14\",\"2015-06-15\",\"2015-06-16\",\"2015-06-17\",\"2015-06-18\",\"2015-06-19\",\"2015-06-20\",\"2015-06-21\",\"2015-06-22\",\"2015-06-23\",\"2015-06-24\",\"2015-06-25\",\"2015-06-26\",\"2015-06-27\",\"2015-06-28\",\"2015-06-29\",\"2015-06-30\",\"2015-07-01\",\"2015-07-02\",\"2015-07-03\",\"2015-07-04\",\"2015-07-05\",\"2015-07-06\",\"2015-07-07\",\"2015-07-08\",\"2015-07-09\",\"2015-07-10\",\"2015-07-11\",\"2015-07-12\",\"2015-07-13\",\"2015-07-14\",\"2015-07-15\",\"2015-07-16\",\"2015-07-17\",\"2015-07-18\",\"2015-07-19\",\"2015-07-20\",\"2015-07-21\",\"2015-07-22\",\"2015-07-23\",\"2015-07-24\",\"2015-07-25\",\"2015-07-26\",\"2015-07-27\",\"2015-07-28\",\"2015-07-29\",\"2015-07-30\",\"2015-07-31\",\"2015-08-01\",\"2015-08-02\",\"2015-08-03\",\"2015-08-04\",\"2015-08-05\",\"2015-08-06\",\"2015-08-07\",\"2015-08-08\",\"2015-08-09\",\"2015-08-10\",\"2015-08-11\",\"2015-08-12\",\"2015-08-13\",\"2015-08-14\",\"2015-08-15\",\"2015-08-16\",\"2015-08-17\",\"2015-08-18\",\"2015-08-19\",\"2015-08-20\",\"2015-08-21\",\"2015-08-22\",\"2015-08-23\",\"2015-08-24\",\"2015-08-25\",\"2015-08-26\",\"2015-08-27\",\"2015-08-28\",\"2015-08-29\",\"2015-08-30\",\"2015-08-31\",\"2015-09-01\",\"2015-09-02\",\"2015-09-03\",\"2015-09-04\",\"2015-09-05\",\"2015-09-06\",\"2015-09-07\",\"2015-09-08\",\"2015-09-09\",\"2015-09-10\",\"2015-09-11\",\"2015-09-12\",\"2015-09-13\",\"2015-09-14\",\"2015-09-15\",\"2015-09-16\",\"2015-09-17\",\"2015-09-18\",\"2015-09-19\",\"2015-09-20\",\"2015-09-21\",\"2015-09-22\",\"2015-09-23\",\"2015-09-24\",\"2015-09-25\",\"2015-09-26\",\"2015-09-27\",\"2015-09-28\",\"2015-09-29\",\"2015-09-30\",\"2015-10-01\",\"2015-10-02\",\"2015-10-03\",\"2015-10-04\",\"2015-10-05\",\"2015-10-06\",\"2015-10-07\",\"2015-10-08\",\"2015-10-09\",\"2015-10-10\",\"2015-10-11\",\"2015-10-12\",\"2015-10-13\",\"2015-10-14\",\"2015-10-15\",\"2015-10-16\",\"2015-10-17\",\"2015-10-18\",\"2015-10-19\",\"2015-10-20\",\"2015-10-21\",\"2015-10-22\",\"2015-10-23\",\"2015-10-24\",\"2015-10-25\",\"2015-10-26\",\"2015-10-27\",\"2015-10-28\",\"2015-10-29\",\"2015-10-30\",\"2015-10-31\",\"2015-11-01\",\"2015-11-02\",\"2015-11-03\",\"2015-11-04\",\"2015-11-05\",\"2015-11-06\",\"2015-11-07\",\"2015-11-08\",\"2015-11-09\",\"2015-11-10\",\"2015-11-11\",\"2015-11-12\",\"2015-11-13\",\"2015-11-14\",\"2015-11-15\",\"2015-11-16\",\"2015-11-17\",\"2015-11-18\",\"2015-11-19\",\"2015-11-20\",\"2015-11-21\",\"2015-11-22\",\"2015-11-23\",\"2015-11-24\",\"2015-11-25\",\"2015-11-26\",\"2015-11-27\",\"2015-11-28\",\"2015-11-29\",\"2015-11-30\",\"2015-12-01\",\"2015-12-02\",\"2015-12-03\",\"2015-12-04\",\"2015-12-05\",\"2015-12-06\",\"2015-12-07\",\"2015-12-08\",\"2015-12-09\",\"2015-12-10\",\"2015-12-11\",\"2015-12-12\",\"2015-12-13\",\"2015-12-14\",\"2015-12-15\",\"2015-12-16\",\"2015-12-17\",\"2015-12-18\",\"2015-12-19\",\"2015-12-20\",\"2015-12-21\",\"2015-12-22\",\"2015-12-23\",\"2015-12-24\",\"2015-12-25\",\"2015-12-26\",\"2015-12-27\",\"2015-12-28\",\"2015-12-29\",\"2015-12-30\",\"2015-12-31\",\"2016-01-01\",\"2016-01-02\",\"2016-01-03\",\"2016-01-04\",\"2016-01-05\",\"2016-01-06\",\"2016-01-07\",\"2016-01-08\",\"2016-01-09\",\"2016-01-10\",\"2016-01-11\",\"2016-01-12\",\"2016-01-13\",\"2016-01-14\",\"2016-01-15\",\"2016-01-16\",\"2016-01-17\",\"2016-01-18\",\"2016-01-19\",\"2016-01-20\",\"2016-01-21\",\"2016-01-22\",\"2016-01-23\",\"2016-01-24\",\"2016-01-25\",\"2016-01-26\",\"2016-01-27\",\"2016-01-28\",\"2016-01-29\",\"2016-01-30\",\"2016-01-31\",\"2016-02-01\",\"2016-02-02\",\"2016-02-03\",\"2016-02-04\",\"2016-02-05\",\"2016-02-06\",\"2016-02-07\",\"2016-02-08\",\"2016-02-09\",\"2016-02-10\",\"2016-02-11\",\"2016-02-12\",\"2016-02-13\",\"2016-02-14\",\"2016-02-15\",\"2016-02-16\",\"2016-02-17\",\"2016-02-18\",\"2016-02-19\",\"2016-02-20\",\"2016-02-21\",\"2016-02-22\",\"2016-02-23\",\"2016-02-24\",\"2016-02-25\",\"2016-02-26\",\"2016-02-27\",\"2016-02-28\",\"2016-02-29\",\"2016-03-01\",\"2016-03-02\",\"2016-03-03\",\"2016-03-04\",\"2016-03-05\",\"2016-03-06\",\"2016-03-07\",\"2016-03-08\",\"2016-03-09\",\"2016-03-10\",\"2016-03-11\",\"2016-03-12\",\"2016-03-13\",\"2016-03-14\",\"2016-03-15\",\"2016-03-16\",\"2016-03-17\",\"2016-03-18\",\"2016-03-19\",\"2016-03-20\",\"2016-03-21\",\"2016-03-22\",\"2016-03-23\",\"2016-03-24\",\"2016-03-25\",\"2016-03-26\",\"2016-03-27\",\"2016-03-28\",\"2016-03-29\",\"2016-03-30\",\"2016-03-31\",\"2016-04-01\",\"2016-04-02\",\"2016-04-03\",\"2016-04-04\",\"2016-04-05\",\"2016-04-06\",\"2016-04-07\",\"2016-04-08\",\"2016-04-09\",\"2016-04-10\",\"2016-04-11\",\"2016-04-12\",\"2016-04-13\",\"2016-04-14\",\"2016-04-15\",\"2016-04-16\",\"2016-04-17\",\"2016-04-18\",\"2016-04-19\",\"2016-04-20\",\"2016-04-21\",\"2016-04-22\",\"2016-04-23\",\"2016-04-24\",\"2016-04-25\",\"2016-04-26\",\"2016-04-27\",\"2016-04-28\",\"2016-04-29\",\"2016-04-30\",\"2016-05-01\",\"2016-05-02\",\"2016-05-03\",\"2016-05-04\",\"2016-05-05\",\"2016-05-06\",\"2016-05-07\",\"2016-05-08\",\"2016-05-09\",\"2016-05-10\",\"2016-05-11\",\"2016-05-12\",\"2016-05-13\",\"2016-05-14\",\"2016-05-15\",\"2016-05-16\",\"2016-05-17\",\"2016-05-18\",\"2016-05-19\",\"2016-05-20\",\"2016-05-21\",\"2016-05-22\",\"2016-05-23\",\"2016-05-24\",\"2016-05-25\",\"2016-05-26\",\"2016-05-27\",\"2016-05-28\",\"2016-05-29\",\"2016-05-30\",\"2016-05-31\",\"2016-06-01\",\"2016-06-02\",\"2016-06-03\",\"2016-06-04\",\"2016-06-05\",\"2016-06-06\",\"2016-06-07\",\"2016-06-08\",\"2016-06-09\",\"2016-06-10\",\"2016-06-11\",\"2016-06-12\",\"2016-06-13\",\"2016-06-14\",\"2016-06-15\",\"2016-06-16\",\"2016-06-17\",\"2016-06-18\",\"2016-06-19\",\"2016-06-20\",\"2016-06-21\",\"2016-06-22\",\"2016-06-23\",\"2016-06-24\",\"2016-06-25\",\"2016-06-26\",\"2016-06-27\",\"2016-06-28\",\"2016-06-29\",\"2016-06-30\",\"2016-07-01\",\"2016-07-02\",\"2016-07-03\",\"2016-07-04\",\"2016-07-05\",\"2016-07-06\",\"2016-07-07\",\"2016-07-08\",\"2016-07-09\",\"2016-07-10\",\"2016-07-11\",\"2016-07-12\",\"2016-07-13\",\"2016-07-14\",\"2016-07-15\",\"2016-07-16\",\"2016-07-17\",\"2016-07-18\",\"2016-07-19\",\"2016-07-20\",\"2016-07-21\",\"2016-07-22\",\"2016-07-23\",\"2016-07-24\",\"2016-07-25\",\"2016-07-26\",\"2016-07-27\",\"2016-07-28\",\"2016-07-29\",\"2016-07-30\",\"2016-07-31\",\"2016-08-01\",\"2016-08-02\",\"2016-08-03\",\"2016-08-04\",\"2016-08-05\",\"2016-08-06\",\"2016-08-07\",\"2016-08-08\",\"2016-08-09\",\"2016-08-10\",\"2016-08-11\",\"2016-08-12\",\"2016-08-13\",\"2016-08-14\",\"2016-08-15\",\"2016-08-16\",\"2016-08-17\",\"2016-08-18\",\"2016-08-19\",\"2016-08-20\",\"2016-08-21\",\"2016-08-22\",\"2016-08-23\",\"2016-08-24\",\"2016-08-25\",\"2016-08-26\",\"2016-08-27\",\"2016-08-28\",\"2016-08-29\",\"2016-08-30\",\"2016-08-31\",\"2016-09-01\",\"2016-09-02\",\"2016-09-03\",\"2016-09-04\",\"2016-09-05\",\"2016-09-06\",\"2016-09-07\",\"2016-09-08\",\"2016-09-09\",\"2016-09-10\",\"2016-09-11\",\"2016-09-12\",\"2016-09-13\",\"2016-09-14\",\"2016-09-15\",\"2016-09-16\",\"2016-09-17\",\"2016-09-18\",\"2016-09-19\",\"2016-09-20\",\"2016-09-21\",\"2016-09-22\",\"2016-09-23\",\"2016-09-24\",\"2016-09-25\",\"2016-09-26\",\"2016-09-27\",\"2016-09-28\",\"2016-09-29\",\"2016-09-30\",\"2016-10-01\",\"2016-10-02\",\"2016-10-03\",\"2016-10-04\",\"2016-10-05\",\"2016-10-06\",\"2016-10-07\",\"2016-10-08\",\"2016-10-09\",\"2016-10-10\",\"2016-10-11\",\"2016-10-12\",\"2016-10-13\",\"2016-10-14\",\"2016-10-15\",\"2016-10-16\",\"2016-10-17\",\"2016-10-18\",\"2016-10-19\",\"2016-10-20\",\"2016-10-21\",\"2016-10-22\",\"2016-10-23\",\"2016-10-24\",\"2016-10-25\",\"2016-10-26\",\"2016-10-27\",\"2016-10-28\",\"2016-10-29\",\"2016-10-30\",\"2016-10-31\",\"2016-11-01\",\"2016-11-02\",\"2016-11-03\",\"2016-11-04\",\"2016-11-05\",\"2016-11-06\",\"2016-11-07\",\"2016-11-08\",\"2016-11-09\",\"2016-11-10\",\"2016-11-11\",\"2016-11-12\",\"2016-11-13\",\"2016-11-14\",\"2016-11-15\",\"2016-11-16\",\"2016-11-17\",\"2016-11-18\",\"2016-11-19\",\"2016-11-20\",\"2016-11-21\",\"2016-11-22\",\"2016-11-23\",\"2016-11-24\",\"2016-11-25\",\"2016-11-26\",\"2016-11-27\",\"2016-11-28\",\"2016-11-29\",\"2016-11-30\",\"2016-12-01\",\"2016-12-02\",\"2016-12-03\",\"2016-12-04\",\"2016-12-05\",\"2016-12-06\",\"2016-12-07\",\"2016-12-08\",\"2016-12-09\",\"2016-12-10\",\"2016-12-11\",\"2016-12-12\",\"2016-12-13\",\"2016-12-14\",\"2016-12-15\",\"2016-12-16\",\"2016-12-17\",\"2016-12-18\",\"2016-12-19\",\"2016-12-20\",\"2016-12-21\",\"2016-12-22\",\"2016-12-23\",\"2016-12-24\",\"2016-12-25\",\"2016-12-26\",\"2016-12-27\",\"2016-12-28\",\"2016-12-29\",\"2016-12-30\",\"2016-12-31\",\"2017-01-01\",\"2017-01-02\",\"2017-01-03\",\"2017-01-04\",\"2017-01-05\",\"2017-01-06\",\"2017-01-07\",\"2017-01-08\",\"2017-01-09\",\"2017-01-10\",\"2017-01-11\",\"2017-01-12\",\"2017-01-13\",\"2017-01-14\",\"2017-01-15\",\"2017-01-16\",\"2017-01-17\",\"2017-01-18\",\"2017-01-19\",\"2017-01-20\",\"2017-01-21\",\"2017-01-22\",\"2017-01-23\",\"2017-01-24\",\"2017-01-25\",\"2017-01-26\",\"2017-01-27\",\"2017-01-28\",\"2017-01-29\",\"2017-01-30\",\"2017-01-31\",\"2017-02-01\",\"2017-02-02\",\"2017-02-03\",\"2017-02-04\",\"2017-02-05\",\"2017-02-06\",\"2017-02-07\",\"2017-02-08\",\"2017-02-09\",\"2017-02-10\",\"2017-02-11\",\"2017-02-12\",\"2017-02-13\",\"2017-02-14\",\"2017-02-15\",\"2017-02-16\",\"2017-02-17\",\"2017-02-18\",\"2017-02-19\",\"2017-02-20\",\"2017-02-21\",\"2017-02-22\",\"2017-02-23\",\"2017-02-24\",\"2017-02-25\",\"2017-02-26\",\"2017-02-27\",\"2017-02-28\",\"2017-03-01\",\"2017-03-02\",\"2017-03-03\",\"2017-03-04\",\"2017-03-05\",\"2017-03-06\",\"2017-03-07\",\"2017-03-08\",\"2017-03-09\",\"2017-03-10\",\"2017-03-11\",\"2017-03-12\",\"2017-03-13\",\"2017-03-14\",\"2017-03-15\",\"2017-03-16\",\"2017-03-17\",\"2017-03-18\",\"2017-03-19\",\"2017-03-20\",\"2017-03-21\",\"2017-03-22\",\"2017-03-23\",\"2017-03-24\",\"2017-03-25\",\"2017-03-26\",\"2017-03-27\",\"2017-03-28\",\"2017-03-29\",\"2017-03-30\",\"2017-03-31\",\"2017-04-01\",\"2017-04-02\",\"2017-04-03\",\"2017-04-04\",\"2017-04-05\",\"2017-04-06\",\"2017-04-07\",\"2017-04-08\",\"2017-04-09\",\"2017-04-10\",\"2017-04-11\",\"2017-04-12\",\"2017-04-13\",\"2017-04-14\",\"2017-04-15\",\"2017-04-16\",\"2017-04-17\",\"2017-04-18\",\"2017-04-19\",\"2017-04-20\",\"2017-04-21\",\"2017-04-22\",\"2017-04-23\",\"2017-04-24\",\"2017-04-25\",\"2017-04-26\",\"2017-04-27\",\"2017-04-28\",\"2017-04-29\",\"2017-04-30\",\"2017-05-01\",\"2017-05-02\",\"2017-05-03\",\"2017-05-04\",\"2017-05-05\",\"2017-05-06\",\"2017-05-07\",\"2017-05-08\",\"2017-05-09\",\"2017-05-10\",\"2017-05-11\",\"2017-05-12\",\"2017-05-13\",\"2017-05-14\",\"2017-05-15\",\"2017-05-16\",\"2017-05-17\",\"2017-05-18\",\"2017-05-19\",\"2017-05-20\",\"2017-05-21\",\"2017-05-22\",\"2017-05-23\",\"2017-05-24\",\"2017-05-25\",\"2017-05-26\",\"2017-05-27\",\"2017-05-28\",\"2017-05-29\",\"2017-05-30\",\"2017-05-31\",\"2017-06-01\",\"2017-06-02\",\"2017-06-03\",\"2017-06-04\",\"2017-06-05\",\"2017-06-06\",\"2017-06-07\",\"2017-06-08\",\"2017-06-09\",\"2017-06-10\",\"2017-06-11\",\"2017-06-12\",\"2017-06-13\",\"2017-06-14\",\"2017-06-15\",\"2017-06-16\",\"2017-06-17\",\"2017-06-18\",\"2017-06-19\",\"2017-06-20\",\"2017-06-21\",\"2017-06-22\",\"2017-06-23\",\"2017-06-24\",\"2017-06-25\",\"2017-06-26\",\"2017-06-27\",\"2017-06-28\",\"2017-06-29\",\"2017-06-30\",\"2017-07-01\",\"2017-07-02\",\"2017-07-03\",\"2017-07-04\",\"2017-07-05\",\"2017-07-06\",\"2017-07-07\",\"2017-07-08\",\"2017-07-09\",\"2017-07-10\",\"2017-07-11\",\"2017-07-12\",\"2017-07-13\",\"2017-07-14\",\"2017-07-15\",\"2017-07-16\",\"2017-07-17\",\"2017-07-18\",\"2017-07-19\",\"2017-07-20\",\"2017-07-21\",\"2017-07-22\",\"2017-07-23\",\"2017-07-24\",\"2017-07-25\",\"2017-07-26\",\"2017-07-27\",\"2017-07-28\",\"2017-07-29\",\"2017-07-30\",\"2017-07-31\"],\"xaxis\":\"x\",\"y\":{\"dtype\":\"f8\",\"bdata\":\"AAAAAAAA+H\\u002fAVctMnskeQN8BscGsqQ7AgG7M00erL8BizrP9ciMkwFQPyDLBXBzAGkSoydQtLkCkHaYutz8IQK9uIk936gjA\\u002fAViBszL5r987e+xO7T9P\\u002fBLPPHaW+m\\u002fW7LI1RUVEECMxUZD98H6v0CT\\u002fg9MqMq\\u002fRiofxv26BEBsox56RvgVwBaciJcEhANAeBNSV1zMD0As7v3XT7IMQBB\\u002fKHW3+Ng\\u002fDDk\\u002flRCQ878AcqV+y8mAPxCso837FOc\\u002fmFVVVVVN6j\\u002f27EUoJyUCQM\\u002f0rLhahRRAwNQX5S5P7b8MiSM0QC\\u002fyPy+lZhb8WgbAKLnvlkJ\\u002f4r8ycUfcEXcEQJNSf0r9KQXAwO\\u002fJ4TLgwz8gSNwRd8TNP2h4IMydrxXAgAI5ubBOrb8AdHNEIvLkvwAg2TUVP8g\\u002fV\\u002f+GfdcACMCQui+PrQgWwLa3oAyr9QbAQFaJgdSnHsBaZmZmZmYZQAwqHAqULgNA6Jspj98J5r\\u002fPK7r5trIOwMRO7MRO7A7AACbnxO17hD9YMkhEG7nevwAZ7440mwFAvLNmqDtrFkAgumErbVPpP6A+drhIFfw\\u002fjHQPoSLi4r+qGDFixIjxv2ypXOjrruS\\u002fHSX9TiEREsBE31Od+9fyP4AvDcuRoKg\\u002fDzuxEzuxA8D9q4c4QsYawCBFcjdu\\u002fdY\\u002ftIr\\u002fQn5J+z9phJfygbghwGZa0nn65QJAvdSGQan1K8BU4zWgrPQOQDnMa50IDS7AHr8lvcCgBUBhPmSQFVwYQIg9iOSwBwVAoCkG4t9vzD95p2tr9kIqQBBjeCRjeARA72\\u002fHNki5FEDLmXhJXmcTQIzcFdJfCwzAGgQyvilYD0DcFk9u8eTuv+gyrBVXPfE\\u002fsiWHuMoUIMBgyzR67hX8P2a2WIYbIQjAzCd\\u002f+JGF+D94hOcsGvjtP5DmDw89PxFAXgWZvKCU8b\\u002fQRQ3CDDsEQDik9FKWD+2\\u002fpteyZvqo\\u002f79vTwamKvgXQNSGcQluGPc\\u002fn9+fioPWGkAUHCjclyb8v8TBBmg5hf+\\u002fMOzETuzE3j84R+YEPJ\\u002fev6DYiZ3YifE\\u002fmF6aLmtv8D9gUnFvCO\\u002ffPwAAAAAAAAAA8nHGH2EaDMDw0h3st9rIvwDnGOcY58g\\u002fEEgl52UR\\u002fz\\u002fkj\\u002f3Yj\\u002f34P\\u002fT68URVtAFAFqLHd+EgCkAkJ1dfDEQCwIhA\\u002fCbzF+2\\u002fsxF6YU6NEEAAAAAAAAAAACF0U1IdYhNAwG+U3W+U\\u002fT8MJp2aB7n7PyA\\u002fnzFB5vu\\u002f1tqfYbx\\u002fAcCEFAEbo+30Pzz1hMGJdPs\\u002fUNEAQ2zc+r8y9gFmuHQVQJaKg9aciQjAsC+TmVYCyL+vtq1BhCMiQMjcPso2S\\u002fY\\u002f5EsFGDasAUAKdPTXccz8v+igOBPEq+U\\u002fwQq5qntVHcAQnh6K5U7Pv66BiXNSCBfAjZ\\u002fdvxrJEECj3EcdjAsAwIN\\u002fedM16xFA5NYWHsY17r+skp1mB6wdQLwWEPZYFPm\\u002fKANcT+E79j\\u002fdM8jKthERwOjgZCaDeuw\\u002fyF3GcneR8D9AHo+be1Knv1Ba1kjJeMK\\u002fHu3XPUgm9r+hChSV2hoAwBAcaRG5pdM\\u002fGPhksjA49T+ccdZEAaQDwEyPy5u1g\\u002fA\\u002f0HxT4pZk6D8At1608fG\\u002fP8ttpYQ20xBAqIeFf3zr5z8EQZJy6GP+P36UK3XDRwnAUDut7rS647+cOWGSrU8rwOqCp4TOpSBAxYY8nyJoEUAgdL5a59HWv+DWxxtbZ9Y\\u002fas6YM+aM+b9kdJxrPLLnv3wcx3Ecxw1AYC9qX52Ws7\\u002fAV8HTmmLOP7DuN8ruNwpAVmp9D9JlAUCU5pjuHq\\u002f7P26X8nci3wpAXnXizDqi\\u002fb8ozEq1v8MEQOuojuqojhpAJM50V6QbJUDM7tlJjVL0P6QcT7wEaRFA4UoS0vhaGUC5rP3w5H8kQNdb0WlJ0RzATq2OqDxJF8AIcUbLeBMUwNJW0afGkCVADAOHvpcv8T\\u002fSTpMx1YcHQL\\u002f5RMvdTAHAxnVQz1YfAEAwGRkZGRnxPwBROh273ZM\\u002fpyU6VpkgEUDtZYtCKiIaQPteGpwJLhxAeOOjaeomHED8djyUENYpQG9MDPD+IixAMGAboMLt0j+EtdMsIncNwBHhYVTLXxNAibU3yaflFEC4Y66eARwqQAZ8mtkdMglA5Mx2jXsi4b9qu20XRVAVQHGHgG8XkydAG4oxl+h7RUDljYLeKOgwwORMkPP3BfE\\u002f+jkLgxRGNkCZA36N3SIbQHBx9jdMWwtA8qa\\u002fSGiiB8CuT8W10a8JQFBQ2fNGJDBAC5mT2TDVH0CY3mP07\\u002fEHQGxivhV5YiNAMAbrYbu4zL95Gkk81bwuwKotAUjbTSJACle4qH7MCkBKGhhuEwobQJ2BCCstbSLAb+nKFpmiNMC9wBMA56MvwLB+AMfF9ytA44C1J810KEA+xAU8\\u002flclQFix34gEQybAoA5Q3sAD47\\u002ficEKE\\u002frIBQAs8r\\u002f9a6AHAUGMfWy3R2T93ySUxvWszwGjkWyfSBgvANU\\u002f\\u002fhQpfN8B6o2Lm4DBAQODT5ubfQiPAxoHUX+QmCcBot+KX027+P3xEYwa6OCJAwkTGGZSa8r9AcXmrE\\u002f0DQHK4VDvBYidAtyQCm7FADMD8GLBUoYTvvx4UP25w7QJABP5dPVzL9z8oeK5EqvHRv6SSaQFgcwJABav\\u002ftMkREED6iRMsB0gAQLIEykK97RNAEv\\u002fLy0g5IUB4TZTA\\u002fu4AQGH4djKYvS\\u002fAWtoKfylPFEBwASaG6HDfP86wiHl2bARA\\u002fMM17zzxFEA8gnTX2DMWwCPBCJxFaATAKDLKFZsq7r+QTHZq3YYKQEo327R+ewfAgQWxG1MYBMAQ+TkSfecIQNRXfMVXfA1AIBopdKxWtr+IdLlQXCHnv1n2pI349gDAmRLt08FHBsDi\\u002fPTr7kwIwFBZ4i+5XxxA4rZYI1auDUCsdndyzropwBN353qSUhVAuGkxX4mQ+j9gjcyungDrvzTUXlMhRvU\\u002fIEiDNEiD1D8Y3KWpIbbrvzAIoYnz4ce\\u002faKNY\\u002fckK4D+aZ1H+FwT\\u002fv+5OrDgm6g3AX7VzKROyIcA8mb5KGJsVwNBfbgLuUfU\\u002fsEYmb3eG0b9KIjaJxtD0v\\u002fGLSQHOVgjA3l7PChCHHMC4wuR9vcAiQORpDPp0wfq\\u002fRmNJ11sSFcCIVUrRbAP5PwD2uUSR+qo\\u002fxFI7clI74r+1ryuI9HglwKLrFW3p6wlAMj+tjyTHFUDAdhXo8+mwP+LDF2yOpCPAyuCuw4xJ9r+IiWrj8FMgQDAR7hkah+W\\u002fVtgkHh1lFMBO50wKWdAHQJZRni2xdvC\\u002fzdpdf59JM0BgqI9cAsnCv1DEgTQ+Yci\\u002f4Ibs6Sy8z798yB8P\\u002f+kUwABA0Fwiwf2\\u002f+kxWgTVHCUBiOR5Szwj3vxz0YdF3G\\u002fA\\u002fmGhePWVJ1L8wR0cg05PuP4DfquUFa\\u002fe\\u002fiDzLiD6g8j\\u002fkSPIr6jPpv7hKO6FkKPa\\u002fBtiltUti87\\u002fky4JhD7bpv2JkSikPtAvAGraPtL16B8DEylXw3A7yv+B1qofHWeW\\u002faDFU25eOD0CACLRF92C2P0Auw0EP7+C\\u002f3+lJ6ineMsBn49OVnbwUQCRF5sk0De2\\u002fLCW9VhYqGcB0QBACB7zmvy1VKPidthJALJuCe9Q9IcDEXQL2dL77P+gkzMkuOOQ\\u002fCG8fOZ60CUAgMf00SYnTv+S2ng2nPwPAAKKyQKch6j\\u002fcIOzAy0oCwFr2w34thDHASF+GMDmLLkCAicx+Uq2kP9oqgYre0vq\\u002fTazsRAabJUB3DSi6wsIoQG6jqpciTwJA7co9wpDWF8CV7ITGH1MKwDcipMjGRxJAKKFen+ag5b\\u002f4xI6KNdXev3A8F4yWVfm\\u002fqBolxOUq5j9Uv7VgwNT9P2JF\\u002fpbnLR\\u002fAVBpAnYfD479abJ6BO18TwOhfuF0omew\\u002feAev3aUl+T9AqxTGZZ24P6zt7ZkBFgJAsnOfcltK\\u002fb\\u002f19eP4r68EwPi9g\\u002fgO4tO\\u002fPBsZR1tp5b8CKrhc\\u002f67wv0ZZqkh\\u002fYwJAcPKQNW2w0z9c2d8XZ+IAQLgi9lE9sfE\\u002fjMFxNXtbC8AYFC5k+bziP5CTfVTj58a\\u002fEB86maj25z+IHQAcKKTnPwDURqWBLsc\\u002foKV0YC3\\u002fxz8MWqYDwNHivwDW2hxlW5K\\u002fItLFNUq5IUCY\\u002fVOQ3u3zP4VNRhfxrxpALDUpOrWY6r94WfVNnUPuP8JOpfXFsCFAMvfosKyOAED\\u002f5pu5lrMAwCDbNzQnTfA\\u002fanK9OBGf+L9Nqotdy5ggQKiW8NdAtvU\\u002fwEX7c7HN8D+OzMs8x0kTQPh1YA737fA\\u002fpwRAAeonD8CY1a3Q0wEGQPitkb7i\\u002fOq\\u002fwK\\u002fFCCDeyD\\u002fg6tm9e93GP3BKgmFQBfG\\u002f6Fl5dyKr4z8euxr06KcIwC41LoV6HB3A2q7LzEMBAkDyeVxDU2QOwNipf8GBlgVA4GQkJ8UwwL+mWmYRvTgJQKDGVRomYt6\\u002fPnt92iwH+r\\u002fg+IPPYPnkvwDWn0+wGMI\\u002ftKClI6mT8z+8X0zw+QX2vwiWWc37TP+\\u002fqXHEJMsBBsAGgmi4+ucEQM4X8ZvcMAZAwHrwtKtuvr8sViCnaYzwP\\u002fZkV9bCmxhAgGZ7BtE0xD9gwQBTpyT5P7RIl582H+y\\u002fdnROsV3xAcDAzoM9MUG\\u002fPzihvoVNC+Y\\u002fyPh1\\u002fDp+\\u002fb9AtMQixPG9PwA6nEgLZ6m\\u002fIGZobAbb87\\u002fW2fLHj8QDQMDTkT0DUdE\\u002f6ns\\u002fdzM08r+OuBj7N1byv+AyCpU+ddc\\u002fKACGmMqo6L9YUQRRBFHwP9BivrnbOO0\\u002fQFpOR0X8pb\\u002fQY\\u002f2qrHjnv2hILmgLVtG\\u002f4BOxOaInu79wLbkgBQnWvzM0Z4Gq1QbA4POdnWg6u78YPk4x4xvsvyhSyru+DdW\\u002fGvQH4z\\u002f89b9wqXpS+vrEv3\\u002f5PlBP3AfA+HRkQzq5CkAUFWn6oLD3PwR+DXBiEe6\\u002fSDMWIhXj3L9A1hf+ngTXP+hHfUcdJ+K\\u002foPYBLMFFwb+Y2YT8+hjnP+iUwCMgKeQ\\u002fKPMeKplV4b9QjCuGD1rSPw1hljAH4gPA+Dorn7Su8r\\u002fopOoj8iIQwLijClAGxh3A9CtlFG1V\\u002fL9FV1mT7UQSQAxncJ8wexXANA7oETytGMA5oqL+Gp8UQNKfNG20CBZAtJvmFCpw8D\\u002fQA0d\\u002fIczjvxLMIxmm2gjADIrXP1VqAEBONVMTzznyv7zClJgt4fw\\u002foCbBz4QEtb9YrRD64ujkvwAfXjp+5cE\\u002fdBkyCMHe6r\\u002f85HRHbQMVwPztwcE+SuO\\u002fqGk9\\u002fesu4T8AR0DWlSihP97xZJDaNwRAogprIaym9L8w6dvYuLrTPwisr+6k1OC\\u002fKI3XGJ56+b9AqdNe3czBP4Au\\u002fwMfm+s\\u002fwNkiwujTtD+IVPtcOa7av+AwmsfCvtA\\u002fMCF+bGupzb+gyqwAyt\\u002fgv+yFck7pVf+\\u002f9Kbze2v4\\u002fb\\u002fUOGpgWMQcwM+ZQzrr7hvACEmSJEmSDED2xVbGoLgDwBBlI58EuOo\\u002fWnsaQOa6IEB\\u002fb61ErxwHwLeOSegg\\u002fAXAbkBD9NLB+7\\u002fMJIpAxGzzv4RKaT3pXRbAqJQ5SuwD3b9aKj3fTnAIQBS\\u002f4B3adOu\\u002fc\\u002fsjWITUAcBO2GjVH5gQwObva9agCyHAh4259RdWBMCqP6DbDeMHQOg0W8\\u002f3nf0\\u002fZa59feDtE0B41s+HcmcLQIyOXvNea+6\\u002fgLVkJJUyyj+JsPv64PARQOwRUEBmEAlAjE+akxJvBUDeVeTz11j4vy8rjG1XvgjAsKaNs0UT1D8QSxXFjwIAQPA198e65t6\\u002fLkDzu9iE+79wgn3mQlfuP4RhtMw3feu\\u002fXtp\\u002f8MvTGcAAK3nctv+Tv1bwR95PvAjATr8vFcodAUDYfrOrr9rev6DUtbCG\\u002fPQ\\u002fzy6cmwOkGMBKwyJFzysHQLdSZnKzMQDAEhQkvCy5DcCAGAbHLQGmP2BybmTLTOA\\u002f4EvYx+q47D8esJxcLMkFQPY7Gj3tFwdA0LUQmDR4\\u002f794bfUinrDsP36FII\\u002fckhRAWMPINOUe8D8Ardloh9zKP\\u002f6eb2DFYy5AvBi+3RxO5b8Dm0AvScoVwFhyCVYRzxXA\\u002fpRKusn9CEBg0vtdGAW\\u002fv81ou1uuNgnAoG3btm3b9j9QD1TObuEXwLhhB7cSQf+\\u002fgGrHtj7h4j9XaB5YtZoQQMg8uwxsTgRA8KQCIepR2r9WjfCG6cD9v5A5DT0DltY\\u002fSFrH61dY\\u002fT8ArJoDJlLQv\\u002fiveIIb0eU\\u002fYNGZ+ZRQ1D8AQiJptWHhP0Jkezdob\\u002fq\\u002fqqzJTQEV97+sigXNoWL\\u002fP6QkHQYMfuG\\u002fgMOPoa0stT\\u002fhtOoHlCEMwHK0as1wawXAipG4VQWT+r80gFdFwh\\u002fzP4DmiFhyiOI\\u002fTu0hoCpr97+kGQUWOpPzP2iOkWVTk\\u002fy\\u002f+ZjTqS4vFcAlb4oVoM4BwKyyyMXj9gTAHBCmVm2LAEBApvyjg4EOQJI9SQidHAbAiNHvDnyNC0AIcb3QAtfpPzM\\u002fSH4IygzAZsO9zEF28b9cWmq3GFgGQL\\u002fZy8D7aw3AkCLdljX22z8EesHifQz3v9hycN6gwOO\\u002fSo8quTpUCEBirAozsK79v6DNhZdYxc8\\u002fvVW4XLKNJcB4Rxc7LgkYwNyDm3UNIQ9ArHlGZIcUEUA+JV2ZNcgGQBbDSJ3G3g3APh\\u002fPfdXuA0DgwZi\\u002fKYAVwCigTuPCmwrAIBG+vv3G6T8Slt3bZlIvwPofFvBVJTXAlwEBdUrSMUBw+oYn1Yjqv5hJaqDo\\u002fRDA17eqJAc+FkCiI1lq8zABQCDoAdCRb\\u002fq\\u002fOUIbYtqCHUAkYCd\\u002f7fMGQJBDt4eSEM2\\u002fWVF98Xq2GUCAMEPnavICQK4oZ9z9Ih9AjsGvE3M5DcAxdZsgG3ImwBDcItGF48W\\u002fi0bMAYRBCMBQCC9AIbEPwAEHPeAsfhFAh6JifxLYE0BJYnynAmcSwKChd1yZp8e\\u002fpWWm06EsEcDG0stmbgMDQBCopUtIuQNALEx\\u002flVR9\\u002fr8kIYi4OKL3vyBTl\\u002fcIZ7+\\u002faD\\u002fZF0Ds0r8ILmALjsLyPx+hnPhDqBhAkB4cyoOYIkBmCZR46nwhwEB7Ssi2tdq\\u002fPEpTG1i2EEBcUDliNegHwCzYnjgFvvo\\u002frDBxYF9O9z+QtkhCnLDTP1CoPtPW+AvArNdFGwG78z9gkqoyCBOwv9ivG9XPBeG\\u002fULzcrF8H3L8HcoF3GXAdQGD9b8kNr8U\\u002f+Pl9EIWwAkCO68foHcgXQPyTjILKfwFATFGCZphzCMCMvTeemhryP+DYt3N+C\\u002fS\\u002f2OmU8b\\u002fE9D\\u002f4YrkZxB\\u002fmv86WoFK7PxZAsFlJ1o7B5z+MTEQN\\u002fVX5P2RevXr16uW\\u002fwSvqCeR8CMDqVIAww2bzv6j5Ktd7mfk\\u002fJE7q5Ol29z8MSdzxlgb8v4hWzUKRdCTARCOKM1Tn\\u002fD8gpU8y2BzUPyQgMkVjJuW\\u002f9kaavcttCEA4I\\u002fBcgCPdv4z2Hf9dtx\\u002fAYJCrm\\u002fbKzz+gu2ZOyUjuPwhq2LZFUOO\\u002f2Bf0Ap2vAkDUhPldLe4PwMSCa6FIxv8\\u002foMRVCzhl9b8EV5NEY\\u002fvzP2KHMTDXiQJAGFnIQhay4D+gcmiNbDTPv6yEhxkLwgVAIK\\u002fDRK5f\\u002f79oYwRywe7sv735QAG2yAnABCztHiiA4b9JvX46zPsIwIB9TKWzBso\\u002fIKV5KPykxb\\u002fQyXeqrZQTwFeaRoqHVwPA9ChMDgIMAUCoK7R5AfEAQFhk5JhF6gPA4A300P+Qyz9gF1X8yMbVvzD+XhuxLu0\\u002fex7yvVvyEkAAzM+BqqbdvwgzBEDQJ+8\\u002fyPLbThqPAcDRezOzdeEAwCH3JPU\\u002fmAjAjk0cqk35EUC+PxpBKQH4v4CNiF7MIpK\\u002fr6lL9vdQEkDI0MakYJP7v5xrRlr9pfM\\u002fDInV5Jh9AkDYa+khBNfhv\\u002fiQvz+gafO\\u002fUJu8zQh7BcAmRvogOEkKQKqSvJ70AgZA+FxXX2Oj6r84OM1q4T7kv\\u002fjTaLjfxOg\\u002feFfkPBDA27\\u002fMN9KnXmP\\u002fv0CNXG1VyM0\\u002fMON\\u002f1CEZ0j94cgOcU4fjv8Au1RGtndE\\u002f4BT5rBvM+L+859y7bDLgv0ihBSbRjuw\\u002fkEKgt7sM4j+yOoGU2gcBQFhI0H9gtOO\\u002f+CHOwlHd6z+OrF\\u002fNwn\\u002f5vwBw7ZlRRnE\\u002fABNh2yFGsT+AauWNHg2sPzATMS21tsC\\u002fnBd3+41f+b\\u002f68PQncZn1v7L1HHw4OwnAOPJQWzCZ9D8AKpg5sr6fP3w5Swmk9eW\\u002fsA1NMW350T\\u002fwnJgi4A\\u002fTP8ZBzo9PbvO\\u002fLEai3eoiBEAgW51jBV\\u002fPP+A5v\\u002foF8bu\\u002fANFFF1102T+AWrGvERe+P1DZV0IU1vA\\u002fsH164uZk3z9EXnngtXj2P+nhMGsiyBdAYDkGz1+p5L+AkB7JVLq7v7AbfPieRfy\\u002fYABXY5xlzz\\u002fkWNwe1JLgv+hiMWNCAfQ\\u002fMv0xqwFt8b+u9OasatL4vwirH1v1d+4\\u002fwHyJht\\u002fS1D\\u002feg0gUmk0IQJBk3vx4Pum\\u002f+Cp9PcfcCUCavRyJLLQCQPRffHGmEPu\\u002fnKJ5APjb87\\u002fg3MHKv03XP2B0QBVYZvw\\u002fU9wp5mDlEEAQ\\u002flxtYPLwv8Sa5Bh4xfC\\u002f8B52qfKG+z98xEDbWG\\u002fivyt0N6gvRBdAqACPJlUcB0CgZK6U3zgYQIpZ2uNFNxjAKr3ZGHkl+b8M4KVzJyXivxAddTTJqQXAIAl3vm7C3z+2Xel07yn6v1BNQphhCN6\\u002feMXSIQFn\\u002fz9yrjMA2RDyv\\u002fDQ51E5IOA\\u002fMB2sZdMC27+kBUR1r7gRQGDU\\u002fnYGpsI\\u002ffI7\\u002fUugc9j9AeI7j41XUP6DnHRXNp9E\\u002fIrn4FjpN+r\\u002fwZhoL6Knkv1zbj6Z4EvG\\u002fGHAWEdQk8b\\u002fw0UUXXfTWP+ARTXRlQN+\\u002fIJYRnEWz9j\\u002fqDa6ghbzyv2KqPmU7u\\u002fK\\u002foBF4Q0H51j\\u002fY8ODfLZUawBwvkEnxAvk\\u002f0GQN14t0zb\\u002fMyPbHUugBQOzjLU+Luve\\u002f9L9JJTSh67+gX0otWGPjP8hW6iA93\\u002fi\\u002ftt71oMmY8r+wItt9IT7Kv7KmWxIBLjLAzQUos++PHUCKM2OkI5kOQDqRe2BG5vK\\u002fWLbQB8r+7b8EvXQKrdXuvyotxFMW+h7Ash\\u002fcXpQcFUCoD5Lcynf+PyBkTdNQCt6\\u002finmL0vKYB0DkWmGoG2fmv\\u002fAyc47naNy\\u002f+MP0\\u002fFsv4j9ocxPK+Pvqv6AiJM2qReA\\u002f2C9r6CNP7b+AVbWuSPn1PwCN9JhgZQBA0lFZpDhoAEAAXNg3+xNxP+Q5f3AUFfk\\u002fLMMct1fdAcBgWGLrDanAP+DYCOUx3+U\\u002f\\u002fLca4ltCAMBbWHlmaA0AwIDSmMAG4Kw\\u002fsC0iFYbewr9kcgMfF9Dgv\\u002fDdQA9HHdQ\\u002f0MHZVDMA9j80YgUWLFTkv0D9hF7x9r6\\u002fSG4g38iC\\u002fL9IheK6Bt\\u002f4P7BMO1Px3sK\\u002fwH+TJ36H\\u002fT8AZtkPZKXQP4gkMQs2xtW\\u002fOEanOFOT5b8MZl1PnO0FQJonwM1eZPC\\u002fSAaS1\\u002fEI0b94O5vRwDLkP0CyyQ\\u002f1BLy\\u002fEBPfq1Vr4z\\u002fwy05MNDPJv\\u002fB3Itwceew\\u002fnlRZakXnAkCmBlGWuBf0v2AUo\\u002fr0pdG\\u002faAHXm+uG5T9AcBIL2X\\u002faP4DHlxXhkOs\\u002fyJYq8raJ5r\\u002f8TOhE12T7PwBuhFNszu8\\u002fQG18WKaW7T9ggfEbL+UKQBh\\u002fJiGMpQdAJ9O28IWaCsA43EXj1QPmP+KE7+P8RwJAHgdt1gvx8r8wI+jl3UgHQECIUKId9uw\\u002fnHvt5xPN\\u002fT\\u002fgCEb7ZxDnP+geyC4sRuI\\u002fwhwTD3jOB0DyVj9Jjn0NQAKAxCssRAhACFHkpJQIEkDyiS4VpuAQwCrXvMEgrAxA4Pw1ryH6JUBivKmsQWInQDhiHjJZJABA8eelNHyAGMAvKF76dZkIwGLPSjdYqAlA8EPCEiIjC8BUj71pkob9P0ZZUmz32CbAGExbOnmRHsBQr3LkZGchQFgLpwlDf9q\\u002fKmAXl7c+8r+OB6fVaJ0OwBhARs6abwpA3E+pP6X+9D+A+sDEbhnDv4HDJFkPLgTA4hCjv7dC9L\\u002f0OLRFYGX4P5g0DwK1ZOe\\u002f2B2LmhRi3b+sTsK4fbftv6bnYImVZQRAzCUs1IbSHUAM5eyxEFH4P0DuYWBamMe\\u002f1PaJ6kEjD0BwPPojLvz5P2rTec9bcQ\\u002fA+FucJMAh7b94YWP4E5LgP9DMJGrW4OI\\u002fr7GLZfNhHEBAjbOQ0WCmv4jr3i8D0vs\\u002fmqkT0eg+FEBgvPRkQ83eP7gUnw9l4d+\\u002fa+rIOACNIUCaZX7vfPwNwOhAJsULZNK\\u002fMHyRqqQ8A0BG3qhGjgkTQMMeCP\\u002fr3AHAgCQv7qUt0D+oFpx8lXP6P7D8RnQb8tG\\u002fK7h2WOH7EMBoonVyi0btv0g1VV3TM96\\u002f\\u002fBLqAtdd9T+gMY03SMQGQACi8NBDkcI\\u002flMHduqTYIMA0mN66+0f1P3DIkwTuWMC\\u002fbo6PYFpFBEAAtMzRkoD3vxj6DmDUoO0\\u002fmI18G8Hx6z+wu7R4mTrKv0CAavWvUum\\u002foJuhJp\\u002fr5j8YCPHz17LQv8QUHuXxHOW\\u002fNbjiUw36GkBeBFLBKtbwv0oaoDX+1vO\\u002fwELHVrO7tT9AMiMRtyS5P3a\\u002fDFVqugbAFOz1ImJi6L\\u002fITG0UDn7ev1pFoUSQqi7AbZ1tEH57GUDsNbL\\u002fRqL1v0CPjSLEYfQ\\u002fqDQV7bAC\\u002fb8HuuQtHxYlQAfsC63m+gLAKsto01QTG8DoNOhqY+r0Pxh2jQyk9Q9A5AvRBndQBsAAVDXTjXK7P4AiDmX4Auc\\u002f9aJCH+G7DcDw4yHpmJnLv9jrGRp5k9S\\u002fiBXZ9dsMBMDM6Il+\\u002fJzyPyBZOG6V2Nc\\u002fxK6KZ2s6879\\u002fFZ7BPDwVQKCWpXBH+Oi\\u002fo1YOdQvCBMAALWZESTKbP\\u002fTpJ\\u002fgu7+q\\u002foOnJEX0b5j\\u002fUWLltuen3PxxAOUXwxOC\\u002fJI02\\u002fqxt8z8UbT12LqX\\u002fPxar7eLoYA9AbtlesPio+79ksLGlpi\\u002f9P1Ye5G3cVQFALLZaJ1hA9z9AIF6O6\\u002fDXv3qAtm5WHw9AIL1to28C2D+AqwteBaHOvxS6UZcTFg\\u002fAOL8P+ocC8D9gp+FUCrO4v5izDz4yrvw\\u002fQFHRtxbrtT\\u002fg8ExmiwDNPyiIpsTiAO8\\u002f1BnkZLvc4r9xh30rnHYEwGSNxMkpqeG\\u002fLJ71tfZRBMAhuO64FzAEwChubcX0hPw\\u002fKJkHQqTw+T+AftAyNKC1vwCXksjWhMs\\u002faKKk\\u002fG+C4T8A1ELnrn3xPwCfuRClGgPA+FUXPA344j9Qy41rumTiP4BSzSaC+bc\\u002fgG78dRccpj9gBUaKtLPrP8skUHj8DQXAoDf0ht7Qyz\\u002fIOeecc87pP8BM0yZjObu\\u002fbHt23ReB8j8ATf2cCX6Iv8BiWeW\\u002fQtm\\u002fYEJ22\\u002fBIyD\\u002fgG4tbh1HHP9wAX5X\\u002f4QBAtMhGoon44r9MDZzkHBT9vzBi\\u002f5wGH9q\\u002fgHIjKNx33T9gsYpe0uPSP4hmir+WR+Y\\u002fAChMk1gyfT8g1eobBWzAP+jMs+d4quM\\u002f0C6USjW3wr\\u002fAaFVqyfPDv0D6PiCxKuK\\u002fQBFlH6+fzL9oKqlJbGfgP+CbQdkw78s\\u002foM+8KcOG5D9wkOjr3vnVv0D3B0VGncA\\u002f7HozhR969D9AX6vZBZ7JP\\u002fz3JkY5j+e\\u002fgDwDbcLR0T9cT6NZY9X5P+SQYKwtmvU\\u002fpC9RdvAk\\u002fT\\u002fI1vyk9UXqv\\u002fxJpyTnS\\u002fA\\u002f5H1gFfRr\\u002fT94PklWJQfkP9SCLBeRKPA\\u002fI5IfzJRdEsBgd+IhOhbvP9D5crJ5s\\u002fU\\u002f3jhwIybW979IV+lbEWnpPxr4VxZmh\\u002fm\\u002f7MXP4vlB9D\\u002f8Du9l2XDpv1DmiRQ0DdI\\u002fpo8WtjzABECQ7bhqdYXNvwDg2MeK3WE\\u002fYBmAweTv2j\\u002ffWNMkL6kAwBDAmRkDHto\\u002fYGKZGqDW3D8AxFhI3FTJPwAAAAAAAAAAwLH6T5yv2j\\u002fALxEABNnnv4COn6Z1a7W\\u002fAG9Bub2xxz9o\\u002fszyO\\u002f8LwAC4VPYm9ew\\u002fAPh1\\u002fDp+vT+A86DYX\\u002fHrv3izUx9Al\\u002fE\\u002fcAIzkpVe2j9ISZkIafnpP8CiVfJm5+o\\u002fLLBQM0C3EUCCLp3BkOYnQGRZ9IiFAOe\\u002frG1\\u002fcvAy9z\\u002fA2vW5Wpzdv2DD7l2SpvA\\u002fwC9uARsIyT8SkCikkzYXQCBLmD3n5uM\\u002fAKRzcIok2T+ApXyap2L9P9B79GjBbfi\\u002fODS6hYr46z8EdwJEjUjzv+DsCVt7od8\\u002fgj54RIlEFEByoYdvv8UlQKuNMMynyRJA3Hc+mvRfBcCIjewRcMv0PxAZWLNssCRA6J2XoTsqAsDwIs9kB0fvP9BhNQGt8u8\\u002fV8bgOR7PC8BWd6anuCUjwGgwS+TWKCXAH9Atk7ixEkAsvu1u73waQICeFm9ttJu\\u002fzmwNHvh\\u002fFcDy6pvk\\u002fXUQQCymI711MfS\\u002f3j7XICuV8b+cj0qH6+gUQJC712RmItw\\u002fwHMwALE0EECuLaLOEJoZwHSh2adbXQ5AMn29BqR+\\u002fr8IO1HnTfjvPxjlltz0thXA3VnKAfg1EEAHsW92Fa0CwHBzjfASds+\\u002f4CSp+UTB0L8uKdFa4NwEQCK5OL3gRPi\\u002fiPek7qKm4T8oAmf5ySPpPzDHsLg+7te\\u002fmmJMLM6gBkDIeF5L9uftv0Bu7TomBKO\\u002fYm8TkskS8b\\u002fg9o5ZIcS5v\\u002fmfJN6eTwHAwFrhsfxL6D9Yd6CT0evrP3DWxY5TX\\u002fG\\u002fkIC\\u002fLyyz1r\\u002fAw+tPSjzZP8BMFvR+mro\\u002fEKV29Xcm0z9wLF2T9+XSv2vjTeaOixLAuzBh162TB8B+eEdWtWUjwEgfp2x0mgtA+poVG\\u002frZAEAU93wf6\\u002fvhvy4q+ApXuQFA6GeOtCi76j9QGHfchrXRv5Sjs52GmOG\\u002f6HmwYslo5z+8M5au+hrgvxikW\\u002f2C8tC\\u002fcDmu00511b98cgGL9acEwOyzFgtPHuK\\u002fwF2VFlnF\\u002fD\\u002f8+l6Nz2Lnv0CG5nAgkMg\\u002f4Nj\\u002fiz4yzT+4XaEMON\\u002fwP6BKhj3aKbG\\u002fmAEwSTfy7T8wQmkxMTfiv2jeg2xut+G\\u002faDRePfax2r8g7F+Vn+\\u002fUP7YH5tdXxvq\\u002faETJksg75j+A5O1Qr9ehPwhI\\u002fJU05eI\\u002fMJbzZzl\\u002f1r8ovLe+mKDhv5idGpfKHeI\\u002f9IQJAuOCD0Ckhiv5q977P5igDaiSc9W\\u002fcBISIm1P5D8o6zYuIX7lP+wfm1OLq\\u002f4\\u002f5HyghIit4b9A0i9KKbe6PzPrpQvligXAoAWHL6QI0D+gzYjbWAvFP0D3edkLQc4\\u002fbBKmcFZ\\u002f4r+AajMItVuev8Cs8hei4MS\\u002fYDmDD7yK5D\\u002fgDri1X926vyDTDyROVMO\\u002fsH0PAXxa\\u002fb9AyozoSTjCvwgmdsBXjPE\\u002fQFwAdejVob\\u002fY\\u002f9PCvx3TvzgsTC46M\\u002fM\\u002fmN59jtOu079QEq+QRWjOvyCuejXfUcQ\\u002f8IZbUadl5T\\u002fACT0dikDmP5TlQn7RGuC\\u002fAH\\u002fo51T7yT\\u002fIA4KbwC3Uv1D62DJmOtg\\u002fgFkPOMlQtT+IRXwT+WblPxCR2vNGo9Q\\u002f+Ap0oHRl2L8wPf66kj7XP5g1umBsiQxA6O0sZ\\u002flb6L\\u002fAJhqIyyS4P7AO6i1dCuI\\u002fYMCYBSxK0b8QWF8P7dzdPwg46BeIVti\\u002fcEWrm5ShyL9e0Xh906jyvwDRoKbkm6s\\u002fwPBfRUT80z\\u002fEaozz4esOQMBHgY0UI6G\\u002fsFPGeLse4L+Qr7GCN7\\u002fiP9CpG4LtMQlA5MRmI6qc9z+AB0\\u002fhQ+vIP3RRQ3WSzQxAzu\\u002fRTNhC\\u002fL8gynQeLTvAvyhBfMkechBAwPSb90c0+D\\u002fkgbg6lSUcwBTVqG7J4wBAAA1h+sk1mj\\u002fs6Vn1nGzyP1hhWuLc3fK\\u002f2FuS0U+V7j8szm4jpz\\u002f+P2xWUeRKH\\u002fG\\u002fwGz0o\\u002f57vz\\u002f8nKhe9l75vyCAx4fladu\\u002fcB44eRJC2z9AQReK4\\u002fTtPzrRhz8qUBJAWEB84gSx279gARjeAun2PwBUlE5uWXA\\u002fwgynCVPqBcCkgU6ytf3xP3SlqPROMPo\\u002f1DZVsnTK7L\\u002fgHe8833riv8B2Ay7eg8c\\u002f6JojAZ4N679ACYG7rSfdvwgLzSgfhuA\\u002fgHZAZJU5nb9EzPyYW\\u002fL1P7D23t4hxvc\\u002fwu\\u002f9SRthBkAIMpLrH+7rv3CiLMH2ktY\\u002fOs1QAkxd\\u002f79wbBKKLEjnP\\u002fD5AbNLX+A\\u002fYG\\u002fIn11U1j+AVIPxmXDQP+AgpmTPzs4\\u002fiNMyzPJS5L9YkRQ46oj1P4DT0loE2a4\\u002fgJxwbFcsvj+wh12+QMPbvwCpqNFUDOw\\u002feKIu0p8i6D+ApvuaMWyjvyCnkI8fptE\\u002fMBrOLIJ98D+vA2OggK4QQPB9OVRCBA1A6fKMmHOTGkCr352hixgEwADaqWNIzNK\\u002feG1d5xdo9D96nmZSUo4GQKIAwvipTxJAoOBwu4S9z79uWI23ZCb0v8ADaKQppdA\\u002f2lHyPJC2DEAAl2x9cMQCQF4K9pi6SwFAYNSp+h0\\u002fJUCizjuvXnsowEZETtFB8SXA4I5UEiOq5j+gl8mMcGLSP3Av36XqZO2\\u002f+FPNab0w4T\\u002f67tDad6AswGKf8aQU2AtA5G0aufoIA0BApy4UsKHlv3APn22Lgto\\u002fXMh\\u002fsZvx8j9vWtPFz2AiQAeFY9AOyQLA+BnCHKR39j+QXacCNMLcv5SjdUkz6wdAwLFe1fH+0z+4bCtZEFXZvy0txmZdmQjAkP9wRG657z+8c+5JDnz8P0D2QQ2QIc4\\u002fwDNkoGGbyT+QSS4WMQfNv4BQgdERgLg\\u002fYxGtEyW9FUCwDkLTY7P+P858lF8jbQJAKBgMm1ij\\u002fD8EUcX2Li70P27iE4403\\u002fe\\u002foGrCMvHV8D+8yhq5weABQEBiZf5OvsQ\\u002fbgab2IzYGcCAFUWhEWDivySrXPyOifk\\u002fqDm5wQ7K4L+AtVmbtVnrv6jyd2ped\\u002fY\\u002fcCcow8Sq0j84hdaa6rL\\u002fPzyAC73cOv0\\u002fiJp5YJEc6T9gzEV60+DjvxSZsbO1gwhAUKGHsdcpCkAAvuLKaY\\u002fIPzGiPw\\u002fsoxFAKMskxuMW4z8m3NXg5VYEwHAC9pLY4P0\\u002fdOSWKxBI9D8AAAAAAAAAAGKvF2eq1QxAJHxWXieoAkB0+LklbKv+Pz4NdEu\\u002f5fi\\u002fGOrwyHiE7j+gJVylF9fcP+k1\\u002fDPT+g7AHjP21a0KGMAgBxAkkcYKQC7Q+mevJxjAlQuTYjcsFUAI3gn0qf0OQPCq0rVanes\\u002f+KFvMwb95D+IzMzMzMzoP7+pOW08yBPAPgre0DB+HcCUv9a2lPomwLa19nw42BlAmItVjgf++j+USGI62ygZQPNWhqXafBnAEAyK2eAW8L9CjWpMgnYjwBQQ+w2AFg5AqBhQctfm47+wCbjGHlogQAA5\\u002fz0S5MA\\u002f0NhaiAPx5b9smles1NT0v5AhW+dCrRFAWJDc200B6j\\u002fmdf5cXwsAQIonRuRYOQ5AmJ\\u002fwLRqL7b\\u002fcSKT3w+rnv29h76w3lxRAkO6OfDJH37\\u002fgN4ziGaq0v8Qv64fnN\\u002fA\\u002fQOzunk\\u002flr7\\u002foNJJoNBn4PyCOfbHOpNi\\u002fyv0lImS4BMCwMAzDMAzDvwBhyWdlTNs\\u002fKPjD2Rlw7D8oIXf02qztPwgFGIIAzfc\\u002fYBf+VQ0ovb+g+mS0H9f4PxQfDleZTeK\\u002foAKyRZJL6T\\u002fKQ3pSX9P\\u002fv7b8i3OodAxAlKN3EQKi8z\\u002f87ZtLALbzPyi7nXEO4wZAQEmWZMBIuL8wsdR7ddDZP4wmdvzwl\\u002f8\\u002frPAR0srfFUBqEwnRpZEBQKjhRi\\u002fZhQRAno6yxHWLCUAUPXAYL4DyP\\u002fwBr0nOBPg\\u002fIEoex4Ym8j9iL30AqbkfQASH\\u002fU4HuP0\\u002f6HUFIkr1\\u002fD9ae7RG2YALQPZ7sTco5xrA7YoheN62EkCADGb\\u002f913MP1ocEBiPKw\\u002fAsD29bPpNzb9f\\u002feRL1CEYQKBZlRT5jgVAvZ5PjOX6FEDnmNI2I4YTQCdOpWhOtADATH2iNwXoGUDWk9lk3Q4bQGdtBgOxPRVAhOCQcYGyFsAeB5rCSMwRwMBOCwAltB3A5GNSMq7wFkAD036s84QSQN4WOuJgbAzAoxzCT\\u002fplFEDJnlA8M0AVQMB75+BPzQpAeFJ\\u002fah078T9wx5skogPCv4NqFi5M3htA8NDMXphCGkCGrHzDiU4SwCh6chd9ggVAwKCAwza\\u002f5D+3O5dW\\u002fowRQCAKFKCKlNY\\u002fYkD1KzIuJMCIyzKUNkMBQKAK8QUNAx\\u002fA4Nbg23it+r9+ht3ul4UBQGgEBH0tzxVA8xwjUTw0EMA0aQ0C+e\\u002f5P3oNHjQpaxRAfMGQ8H03879w06YkomjjPzjf10JQXPc\\u002fLOtxx5\\u002fYE8D4Ft9fzK\\u002fnv5kyoFL9IxHATnq2G8riB0DQjekb8gHsP\\u002fSlIcuZCva\\u002fcIF8H4BsAsB2jgg7utr9vxosQtITogdAYF6gP5hhAkAgyfl3R3P3PwCUrCpGjYs\\u002fYNs4xfEo0D87aHfJHZILwPIU2rCSuwBAXxOjE1Z1AMCsZ059fisXwBK70AO2cve\\u002fytoyCDvkBEC2sAXZeE77v7b3emZzIRXAekWkg4b\\u002fJMD9PthfuqELwGwYwwPi8S5AyUMqGkg9EECcqRvKJlz\\u002fv\\u002fWA+t6i7zdAHgH4FqJFFcBcvckzYlgVQIfSAyPzsQbAMGXJd7eq7D+S2ckvgeYZwISH5D+rNP2\\u002fPcWU\\u002ffWBFkDbDFT8i4sUQM3i7BVOgwfAtIbZAqEI8j8E5AMbZCQRQA==\"},\"yaxis\":\"y\",\"type\":\"scatter\"}],                        {\"template\":{\"data\":{\"histogram2dcontour\":[{\"type\":\"histogram2dcontour\",\"colorbar\":{\"outlinewidth\":0,\"ticks\":\"\"},\"colorscale\":[[0.0,\"#0d0887\"],[0.1111111111111111,\"#46039f\"],[0.2222222222222222,\"#7201a8\"],[0.3333333333333333,\"#9c179e\"],[0.4444444444444444,\"#bd3786\"],[0.5555555555555556,\"#d8576b\"],[0.6666666666666666,\"#ed7953\"],[0.7777777777777778,\"#fb9f3a\"],[0.8888888888888888,\"#fdca26\"],[1.0,\"#f0f921\"]]}],\"choropleth\":[{\"type\":\"choropleth\",\"colorbar\":{\"outlinewidth\":0,\"ticks\":\"\"}}],\"histogram2d\":[{\"type\":\"histogram2d\",\"colorbar\":{\"outlinewidth\":0,\"ticks\":\"\"},\"colorscale\":[[0.0,\"#0d0887\"],[0.1111111111111111,\"#46039f\"],[0.2222222222222222,\"#7201a8\"],[0.3333333333333333,\"#9c179e\"],[0.4444444444444444,\"#bd3786\"],[0.5555555555555556,\"#d8576b\"],[0.6666666666666666,\"#ed7953\"],[0.7777777777777778,\"#fb9f3a\"],[0.8888888888888888,\"#fdca26\"],[1.0,\"#f0f921\"]]}],\"heatmap\":[{\"type\":\"heatmap\",\"colorbar\":{\"outlinewidth\":0,\"ticks\":\"\"},\"colorscale\":[[0.0,\"#0d0887\"],[0.1111111111111111,\"#46039f\"],[0.2222222222222222,\"#7201a8\"],[0.3333333333333333,\"#9c179e\"],[0.4444444444444444,\"#bd3786\"],[0.5555555555555556,\"#d8576b\"],[0.6666666666666666,\"#ed7953\"],[0.7777777777777778,\"#fb9f3a\"],[0.8888888888888888,\"#fdca26\"],[1.0,\"#f0f921\"]]}],\"contourcarpet\":[{\"type\":\"contourcarpet\",\"colorbar\":{\"outlinewidth\":0,\"ticks\":\"\"}}],\"contour\":[{\"type\":\"contour\",\"colorbar\":{\"outlinewidth\":0,\"ticks\":\"\"},\"colorscale\":[[0.0,\"#0d0887\"],[0.1111111111111111,\"#46039f\"],[0.2222222222222222,\"#7201a8\"],[0.3333333333333333,\"#9c179e\"],[0.4444444444444444,\"#bd3786\"],[0.5555555555555556,\"#d8576b\"],[0.6666666666666666,\"#ed7953\"],[0.7777777777777778,\"#fb9f3a\"],[0.8888888888888888,\"#fdca26\"],[1.0,\"#f0f921\"]]}],\"surface\":[{\"type\":\"surface\",\"colorbar\":{\"outlinewidth\":0,\"ticks\":\"\"},\"colorscale\":[[0.0,\"#0d0887\"],[0.1111111111111111,\"#46039f\"],[0.2222222222222222,\"#7201a8\"],[0.3333333333333333,\"#9c179e\"],[0.4444444444444444,\"#bd3786\"],[0.5555555555555556,\"#d8576b\"],[0.6666666666666666,\"#ed7953\"],[0.7777777777777778,\"#fb9f3a\"],[0.8888888888888888,\"#fdca26\"],[1.0,\"#f0f921\"]]}],\"mesh3d\":[{\"type\":\"mesh3d\",\"colorbar\":{\"outlinewidth\":0,\"ticks\":\"\"}}],\"scatter\":[{\"fillpattern\":{\"fillmode\":\"overlay\",\"size\":10,\"solidity\":0.2},\"type\":\"scatter\"}],\"parcoords\":[{\"type\":\"parcoords\",\"line\":{\"colorbar\":{\"outlinewidth\":0,\"ticks\":\"\"}}}],\"scatterpolargl\":[{\"type\":\"scatterpolargl\",\"marker\":{\"colorbar\":{\"outlinewidth\":0,\"ticks\":\"\"}}}],\"bar\":[{\"error_x\":{\"color\":\"#2a3f5f\"},\"error_y\":{\"color\":\"#2a3f5f\"},\"marker\":{\"line\":{\"color\":\"#E5ECF6\",\"width\":0.5},\"pattern\":{\"fillmode\":\"overlay\",\"size\":10,\"solidity\":0.2}},\"type\":\"bar\"}],\"scattergeo\":[{\"type\":\"scattergeo\",\"marker\":{\"colorbar\":{\"outlinewidth\":0,\"ticks\":\"\"}}}],\"scatterpolar\":[{\"type\":\"scatterpolar\",\"marker\":{\"colorbar\":{\"outlinewidth\":0,\"ticks\":\"\"}}}],\"histogram\":[{\"marker\":{\"pattern\":{\"fillmode\":\"overlay\",\"size\":10,\"solidity\":0.2}},\"type\":\"histogram\"}],\"scattergl\":[{\"type\":\"scattergl\",\"marker\":{\"colorbar\":{\"outlinewidth\":0,\"ticks\":\"\"}}}],\"scatter3d\":[{\"type\":\"scatter3d\",\"line\":{\"colorbar\":{\"outlinewidth\":0,\"ticks\":\"\"}},\"marker\":{\"colorbar\":{\"outlinewidth\":0,\"ticks\":\"\"}}}],\"scattermap\":[{\"type\":\"scattermap\",\"marker\":{\"colorbar\":{\"outlinewidth\":0,\"ticks\":\"\"}}}],\"scattermapbox\":[{\"type\":\"scattermapbox\",\"marker\":{\"colorbar\":{\"outlinewidth\":0,\"ticks\":\"\"}}}],\"scatterternary\":[{\"type\":\"scatterternary\",\"marker\":{\"colorbar\":{\"outlinewidth\":0,\"ticks\":\"\"}}}],\"scattercarpet\":[{\"type\":\"scattercarpet\",\"marker\":{\"colorbar\":{\"outlinewidth\":0,\"ticks\":\"\"}}}],\"carpet\":[{\"aaxis\":{\"endlinecolor\":\"#2a3f5f\",\"gridcolor\":\"white\",\"linecolor\":\"white\",\"minorgridcolor\":\"white\",\"startlinecolor\":\"#2a3f5f\"},\"baxis\":{\"endlinecolor\":\"#2a3f5f\",\"gridcolor\":\"white\",\"linecolor\":\"white\",\"minorgridcolor\":\"white\",\"startlinecolor\":\"#2a3f5f\"},\"type\":\"carpet\"}],\"table\":[{\"cells\":{\"fill\":{\"color\":\"#EBF0F8\"},\"line\":{\"color\":\"white\"}},\"header\":{\"fill\":{\"color\":\"#C8D4E3\"},\"line\":{\"color\":\"white\"}},\"type\":\"table\"}],\"barpolar\":[{\"marker\":{\"line\":{\"color\":\"#E5ECF6\",\"width\":0.5},\"pattern\":{\"fillmode\":\"overlay\",\"size\":10,\"solidity\":0.2}},\"type\":\"barpolar\"}],\"pie\":[{\"automargin\":true,\"type\":\"pie\"}]},\"layout\":{\"autotypenumbers\":\"strict\",\"colorway\":[\"#636efa\",\"#EF553B\",\"#00cc96\",\"#ab63fa\",\"#FFA15A\",\"#19d3f3\",\"#FF6692\",\"#B6E880\",\"#FF97FF\",\"#FECB52\"],\"font\":{\"color\":\"#2a3f5f\"},\"hovermode\":\"closest\",\"hoverlabel\":{\"align\":\"left\"},\"paper_bgcolor\":\"white\",\"plot_bgcolor\":\"#E5ECF6\",\"polar\":{\"bgcolor\":\"#E5ECF6\",\"angularaxis\":{\"gridcolor\":\"white\",\"linecolor\":\"white\",\"ticks\":\"\"},\"radialaxis\":{\"gridcolor\":\"white\",\"linecolor\":\"white\",\"ticks\":\"\"}},\"ternary\":{\"bgcolor\":\"#E5ECF6\",\"aaxis\":{\"gridcolor\":\"white\",\"linecolor\":\"white\",\"ticks\":\"\"},\"baxis\":{\"gridcolor\":\"white\",\"linecolor\":\"white\",\"ticks\":\"\"},\"caxis\":{\"gridcolor\":\"white\",\"linecolor\":\"white\",\"ticks\":\"\"}},\"coloraxis\":{\"colorbar\":{\"outlinewidth\":0,\"ticks\":\"\"}},\"colorscale\":{\"sequential\":[[0.0,\"#0d0887\"],[0.1111111111111111,\"#46039f\"],[0.2222222222222222,\"#7201a8\"],[0.3333333333333333,\"#9c179e\"],[0.4444444444444444,\"#bd3786\"],[0.5555555555555556,\"#d8576b\"],[0.6666666666666666,\"#ed7953\"],[0.7777777777777778,\"#fb9f3a\"],[0.8888888888888888,\"#fdca26\"],[1.0,\"#f0f921\"]],\"sequentialminus\":[[0.0,\"#0d0887\"],[0.1111111111111111,\"#46039f\"],[0.2222222222222222,\"#7201a8\"],[0.3333333333333333,\"#9c179e\"],[0.4444444444444444,\"#bd3786\"],[0.5555555555555556,\"#d8576b\"],[0.6666666666666666,\"#ed7953\"],[0.7777777777777778,\"#fb9f3a\"],[0.8888888888888888,\"#fdca26\"],[1.0,\"#f0f921\"]],\"diverging\":[[0,\"#8e0152\"],[0.1,\"#c51b7d\"],[0.2,\"#de77ae\"],[0.3,\"#f1b6da\"],[0.4,\"#fde0ef\"],[0.5,\"#f7f7f7\"],[0.6,\"#e6f5d0\"],[0.7,\"#b8e186\"],[0.8,\"#7fbc41\"],[0.9,\"#4d9221\"],[1,\"#276419\"]]},\"xaxis\":{\"gridcolor\":\"white\",\"linecolor\":\"white\",\"ticks\":\"\",\"title\":{\"standoff\":15},\"zerolinecolor\":\"white\",\"automargin\":true,\"zerolinewidth\":2},\"yaxis\":{\"gridcolor\":\"white\",\"linecolor\":\"white\",\"ticks\":\"\",\"title\":{\"standoff\":15},\"zerolinecolor\":\"white\",\"automargin\":true,\"zerolinewidth\":2},\"scene\":{\"xaxis\":{\"backgroundcolor\":\"#E5ECF6\",\"gridcolor\":\"white\",\"linecolor\":\"white\",\"showbackground\":true,\"ticks\":\"\",\"zerolinecolor\":\"white\",\"gridwidth\":2},\"yaxis\":{\"backgroundcolor\":\"#E5ECF6\",\"gridcolor\":\"white\",\"linecolor\":\"white\",\"showbackground\":true,\"ticks\":\"\",\"zerolinecolor\":\"white\",\"gridwidth\":2},\"zaxis\":{\"backgroundcolor\":\"#E5ECF6\",\"gridcolor\":\"white\",\"linecolor\":\"white\",\"showbackground\":true,\"ticks\":\"\",\"zerolinecolor\":\"white\",\"gridwidth\":2}},\"shapedefaults\":{\"line\":{\"color\":\"#2a3f5f\"}},\"annotationdefaults\":{\"arrowcolor\":\"#2a3f5f\",\"arrowhead\":0,\"arrowwidth\":1},\"geo\":{\"bgcolor\":\"white\",\"landcolor\":\"#E5ECF6\",\"subunitcolor\":\"white\",\"showland\":true,\"showlakes\":true,\"lakecolor\":\"white\"},\"title\":{\"x\":0.05},\"mapbox\":{\"style\":\"light\"}}},\"xaxis\":{\"anchor\":\"y\",\"domain\":[0.0,1.0],\"title\":{\"text\":\"Date\"}},\"yaxis\":{\"anchor\":\"x\",\"domain\":[0.0,1.0],\"title\":{\"text\":\"Percentage Change\"}},\"legend\":{\"title\":{\"text\":\"variable\"},\"tracegroupgap\":0},\"title\":{\"text\":\"Daily Percentage Change in Closing Price\"}},                        {\"responsive\": true}                    ).then(function(){\n",
       "                            \n",
       "var gd = document.getElementById('4be12d8d-93cf-4ba5-878d-cff64c84300f');\n",
       "var x = new MutationObserver(function (mutations, observer) {{\n",
       "        var display = window.getComputedStyle(gd).display;\n",
       "        if (!display || display === 'none') {{\n",
       "            console.log([gd, 'removed!']);\n",
       "            Plotly.purge(gd);\n",
       "            observer.disconnect();\n",
       "        }}\n",
       "}});\n",
       "\n",
       "// Listen for the removal of the full notebook cells\n",
       "var notebookContainer = gd.closest('#notebook-container');\n",
       "if (notebookContainer) {{\n",
       "    x.observe(notebookContainer, {childList: true});\n",
       "}}\n",
       "\n",
       "// Listen for the clearing of the current output cell\n",
       "var outputEl = gd.closest('.output');\n",
       "if (outputEl) {{\n",
       "    x.observe(outputEl, {childList: true});\n",
       "}}\n",
       "\n",
       "                        })                };            </script>        </div>"
      ]
     },
     "metadata": {},
     "output_type": "display_data"
    }
   ],
   "source": [
    "fig = px.line(close_pc, title='Daily Percentage Change in Closing Price', labels={'value': 'Percentage Change'}, line_shape='spline')\n",
    "fig.update_traces(line=dict(color='green',width=1))\n",
    "fig.show()"
   ]
  },
  {
   "cell_type": "code",
   "execution_count": null,
   "id": "4026e735",
   "metadata": {},
   "outputs": [],
   "source": []
  },
  {
   "cell_type": "code",
   "execution_count": null,
   "id": "6e6793f5",
   "metadata": {},
   "outputs": [],
   "source": []
  },
  {
   "cell_type": "code",
   "execution_count": null,
   "id": "71757015",
   "metadata": {},
   "outputs": [],
   "source": []
  },
  {
   "cell_type": "code",
   "execution_count": null,
   "id": "abef4ffd",
   "metadata": {},
   "outputs": [],
   "source": []
  },
  {
   "cell_type": "code",
   "execution_count": null,
   "id": "e79aba00",
   "metadata": {},
   "outputs": [],
   "source": []
  },
  {
   "cell_type": "code",
   "execution_count": null,
   "id": "339c657a",
   "metadata": {},
   "outputs": [],
   "source": []
  }
 ],
 "metadata": {
  "kernelspec": {
   "display_name": "Python 3",
   "language": "python",
   "name": "python3"
  },
  "language_info": {
   "codemirror_mode": {
    "name": "ipython",
    "version": 3
   },
   "file_extension": ".py",
   "mimetype": "text/x-python",
   "name": "python",
   "nbconvert_exporter": "python",
   "pygments_lexer": "ipython3",
   "version": "3.12.0"
  }
 },
 "nbformat": 4,
 "nbformat_minor": 5
}
